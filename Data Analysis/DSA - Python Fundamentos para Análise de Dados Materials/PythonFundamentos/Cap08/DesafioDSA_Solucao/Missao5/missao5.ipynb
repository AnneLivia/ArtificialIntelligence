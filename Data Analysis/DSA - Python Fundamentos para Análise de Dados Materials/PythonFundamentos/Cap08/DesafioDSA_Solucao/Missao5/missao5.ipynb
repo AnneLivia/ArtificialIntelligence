{
 "cells": [
  {
   "cell_type": "markdown",
   "metadata": {},
   "source": [
    "# <font color='blue'>Data Science Academy - Python Fundamentos - Capítulo 7</font>\n",
    "\n",
    "## Download: http://github.com/dsacademybr"
   ]
  },
  {
   "cell_type": "markdown",
   "metadata": {},
   "source": [
    "## Missão: Analisar o Comportamento de Compra de Consumidores."
   ]
  },
  {
   "cell_type": "markdown",
   "metadata": {},
   "source": [
    "## Nível de Dificuldade: Alto"
   ]
  },
  {
   "cell_type": "markdown",
   "metadata": {},
   "source": [
    "Você recebeu a tarefa de analisar os dados de compras de um web site! Os dados estão no formato JSON e disponíveis junto com este notebook.\n",
    "\n",
    "No site, cada usuário efetua login usando sua conta pessoal e pode adquirir produtos à medida que navega pela lista de produtos oferecidos. Cada produto possui um valor de venda. Dados de idade e sexo de cada usuário foram coletados e estão fornecidos no arquivo JSON.\n",
    "\n",
    "Seu trabalho é entregar uma análise de comportamento de compra dos consumidores. Esse é um tipo de atividade comum realizado por Cientistas de Dados e o resultado deste trabalho pode ser usado, por exemplo, para alimentar um modelo de Machine Learning e fazer previsões sobre comportamentos futuros.\n",
    "\n",
    "Mas nesta missão você vai analisar o comportamento de compra dos consumidores usando o pacote Pandas da linguagem Python e seu relatório final deve incluir cada um dos seguintes itens:\n",
    "\n",
    "** Contagem de Consumidores **\n",
    "\n",
    "* Número total de consumidores\n",
    "\n",
    "\n",
    "** Análise Geral de Compras **\n",
    "\n",
    "* Número de itens exclusivos\n",
    "* Preço médio de compra\n",
    "* Número total de compras\n",
    "* Rendimento total\n",
    "\n",
    "\n",
    "** Informações Demográficas Por Gênero **\n",
    "\n",
    "* Porcentagem e contagem de compradores masculinos\n",
    "* Porcentagem e contagem de compradores do sexo feminino\n",
    "* Porcentagem e contagem de outros / não divulgados\n",
    "\n",
    "\n",
    "** Análise de Compras Por Gênero **\n",
    "\n",
    "* Número de compras\n",
    "* Preço médio de compra\n",
    "* Valor Total de Compra\n",
    "* Compras for faixa etária\n",
    "\n",
    "\n",
    "** Identifique os 5 principais compradores pelo valor total de compra e, em seguida, liste (em uma tabela): **\n",
    "\n",
    "* Login\n",
    "* Número de compras\n",
    "* Preço médio de compra\n",
    "* Valor Total de Compra\n",
    "* Itens mais populares\n",
    "\n",
    "\n",
    "** Identifique os 5 itens mais populares por contagem de compras e, em seguida, liste (em uma tabela): **\n",
    "\n",
    "* ID do item\n",
    "* Nome do item\n",
    "* Número de compras\n",
    "* Preço do item\n",
    "* Valor Total de Compra\n",
    "* Itens mais lucrativos\n",
    "\n",
    "\n",
    "** Identifique os 5 itens mais lucrativos pelo valor total de compra e, em seguida, liste (em uma tabela): **\n",
    "\n",
    "* ID do item\n",
    "* Nome do item\n",
    "* Número de compras\n",
    "* Preço do item\n",
    "* Valor Total de Compra\n",
    "\n",
    "\n",
    "** Como considerações finais: **\n",
    "\n",
    "* Seu script deve funcionar para o conjunto de dados fornecido.\n",
    "* Você deve usar a Biblioteca Pandas e o Jupyter Notebook.\n"
   ]
  },
  {
   "cell_type": "code",
   "execution_count": 1,
   "metadata": {
    "collapsed": true
   },
   "outputs": [],
   "source": [
    "# Imports\n",
    "import pandas as pd\n",
    "import numpy as np"
   ]
  },
  {
   "cell_type": "code",
   "execution_count": 2,
   "metadata": {},
   "outputs": [
    {
     "data": {
      "text/html": [
       "<div>\n",
       "<style>\n",
       "    .dataframe thead tr:only-child th {\n",
       "        text-align: right;\n",
       "    }\n",
       "\n",
       "    .dataframe thead th {\n",
       "        text-align: left;\n",
       "    }\n",
       "\n",
       "    .dataframe tbody tr th {\n",
       "        vertical-align: top;\n",
       "    }\n",
       "</style>\n",
       "<table border=\"1\" class=\"dataframe\">\n",
       "  <thead>\n",
       "    <tr style=\"text-align: right;\">\n",
       "      <th></th>\n",
       "      <th>Idade</th>\n",
       "      <th>Item ID</th>\n",
       "      <th>Login</th>\n",
       "      <th>Nome do Item</th>\n",
       "      <th>Sexo</th>\n",
       "      <th>Valor</th>\n",
       "    </tr>\n",
       "  </thead>\n",
       "  <tbody>\n",
       "    <tr>\n",
       "      <th>0</th>\n",
       "      <td>38</td>\n",
       "      <td>165</td>\n",
       "      <td>Aelalis34</td>\n",
       "      <td>Bone Crushing Silver Skewer</td>\n",
       "      <td>Masculino</td>\n",
       "      <td>3.37</td>\n",
       "    </tr>\n",
       "    <tr>\n",
       "      <th>1</th>\n",
       "      <td>21</td>\n",
       "      <td>119</td>\n",
       "      <td>Eolo46</td>\n",
       "      <td>Stormbringer, Dark Blade of Ending Misery</td>\n",
       "      <td>Masculino</td>\n",
       "      <td>2.32</td>\n",
       "    </tr>\n",
       "    <tr>\n",
       "      <th>2</th>\n",
       "      <td>34</td>\n",
       "      <td>174</td>\n",
       "      <td>Assastnya25</td>\n",
       "      <td>Primitive Blade</td>\n",
       "      <td>Masculino</td>\n",
       "      <td>2.46</td>\n",
       "    </tr>\n",
       "    <tr>\n",
       "      <th>3</th>\n",
       "      <td>21</td>\n",
       "      <td>92</td>\n",
       "      <td>Pheusrical25</td>\n",
       "      <td>Final Critic</td>\n",
       "      <td>Masculino</td>\n",
       "      <td>1.36</td>\n",
       "    </tr>\n",
       "    <tr>\n",
       "      <th>4</th>\n",
       "      <td>23</td>\n",
       "      <td>63</td>\n",
       "      <td>Aela59</td>\n",
       "      <td>Stormfury Mace</td>\n",
       "      <td>Masculino</td>\n",
       "      <td>1.27</td>\n",
       "    </tr>\n",
       "  </tbody>\n",
       "</table>\n",
       "</div>"
      ],
      "text/plain": [
       "   Idade  Item ID         Login                               Nome do Item  \\\n",
       "0     38      165     Aelalis34                Bone Crushing Silver Skewer   \n",
       "1     21      119        Eolo46  Stormbringer, Dark Blade of Ending Misery   \n",
       "2     34      174   Assastnya25                            Primitive Blade   \n",
       "3     21       92  Pheusrical25                               Final Critic   \n",
       "4     23       63        Aela59                             Stormfury Mace   \n",
       "\n",
       "        Sexo  Valor  \n",
       "0  Masculino   3.37  \n",
       "1  Masculino   2.32  \n",
       "2  Masculino   2.46  \n",
       "3  Masculino   1.36  \n",
       "4  Masculino   1.27  "
      ]
     },
     "execution_count": 2,
     "metadata": {},
     "output_type": "execute_result"
    }
   ],
   "source": [
    "# Carrega o arquivo\n",
    "load_file = \"dados_compras.json\"\n",
    "purchase_file = pd.read_json(load_file, orient = \"records\")\n",
    "purchase_file.head()"
   ]
  },
  {
   "cell_type": "markdown",
   "metadata": {},
   "source": [
    "## Informações Sobre os Consumidores"
   ]
  },
  {
   "cell_type": "code",
   "execution_count": null,
   "metadata": {
    "collapsed": true
   },
   "outputs": [],
   "source": [
    "# Implemente aqui sua solução"
   ]
  },
  {
   "cell_type": "markdown",
   "metadata": {},
   "source": [
    "## Análise Geral de Compras"
   ]
  },
  {
   "cell_type": "code",
   "execution_count": null,
   "metadata": {
    "collapsed": true
   },
   "outputs": [],
   "source": [
    "# Implemente aqui sua solução"
   ]
  },
  {
   "cell_type": "markdown",
   "metadata": {},
   "source": [
    "## Análise Demográfica"
   ]
  },
  {
   "cell_type": "code",
   "execution_count": null,
   "metadata": {
    "collapsed": true
   },
   "outputs": [],
   "source": [
    "# Implemente aqui sua solução"
   ]
  },
  {
   "cell_type": "markdown",
   "metadata": {},
   "source": [
    "## Informações Demográficas Por Gênero"
   ]
  },
  {
   "cell_type": "code",
   "execution_count": null,
   "metadata": {
    "collapsed": true
   },
   "outputs": [],
   "source": [
    "# Implemente aqui sua solução"
   ]
  },
  {
   "cell_type": "markdown",
   "metadata": {},
   "source": [
    "## Análise de Compras Por Gênero"
   ]
  },
  {
   "cell_type": "code",
   "execution_count": null,
   "metadata": {
    "collapsed": true
   },
   "outputs": [],
   "source": [
    "# Implemente aqui sua solução"
   ]
  },
  {
   "cell_type": "markdown",
   "metadata": {},
   "source": [
    "## Consumidores Mais Populares (Top 5)"
   ]
  },
  {
   "cell_type": "code",
   "execution_count": null,
   "metadata": {
    "collapsed": true
   },
   "outputs": [],
   "source": [
    "# Implemente aqui sua solução"
   ]
  },
  {
   "cell_type": "markdown",
   "metadata": {},
   "source": [
    "## Itens Mais Populares"
   ]
  },
  {
   "cell_type": "code",
   "execution_count": null,
   "metadata": {
    "collapsed": true
   },
   "outputs": [],
   "source": [
    "# Implemente aqui sua solução "
   ]
  },
  {
   "cell_type": "markdown",
   "metadata": {},
   "source": [
    "## Itens Mais Lucrativos"
   ]
  },
  {
   "cell_type": "code",
   "execution_count": null,
   "metadata": {
    "collapsed": true
   },
   "outputs": [],
   "source": [
    "# Implemente aqui sua solução"
   ]
  },
  {
   "cell_type": "markdown",
   "metadata": {
    "collapsed": true
   },
   "source": [
    "## Fim"
   ]
  },
  {
   "cell_type": "markdown",
   "metadata": {
    "collapsed": true
   },
   "source": [
    "### Obrigado - Data Science Academy - <a href=\"http://facebook.com/dsacademybr\">facebook.com/dsacademybr</a>"
   ]
  }
 ],
 "metadata": {
  "kernelspec": {
   "display_name": "Python 3",
   "language": "python",
   "name": "python3"
  },
  "language_info": {
   "codemirror_mode": {
    "name": "ipython",
    "version": 3
   },
   "file_extension": ".py",
   "mimetype": "text/x-python",
   "name": "python",
   "nbconvert_exporter": "python",
   "pygments_lexer": "ipython3",
   "version": "3.7.6"
  }
 },
 "nbformat": 4,
 "nbformat_minor": 2
}
