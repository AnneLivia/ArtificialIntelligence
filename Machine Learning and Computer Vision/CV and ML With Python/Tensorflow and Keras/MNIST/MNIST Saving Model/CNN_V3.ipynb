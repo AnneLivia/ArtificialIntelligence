{
  "nbformat": 4,
  "nbformat_minor": 0,
  "metadata": {
    "colab": {
      "name": "CNN_V3.ipynb",
      "provenance": []
    },
    "kernelspec": {
      "name": "python3",
      "display_name": "Python 3"
    }
  },
  "cells": [
    {
      "cell_type": "code",
      "metadata": {
        "id": "mTr1iVbSv9YY"
      },
      "source": [
        "from keras.datasets import mnist\n",
        "import matplotlib.pyplot as plt\n",
        "from sklearn.model_selection import train_test_split"
      ],
      "execution_count": 1,
      "outputs": []
    },
    {
      "cell_type": "code",
      "metadata": {
        "id": "ud0bboyDwMID",
        "colab": {
          "base_uri": "https://localhost:8080/"
        },
        "outputId": "d5b68d39-2bd2-47ab-e373-26edf1a61457"
      },
      "source": [
        "(x_train, y_train), (x_test, y_test) = mnist.load_data()"
      ],
      "execution_count": 2,
      "outputs": [
        {
          "output_type": "stream",
          "text": [
            "Downloading data from https://storage.googleapis.com/tensorflow/tf-keras-datasets/mnist.npz\n",
            "11493376/11490434 [==============================] - 0s 0us/step\n"
          ],
          "name": "stdout"
        }
      ]
    },
    {
      "cell_type": "code",
      "metadata": {
        "id": "aUWwItFRwSwO"
      },
      "source": [
        "x_train, x_val, y_train, y_val = train_test_split(x_train, y_train, test_size=0.5, stratify=y_train)"
      ],
      "execution_count": 3,
      "outputs": []
    },
    {
      "cell_type": "code",
      "metadata": {
        "colab": {
          "base_uri": "https://localhost:8080/"
        },
        "id": "B4Ykc8rBz2LI",
        "outputId": "b12f0ed5-9a5f-47b9-a35c-c3ef32a54ff3"
      },
      "source": [
        "print(len(y_train), len(y_val), len(y_test))"
      ],
      "execution_count": 4,
      "outputs": [
        {
          "output_type": "stream",
          "text": [
            "30000 30000 10000\n"
          ],
          "name": "stdout"
        }
      ]
    },
    {
      "cell_type": "code",
      "metadata": {
        "id": "OoKvDdidwN6u"
      },
      "source": [
        "import numpy\n",
        "from keras.models import Sequential\n",
        "from keras.layers import Dense\n",
        "from keras.layers import Conv2D\n",
        "from keras.layers import Flatten\n",
        "from keras.layers import Dropout\n",
        "from keras.layers import MaxPooling2D\n",
        "from keras.utils import np_utils"
      ],
      "execution_count": 5,
      "outputs": []
    },
    {
      "cell_type": "code",
      "metadata": {
        "id": "uldlkMVrw5hf"
      },
      "source": [
        "x_train = x_train.reshape(x_train.shape[0], 28, 28, 1).astype('float32')\n",
        "x_val = x_val.reshape(x_val.shape[0], 28, 28, 1).astype('float32')\n",
        "x_test = x_test.reshape(x_test.shape[0], 28, 28, 1).astype('float32')\n"
      ],
      "execution_count": 6,
      "outputs": []
    },
    {
      "cell_type": "code",
      "metadata": {
        "id": "yQzsRobPxYsv"
      },
      "source": [
        "x_train = x_train / 255\n",
        "x_val = x_val / 255\n",
        "x_test = x_test / 255"
      ],
      "execution_count": 7,
      "outputs": []
    },
    {
      "cell_type": "code",
      "metadata": {
        "id": "ivE82RvoxMM2"
      },
      "source": [
        "y_train = np_utils.to_categorical(y_train)\n",
        "y_val = np_utils.to_categorical(y_val)\n",
        "y_test = np_utils.to_categorical(y_test)\n",
        "num_classes = y_test.shape[1]"
      ],
      "execution_count": 8,
      "outputs": []
    },
    {
      "cell_type": "code",
      "metadata": {
        "id": "-T_XS0aSxeqo"
      },
      "source": [
        "def baseline_model():\n",
        "  model = Sequential()\n",
        "  model.add(Conv2D(32, (3, 3), input_shape=(28, 28, 1), activation=\"relu\"))\n",
        "  model.add(MaxPooling2D(pool_size=(2, 2)))\n",
        "  model.add(Conv2D(32, (3, 3), activation=\"relu\"))\n",
        "  model.add(MaxPooling2D(pool_size=(2, 2)))\n",
        "  model.add(Conv2D(64, (3, 3), activation=\"relu\"))\n",
        "  model.add(MaxPooling2D(pool_size=(2, 2)))\n",
        "  model.add(Flatten())\n",
        "  model.add(Dense(64, activation=\"relu\"))\n",
        "  model.add(Dropout(0.5))\n",
        "  model.add(Dense(10, activation=\"sigmoid\"))\n",
        "  model.compile(loss='categorical_crossentropy', optimizer='rmsprop', metrics=['accuracy'])\n",
        "  return model\n"
      ],
      "execution_count": 9,
      "outputs": []
    },
    {
      "cell_type": "code",
      "metadata": {
        "colab": {
          "base_uri": "https://localhost:8080/"
        },
        "id": "4_gX9JINx_eY",
        "outputId": "e4124053-2de2-4314-c62e-c96712df9db6"
      },
      "source": [
        "model = baseline_model()\n",
        "model.summary()"
      ],
      "execution_count": 10,
      "outputs": [
        {
          "output_type": "stream",
          "text": [
            "Model: \"sequential\"\n",
            "_________________________________________________________________\n",
            "Layer (type)                 Output Shape              Param #   \n",
            "=================================================================\n",
            "conv2d (Conv2D)              (None, 26, 26, 32)        320       \n",
            "_________________________________________________________________\n",
            "max_pooling2d (MaxPooling2D) (None, 13, 13, 32)        0         \n",
            "_________________________________________________________________\n",
            "conv2d_1 (Conv2D)            (None, 11, 11, 32)        9248      \n",
            "_________________________________________________________________\n",
            "max_pooling2d_1 (MaxPooling2 (None, 5, 5, 32)          0         \n",
            "_________________________________________________________________\n",
            "conv2d_2 (Conv2D)            (None, 3, 3, 64)          18496     \n",
            "_________________________________________________________________\n",
            "max_pooling2d_2 (MaxPooling2 (None, 1, 1, 64)          0         \n",
            "_________________________________________________________________\n",
            "flatten (Flatten)            (None, 64)                0         \n",
            "_________________________________________________________________\n",
            "dense (Dense)                (None, 64)                4160      \n",
            "_________________________________________________________________\n",
            "dropout (Dropout)            (None, 64)                0         \n",
            "_________________________________________________________________\n",
            "dense_1 (Dense)              (None, 10)                650       \n",
            "=================================================================\n",
            "Total params: 32,874\n",
            "Trainable params: 32,874\n",
            "Non-trainable params: 0\n",
            "_________________________________________________________________\n"
          ],
          "name": "stdout"
        }
      ]
    },
    {
      "cell_type": "code",
      "metadata": {
        "colab": {
          "base_uri": "https://localhost:8080/"
        },
        "id": "xtsqvxiqyA2i",
        "outputId": "748a0f19-cee0-49f8-e144-05d6d75e9ad8"
      },
      "source": [
        "model.fit(x_train, y_train, validation_data=(x_val, y_val), epochs=10, batch_size=200)"
      ],
      "execution_count": 11,
      "outputs": [
        {
          "output_type": "stream",
          "text": [
            "Epoch 1/10\n",
            "150/150 [==============================] - 21s 142ms/step - loss: 1.3010 - accuracy: 0.5754 - val_loss: 0.4576 - val_accuracy: 0.8663\n",
            "Epoch 2/10\n",
            "150/150 [==============================] - 21s 141ms/step - loss: 0.5434 - accuracy: 0.8401 - val_loss: 0.2387 - val_accuracy: 0.9292\n",
            "Epoch 3/10\n",
            "150/150 [==============================] - 21s 141ms/step - loss: 0.3405 - accuracy: 0.9035 - val_loss: 0.1701 - val_accuracy: 0.9472\n",
            "Epoch 4/10\n",
            "150/150 [==============================] - 21s 142ms/step - loss: 0.2572 - accuracy: 0.9271 - val_loss: 0.1358 - val_accuracy: 0.9573\n",
            "Epoch 5/10\n",
            "150/150 [==============================] - 21s 141ms/step - loss: 0.2083 - accuracy: 0.9410 - val_loss: 0.1162 - val_accuracy: 0.9641\n",
            "Epoch 6/10\n",
            "150/150 [==============================] - 21s 142ms/step - loss: 0.1788 - accuracy: 0.9498 - val_loss: 0.1125 - val_accuracy: 0.9666\n",
            "Epoch 7/10\n",
            "150/150 [==============================] - 21s 142ms/step - loss: 0.1573 - accuracy: 0.9543 - val_loss: 0.0920 - val_accuracy: 0.9716\n",
            "Epoch 8/10\n",
            "150/150 [==============================] - 21s 142ms/step - loss: 0.1384 - accuracy: 0.9620 - val_loss: 0.0960 - val_accuracy: 0.9700\n",
            "Epoch 9/10\n",
            "150/150 [==============================] - 21s 142ms/step - loss: 0.1244 - accuracy: 0.9657 - val_loss: 0.0916 - val_accuracy: 0.9721\n",
            "Epoch 10/10\n",
            "150/150 [==============================] - 21s 142ms/step - loss: 0.1094 - accuracy: 0.9689 - val_loss: 0.0845 - val_accuracy: 0.9751\n"
          ],
          "name": "stdout"
        },
        {
          "output_type": "execute_result",
          "data": {
            "text/plain": [
              "<tensorflow.python.keras.callbacks.History at 0x7fc524ba1828>"
            ]
          },
          "metadata": {
            "tags": []
          },
          "execution_count": 11
        }
      ]
    },
    {
      "cell_type": "code",
      "metadata": {
        "colab": {
          "base_uri": "https://localhost:8080/"
        },
        "id": "OHnivm1R0PHh",
        "outputId": "813fc01b-4003-4b1d-e18b-c7cee6d8e64d"
      },
      "source": [
        "scores = model.evaluate(x_test, y_test, verbose=0)\n",
        "result = str(\"%.2f\"%(1-scores[1]))\n",
        "print(\"CNN Error\", result)"
      ],
      "execution_count": 12,
      "outputs": [
        {
          "output_type": "stream",
          "text": [
            "CNN Error 0.02\n"
          ],
          "name": "stdout"
        }
      ]
    },
    {
      "cell_type": "code",
      "metadata": {
        "colab": {
          "base_uri": "https://localhost:8080/"
        },
        "id": "D_5CTJ8uyFij",
        "outputId": "41b0d6ea-ba85-4a70-96d2-03de5312ca15"
      },
      "source": [
        "# \n",
        "!pip install pyyaml h5py"
      ],
      "execution_count": 13,
      "outputs": [
        {
          "output_type": "stream",
          "text": [
            "Requirement already satisfied: pyyaml in /usr/local/lib/python3.6/dist-packages (3.13)\n",
            "Requirement already satisfied: h5py in /usr/local/lib/python3.6/dist-packages (2.10.0)\n",
            "Requirement already satisfied: six in /usr/local/lib/python3.6/dist-packages (from h5py) (1.15.0)\n",
            "Requirement already satisfied: numpy>=1.7 in /usr/local/lib/python3.6/dist-packages (from h5py) (1.18.5)\n"
          ],
          "name": "stdout"
        }
      ]
    },
    {
      "cell_type": "code",
      "metadata": {
        "colab": {
          "base_uri": "https://localhost:8080/"
        },
        "id": "8b-LSgO52ERQ",
        "outputId": "1430f7e4-eefb-4913-bf97-f0f9d3cf9a0c"
      },
      "source": [
        "from google.colab import drive\n",
        "drive.mount('/content/gdrive')"
      ],
      "execution_count": 14,
      "outputs": [
        {
          "output_type": "stream",
          "text": [
            "Mounted at /content/gdrive\n"
          ],
          "name": "stdout"
        }
      ]
    },
    {
      "cell_type": "code",
      "metadata": {
        "id": "caWyA7P_2Fsh"
      },
      "source": [
        "model_json = model.to_json()\n",
        "with open(\"/content/gdrive/My Drive/Colab Notebooks/model.json\" , \"w\") as json_file:\n",
        "    json_file.write(model_json)\n",
        "\n",
        "#serialize weights to HDF5\n",
        "model.save_weights(\"/content/gdrive/My Drive/Colab Notebooks/model_w.h5\" )"
      ],
      "execution_count": 16,
      "outputs": []
    }
  ]
}