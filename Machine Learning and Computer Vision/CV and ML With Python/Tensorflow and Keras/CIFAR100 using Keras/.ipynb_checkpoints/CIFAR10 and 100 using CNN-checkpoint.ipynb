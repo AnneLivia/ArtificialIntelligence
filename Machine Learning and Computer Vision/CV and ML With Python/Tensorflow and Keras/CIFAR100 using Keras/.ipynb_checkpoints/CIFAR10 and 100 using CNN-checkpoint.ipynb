{
 "cells": [
  {
   "cell_type": "code",
   "execution_count": 39,
   "id": "ba386028",
   "metadata": {},
   "outputs": [
    {
     "name": "stdout",
     "output_type": "stream",
     "text": [
      "Numpy version: 1.21.2\n",
      "Matplot version: 3.5.1\n",
      "Tensorflow version: 2.7.0\n",
      "Python Version: 3.9.7\n"
     ]
    }
   ],
   "source": [
    "# this next line is used to makes the plot being store within the notebook\n",
    "%matplotlib inline\n",
    "\n",
    "from platform import python_version\n",
    "import tensorflow as tf\n",
    "from tensorflow.keras import layers, datasets, models\n",
    "import matplotlib\n",
    "import matplotlib.pyplot as plt\n",
    "import numpy as np\n",
    "\n",
    "print(\"Numpy version: {}\".format(np.__version__))\n",
    "print(\"Matplot version: {}\".format(matplotlib.__version__))\n",
    "print(\"Tensorflow version: {}\".format(tf.__version__))\n",
    "print(\"Python Version: {}\".format(python_version()))"
   ]
  },
  {
   "cell_type": "code",
   "execution_count": 56,
   "id": "42eef446",
   "metadata": {},
   "outputs": [
    {
     "data": {
      "text/plain": [
       "[PhysicalDevice(name='/physical_device:CPU:0', device_type='CPU')]"
      ]
     },
     "execution_count": 56,
     "metadata": {},
     "output_type": "execute_result"
    }
   ],
   "source": [
    "# printing number of physical devices\n",
    "tf.config.experimental.list_physical_devices()"
   ]
  },
  {
   "cell_type": "markdown",
   "id": "51f0453a",
   "metadata": {},
   "source": [
    "This is a dataset of 50,000 32x32 color training images and 10,000 test images, labeled over 100 fine-grained classes that are grouped into 20 coarse-grained classes. "
   ]
  },
  {
   "cell_type": "code",
   "execution_count": 40,
   "id": "c24980d7",
   "metadata": {},
   "outputs": [],
   "source": [
    "(x_train, y_train), (x_test, y_test) = datasets.cifar100.load_data()"
   ]
  },
  {
   "cell_type": "code",
   "execution_count": 41,
   "id": "6c24c8cf",
   "metadata": {},
   "outputs": [
    {
     "name": "stdout",
     "output_type": "stream",
     "text": [
      "Number of samples, width and height, number of channels (RGB): (50000, 32, 32, 3)\n"
     ]
    }
   ],
   "source": [
    "print('Number of samples, width and height, number of channels (RGB): {}'.format(x_train.shape))"
   ]
  },
  {
   "cell_type": "code",
   "execution_count": 42,
   "id": "82e4e9a7",
   "metadata": {},
   "outputs": [
    {
     "name": "stdout",
     "output_type": "stream",
     "text": [
      "Number of samples, width and height, number of channels (RGB): (10000, 32, 32, 3)\n"
     ]
    }
   ],
   "source": [
    "print('Number of samples, width and height, number of channels (RGB): {}'.format(x_test.shape))"
   ]
  },
  {
   "cell_type": "code",
   "execution_count": 43,
   "id": "a5ce0ada",
   "metadata": {},
   "outputs": [],
   "source": [
    "valid_sample_quantity = int(x_train.shape[0] / 20)\n",
    "x_valid = x_train[:valid_sample_quantity] # from 0 to < valid_sample_quantity\n",
    "x_train = x_train[valid_sample_quantity:] # from valid_sample_quantity to total\n",
    "y_valid = y_train[:val_perc]\n",
    "y_train = y_train[val_perc:]"
   ]
  },
  {
   "cell_type": "code",
   "execution_count": 45,
   "id": "9385e033",
   "metadata": {},
   "outputs": [
    {
     "name": "stdout",
     "output_type": "stream",
     "text": [
      "Number of samples validation: (2500, 32, 32, 3)\n",
      "Number of samples train: (47500, 32, 32, 3)\n"
     ]
    }
   ],
   "source": [
    "print('Number of samples validation: {}'.format(x_valid.shape))\n",
    "print('Number of samples train: {}'.format(x_train.shape))"
   ]
  },
  {
   "cell_type": "code",
   "execution_count": 46,
   "id": "5d9628b3",
   "metadata": {},
   "outputs": [],
   "source": [
    "classes = dict({\n",
    "    0: 'apple',\n",
    "    1: 'aquarium_fish',\n",
    "    2: 'baby',\n",
    "    3: 'bear',\n",
    "    4: 'beaver',\n",
    "    5: 'bed',\n",
    "    6: 'bee',\n",
    "    7: 'beetle',\n",
    "    8: 'bicycle',\n",
    "    9: 'bottle',\n",
    "    10: 'bowl',\n",
    "    11: 'boy',\n",
    "    12: 'bridge',\n",
    "    13: 'bus',\n",
    "    14: 'butterfly',\n",
    "    15: 'camel',\n",
    "    16: 'can',\n",
    "    17: 'castle',\n",
    "    18: 'caterpillar',\n",
    "    19: 'cattle',\n",
    "    20: 'chair',\n",
    "    21: 'chimpanzee',\n",
    "    22: 'clock',\n",
    "    23: 'cloud',\n",
    "    24: 'cockroach',\n",
    "    25: 'couch',\n",
    "    26: 'cra',\n",
    "    27: 'crocodile',\n",
    "    28: 'cup',\n",
    "    29: 'dinosaur',\n",
    "    30: 'dolphin',\n",
    "    31: 'elephant',\n",
    "    32: 'flatfish',\n",
    "    33: 'forest',\n",
    "    34: 'fox',\n",
    "    35: 'girl',\n",
    "    36: 'hamster',\n",
    "    37: 'house',\n",
    "    38: 'kangaroo',\n",
    "    39: 'keyboard',\n",
    "    40: 'lamp',\n",
    "    41: 'lawn_mower',\n",
    "    42: 'leopard',\n",
    "    43: 'lion',\n",
    "    44: 'lizard',\n",
    "    45: 'lobster',\n",
    "    46: 'man',\n",
    "    47: 'maple_tree',\n",
    "    48: 'motorcycle',\n",
    "    49: 'mountain',\n",
    "    50: 'mouse',\n",
    "    51: 'mushroom',\n",
    "    52: 'oak_tree',\n",
    "    53: 'orange',\n",
    "    54: 'orchid',\n",
    "    55: 'otter',\n",
    "    56: 'palm_tree',\n",
    "    57: 'pear',\n",
    "    58: 'pickup_truck',\n",
    "    59: 'pine_tree',\n",
    "    60: 'plain',\n",
    "    61: 'plate',\n",
    "    62: 'poppy',\n",
    "    63: 'porcupine',\n",
    "    64: 'possum',\n",
    "    65: 'rabbit',\n",
    "    66: 'raccoon',\n",
    "    67: 'ray',\n",
    "    68: 'road',\n",
    "    69: 'rocket',\n",
    "    70: 'rose',\n",
    "    71: 'sea',\n",
    "    72: 'seal',\n",
    "    73: 'shark',\n",
    "    74: 'shrew',\n",
    "    75: 'skunk',\n",
    "    76: 'skyscraper',\n",
    "    77: 'snail',\n",
    "    78: 'snake',\n",
    "    79: 'spider',\n",
    "    80: 'squirrel',\n",
    "    81: 'streetcar',\n",
    "    82: 'sunflower',\n",
    "    83: 'sweet_pepper',\n",
    "    84: 'table',\n",
    "    85: 'tank',\n",
    "    86: 'telephone',\n",
    "    87: 'television',\n",
    "    88: 'tiger',\n",
    "    89: 'tractor',\n",
    "    90: 'train',\n",
    "    91: 'trout',\n",
    "    92: 'tulip',\n",
    "    93: 'turtle',\n",
    "    94: 'wardrobe',\n",
    "    95: 'whale',\n",
    "    96: 'willow_tree',\n",
    "    97: 'wolf',\n",
    "    98: 'woman',\n",
    "    99: 'worm'\n",
    "})"
   ]
  },
  {
   "cell_type": "code",
   "execution_count": 47,
   "id": "bb88eed9",
   "metadata": {},
   "outputs": [
    {
     "data": {
      "text/plain": [
       "(2500,)"
      ]
     },
     "execution_count": 47,
     "metadata": {},
     "output_type": "execute_result"
    }
   ],
   "source": [
    "# it returns an 2D array, so it'll be reshaped to be a list\n",
    "y_train = y_train.reshape(-1) # -1 = keep as it\n",
    "y_valid = y_valid.reshape(-1)\n",
    "y_test = y_test.reshape(-1) # -1 = keep as it\n",
    "y_valid.shape"
   ]
  },
  {
   "cell_type": "code",
   "execution_count": 48,
   "id": "04090d5e",
   "metadata": {},
   "outputs": [
    {
     "data": {
      "image/png": "[encoded data removed]",
      "text/plain": [
       "<Figure size 720x720 with 6 Axes>"
      ]
     },
     "metadata": {
      "needs_background": "light"
     },
     "output_type": "display_data"
    }
   ],
   "source": [
    "plt.figure(figsize=(10, 10));\n",
    "\n",
    "for i in range(6):\n",
    "    ax = plt.subplot(2, 3, i + 1)\n",
    "    plt.imshow(x_train[i])\n",
    "    plt.xlabel(classes[y_train[i]])\n",
    "plt.show();"
   ]
  },
  {
   "cell_type": "code",
   "execution_count": 49,
   "id": "1b905648",
   "metadata": {},
   "outputs": [
    {
     "name": "stdout",
     "output_type": "stream",
     "text": [
      "Shape of image:  (32, 32, 3)\n"
     ]
    },
    {
     "data": {
      "text/plain": [
       "<matplotlib.image.AxesImage at 0x22f05211280>"
      ]
     },
     "execution_count": 49,
     "metadata": {},
     "output_type": "execute_result"
    },
    {
     "data": {
      "image/png": "[encoded data removed]",
      "text/plain": [
       "<Figure size 432x288 with 3 Axes>"
      ]
     },
     "metadata": {
      "needs_background": "light"
     },
     "output_type": "display_data"
    }
   ],
   "source": [
    "print(\"Shape of image: \", x_train[0].shape)\n",
    "ax = plt.subplot(1, 3, 1)\n",
    "plt.imshow(x_train[0, :, :, 0]) # R\n",
    "ax = plt.subplot(1, 3, 2)\n",
    "plt.imshow(x_train[0, :, :, 1]) # G\n",
    "ax = plt.subplot(1, 3, 3)\n",
    "plt.imshow(x_train[0, :, :, 2]) # B"
   ]
  },
  {
   "cell_type": "code",
   "execution_count": 50,
   "id": "ecde6348",
   "metadata": {},
   "outputs": [
    {
     "data": {
      "text/plain": [
       "array([[[121, 117, 114],\n",
       "        [120, 116, 113],\n",
       "        [121, 117, 114],\n",
       "        ...,\n",
       "        [116, 108, 105],\n",
       "        [115, 106, 103],\n",
       "        [113, 105, 102]],\n",
       "\n",
       "       [[116, 112, 109],\n",
       "        [116, 112, 109],\n",
       "        [118, 114, 111],\n",
       "        ...,\n",
       "        [113, 105, 102],\n",
       "        [112, 104, 101],\n",
       "        [110, 102,  99]],\n",
       "\n",
       "       [[115, 110, 108],\n",
       "        [114, 110, 107],\n",
       "        [116, 112, 109],\n",
       "        ...,\n",
       "        [111, 103, 100],\n",
       "        [110, 102,  99],\n",
       "        [109, 101,  98]],\n",
       "\n",
       "       ...,\n",
       "\n",
       "       [[164, 158, 155],\n",
       "        [162, 157, 156],\n",
       "        [161, 156, 154],\n",
       "        ...,\n",
       "        [147, 143, 139],\n",
       "        [145, 141, 137],\n",
       "        [147, 141, 135]],\n",
       "\n",
       "       [[164, 156, 153],\n",
       "        [164, 156, 153],\n",
       "        [167, 158, 155],\n",
       "        ...,\n",
       "        [152, 144, 141],\n",
       "        [150, 141, 138],\n",
       "        [151, 143, 140]],\n",
       "\n",
       "       [[168, 160, 157],\n",
       "        [168, 160, 157],\n",
       "        [171, 163, 160],\n",
       "        ...,\n",
       "        [157, 149, 146],\n",
       "        [155, 147, 144],\n",
       "        [153, 145, 142]]], dtype=uint8)"
      ]
     },
     "execution_count": 50,
     "metadata": {},
     "output_type": "execute_result"
    }
   ],
   "source": [
    "# 3 channels, 32x32, RGB from 0 to 255\n",
    "x_train[0]"
   ]
  },
  {
   "cell_type": "code",
   "execution_count": 51,
   "id": "d3d8a859",
   "metadata": {},
   "outputs": [],
   "source": [
    "# need to normalize the images\n",
    "# the computation of high numeric values may become more complex. \n",
    "# To reduce this we can normalize the values to range from 0 to 1.\n",
    "# the numbers will be small and the computation becomes easier and faster.\n",
    "x_train = x_train / 255\n",
    "x_test = x_test / 255\n",
    "x_valid = x_valid / 255"
   ]
  },
  {
   "cell_type": "code",
   "execution_count": 52,
   "id": "3f7fda62",
   "metadata": {},
   "outputs": [],
   "source": [
    "# simple model without cnn\n",
    "# Keras ignores the first dimension, which is the batch size. \n",
    "# the model must be able to deal with any batch size.\n",
    "# so in input_shape, it's only necessary to specify the other parts, width height and channel\n",
    "# when it's required, the batch size can be specified via batch_input_shape=(30,50,50,3) \n",
    "# or batch_shape=(30,50,50,3). \n",
    "# This limits the training possibilities to this unique batch size, so it should be used only when really required.\n",
    "# since i haven't defined the batch_size, it's None because it can vary depending on how many examples there's for training\n",
    "simple_model = models.Sequential([\n",
    "    layers.Flatten(input_shape=[32, 32, 3]), # to pass to dense layer it needs to be flatten\n",
    "    layers.Dense(3000, activation='relu'),\n",
    "    layers.Dense(2000, activation='relu'),\n",
    "    layers.Dense(100, activation='softmax'),\n",
    "])"
   ]
  },
  {
   "cell_type": "code",
   "execution_count": 53,
   "id": "3672ea81",
   "metadata": {},
   "outputs": [
    {
     "name": "stdout",
     "output_type": "stream",
     "text": [
      "Model: \"sequential_2\"\n",
      "_________________________________________________________________\n",
      " Layer (type)                Output Shape              Param #   \n",
      "=================================================================\n",
      " flatten_2 (Flatten)         (None, 3072)              0         \n",
      "                                                                 \n",
      " dense_6 (Dense)             (None, 3000)              9219000   \n",
      "                                                                 \n",
      " dense_7 (Dense)             (None, 2000)              6002000   \n",
      "                                                                 \n",
      " dense_8 (Dense)             (None, 100)               200100    \n",
      "                                                                 \n",
      "=================================================================\n",
      "Total params: 15,421,100\n",
      "Trainable params: 15,421,100\n",
      "Non-trainable params: 0\n",
      "_________________________________________________________________\n"
     ]
    }
   ],
   "source": [
    "simple_model.summary()"
   ]
  },
  {
   "cell_type": "code",
   "execution_count": 54,
   "id": "a4a697ce",
   "metadata": {},
   "outputs": [],
   "source": [
    "# categorical_crossentropy = it's used when y was one hot enconder\n",
    "# sparse_categorical_crossentropy = it's used when the class is not one hot encoder, \n",
    "# then it returns directly the number of the class\n",
    "simple_model.compile(optimizer='SGD', loss='sparse_categorical_crossentropy', metrics=['accuracy'])"
   ]
  },
  {
   "cell_type": "code",
   "execution_count": 27,
   "id": "841218a1",
   "metadata": {},
   "outputs": [],
   "source": [
    "from tensorflow.keras.callbacks import EarlyStopping\n",
    "es = EarlyStopping(patience=10, min_delta=0.0001, restore_best_weights=True)"
   ]
  },
  {
   "cell_type": "code",
   "execution_count": 57,
   "id": "a2fd2d49",
   "metadata": {},
   "outputs": [
    {
     "name": "stdout",
     "output_type": "stream",
     "text": [
      "Epoch 1/10\n",
      "1485/1485 [==============================] - 172s 116ms/step - loss: 3.2948 - accuracy: 0.2200 - val_loss: 3.5071 - val_accuracy: 0.1784\n",
      "Epoch 2/10\n",
      "1485/1485 [==============================] - 151s 101ms/step - loss: 3.2220 - accuracy: 0.2354 - val_loss: 3.3738 - val_accuracy: 0.2064\n",
      "Epoch 3/10\n",
      "1485/1485 [==============================] - 138s 93ms/step - loss: 3.1523 - accuracy: 0.2476 - val_loss: 3.3736 - val_accuracy: 0.1968\n",
      "Epoch 4/10\n",
      "1485/1485 [==============================] - 141s 95ms/step - loss: 3.0895 - accuracy: 0.2596 - val_loss: 3.3108 - val_accuracy: 0.2224\n",
      "Epoch 5/10\n",
      "1485/1485 [==============================] - 147s 99ms/step - loss: 3.0260 - accuracy: 0.2709 - val_loss: 3.2919 - val_accuracy: 0.2272\n",
      "Epoch 6/10\n",
      "1485/1485 [==============================] - 148s 99ms/step - loss: 2.9682 - accuracy: 0.2821 - val_loss: 3.2690 - val_accuracy: 0.2228\n",
      "Epoch 7/10\n",
      "1485/1485 [==============================] - 146s 99ms/step - loss: 2.9120 - accuracy: 0.2927 - val_loss: 3.3526 - val_accuracy: 0.2144\n",
      "Epoch 8/10\n",
      "1485/1485 [==============================] - 140s 94ms/step - loss: 2.8582 - accuracy: 0.3048 - val_loss: 3.2278 - val_accuracy: 0.2404\n",
      "Epoch 9/10\n",
      "1485/1485 [==============================] - 140s 94ms/step - loss: 2.8052 - accuracy: 0.3147 - val_loss: 3.2312 - val_accuracy: 0.2320\n",
      "Epoch 10/10\n",
      "1485/1485 [==============================] - 140s 94ms/step - loss: 2.7490 - accuracy: 0.3277 - val_loss: 3.2051 - val_accuracy: 0.2488\n"
     ]
    },
    {
     "data": {
      "text/plain": [
       "<keras.callbacks.History at 0x22f03e78550>"
      ]
     },
     "execution_count": 57,
     "metadata": {},
     "output_type": "execute_result"
    }
   ],
   "source": [
    "simple_model.fit(x_train, y_train, validation_data=(x_valid, y_valid), callbacks=[es], epochs=10)"
   ]
  },
  {
   "cell_type": "code",
   "execution_count": 73,
   "id": "6c77e513",
   "metadata": {},
   "outputs": [
    {
     "data": {
      "text/plain": [
       "(10000, 100)"
      ]
     },
     "execution_count": 73,
     "metadata": {},
     "output_type": "execute_result"
    }
   ],
   "source": [
    "pred_simple = simple_model.predict(x_test)\n",
    "pred_simple.shape"
   ]
  },
  {
   "cell_type": "code",
   "execution_count": 76,
   "id": "81fd5fa0",
   "metadata": {},
   "outputs": [],
   "source": [
    "pred_argmax = [np.argmax(el) for el in pred_simple]"
   ]
  },
  {
   "cell_type": "code",
   "execution_count": 77,
   "id": "7b26a222",
   "metadata": {
    "scrolled": false
   },
   "outputs": [
    {
     "name": "stdout",
     "output_type": "stream",
     "text": [
      "              precision    recall  f1-score   support\n",
      "\n",
      "           0       0.48      0.45      0.47       106\n",
      "           1       0.43      0.36      0.39       121\n",
      "           2       0.04      0.11      0.06        36\n",
      "           3       0.12      0.18      0.15        65\n",
      "           4       0.04      0.22      0.07        18\n",
      "           5       0.13      0.20      0.16        64\n",
      "           6       0.19      0.25      0.21        77\n",
      "           7       0.19      0.40      0.26        47\n",
      "           8       0.40      0.11      0.17       358\n",
      "           9       0.23      0.79      0.36        29\n",
      "          10       0.17      0.17      0.17        98\n",
      "          11       0.40      0.07      0.12       581\n",
      "          12       0.19      0.31      0.23        62\n",
      "          13       0.25      0.21      0.23       120\n",
      "          14       0.33      0.12      0.18       268\n",
      "          15       0.05      0.36      0.09        14\n",
      "          16       0.15      0.68      0.25        22\n",
      "          17       0.33      0.35      0.34        93\n",
      "          18       0.29      0.26      0.27       111\n",
      "          19       0.11      0.28      0.16        39\n",
      "          20       0.43      0.55      0.48        78\n",
      "          21       0.76      0.17      0.28       439\n",
      "          22       0.22      0.32      0.26        68\n",
      "          23       0.35      0.43      0.38        82\n",
      "          24       0.57      0.23      0.33       250\n",
      "          25       0.02      0.22      0.04         9\n",
      "          26       0.07      0.50      0.12        14\n",
      "          27       0.09      0.33      0.14        27\n",
      "          28       0.27      0.60      0.37        45\n",
      "          29       0.03      0.50      0.06         6\n",
      "          30       0.65      0.24      0.36       266\n",
      "          31       0.07      0.30      0.11        23\n",
      "          32       0.13      0.81      0.22        16\n",
      "          33       0.27      0.32      0.29        85\n",
      "          34       0.24      0.14      0.18       170\n",
      "          35       0.14      0.12      0.13       118\n",
      "          36       0.12      0.63      0.20        19\n",
      "          37       0.24      0.14      0.18       169\n",
      "          38       0.19      0.10      0.13       182\n",
      "          39       0.06      0.75      0.11         8\n",
      "          40       0.24      0.31      0.27        77\n",
      "          41       0.55      0.35      0.43       155\n",
      "          42       0.06      0.12      0.08        49\n",
      "          43       0.30      0.17      0.22       172\n",
      "          44       0.03      0.19      0.05        16\n",
      "          45       0.09      0.31      0.14        29\n",
      "          46       0.06      0.67      0.11         9\n",
      "          47       0.21      0.49      0.29        43\n",
      "          48       0.40      0.43      0.41        93\n",
      "          49       0.11      0.42      0.17        26\n",
      "          50       0.12      0.15      0.13        78\n",
      "          51       0.11      0.23      0.15        47\n",
      "          52       0.68      0.52      0.59       132\n",
      "          53       0.60      0.41      0.49       147\n",
      "          54       0.38      0.37      0.37       103\n",
      "          55       0.01      0.09      0.02        11\n",
      "          56       0.41      0.25      0.31       165\n",
      "          57       0.26      0.37      0.31        70\n",
      "          58       0.19      0.38      0.25        50\n",
      "          59       0.10      0.20      0.13        50\n",
      "          60       0.59      0.57      0.58       103\n",
      "          61       0.34      0.46      0.39        74\n",
      "          62       0.42      0.39      0.40       108\n",
      "          63       0.30      0.24      0.27       125\n",
      "          64       0.26      0.06      0.09       458\n",
      "          65       0.07      0.11      0.09        64\n",
      "          66       0.11      0.05      0.07       201\n",
      "          67       0.18      0.42      0.25        43\n",
      "          68       0.71      0.43      0.54       164\n",
      "          69       0.42      0.28      0.34       149\n",
      "          70       0.40      0.36      0.38       112\n",
      "          71       0.40      0.39      0.39       103\n",
      "          72       0.07      0.14      0.09        50\n",
      "          73       0.19      0.32      0.24        60\n",
      "          74       0.07      0.09      0.08        81\n",
      "          75       0.46      0.24      0.32       192\n",
      "          76       0.41      0.39      0.40       106\n",
      "          77       0.13      0.11      0.12       122\n",
      "          78       0.08      0.16      0.11        51\n",
      "          79       0.01      0.11      0.02         9\n",
      "          80       0.17      0.09      0.12       187\n",
      "          81       0.08      0.10      0.09        82\n",
      "          82       0.53      0.68      0.60        78\n",
      "          83       0.14      0.23      0.17        61\n",
      "          84       0.02      0.11      0.03        19\n",
      "          85       0.39      0.38      0.39       102\n",
      "          86       0.21      0.36      0.26        59\n",
      "          87       0.26      0.22      0.24       119\n",
      "          88       0.02      0.12      0.03        17\n",
      "          89       0.32      0.27      0.29       119\n",
      "          90       0.16      0.27      0.20        59\n",
      "          91       0.30      0.37      0.33        82\n",
      "          92       0.09      0.15      0.11        62\n",
      "          93       0.06      0.46      0.11        13\n",
      "          94       0.29      0.71      0.41        41\n",
      "          95       0.29      0.39      0.33        75\n",
      "          96       0.19      0.25      0.22        76\n",
      "          97       0.15      0.17      0.16        89\n",
      "          98       0.08      0.10      0.09        79\n",
      "          99       0.34      0.12      0.18       281\n",
      "\n",
      "    accuracy                           0.24     10000\n",
      "   macro avg       0.24      0.31      0.23     10000\n",
      "weighted avg       0.34      0.24      0.25     10000\n",
      "\n"
     ]
    }
   ],
   "source": [
    "from sklearn.metrics import classification_report\n",
    "print(classification_report(pred_argmax, y_test))"
   ]
  },
  {
   "cell_type": "code",
   "execution_count": 78,
   "id": "a808c267",
   "metadata": {},
   "outputs": [],
   "source": [
    "cnn_model = models.Sequential([\n",
    "    layers.Conv2D(filters=32, kernel_size=(3, 3), activation='relu', input_shape=(32, 32, 3)),\n",
    "    layers.MaxPool2D(2, 2),\n",
    "    \n",
    "    layers.Conv2D(filters=32, kernel_size=(2, 2), activation='relu', input_shape=(32, 32, 3)),\n",
    "    layers.MaxPool2D(2, 2),\n",
    "    \n",
    "    layers.Flatten(),\n",
    "    layers.Dense(50, activation='relu'),\n",
    "    layers.Dense(100, activation='softmax'),\n",
    "])"
   ]
  },
  {
   "cell_type": "code",
   "execution_count": 79,
   "id": "4a3f6d22",
   "metadata": {},
   "outputs": [
    {
     "data": {
      "image/png": "[encoded data removed]",
      "text/plain": [
       "<PIL.Image.Image image mode=RGBA size=381x160 at 0x22F078F5D90>"
      ]
     },
     "execution_count": 79,
     "metadata": {},
     "output_type": "execute_result"
    }
   ],
   "source": [
    "import visualkeras\n",
    "visualkeras.layered_view(cnn_model)"
   ]
  },
  {
   "cell_type": "code",
   "execution_count": 80,
   "id": "86a94d8e",
   "metadata": {},
   "outputs": [],
   "source": [
    "cnn_model.compile(optimizer='adam', loss='sparse_categorical_crossentropy', metrics=['accuracy'])"
   ]
  },
  {
   "cell_type": "code",
   "execution_count": 82,
   "id": "87179256",
   "metadata": {},
   "outputs": [
    {
     "name": "stdout",
     "output_type": "stream",
     "text": [
      "Epoch 1/10\n",
      "1485/1485 [==============================] - 50s 31ms/step - loss: 3.8436 - accuracy: 0.1172 - val_loss: 3.3499 - val_accuracy: 0.2040\n",
      "Epoch 2/10\n",
      "1485/1485 [==============================] - 40s 27ms/step - loss: 3.1685 - accuracy: 0.2316 - val_loss: 3.0918 - val_accuracy: 0.2540\n",
      "Epoch 3/10\n",
      "1485/1485 [==============================] - 37s 25ms/step - loss: 2.9263 - accuracy: 0.2791 - val_loss: 2.9089 - val_accuracy: 0.2800\n",
      "Epoch 4/10\n",
      "1485/1485 [==============================] - 36s 25ms/step - loss: 2.7716 - accuracy: 0.3071 - val_loss: 2.8723 - val_accuracy: 0.2908\n",
      "Epoch 5/10\n",
      "1485/1485 [==============================] - 37s 25ms/step - loss: 2.6674 - accuracy: 0.3274 - val_loss: 2.8761 - val_accuracy: 0.2952\n",
      "Epoch 6/10\n",
      "1485/1485 [==============================] - 38s 26ms/step - loss: 2.5825 - accuracy: 0.3462 - val_loss: 2.7582 - val_accuracy: 0.3144\n",
      "Epoch 7/10\n",
      "1485/1485 [==============================] - 37s 25ms/step - loss: 2.5173 - accuracy: 0.3556 - val_loss: 2.7435 - val_accuracy: 0.3092\n",
      "Epoch 8/10\n",
      "1485/1485 [==============================] - 37s 25ms/step - loss: 2.4620 - accuracy: 0.3723 - val_loss: 2.7178 - val_accuracy: 0.3376\n",
      "Epoch 9/10\n",
      "1485/1485 [==============================] - 42s 29ms/step - loss: 2.4079 - accuracy: 0.3821 - val_loss: 2.7724 - val_accuracy: 0.3160\n",
      "Epoch 10/10\n",
      "1485/1485 [==============================] - 38s 25ms/step - loss: 2.3594 - accuracy: 0.3908 - val_loss: 2.7159 - val_accuracy: 0.3200\n"
     ]
    }
   ],
   "source": [
    "history = cnn_model.fit(x_train, y_train, validation_data=(x_valid, y_valid), epochs=10, callbacks=[es])"
   ]
  },
  {
   "cell_type": "code",
   "execution_count": 84,
   "id": "bb26e5c9",
   "metadata": {},
   "outputs": [
    {
     "data": {
      "image/png": "[encoded data removed]",
      "text/plain": [
       "<Figure size 432x288 with 1 Axes>"
      ]
     },
     "metadata": {
      "needs_background": "light"
     },
     "output_type": "display_data"
    }
   ],
   "source": [
    "plt.plot(history.history['loss'])\n",
    "plt.plot(history.history['val_loss'])\n",
    "plt.xlabel('epochs')\n",
    "plt.ylabel('Loss')\n",
    "plt.title('Model Loss curve')\n",
    "plt.legend(['training', 'validation'], loc='upper right')\n",
    "plt.show()"
   ]
  },
  {
   "cell_type": "code",
   "execution_count": 85,
   "id": "1ae03d4b",
   "metadata": {},
   "outputs": [
    {
     "data": {
      "image/png": "[encoded data removed]",
      "text/plain": [
       "<Figure size 432x288 with 1 Axes>"
      ]
     },
     "metadata": {
      "needs_background": "light"
     },
     "output_type": "display_data"
    }
   ],
   "source": [
    "plt.plot(history.history['accuracy'])\n",
    "plt.plot(history.history['val_accuracy'])\n",
    "plt.xlabel('epochs')\n",
    "plt.ylabel('Accuracy')\n",
    "plt.title('Model accuracy')\n",
    "plt.legend(['training', 'validation'], loc='upper right')\n",
    "plt.show()"
   ]
  },
  {
   "cell_type": "code",
   "execution_count": 86,
   "id": "16509273",
   "metadata": {},
   "outputs": [
    {
     "name": "stdout",
     "output_type": "stream",
     "text": [
      "              precision    recall  f1-score   support\n",
      "\n",
      "           0       0.63      0.64      0.64        98\n",
      "           1       0.40      0.38      0.39       104\n",
      "           2       0.18      0.26      0.21        69\n",
      "           3       0.09      0.17      0.12        53\n",
      "           4       0.08      0.16      0.11        50\n",
      "           5       0.42      0.26      0.32       164\n",
      "           6       0.33      0.43      0.37        77\n",
      "           7       0.57      0.16      0.25       353\n",
      "           8       0.60      0.35      0.44       173\n",
      "           9       0.49      0.52      0.50        95\n",
      "          10       0.21      0.30      0.25        70\n",
      "          11       0.19      0.41      0.26        46\n",
      "          12       0.32      0.57      0.41        56\n",
      "          13       0.27      0.40      0.32        67\n",
      "          14       0.35      0.23      0.27       155\n",
      "          15       0.10      0.33      0.15        30\n",
      "          16       0.33      0.32      0.33       102\n",
      "          17       0.53      0.60      0.56        88\n",
      "          18       0.09      0.41      0.15        22\n",
      "          19       0.21      0.25      0.23        83\n",
      "          20       0.72      0.59      0.65       122\n",
      "          21       0.49      0.41      0.45       120\n",
      "          22       0.23      0.21      0.22       110\n",
      "          23       0.65      0.34      0.45       189\n",
      "          24       0.49      0.48      0.48       103\n",
      "          25       0.21      0.25      0.23        84\n",
      "          26       0.31      0.20      0.24       154\n",
      "          27       0.20      0.32      0.25        63\n",
      "          28       0.52      0.67      0.58        78\n",
      "          29       0.24      0.35      0.28        69\n",
      "          30       0.45      0.30      0.36       148\n",
      "          31       0.24      0.37      0.29        65\n",
      "          32       0.21      0.34      0.26        62\n",
      "          33       0.53      0.27      0.36       198\n",
      "          34       0.23      0.38      0.29        60\n",
      "          35       0.19      0.30      0.23        63\n",
      "          36       0.24      0.44      0.31        54\n",
      "          37       0.21      0.45      0.29        47\n",
      "          38       0.18      0.27      0.22        67\n",
      "          39       0.26      0.17      0.20       154\n",
      "          40       0.28      0.37      0.32        76\n",
      "          41       0.69      0.41      0.51       170\n",
      "          42       0.32      0.26      0.28       125\n",
      "          43       0.25      0.46      0.32        54\n",
      "          44       0.24      0.19      0.21       124\n",
      "          45       0.15      0.09      0.12       158\n",
      "          46       0.25      0.27      0.26        93\n",
      "          47       0.62      0.37      0.46       169\n",
      "          48       0.73      0.41      0.53       177\n",
      "          49       0.47      0.51      0.49        93\n",
      "          50       0.12      0.09      0.10       140\n",
      "          51       0.21      0.37      0.27        57\n",
      "          52       0.48      0.53      0.51        90\n",
      "          53       0.51      0.58      0.54        88\n",
      "          54       0.51      0.50      0.50       103\n",
      "          55       0.02      0.15      0.04        13\n",
      "          56       0.49      0.51      0.50        97\n",
      "          57       0.27      0.51      0.35        53\n",
      "          58       0.39      0.40      0.39        98\n",
      "          59       0.20      0.45      0.28        44\n",
      "          60       0.73      0.72      0.73       101\n",
      "          61       0.60      0.37      0.46       163\n",
      "          62       0.48      0.40      0.43       121\n",
      "          63       0.42      0.28      0.34       150\n",
      "          64       0.12      0.13      0.12        93\n",
      "          65       0.20      0.24      0.22        82\n",
      "          66       0.15      0.31      0.20        48\n",
      "          67       0.36      0.34      0.35       105\n",
      "          68       0.64      0.75      0.69        85\n",
      "          69       0.49      0.50      0.49        98\n",
      "          70       0.28      0.33      0.30        84\n",
      "          71       0.40      0.68      0.50        59\n",
      "          72       0.04      0.22      0.07        18\n",
      "          73       0.14      0.36      0.20        39\n",
      "          74       0.28      0.12      0.16       242\n",
      "          75       0.56      0.50      0.53       113\n",
      "          76       0.65      0.63      0.64       103\n",
      "          77       0.20      0.16      0.18       122\n",
      "          78       0.20      0.12      0.15       172\n",
      "          79       0.32      0.27      0.29       118\n",
      "          80       0.01      0.20      0.02         5\n",
      "          81       0.37      0.27      0.31       135\n",
      "          82       0.68      0.48      0.56       142\n",
      "          83       0.18      0.32      0.23        56\n",
      "          84       0.22      0.16      0.18       140\n",
      "          85       0.45      0.50      0.47        90\n",
      "          86       0.30      0.38      0.34        78\n",
      "          87       0.56      0.36      0.44       157\n",
      "          88       0.36      0.15      0.22       234\n",
      "          89       0.35      0.49      0.41        71\n",
      "          90       0.19      0.38      0.25        50\n",
      "          91       0.38      0.41      0.39        93\n",
      "          92       0.19      0.23      0.21        81\n",
      "          93       0.21      0.23      0.22        93\n",
      "          94       0.68      0.72      0.70        94\n",
      "          95       0.38      0.44      0.41        87\n",
      "          96       0.18      0.38      0.24        48\n",
      "          97       0.23      0.40      0.29        57\n",
      "          98       0.04      0.08      0.05        48\n",
      "          99       0.22      0.16      0.18       138\n",
      "\n",
      "    accuracy                           0.34     10000\n",
      "   macro avg       0.34      0.36      0.33     10000\n",
      "weighted avg       0.39      0.34      0.35     10000\n",
      "\n"
     ]
    }
   ],
   "source": [
    "pred_cnn = cnn_model.predict(x_test)\n",
    "pred_cnn_argmax = [np.argmax(el) for el in pred_cnn]\n",
    "print(classification_report(pred_cnn_argmax, y_test))"
   ]
  },
  {
   "cell_type": "code",
   "execution_count": 91,
   "id": "9c395a74",
   "metadata": {},
   "outputs": [
    {
     "data": {
      "image/png": "[encoded data removed]",
      "text/plain": [
       "<Figure size 432x288 with 1 Axes>"
      ]
     },
     "metadata": {
      "needs_background": "light"
     },
     "output_type": "display_data"
    }
   ],
   "source": [
    "image = x_test[-1]\n",
    "label = classes[y_test[-1]]\n",
    "plt.imshow(image)\n",
    "plt.title(label)\n",
    "plt.show()"
   ]
  },
  {
   "cell_type": "code",
   "execution_count": 105,
   "id": "571fd218",
   "metadata": {},
   "outputs": [
    {
     "data": {
      "text/plain": [
       "(1, 32, 32, 3)"
      ]
     },
     "execution_count": 105,
     "metadata": {},
     "output_type": "execute_result"
    }
   ],
   "source": [
    "reshape = np.reshape(image, (1, 32, 32, 3)) # reshaping image to have a batch size of one for prediction\n",
    "reshape.shape"
   ]
  },
  {
   "cell_type": "code",
   "execution_count": 108,
   "id": "4ee9834c",
   "metadata": {},
   "outputs": [
    {
     "data": {
      "text/plain": [
       "'tulip'"
      ]
     },
     "execution_count": 108,
     "metadata": {},
     "output_type": "execute_result"
    }
   ],
   "source": [
    "pred_single = cnn_model.predict(reshape)\n",
    "classes[np.argmax(pred_single)]"
   ]
  },
  {
   "cell_type": "code",
   "execution_count": 112,
   "id": "bba07d18",
   "metadata": {},
   "outputs": [],
   "source": [
    "(x_ciphar10_train, y_ciphar10_train), (x_ciphar10_test, y_ciphar10_test) = datasets.cifar10.load_data()"
   ]
  },
  {
   "cell_type": "code",
   "execution_count": 113,
   "id": "cba6db12",
   "metadata": {},
   "outputs": [
    {
     "name": "stdout",
     "output_type": "stream",
     "text": [
      "Train shape: (50000, 32, 32, 3)\n",
      "Test shape: (10000, 32, 32, 3)\n"
     ]
    }
   ],
   "source": [
    "print('Train shape: {}'.format(x_ciphar10_train.shape))\n",
    "print('Test shape: {}'.format(x_ciphar10_test.shape))"
   ]
  },
  {
   "cell_type": "code",
   "execution_count": 117,
   "id": "f600788c",
   "metadata": {},
   "outputs": [],
   "source": [
    "classes = [\"airplane\", \"automobile\", \"bird\", \"cat\", \"deer\", \"dog\", \"frog\", \"horse\", \"ship\", \"truck\"]"
   ]
  },
  {
   "cell_type": "code",
   "execution_count": 122,
   "id": "66320cb3",
   "metadata": {},
   "outputs": [],
   "source": [
    "y_ciphar10_train = y_ciphar10_train.reshape(-1,)\n",
    "y_ciphar10_test = y_ciphar10_test.reshape(-1,)"
   ]
  },
  {
   "cell_type": "code",
   "execution_count": 123,
   "id": "7bc9058c",
   "metadata": {},
   "outputs": [
    {
     "data": {
      "image/png": "[encoded data removed]",
      "text/plain": [
       "<Figure size 1080x1080 with 6 Axes>"
      ]
     },
     "metadata": {
      "needs_background": "light"
     },
     "output_type": "display_data"
    }
   ],
   "source": [
    "plt.figure(figsize=(15, 15))\n",
    "\n",
    "for i in range(6):\n",
    "    ax = plt.subplot(2, 3, i + 1)\n",
    "    plt.imshow(x_ciphar10_train[i])\n",
    "    plt.xlabel(classes[y_ciphar10_train[i]])\n",
    "plt.show();"
   ]
  },
  {
   "cell_type": "code",
   "execution_count": 125,
   "id": "ceeafc03",
   "metadata": {},
   "outputs": [],
   "source": [
    "x_ciphar10_test = x_ciphar10_test / 255\n",
    "x_ciphar10_train = x_ciphar10_train / 255"
   ]
  },
  {
   "cell_type": "code",
   "execution_count": 126,
   "id": "20119ff5",
   "metadata": {},
   "outputs": [],
   "source": [
    "cnn_model2 = models.Sequential([\n",
    "    \n",
    "    layers.Conv2D(32, (3, 3), strides=2, activation='relu', padding='same', input_shape=(32, 32, 3)),\n",
    "    layers.MaxPooling2D(2, 2),\n",
    "    \n",
    "    layers.Conv2D(32, (3, 3), activation='relu'),\n",
    "    layers.MaxPooling2D(2, 2),\n",
    "    \n",
    "    layers.Flatten(),\n",
    "    layers.Dense(50, activation='relu'),\n",
    "    layers.Dense(10, activation='softmax')\n",
    "])"
   ]
  },
  {
   "cell_type": "code",
   "execution_count": 128,
   "id": "e5567ea9",
   "metadata": {},
   "outputs": [
    {
     "name": "stdout",
     "output_type": "stream",
     "text": [
      "Epoch 1/10\n",
      "1563/1563 [==============================] - 18s 10ms/step - loss: 1.6246 - accuracy: 0.4120\n",
      "Epoch 2/10\n",
      "1563/1563 [==============================] - 15s 10ms/step - loss: 1.3057 - accuracy: 0.5346\n",
      "Epoch 3/10\n",
      "1563/1563 [==============================] - 15s 10ms/step - loss: 1.1986 - accuracy: 0.5745\n",
      "Epoch 4/10\n",
      "1563/1563 [==============================] - 16s 10ms/step - loss: 1.1335 - accuracy: 0.6018\n",
      "Epoch 5/10\n",
      "1563/1563 [==============================] - 15s 10ms/step - loss: 1.0867 - accuracy: 0.6197\n",
      "Epoch 6/10\n",
      "1563/1563 [==============================] - 15s 10ms/step - loss: 1.0469 - accuracy: 0.6340\n",
      "Epoch 7/10\n",
      "1563/1563 [==============================] - 16s 10ms/step - loss: 1.0135 - accuracy: 0.6468\n",
      "Epoch 8/10\n",
      "1563/1563 [==============================] - 15s 10ms/step - loss: 0.9826 - accuracy: 0.6551\n",
      "Epoch 9/10\n",
      "1563/1563 [==============================] - 18s 11ms/step - loss: 0.9575 - accuracy: 0.6654\n",
      "Epoch 10/10\n",
      "1563/1563 [==============================] - 18s 12ms/step - loss: 0.9348 - accuracy: 0.6735\n"
     ]
    }
   ],
   "source": [
    "cnn_model2.compile(optimizer='adam', loss='sparse_categorical_crossentropy', metrics=['accuracy'])\n",
    "history = cnn_model2.fit(x_ciphar10_train, y_ciphar10_train, epochs=10)"
   ]
  },
  {
   "cell_type": "code",
   "execution_count": 129,
   "id": "08a64dac",
   "metadata": {},
   "outputs": [
    {
     "data": {
      "image/png": "[encoded data removed]",
      "text/plain": [
       "<Figure size 432x288 with 1 Axes>"
      ]
     },
     "metadata": {
      "needs_background": "light"
     },
     "output_type": "display_data"
    }
   ],
   "source": [
    "plt.plot(history.history['loss'])\n",
    "plt.xlabel('epochs')\n",
    "plt.ylabel('loss')\n",
    "plt.title('Model performance')\n",
    "plt.show()"
   ]
  },
  {
   "cell_type": "code",
   "execution_count": 130,
   "id": "35a5ba4e",
   "metadata": {},
   "outputs": [
    {
     "data": {
      "image/png": "[encoded data removed]",
      "text/plain": [
       "<Figure size 432x288 with 1 Axes>"
      ]
     },
     "metadata": {
      "needs_background": "light"
     },
     "output_type": "display_data"
    }
   ],
   "source": [
    "plt.plot(history.history['accuracy'])\n",
    "plt.xlabel('epochs')\n",
    "plt.ylabel('accuracy')\n",
    "plt.title('Model performance')\n",
    "plt.show()"
   ]
  },
  {
   "cell_type": "code",
   "execution_count": 131,
   "id": "f465d064",
   "metadata": {},
   "outputs": [
    {
     "name": "stdout",
     "output_type": "stream",
     "text": [
      "313/313 [==============================] - 2s 5ms/step - loss: 1.0005 - accuracy: 0.6489\n"
     ]
    },
    {
     "data": {
      "text/plain": [
       "[1.0005009174346924, 0.6488999724388123]"
      ]
     },
     "execution_count": 131,
     "metadata": {},
     "output_type": "execute_result"
    }
   ],
   "source": [
    "cnn_model2.evaluate(x_ciphar10_test, y_ciphar10_test)"
   ]
  },
  {
   "cell_type": "code",
   "execution_count": 133,
   "id": "816f9971",
   "metadata": {},
   "outputs": [
    {
     "data": {
      "image/png": "[encoded data removed]",
      "text/plain": [
       "<Figure size 432x288 with 1 Axes>"
      ]
     },
     "metadata": {
      "needs_background": "light"
     },
     "output_type": "display_data"
    }
   ],
   "source": [
    "plt.imshow(x_ciphar10_test[20])\n",
    "plt.title(classes[y_ciphar10_test[20]])\n",
    "plt.show()"
   ]
  },
  {
   "cell_type": "code",
   "execution_count": 136,
   "id": "c4d47963",
   "metadata": {},
   "outputs": [
    {
     "data": {
      "text/plain": [
       "'horse'"
      ]
     },
     "execution_count": 136,
     "metadata": {},
     "output_type": "execute_result"
    }
   ],
   "source": [
    "pred = cnn_model2.predict(np.reshape(x_ciphar10_test[20], (1, 32, 32, 3)))\n",
    "classes[np.argmax(pred)]"
   ]
  },
  {
   "cell_type": "code",
   "execution_count": 149,
   "id": "8c3d0e47",
   "metadata": {},
   "outputs": [],
   "source": [
    "rand = np.random.randint(0, x_ciphar10_test.shape[0])"
   ]
  },
  {
   "cell_type": "code",
   "execution_count": 150,
   "id": "91beef6a",
   "metadata": {},
   "outputs": [
    {
     "data": {
      "image/png": "[encoded data removed]",
      "text/plain": [
       "<Figure size 432x288 with 1 Axes>"
      ]
     },
     "metadata": {
      "needs_background": "light"
     },
     "output_type": "display_data"
    }
   ],
   "source": [
    "plt.imshow(x_ciphar10_test[rand])\n",
    "plt.title(classes[y_ciphar10_test[rand]])\n",
    "plt.show()"
   ]
  },
  {
   "cell_type": "code",
   "execution_count": 151,
   "id": "6430fc3d",
   "metadata": {},
   "outputs": [
    {
     "data": {
      "text/plain": [
       "<matplotlib.image.AxesImage at 0x22f13b323d0>"
      ]
     },
     "execution_count": 151,
     "metadata": {},
     "output_type": "execute_result"
    },
    {
     "data": {
      "image/png": "[encoded data removed]",
      "text/plain": [
       "<Figure size 432x288 with 1 Axes>"
      ]
     },
     "metadata": {
      "needs_background": "light"
     },
     "output_type": "display_data"
    }
   ],
   "source": [
    "reshaped = x_ciphar10_test[rand].reshape(1, 32, 32, 3)\n",
    "plt.imshow(reshaped[0])"
   ]
  },
  {
   "cell_type": "code",
   "execution_count": 152,
   "id": "ca52d41e",
   "metadata": {},
   "outputs": [
    {
     "data": {
      "text/plain": [
       "'horse'"
      ]
     },
     "execution_count": 152,
     "metadata": {},
     "output_type": "execute_result"
    }
   ],
   "source": [
    "classes[np.argmax(cnn_model2.predict(reshaped))]"
   ]
  },
  {
   "cell_type": "code",
   "execution_count": 153,
   "id": "0ea234f9",
   "metadata": {},
   "outputs": [],
   "source": [
    "all_pred = cnn_model2.predict(x_ciphar10_test)\n",
    "all_pred_argmax = [np.argmax(el) for el in all_pred]"
   ]
  },
  {
   "cell_type": "code",
   "execution_count": 155,
   "id": "33cd6b89",
   "metadata": {},
   "outputs": [
    {
     "name": "stdout",
     "output_type": "stream",
     "text": [
      "              precision    recall  f1-score   support\n",
      "\n",
      "           0       0.66      0.73      0.69       904\n",
      "           1       0.81      0.74      0.77      1093\n",
      "           2       0.54      0.53      0.53      1005\n",
      "           3       0.51      0.47      0.49      1082\n",
      "           4       0.56      0.58      0.57       979\n",
      "           5       0.40      0.70      0.51       577\n",
      "           6       0.82      0.64      0.72      1296\n",
      "           7       0.75      0.65      0.70      1158\n",
      "           8       0.82      0.73      0.77      1118\n",
      "           9       0.62      0.78      0.69       788\n",
      "\n",
      "    accuracy                           0.65     10000\n",
      "   macro avg       0.65      0.65      0.64     10000\n",
      "weighted avg       0.67      0.65      0.65     10000\n",
      "\n"
     ]
    }
   ],
   "source": [
    "print(classification_report(all_pred_argmax, y_ciphar10_test))"
   ]
  }
 ],
 "metadata": {
  "kernelspec": {
   "display_name": "Python 3 (ipykernel)",
   "language": "python",
   "name": "python3"
  },
  "language_info": {
   "codemirror_mode": {
    "name": "ipython",
    "version": 3
   },
   "file_extension": ".py",
   "mimetype": "text/x-python",
   "name": "python",
   "nbconvert_exporter": "python",
   "pygments_lexer": "ipython3",
   "version": "3.9.7"
  }
 },
 "nbformat": 4,
 "nbformat_minor": 5
}
