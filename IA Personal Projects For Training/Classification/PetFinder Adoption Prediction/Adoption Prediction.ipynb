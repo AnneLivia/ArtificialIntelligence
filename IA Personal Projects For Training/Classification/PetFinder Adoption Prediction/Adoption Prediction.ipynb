{
 "cells": [
  {
   "cell_type": "markdown",
   "metadata": {},
   "source": [
    "## PetFinder.my Adoption Prediction\n",
    "\n",
    "### Must predict the speed of adoption which is a number from 0 to 4.\n",
    "\n",
    "### Training Data"
   ]
  },
  {
   "cell_type": "code",
   "execution_count": 94,
   "metadata": {},
   "outputs": [],
   "source": [
    "import pandas as pd"
   ]
  },
  {
   "cell_type": "code",
   "execution_count": 95,
   "metadata": {},
   "outputs": [],
   "source": [
    "data = pd.read_csv('data/train.csv')"
   ]
  },
  {
   "cell_type": "code",
   "execution_count": 96,
   "metadata": {},
   "outputs": [
    {
     "data": {
      "text/html": [
       "<div>\n",
       "<style scoped>\n",
       "    .dataframe tbody tr th:only-of-type {\n",
       "        vertical-align: middle;\n",
       "    }\n",
       "\n",
       "    .dataframe tbody tr th {\n",
       "        vertical-align: top;\n",
       "    }\n",
       "\n",
       "    .dataframe thead th {\n",
       "        text-align: right;\n",
       "    }\n",
       "</style>\n",
       "<table border=\"1\" class=\"dataframe\">\n",
       "  <thead>\n",
       "    <tr style=\"text-align: right;\">\n",
       "      <th></th>\n",
       "      <th>Type</th>\n",
       "      <th>Name</th>\n",
       "      <th>Age</th>\n",
       "      <th>Breed1</th>\n",
       "      <th>Breed2</th>\n",
       "      <th>Gender</th>\n",
       "      <th>Color1</th>\n",
       "      <th>Color2</th>\n",
       "      <th>Color3</th>\n",
       "      <th>MaturitySize</th>\n",
       "      <th>...</th>\n",
       "      <th>Health</th>\n",
       "      <th>Quantity</th>\n",
       "      <th>Fee</th>\n",
       "      <th>State</th>\n",
       "      <th>RescuerID</th>\n",
       "      <th>VideoAmt</th>\n",
       "      <th>Description</th>\n",
       "      <th>PetID</th>\n",
       "      <th>PhotoAmt</th>\n",
       "      <th>AdoptionSpeed</th>\n",
       "    </tr>\n",
       "  </thead>\n",
       "  <tbody>\n",
       "    <tr>\n",
       "      <th>0</th>\n",
       "      <td>2</td>\n",
       "      <td>Nibble</td>\n",
       "      <td>3</td>\n",
       "      <td>299</td>\n",
       "      <td>0</td>\n",
       "      <td>1</td>\n",
       "      <td>1</td>\n",
       "      <td>7</td>\n",
       "      <td>0</td>\n",
       "      <td>1</td>\n",
       "      <td>...</td>\n",
       "      <td>1</td>\n",
       "      <td>1</td>\n",
       "      <td>100</td>\n",
       "      <td>41326</td>\n",
       "      <td>8480853f516546f6cf33aa88cd76c379</td>\n",
       "      <td>0</td>\n",
       "      <td>Nibble is a 3+ month old ball of cuteness. He ...</td>\n",
       "      <td>86e1089a3</td>\n",
       "      <td>1.0</td>\n",
       "      <td>2</td>\n",
       "    </tr>\n",
       "    <tr>\n",
       "      <th>1</th>\n",
       "      <td>2</td>\n",
       "      <td>No Name Yet</td>\n",
       "      <td>1</td>\n",
       "      <td>265</td>\n",
       "      <td>0</td>\n",
       "      <td>1</td>\n",
       "      <td>1</td>\n",
       "      <td>2</td>\n",
       "      <td>0</td>\n",
       "      <td>2</td>\n",
       "      <td>...</td>\n",
       "      <td>1</td>\n",
       "      <td>1</td>\n",
       "      <td>0</td>\n",
       "      <td>41401</td>\n",
       "      <td>3082c7125d8fb66f7dd4bff4192c8b14</td>\n",
       "      <td>0</td>\n",
       "      <td>I just found it alone yesterday near my apartm...</td>\n",
       "      <td>6296e909a</td>\n",
       "      <td>2.0</td>\n",
       "      <td>0</td>\n",
       "    </tr>\n",
       "    <tr>\n",
       "      <th>2</th>\n",
       "      <td>1</td>\n",
       "      <td>Brisco</td>\n",
       "      <td>1</td>\n",
       "      <td>307</td>\n",
       "      <td>0</td>\n",
       "      <td>1</td>\n",
       "      <td>2</td>\n",
       "      <td>7</td>\n",
       "      <td>0</td>\n",
       "      <td>2</td>\n",
       "      <td>...</td>\n",
       "      <td>1</td>\n",
       "      <td>1</td>\n",
       "      <td>0</td>\n",
       "      <td>41326</td>\n",
       "      <td>fa90fa5b1ee11c86938398b60abc32cb</td>\n",
       "      <td>0</td>\n",
       "      <td>Their pregnant mother was dumped by her irresp...</td>\n",
       "      <td>3422e4906</td>\n",
       "      <td>7.0</td>\n",
       "      <td>3</td>\n",
       "    </tr>\n",
       "    <tr>\n",
       "      <th>3</th>\n",
       "      <td>1</td>\n",
       "      <td>Miko</td>\n",
       "      <td>4</td>\n",
       "      <td>307</td>\n",
       "      <td>0</td>\n",
       "      <td>2</td>\n",
       "      <td>1</td>\n",
       "      <td>2</td>\n",
       "      <td>0</td>\n",
       "      <td>2</td>\n",
       "      <td>...</td>\n",
       "      <td>1</td>\n",
       "      <td>1</td>\n",
       "      <td>150</td>\n",
       "      <td>41401</td>\n",
       "      <td>9238e4f44c71a75282e62f7136c6b240</td>\n",
       "      <td>0</td>\n",
       "      <td>Good guard dog, very alert, active, obedience ...</td>\n",
       "      <td>5842f1ff5</td>\n",
       "      <td>8.0</td>\n",
       "      <td>2</td>\n",
       "    </tr>\n",
       "    <tr>\n",
       "      <th>4</th>\n",
       "      <td>1</td>\n",
       "      <td>Hunter</td>\n",
       "      <td>1</td>\n",
       "      <td>307</td>\n",
       "      <td>0</td>\n",
       "      <td>1</td>\n",
       "      <td>1</td>\n",
       "      <td>0</td>\n",
       "      <td>0</td>\n",
       "      <td>2</td>\n",
       "      <td>...</td>\n",
       "      <td>1</td>\n",
       "      <td>1</td>\n",
       "      <td>0</td>\n",
       "      <td>41326</td>\n",
       "      <td>95481e953f8aed9ec3d16fc4509537e8</td>\n",
       "      <td>0</td>\n",
       "      <td>This handsome yet cute boy is up for adoption....</td>\n",
       "      <td>850a43f90</td>\n",
       "      <td>3.0</td>\n",
       "      <td>2</td>\n",
       "    </tr>\n",
       "  </tbody>\n",
       "</table>\n",
       "<p>5 rows × 24 columns</p>\n",
       "</div>"
      ],
      "text/plain": [
       "   Type         Name  Age  Breed1  Breed2  Gender  Color1  Color2  Color3  \\\n",
       "0     2       Nibble    3     299       0       1       1       7       0   \n",
       "1     2  No Name Yet    1     265       0       1       1       2       0   \n",
       "2     1       Brisco    1     307       0       1       2       7       0   \n",
       "3     1         Miko    4     307       0       2       1       2       0   \n",
       "4     1       Hunter    1     307       0       1       1       0       0   \n",
       "\n",
       "   MaturitySize  ...  Health  Quantity  Fee  State  \\\n",
       "0             1  ...       1         1  100  41326   \n",
       "1             2  ...       1         1    0  41401   \n",
       "2             2  ...       1         1    0  41326   \n",
       "3             2  ...       1         1  150  41401   \n",
       "4             2  ...       1         1    0  41326   \n",
       "\n",
       "                          RescuerID  VideoAmt  \\\n",
       "0  8480853f516546f6cf33aa88cd76c379         0   \n",
       "1  3082c7125d8fb66f7dd4bff4192c8b14         0   \n",
       "2  fa90fa5b1ee11c86938398b60abc32cb         0   \n",
       "3  9238e4f44c71a75282e62f7136c6b240         0   \n",
       "4  95481e953f8aed9ec3d16fc4509537e8         0   \n",
       "\n",
       "                                         Description      PetID PhotoAmt  \\\n",
       "0  Nibble is a 3+ month old ball of cuteness. He ...  86e1089a3      1.0   \n",
       "1  I just found it alone yesterday near my apartm...  6296e909a      2.0   \n",
       "2  Their pregnant mother was dumped by her irresp...  3422e4906      7.0   \n",
       "3  Good guard dog, very alert, active, obedience ...  5842f1ff5      8.0   \n",
       "4  This handsome yet cute boy is up for adoption....  850a43f90      3.0   \n",
       "\n",
       "   AdoptionSpeed  \n",
       "0              2  \n",
       "1              0  \n",
       "2              3  \n",
       "3              2  \n",
       "4              2  \n",
       "\n",
       "[5 rows x 24 columns]"
      ]
     },
     "execution_count": 96,
     "metadata": {},
     "output_type": "execute_result"
    }
   ],
   "source": [
    "data.head()"
   ]
  },
  {
   "cell_type": "code",
   "execution_count": 97,
   "metadata": {},
   "outputs": [
    {
     "name": "stdout",
     "output_type": "stream",
     "text": [
      "<class 'pandas.core.frame.DataFrame'>\n",
      "RangeIndex: 14993 entries, 0 to 14992\n",
      "Data columns (total 24 columns):\n",
      " #   Column         Non-Null Count  Dtype  \n",
      "---  ------         --------------  -----  \n",
      " 0   Type           14993 non-null  int64  \n",
      " 1   Name           13736 non-null  object \n",
      " 2   Age            14993 non-null  int64  \n",
      " 3   Breed1         14993 non-null  int64  \n",
      " 4   Breed2         14993 non-null  int64  \n",
      " 5   Gender         14993 non-null  int64  \n",
      " 6   Color1         14993 non-null  int64  \n",
      " 7   Color2         14993 non-null  int64  \n",
      " 8   Color3         14993 non-null  int64  \n",
      " 9   MaturitySize   14993 non-null  int64  \n",
      " 10  FurLength      14993 non-null  int64  \n",
      " 11  Vaccinated     14993 non-null  int64  \n",
      " 12  Dewormed       14993 non-null  int64  \n",
      " 13  Sterilized     14993 non-null  int64  \n",
      " 14  Health         14993 non-null  int64  \n",
      " 15  Quantity       14993 non-null  int64  \n",
      " 16  Fee            14993 non-null  int64  \n",
      " 17  State          14993 non-null  int64  \n",
      " 18  RescuerID      14993 non-null  object \n",
      " 19  VideoAmt       14993 non-null  int64  \n",
      " 20  Description    14981 non-null  object \n",
      " 21  PetID          14993 non-null  object \n",
      " 22  PhotoAmt       14993 non-null  float64\n",
      " 23  AdoptionSpeed  14993 non-null  int64  \n",
      "dtypes: float64(1), int64(19), object(4)\n",
      "memory usage: 2.7+ MB\n"
     ]
    }
   ],
   "source": [
    "data.info()"
   ]
  },
  {
   "cell_type": "code",
   "execution_count": 98,
   "metadata": {},
   "outputs": [
    {
     "data": {
      "text/plain": [
       "(14993, 24)"
      ]
     },
     "execution_count": 98,
     "metadata": {},
     "output_type": "execute_result"
    }
   ],
   "source": [
    "data.shape"
   ]
  },
  {
   "cell_type": "code",
   "execution_count": 99,
   "metadata": {},
   "outputs": [
    {
     "data": {
      "text/html": [
       "<div>\n",
       "<style scoped>\n",
       "    .dataframe tbody tr th:only-of-type {\n",
       "        vertical-align: middle;\n",
       "    }\n",
       "\n",
       "    .dataframe tbody tr th {\n",
       "        vertical-align: top;\n",
       "    }\n",
       "\n",
       "    .dataframe thead th {\n",
       "        text-align: right;\n",
       "    }\n",
       "</style>\n",
       "<table border=\"1\" class=\"dataframe\">\n",
       "  <thead>\n",
       "    <tr style=\"text-align: right;\">\n",
       "      <th></th>\n",
       "      <th>Type</th>\n",
       "      <th>Age</th>\n",
       "      <th>Breed1</th>\n",
       "      <th>Breed2</th>\n",
       "      <th>Gender</th>\n",
       "      <th>Color1</th>\n",
       "      <th>Color2</th>\n",
       "      <th>Color3</th>\n",
       "      <th>MaturitySize</th>\n",
       "      <th>FurLength</th>\n",
       "      <th>Vaccinated</th>\n",
       "      <th>Dewormed</th>\n",
       "      <th>Sterilized</th>\n",
       "      <th>Health</th>\n",
       "      <th>Quantity</th>\n",
       "      <th>Fee</th>\n",
       "      <th>State</th>\n",
       "      <th>VideoAmt</th>\n",
       "      <th>PhotoAmt</th>\n",
       "      <th>AdoptionSpeed</th>\n",
       "    </tr>\n",
       "  </thead>\n",
       "  <tbody>\n",
       "    <tr>\n",
       "      <th>count</th>\n",
       "      <td>14993.000000</td>\n",
       "      <td>14993.000000</td>\n",
       "      <td>14993.000000</td>\n",
       "      <td>14993.000000</td>\n",
       "      <td>14993.000000</td>\n",
       "      <td>14993.000000</td>\n",
       "      <td>14993.000000</td>\n",
       "      <td>14993.000000</td>\n",
       "      <td>14993.000000</td>\n",
       "      <td>14993.000000</td>\n",
       "      <td>14993.000000</td>\n",
       "      <td>14993.000000</td>\n",
       "      <td>14993.000000</td>\n",
       "      <td>14993.000000</td>\n",
       "      <td>14993.000000</td>\n",
       "      <td>14993.000000</td>\n",
       "      <td>14993.000000</td>\n",
       "      <td>14993.000000</td>\n",
       "      <td>14993.000000</td>\n",
       "      <td>14993.000000</td>\n",
       "    </tr>\n",
       "    <tr>\n",
       "      <th>mean</th>\n",
       "      <td>1.457614</td>\n",
       "      <td>10.452078</td>\n",
       "      <td>265.272594</td>\n",
       "      <td>74.009738</td>\n",
       "      <td>1.776162</td>\n",
       "      <td>2.234176</td>\n",
       "      <td>3.222837</td>\n",
       "      <td>1.882012</td>\n",
       "      <td>1.862002</td>\n",
       "      <td>1.467485</td>\n",
       "      <td>1.731208</td>\n",
       "      <td>1.558727</td>\n",
       "      <td>1.914227</td>\n",
       "      <td>1.036617</td>\n",
       "      <td>1.576069</td>\n",
       "      <td>21.259988</td>\n",
       "      <td>41346.028347</td>\n",
       "      <td>0.056760</td>\n",
       "      <td>3.889215</td>\n",
       "      <td>2.516441</td>\n",
       "    </tr>\n",
       "    <tr>\n",
       "      <th>std</th>\n",
       "      <td>0.498217</td>\n",
       "      <td>18.155790</td>\n",
       "      <td>60.056818</td>\n",
       "      <td>123.011575</td>\n",
       "      <td>0.681592</td>\n",
       "      <td>1.745225</td>\n",
       "      <td>2.742562</td>\n",
       "      <td>2.984086</td>\n",
       "      <td>0.547959</td>\n",
       "      <td>0.599070</td>\n",
       "      <td>0.667649</td>\n",
       "      <td>0.695817</td>\n",
       "      <td>0.566172</td>\n",
       "      <td>0.199535</td>\n",
       "      <td>1.472477</td>\n",
       "      <td>78.414548</td>\n",
       "      <td>32.444153</td>\n",
       "      <td>0.346185</td>\n",
       "      <td>3.487810</td>\n",
       "      <td>1.177265</td>\n",
       "    </tr>\n",
       "    <tr>\n",
       "      <th>min</th>\n",
       "      <td>1.000000</td>\n",
       "      <td>0.000000</td>\n",
       "      <td>0.000000</td>\n",
       "      <td>0.000000</td>\n",
       "      <td>1.000000</td>\n",
       "      <td>1.000000</td>\n",
       "      <td>0.000000</td>\n",
       "      <td>0.000000</td>\n",
       "      <td>1.000000</td>\n",
       "      <td>1.000000</td>\n",
       "      <td>1.000000</td>\n",
       "      <td>1.000000</td>\n",
       "      <td>1.000000</td>\n",
       "      <td>1.000000</td>\n",
       "      <td>1.000000</td>\n",
       "      <td>0.000000</td>\n",
       "      <td>41324.000000</td>\n",
       "      <td>0.000000</td>\n",
       "      <td>0.000000</td>\n",
       "      <td>0.000000</td>\n",
       "    </tr>\n",
       "    <tr>\n",
       "      <th>25%</th>\n",
       "      <td>1.000000</td>\n",
       "      <td>2.000000</td>\n",
       "      <td>265.000000</td>\n",
       "      <td>0.000000</td>\n",
       "      <td>1.000000</td>\n",
       "      <td>1.000000</td>\n",
       "      <td>0.000000</td>\n",
       "      <td>0.000000</td>\n",
       "      <td>2.000000</td>\n",
       "      <td>1.000000</td>\n",
       "      <td>1.000000</td>\n",
       "      <td>1.000000</td>\n",
       "      <td>2.000000</td>\n",
       "      <td>1.000000</td>\n",
       "      <td>1.000000</td>\n",
       "      <td>0.000000</td>\n",
       "      <td>41326.000000</td>\n",
       "      <td>0.000000</td>\n",
       "      <td>2.000000</td>\n",
       "      <td>2.000000</td>\n",
       "    </tr>\n",
       "    <tr>\n",
       "      <th>50%</th>\n",
       "      <td>1.000000</td>\n",
       "      <td>3.000000</td>\n",
       "      <td>266.000000</td>\n",
       "      <td>0.000000</td>\n",
       "      <td>2.000000</td>\n",
       "      <td>2.000000</td>\n",
       "      <td>2.000000</td>\n",
       "      <td>0.000000</td>\n",
       "      <td>2.000000</td>\n",
       "      <td>1.000000</td>\n",
       "      <td>2.000000</td>\n",
       "      <td>1.000000</td>\n",
       "      <td>2.000000</td>\n",
       "      <td>1.000000</td>\n",
       "      <td>1.000000</td>\n",
       "      <td>0.000000</td>\n",
       "      <td>41326.000000</td>\n",
       "      <td>0.000000</td>\n",
       "      <td>3.000000</td>\n",
       "      <td>2.000000</td>\n",
       "    </tr>\n",
       "    <tr>\n",
       "      <th>75%</th>\n",
       "      <td>2.000000</td>\n",
       "      <td>12.000000</td>\n",
       "      <td>307.000000</td>\n",
       "      <td>179.000000</td>\n",
       "      <td>2.000000</td>\n",
       "      <td>3.000000</td>\n",
       "      <td>6.000000</td>\n",
       "      <td>5.000000</td>\n",
       "      <td>2.000000</td>\n",
       "      <td>2.000000</td>\n",
       "      <td>2.000000</td>\n",
       "      <td>2.000000</td>\n",
       "      <td>2.000000</td>\n",
       "      <td>1.000000</td>\n",
       "      <td>1.000000</td>\n",
       "      <td>0.000000</td>\n",
       "      <td>41401.000000</td>\n",
       "      <td>0.000000</td>\n",
       "      <td>5.000000</td>\n",
       "      <td>4.000000</td>\n",
       "    </tr>\n",
       "    <tr>\n",
       "      <th>max</th>\n",
       "      <td>2.000000</td>\n",
       "      <td>255.000000</td>\n",
       "      <td>307.000000</td>\n",
       "      <td>307.000000</td>\n",
       "      <td>3.000000</td>\n",
       "      <td>7.000000</td>\n",
       "      <td>7.000000</td>\n",
       "      <td>7.000000</td>\n",
       "      <td>4.000000</td>\n",
       "      <td>3.000000</td>\n",
       "      <td>3.000000</td>\n",
       "      <td>3.000000</td>\n",
       "      <td>3.000000</td>\n",
       "      <td>3.000000</td>\n",
       "      <td>20.000000</td>\n",
       "      <td>3000.000000</td>\n",
       "      <td>41415.000000</td>\n",
       "      <td>8.000000</td>\n",
       "      <td>30.000000</td>\n",
       "      <td>4.000000</td>\n",
       "    </tr>\n",
       "  </tbody>\n",
       "</table>\n",
       "</div>"
      ],
      "text/plain": [
       "               Type           Age        Breed1        Breed2        Gender  \\\n",
       "count  14993.000000  14993.000000  14993.000000  14993.000000  14993.000000   \n",
       "mean       1.457614     10.452078    265.272594     74.009738      1.776162   \n",
       "std        0.498217     18.155790     60.056818    123.011575      0.681592   \n",
       "min        1.000000      0.000000      0.000000      0.000000      1.000000   \n",
       "25%        1.000000      2.000000    265.000000      0.000000      1.000000   \n",
       "50%        1.000000      3.000000    266.000000      0.000000      2.000000   \n",
       "75%        2.000000     12.000000    307.000000    179.000000      2.000000   \n",
       "max        2.000000    255.000000    307.000000    307.000000      3.000000   \n",
       "\n",
       "             Color1        Color2        Color3  MaturitySize     FurLength  \\\n",
       "count  14993.000000  14993.000000  14993.000000  14993.000000  14993.000000   \n",
       "mean       2.234176      3.222837      1.882012      1.862002      1.467485   \n",
       "std        1.745225      2.742562      2.984086      0.547959      0.599070   \n",
       "min        1.000000      0.000000      0.000000      1.000000      1.000000   \n",
       "25%        1.000000      0.000000      0.000000      2.000000      1.000000   \n",
       "50%        2.000000      2.000000      0.000000      2.000000      1.000000   \n",
       "75%        3.000000      6.000000      5.000000      2.000000      2.000000   \n",
       "max        7.000000      7.000000      7.000000      4.000000      3.000000   \n",
       "\n",
       "         Vaccinated      Dewormed    Sterilized        Health      Quantity  \\\n",
       "count  14993.000000  14993.000000  14993.000000  14993.000000  14993.000000   \n",
       "mean       1.731208      1.558727      1.914227      1.036617      1.576069   \n",
       "std        0.667649      0.695817      0.566172      0.199535      1.472477   \n",
       "min        1.000000      1.000000      1.000000      1.000000      1.000000   \n",
       "25%        1.000000      1.000000      2.000000      1.000000      1.000000   \n",
       "50%        2.000000      1.000000      2.000000      1.000000      1.000000   \n",
       "75%        2.000000      2.000000      2.000000      1.000000      1.000000   \n",
       "max        3.000000      3.000000      3.000000      3.000000     20.000000   \n",
       "\n",
       "                Fee         State      VideoAmt      PhotoAmt  AdoptionSpeed  \n",
       "count  14993.000000  14993.000000  14993.000000  14993.000000   14993.000000  \n",
       "mean      21.259988  41346.028347      0.056760      3.889215       2.516441  \n",
       "std       78.414548     32.444153      0.346185      3.487810       1.177265  \n",
       "min        0.000000  41324.000000      0.000000      0.000000       0.000000  \n",
       "25%        0.000000  41326.000000      0.000000      2.000000       2.000000  \n",
       "50%        0.000000  41326.000000      0.000000      3.000000       2.000000  \n",
       "75%        0.000000  41401.000000      0.000000      5.000000       4.000000  \n",
       "max     3000.000000  41415.000000      8.000000     30.000000       4.000000  "
      ]
     },
     "execution_count": 99,
     "metadata": {},
     "output_type": "execute_result"
    }
   ],
   "source": [
    "data.describe()"
   ]
  },
  {
   "cell_type": "code",
   "execution_count": 100,
   "metadata": {},
   "outputs": [
    {
     "data": {
      "text/plain": [
       "Type                0\n",
       "Name             1257\n",
       "Age                 0\n",
       "Breed1              0\n",
       "Breed2              0\n",
       "Gender              0\n",
       "Color1              0\n",
       "Color2              0\n",
       "Color3              0\n",
       "MaturitySize        0\n",
       "FurLength           0\n",
       "Vaccinated          0\n",
       "Dewormed            0\n",
       "Sterilized          0\n",
       "Health              0\n",
       "Quantity            0\n",
       "Fee                 0\n",
       "State               0\n",
       "RescuerID           0\n",
       "VideoAmt            0\n",
       "Description        12\n",
       "PetID               0\n",
       "PhotoAmt            0\n",
       "AdoptionSpeed       0\n",
       "dtype: int64"
      ]
     },
     "execution_count": 100,
     "metadata": {},
     "output_type": "execute_result"
    }
   ],
   "source": [
    "data.isna().sum()"
   ]
  },
  {
   "cell_type": "markdown",
   "metadata": {},
   "source": [
    "## Spliting Data"
   ]
  },
  {
   "cell_type": "code",
   "execution_count": 101,
   "metadata": {},
   "outputs": [],
   "source": [
    "cols_train = ['Age', 'Type', 'Gender', 'MaturitySize', 'FurLength', 'Vaccinated', 'Dewormed', 'Sterilized', 'Health', 'AdoptionSpeed']\n",
    "train_data = data[cols_train]\n",
    "X = train_data.drop('AdoptionSpeed', axis=1)\n",
    "y = train_data['AdoptionSpeed'] "
   ]
  },
  {
   "cell_type": "code",
   "execution_count": 102,
   "metadata": {},
   "outputs": [
    {
     "data": {
      "text/html": [
       "<div>\n",
       "<style scoped>\n",
       "    .dataframe tbody tr th:only-of-type {\n",
       "        vertical-align: middle;\n",
       "    }\n",
       "\n",
       "    .dataframe tbody tr th {\n",
       "        vertical-align: top;\n",
       "    }\n",
       "\n",
       "    .dataframe thead th {\n",
       "        text-align: right;\n",
       "    }\n",
       "</style>\n",
       "<table border=\"1\" class=\"dataframe\">\n",
       "  <thead>\n",
       "    <tr style=\"text-align: right;\">\n",
       "      <th></th>\n",
       "      <th>Age</th>\n",
       "      <th>Type</th>\n",
       "      <th>Gender</th>\n",
       "      <th>MaturitySize</th>\n",
       "      <th>FurLength</th>\n",
       "      <th>Vaccinated</th>\n",
       "      <th>Dewormed</th>\n",
       "      <th>Sterilized</th>\n",
       "      <th>Health</th>\n",
       "    </tr>\n",
       "  </thead>\n",
       "  <tbody>\n",
       "    <tr>\n",
       "      <th>0</th>\n",
       "      <td>3</td>\n",
       "      <td>2</td>\n",
       "      <td>1</td>\n",
       "      <td>1</td>\n",
       "      <td>1</td>\n",
       "      <td>2</td>\n",
       "      <td>2</td>\n",
       "      <td>2</td>\n",
       "      <td>1</td>\n",
       "    </tr>\n",
       "    <tr>\n",
       "      <th>1</th>\n",
       "      <td>1</td>\n",
       "      <td>2</td>\n",
       "      <td>1</td>\n",
       "      <td>2</td>\n",
       "      <td>2</td>\n",
       "      <td>3</td>\n",
       "      <td>3</td>\n",
       "      <td>3</td>\n",
       "      <td>1</td>\n",
       "    </tr>\n",
       "    <tr>\n",
       "      <th>2</th>\n",
       "      <td>1</td>\n",
       "      <td>1</td>\n",
       "      <td>1</td>\n",
       "      <td>2</td>\n",
       "      <td>2</td>\n",
       "      <td>1</td>\n",
       "      <td>1</td>\n",
       "      <td>2</td>\n",
       "      <td>1</td>\n",
       "    </tr>\n",
       "    <tr>\n",
       "      <th>3</th>\n",
       "      <td>4</td>\n",
       "      <td>1</td>\n",
       "      <td>2</td>\n",
       "      <td>2</td>\n",
       "      <td>1</td>\n",
       "      <td>1</td>\n",
       "      <td>1</td>\n",
       "      <td>2</td>\n",
       "      <td>1</td>\n",
       "    </tr>\n",
       "    <tr>\n",
       "      <th>4</th>\n",
       "      <td>1</td>\n",
       "      <td>1</td>\n",
       "      <td>1</td>\n",
       "      <td>2</td>\n",
       "      <td>1</td>\n",
       "      <td>2</td>\n",
       "      <td>2</td>\n",
       "      <td>2</td>\n",
       "      <td>1</td>\n",
       "    </tr>\n",
       "  </tbody>\n",
       "</table>\n",
       "</div>"
      ],
      "text/plain": [
       "   Age  Type  Gender  MaturitySize  FurLength  Vaccinated  Dewormed  \\\n",
       "0    3     2       1             1          1           2         2   \n",
       "1    1     2       1             2          2           3         3   \n",
       "2    1     1       1             2          2           1         1   \n",
       "3    4     1       2             2          1           1         1   \n",
       "4    1     1       1             2          1           2         2   \n",
       "\n",
       "   Sterilized  Health  \n",
       "0           2       1  \n",
       "1           3       1  \n",
       "2           2       1  \n",
       "3           2       1  \n",
       "4           2       1  "
      ]
     },
     "execution_count": 102,
     "metadata": {},
     "output_type": "execute_result"
    }
   ],
   "source": [
    "X.head()"
   ]
  },
  {
   "cell_type": "code",
   "execution_count": 103,
   "metadata": {},
   "outputs": [
    {
     "data": {
      "text/plain": [
       "0    2\n",
       "1    0\n",
       "2    3\n",
       "3    2\n",
       "4    2\n",
       "Name: AdoptionSpeed, dtype: int64"
      ]
     },
     "execution_count": 103,
     "metadata": {},
     "output_type": "execute_result"
    }
   ],
   "source": [
    "y.head()"
   ]
  },
  {
   "cell_type": "markdown",
   "metadata": {},
   "source": [
    "## Modify Data\n",
    "\n",
    "Vaccinated - Pet has been vaccinated (1 = Yes, 2 = No, 3 = Not Sure)\n",
    "\n",
    "Dewormed - Pet has been dewormed (1 = Yes, 2 = No, 3 = Not Sure)\n",
    "\n",
    "Sterilized - Pet has been spayed / neutered (1 = Yes, 2 = No, 3 = Not Sure)\n",
    "\n",
    "1 = YES\n",
    "\n",
    "0 = NO and NOT SURE"
   ]
  },
  {
   "cell_type": "code",
   "execution_count": 104,
   "metadata": {},
   "outputs": [],
   "source": [
    "X['Vaccinated'] = X.Vaccinated.map(lambda x : 0 if x >= 2 else 1)\n",
    "X['Dewormed'] = X.Dewormed.map(lambda x : 0 if x >= 2 else 1)\n",
    "X['Sterilized'] = X.Sterilized.map(lambda x : 0 if x >= 2 else 1)"
   ]
  },
  {
   "cell_type": "code",
   "execution_count": 105,
   "metadata": {},
   "outputs": [
    {
     "data": {
      "text/plain": [
       "Age             106\n",
       "Type              2\n",
       "Gender            3\n",
       "MaturitySize      4\n",
       "FurLength         3\n",
       "Vaccinated        2\n",
       "Dewormed          2\n",
       "Sterilized        2\n",
       "Health            3\n",
       "dtype: int64"
      ]
     },
     "execution_count": 105,
     "metadata": {},
     "output_type": "execute_result"
    }
   ],
   "source": [
    "X.nunique()"
   ]
  },
  {
   "cell_type": "code",
   "execution_count": 106,
   "metadata": {},
   "outputs": [],
   "source": [
    "yy = pd.get_dummies(y)"
   ]
  },
  {
   "cell_type": "markdown",
   "metadata": {},
   "source": [
    "## Split into train and validation"
   ]
  },
  {
   "cell_type": "code",
   "execution_count": 107,
   "metadata": {},
   "outputs": [],
   "source": [
    "from sklearn.preprocessing import StandardScaler\n",
    "from sklearn.model_selection import train_test_split"
   ]
  },
  {
   "cell_type": "code",
   "execution_count": 108,
   "metadata": {},
   "outputs": [],
   "source": [
    "X_train, X_valid, y_train, y_valid = train_test_split(X, yy, test_size=0.2, random_state=49)"
   ]
  },
  {
   "cell_type": "code",
   "execution_count": 110,
   "metadata": {},
   "outputs": [],
   "source": [
    "scale = StandardScaler()"
   ]
  },
  {
   "cell_type": "code",
   "execution_count": 111,
   "metadata": {},
   "outputs": [],
   "source": [
    "X_train_s = scale.fit_transform(X_train)\n",
    "X_valid_s = scale.transform(X_valid)"
   ]
  },
  {
   "cell_type": "markdown",
   "metadata": {},
   "source": [
    "## Models"
   ]
  },
  {
   "cell_type": "code",
   "execution_count": 112,
   "metadata": {},
   "outputs": [],
   "source": [
    "from tensorflow import keras\n",
    "from tensorflow.keras import layers"
   ]
  },
  {
   "cell_type": "code",
   "execution_count": 113,
   "metadata": {},
   "outputs": [],
   "source": [
    "model = keras.Sequential([\n",
    "    layers.Dense(10, activation='relu', input_shape=[len(cols_train)-1]),\n",
    "    layers.Dense(10, activation='relu'),\n",
    "    layers.Dropout(0.3),\n",
    "    layers.Dense(10, activation='relu'),\n",
    "    layers.Dense(5, activation='softmax') # 0, 1, 2, 3 ou 4\n",
    "])"
   ]
  },
  {
   "cell_type": "code",
   "execution_count": 114,
   "metadata": {},
   "outputs": [],
   "source": [
    "model.compile(optimizer='adam', loss='categorical_crossentropy', metrics=['accuracy'])"
   ]
  },
  {
   "cell_type": "code",
   "execution_count": 115,
   "metadata": {},
   "outputs": [],
   "source": [
    "early_stopping = keras.callbacks.EarlyStopping(\n",
    "    patience=5,\n",
    "    min_delta=0.001,\n",
    "    restore_best_weights=True,\n",
    ")"
   ]
  },
  {
   "cell_type": "code",
   "execution_count": 116,
   "metadata": {},
   "outputs": [
    {
     "name": "stdout",
     "output_type": "stream",
     "text": [
      "Epoch 1/200\n",
      "24/24 [==============================] - 3s 16ms/step - loss: 2.2692 - accuracy: 0.3167 - val_loss: 1.7403 - val_accuracy: 0.3478\n",
      "Epoch 2/200\n",
      "24/24 [==============================] - 0s 4ms/step - loss: 1.8561 - accuracy: 0.2999 - val_loss: 1.6216 - val_accuracy: 0.3221\n",
      "Epoch 3/200\n",
      "24/24 [==============================] - 0s 4ms/step - loss: 1.6921 - accuracy: 0.2851 - val_loss: 1.5516 - val_accuracy: 0.3324\n",
      "Epoch 4/200\n",
      "24/24 [==============================] - 0s 4ms/step - loss: 1.5865 - accuracy: 0.2991 - val_loss: 1.4969 - val_accuracy: 0.3471\n",
      "Epoch 5/200\n",
      "24/24 [==============================] - 0s 4ms/step - loss: 1.5311 - accuracy: 0.3027 - val_loss: 1.4686 - val_accuracy: 0.3518\n",
      "Epoch 6/200\n",
      "24/24 [==============================] - 0s 3ms/step - loss: 1.5003 - accuracy: 0.3052 - val_loss: 1.4554 - val_accuracy: 0.3531\n",
      "Epoch 7/200\n",
      "24/24 [==============================] - 0s 4ms/step - loss: 1.4838 - accuracy: 0.3011 - val_loss: 1.4488 - val_accuracy: 0.3575\n",
      "Epoch 8/200\n",
      "24/24 [==============================] - 0s 4ms/step - loss: 1.4783 - accuracy: 0.3001 - val_loss: 1.4461 - val_accuracy: 0.3578\n",
      "Epoch 9/200\n",
      "24/24 [==============================] - 0s 3ms/step - loss: 1.4716 - accuracy: 0.3072 - val_loss: 1.4412 - val_accuracy: 0.3568\n",
      "Epoch 10/200\n",
      "24/24 [==============================] - 0s 4ms/step - loss: 1.4678 - accuracy: 0.3080 - val_loss: 1.4402 - val_accuracy: 0.3628\n",
      "Epoch 11/200\n",
      "24/24 [==============================] - 0s 5ms/step - loss: 1.4646 - accuracy: 0.3118 - val_loss: 1.4402 - val_accuracy: 0.3595\n",
      "Epoch 12/200\n",
      "24/24 [==============================] - 0s 4ms/step - loss: 1.4615 - accuracy: 0.3111 - val_loss: 1.4369 - val_accuracy: 0.3628\n",
      "Epoch 13/200\n",
      "24/24 [==============================] - 0s 3ms/step - loss: 1.4614 - accuracy: 0.3084 - val_loss: 1.4352 - val_accuracy: 0.3631\n",
      "Epoch 14/200\n",
      "24/24 [==============================] - 0s 4ms/step - loss: 1.4597 - accuracy: 0.3181 - val_loss: 1.4351 - val_accuracy: 0.3638\n",
      "Epoch 15/200\n",
      "24/24 [==============================] - 0s 4ms/step - loss: 1.4555 - accuracy: 0.3242 - val_loss: 1.4340 - val_accuracy: 0.3635\n",
      "Epoch 16/200\n",
      "24/24 [==============================] - 0s 4ms/step - loss: 1.4548 - accuracy: 0.3263 - val_loss: 1.4319 - val_accuracy: 0.3618\n",
      "Epoch 17/200\n",
      "24/24 [==============================] - 0s 5ms/step - loss: 1.4500 - accuracy: 0.3241 - val_loss: 1.4297 - val_accuracy: 0.3618\n",
      "Epoch 18/200\n",
      "24/24 [==============================] - 0s 4ms/step - loss: 1.4495 - accuracy: 0.3222 - val_loss: 1.4333 - val_accuracy: 0.3641\n",
      "Epoch 19/200\n",
      "24/24 [==============================] - 0s 3ms/step - loss: 1.4445 - accuracy: 0.3282 - val_loss: 1.4281 - val_accuracy: 0.3651\n",
      "Epoch 20/200\n",
      "24/24 [==============================] - 0s 4ms/step - loss: 1.4448 - accuracy: 0.3307 - val_loss: 1.4272 - val_accuracy: 0.3635\n",
      "Epoch 21/200\n",
      "24/24 [==============================] - 0s 4ms/step - loss: 1.4409 - accuracy: 0.3316 - val_loss: 1.4296 - val_accuracy: 0.3631\n",
      "Epoch 22/200\n",
      "24/24 [==============================] - 0s 5ms/step - loss: 1.4437 - accuracy: 0.3294 - val_loss: 1.4295 - val_accuracy: 0.3645\n",
      "Epoch 23/200\n",
      "24/24 [==============================] - 0s 5ms/step - loss: 1.4426 - accuracy: 0.3292 - val_loss: 1.4295 - val_accuracy: 0.3641\n",
      "Epoch 24/200\n",
      "24/24 [==============================] - 0s 4ms/step - loss: 1.4394 - accuracy: 0.3305 - val_loss: 1.4261 - val_accuracy: 0.3661\n",
      "Epoch 25/200\n",
      "24/24 [==============================] - 0s 4ms/step - loss: 1.4391 - accuracy: 0.3296 - val_loss: 1.4257 - val_accuracy: 0.3658\n",
      "Epoch 26/200\n",
      "24/24 [==============================] - 0s 4ms/step - loss: 1.4404 - accuracy: 0.3298 - val_loss: 1.4240 - val_accuracy: 0.3655\n",
      "Epoch 27/200\n",
      "24/24 [==============================] - 0s 8ms/step - loss: 1.4372 - accuracy: 0.3292 - val_loss: 1.4238 - val_accuracy: 0.3668\n",
      "Epoch 28/200\n",
      "24/24 [==============================] - 0s 5ms/step - loss: 1.4392 - accuracy: 0.3378 - val_loss: 1.4252 - val_accuracy: 0.3658\n",
      "Epoch 29/200\n",
      "24/24 [==============================] - 0s 10ms/step - loss: 1.4368 - accuracy: 0.3410 - val_loss: 1.4261 - val_accuracy: 0.3665\n",
      "Epoch 30/200\n",
      "24/24 [==============================] - 0s 9ms/step - loss: 1.4343 - accuracy: 0.3423 - val_loss: 1.4216 - val_accuracy: 0.3671\n",
      "Epoch 31/200\n",
      "24/24 [==============================] - 0s 8ms/step - loss: 1.4351 - accuracy: 0.3368 - val_loss: 1.4223 - val_accuracy: 0.3678\n",
      "Epoch 32/200\n",
      "24/24 [==============================] - 0s 6ms/step - loss: 1.4345 - accuracy: 0.3383 - val_loss: 1.4226 - val_accuracy: 0.3688\n",
      "Epoch 33/200\n",
      "24/24 [==============================] - 0s 6ms/step - loss: 1.4338 - accuracy: 0.3434 - val_loss: 1.4216 - val_accuracy: 0.3691\n",
      "Epoch 34/200\n",
      "24/24 [==============================] - 0s 8ms/step - loss: 1.4356 - accuracy: 0.3351 - val_loss: 1.4196 - val_accuracy: 0.3668\n",
      "Epoch 35/200\n",
      "24/24 [==============================] - 0s 9ms/step - loss: 1.4327 - accuracy: 0.3384 - val_loss: 1.4195 - val_accuracy: 0.3705\n",
      "Epoch 36/200\n",
      "24/24 [==============================] - 0s 8ms/step - loss: 1.4332 - accuracy: 0.3404 - val_loss: 1.4210 - val_accuracy: 0.3681\n",
      "Epoch 37/200\n",
      "24/24 [==============================] - 0s 5ms/step - loss: 1.4323 - accuracy: 0.3448 - val_loss: 1.4212 - val_accuracy: 0.3678\n",
      "Epoch 38/200\n",
      "24/24 [==============================] - 0s 5ms/step - loss: 1.4317 - accuracy: 0.3392 - val_loss: 1.4201 - val_accuracy: 0.3695\n",
      "Epoch 39/200\n",
      "24/24 [==============================] - 0s 5ms/step - loss: 1.4314 - accuracy: 0.3428 - val_loss: 1.4167 - val_accuracy: 0.3675\n",
      "Epoch 40/200\n",
      "24/24 [==============================] - 0s 5ms/step - loss: 1.4320 - accuracy: 0.3393 - val_loss: 1.4175 - val_accuracy: 0.3685\n",
      "Epoch 41/200\n",
      "24/24 [==============================] - 0s 6ms/step - loss: 1.4306 - accuracy: 0.3395 - val_loss: 1.4174 - val_accuracy: 0.3725\n",
      "Epoch 42/200\n",
      "24/24 [==============================] - 0s 12ms/step - loss: 1.4300 - accuracy: 0.3459 - val_loss: 1.4196 - val_accuracy: 0.3678\n",
      "Epoch 43/200\n",
      "24/24 [==============================] - 0s 7ms/step - loss: 1.4283 - accuracy: 0.3448 - val_loss: 1.4196 - val_accuracy: 0.3675\n",
      "Epoch 44/200\n",
      "24/24 [==============================] - 0s 5ms/step - loss: 1.4313 - accuracy: 0.3420 - val_loss: 1.4153 - val_accuracy: 0.3685\n",
      "Epoch 45/200\n",
      "24/24 [==============================] - 0s 7ms/step - loss: 1.4274 - accuracy: 0.3423 - val_loss: 1.4157 - val_accuracy: 0.3715\n",
      "Epoch 46/200\n",
      "24/24 [==============================] - 0s 5ms/step - loss: 1.4277 - accuracy: 0.3459 - val_loss: 1.4153 - val_accuracy: 0.3711\n",
      "Epoch 47/200\n",
      "24/24 [==============================] - 0s 6ms/step - loss: 1.4267 - accuracy: 0.3445 - val_loss: 1.4155 - val_accuracy: 0.3705\n",
      "Epoch 48/200\n",
      "24/24 [==============================] - 0s 5ms/step - loss: 1.4220 - accuracy: 0.3524 - val_loss: 1.4160 - val_accuracy: 0.3701\n",
      "Epoch 49/200\n",
      "24/24 [==============================] - 0s 5ms/step - loss: 1.4268 - accuracy: 0.3528 - val_loss: 1.4160 - val_accuracy: 0.3688\n"
     ]
    },
    {
     "data": {
      "text/plain": [
       "<AxesSubplot:title={'center':'Accuracy'}>"
      ]
     },
     "execution_count": 116,
     "metadata": {},
     "output_type": "execute_result"
    },
    {
     "data": {
      "image/png": "[encoded data removed]",
      "text/plain": [
       "<Figure size 432x288 with 1 Axes>"
      ]
     },
     "metadata": {
      "needs_background": "light"
     },
     "output_type": "display_data"
    },
    {
     "data": {
      "image/png": "[encoded data removed]",
      "text/plain": [
       "<Figure size 432x288 with 1 Axes>"
      ]
     },
     "metadata": {
      "needs_background": "light"
     },
     "output_type": "display_data"
    }
   ],
   "source": [
    "history = model.fit(\n",
    "    X_train, y_train,\n",
    "    validation_data=(X_valid, y_valid),\n",
    "    batch_size=512,\n",
    "    epochs=200,\n",
    "    callbacks=[early_stopping],\n",
    "    verbose=1\n",
    ")\n",
    "\n",
    "history_df = pd.DataFrame(history.history)\n",
    "history_df.loc[:, ['loss', 'val_loss']].plot(title=\"Cross-entropy\")\n",
    "history_df.loc[:, ['accuracy', 'val_accuracy']].plot(title=\"Accuracy\")"
   ]
  },
  {
   "cell_type": "code",
   "execution_count": 124,
   "metadata": {},
   "outputs": [
    {
     "name": "stdout",
     "output_type": "stream",
     "text": [
      "Running final scoring on test data\n",
      "94/94 [==============================] - 0s 1ms/step - loss: 1.4153 - accuracy: 0.3685\n",
      "The accuracy for this model is  0.37\n"
     ]
    }
   ],
   "source": [
    "print (\"Running final scoring on test data\")\n",
    "score = model.evaluate(X_valid, y_valid, verbose=1)\n",
    "print (\"The accuracy for this model is \", format(score[1], \",.2f\"))"
   ]
  },
  {
   "cell_type": "markdown",
   "metadata": {},
   "source": [
    "## Test Data"
   ]
  },
  {
   "cell_type": "code",
   "execution_count": 126,
   "metadata": {},
   "outputs": [],
   "source": [
    "import numpy as np"
   ]
  },
  {
   "cell_type": "code",
   "execution_count": 127,
   "metadata": {},
   "outputs": [],
   "source": [
    "test = pd.read_csv('data/test.csv')"
   ]
  },
  {
   "cell_type": "code",
   "execution_count": 128,
   "metadata": {},
   "outputs": [],
   "source": [
    "test_data = test[cols_train[0:len(cols_train)-1]] # not getting AdoptionSpeed"
   ]
  },
  {
   "cell_type": "code",
   "execution_count": 129,
   "metadata": {},
   "outputs": [],
   "source": [
    "test_data = scale.fit_transform(test_data)"
   ]
  },
  {
   "cell_type": "code",
   "execution_count": 130,
   "metadata": {},
   "outputs": [
    {
     "name": "stdout",
     "output_type": "stream",
     "text": [
      "125/125 [==============================] - 0s 1ms/step\n"
     ]
    },
    {
     "data": {
      "text/plain": [
       "array([4, 1, 1, ..., 2, 2, 2], dtype=int64)"
      ]
     },
     "execution_count": 130,
     "metadata": {},
     "output_type": "execute_result"
    }
   ],
   "source": [
    "score = model.predict(test_data, verbose=1)\n",
    "# returns indices of the max element of the array in a particular axis.\n",
    "predictions = np.argmax(score,axis=1)\n",
    "predictions"
   ]
  },
  {
   "cell_type": "code",
   "execution_count": 131,
   "metadata": {},
   "outputs": [],
   "source": [
    "submission = pd.DataFrame({'PetID' : test.PetID})\n",
    "submission['AdoptionSpeed'] = predictions"
   ]
  },
  {
   "cell_type": "code",
   "execution_count": 133,
   "metadata": {},
   "outputs": [
    {
     "data": {
      "text/html": [
       "<div>\n",
       "<style scoped>\n",
       "    .dataframe tbody tr th:only-of-type {\n",
       "        vertical-align: middle;\n",
       "    }\n",
       "\n",
       "    .dataframe tbody tr th {\n",
       "        vertical-align: top;\n",
       "    }\n",
       "\n",
       "    .dataframe thead th {\n",
       "        text-align: right;\n",
       "    }\n",
       "</style>\n",
       "<table border=\"1\" class=\"dataframe\">\n",
       "  <thead>\n",
       "    <tr style=\"text-align: right;\">\n",
       "      <th></th>\n",
       "      <th>PetID</th>\n",
       "      <th>AdoptionSpeed</th>\n",
       "    </tr>\n",
       "  </thead>\n",
       "  <tbody>\n",
       "    <tr>\n",
       "      <th>0</th>\n",
       "      <td>e2dfc2935</td>\n",
       "      <td>4</td>\n",
       "    </tr>\n",
       "    <tr>\n",
       "      <th>1</th>\n",
       "      <td>f153b465f</td>\n",
       "      <td>1</td>\n",
       "    </tr>\n",
       "    <tr>\n",
       "      <th>2</th>\n",
       "      <td>3c90f3f54</td>\n",
       "      <td>1</td>\n",
       "    </tr>\n",
       "    <tr>\n",
       "      <th>3</th>\n",
       "      <td>e02abc8a3</td>\n",
       "      <td>2</td>\n",
       "    </tr>\n",
       "    <tr>\n",
       "      <th>4</th>\n",
       "      <td>09f0df7d1</td>\n",
       "      <td>1</td>\n",
       "    </tr>\n",
       "    <tr>\n",
       "      <th>5</th>\n",
       "      <td>0487529d4</td>\n",
       "      <td>1</td>\n",
       "    </tr>\n",
       "    <tr>\n",
       "      <th>6</th>\n",
       "      <td>bae7c4b1c</td>\n",
       "      <td>1</td>\n",
       "    </tr>\n",
       "    <tr>\n",
       "      <th>7</th>\n",
       "      <td>548bcf206</td>\n",
       "      <td>1</td>\n",
       "    </tr>\n",
       "    <tr>\n",
       "      <th>8</th>\n",
       "      <td>0f82cea1e</td>\n",
       "      <td>1</td>\n",
       "    </tr>\n",
       "    <tr>\n",
       "      <th>9</th>\n",
       "      <td>a3787f15e</td>\n",
       "      <td>4</td>\n",
       "    </tr>\n",
       "  </tbody>\n",
       "</table>\n",
       "</div>"
      ],
      "text/plain": [
       "       PetID  AdoptionSpeed\n",
       "0  e2dfc2935              4\n",
       "1  f153b465f              1\n",
       "2  3c90f3f54              1\n",
       "3  e02abc8a3              2\n",
       "4  09f0df7d1              1\n",
       "5  0487529d4              1\n",
       "6  bae7c4b1c              1\n",
       "7  548bcf206              1\n",
       "8  0f82cea1e              1\n",
       "9  a3787f15e              4"
      ]
     },
     "execution_count": 133,
     "metadata": {},
     "output_type": "execute_result"
    }
   ],
   "source": [
    "submission.to_csv(\"submission.csv\", index=False, header=True)\n",
    "\n",
    "submission.head(10)"
   ]
  }
 ],
 "metadata": {
  "kernelspec": {
   "display_name": "Python 3",
   "language": "python",
   "name": "python3"
  },
  "language_info": {
   "codemirror_mode": {
    "name": "ipython",
    "version": 3
   },
   "file_extension": ".py",
   "mimetype": "text/x-python",
   "name": "python",
   "nbconvert_exporter": "python",
   "pygments_lexer": "ipython3",
   "version": "3.6.8"
  }
 },
 "nbformat": 4,
 "nbformat_minor": 5
}
