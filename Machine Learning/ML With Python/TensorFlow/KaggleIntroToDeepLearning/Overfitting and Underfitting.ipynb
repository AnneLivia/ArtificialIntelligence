{
 "cells": [
  {
   "cell_type": "markdown",
   "id": "61ad9794",
   "metadata": {},
   "source": [
    "# Introduction\n",
    "\n",
    "Recall from the example in the previous lesson that Keras will keep a history of the training and validation loss over the epochs that it is training the model. In this lesson, we're going to learn how to interpret these learning curves and how we can use them to guide model development. In particular, we'll examine at the learning curves for evidence of underfitting and overfitting and look at a couple of strategies for correcting it.\n",
    "\n",
    "# Interpreting the Learning Curves\n",
    "\n",
    "You might think about the information in the training data as being of two kinds: **signal and noise**. The **signal** is the part that generalizes, the part that can help our model make predictions from new data. The **noise** is that **part that is only true of the training data**; the noise is all of the random fluctuation that comes from data in the real-world or all of the incidental, non-informative patterns that can't actually help the model make predictions. The noise is the part might look useful but really isn't.\n",
    "\n",
    "We train a model by choosing weights or parameters that minimize the loss on a training set. You might know, however, that to accurately assess a model's performance, we need to evaluate it on a new set of data, the validation data. (You could see our lesson on model validation in Introduction to Machine Learning for a review.)\n",
    "\n",
    "When we train a model we've been plotting the loss on the training set epoch by epoch. To this we'll add a plot the validation data too. These plots we call the learning curves. To train deep learning models effectively, we need to be able to interpret them.\n",
    "\n",
    "<img src=\"https://i.imgur.com/tHiVFnM.png\"/>\n",
    "\n",
    "**The validation loss gives an estimate of the expected error on unseen data.**\n",
    "\n",
    "Now, the training loss will go down either when the model learns signal or when it learns noise. **But the validation loss will go down only when the model learns signal**. (Whatever noise the model learned from the training set won't generalize to new data.) So, when a model learns signal both curves go down, ***but when it learns noise a gap is created in the curves*. The size of the gap tells you how much noise the model has learned**.\n",
    "\n",
    "Ideally, we would create models that learn all of the signal and none of the noise. This will practically never happen. Instead we make a trade. We can get the model to learn more signal at the cost of learning more noise. So long as the trade is in our favor, the validation loss will continue to decrease. After a certain point, however, the trade can turn against us, the cost exceeds the benefit, and the validation loss begins to rise.\n",
    "\n",
    "<img src=\"https://i.imgur.com/eUF6mfo.png\"/>\n",
    "\n",
    "This trade-off indicates that there can be two problems that occur when training a model: not enough signal or too much noise. **Underfitting the training set is when the loss is not as low as it could be because the model hasn't learned enough signal**. **Overfitting the training set is when the loss is not as low as it could be because the model learned too much noise**. The trick to training deep learning models is finding **the best balance between the two**.\n",
    "\n",
    "We'll look at a couple ways of getting more signal out of the training data while reducing the amount of noise.\n",
    "\n",
    "# Capacity\n",
    "\n",
    "**A model's *capacity* refers to the size and complexity of the patterns it is able to learn.**\n",
    "\n",
    "For neural networks, this will largely be **determined by how many neurons it has and how they are connected together**. If it appears that your network is underfitting the data, you should try increasing its capacity.\n",
    "\n",
    "You can increase the capacity of a network either by making it wider (more units to existing layers) or by making it deeper (adding more layers). Wider networks have an easier time learning more linear relationships, while deeper networks prefer more nonlinear ones. Which is better just depends on the dataset.\n",
    "\n",
    "'''\n",
    "    \n",
    "    model = keras.Sequential([\n",
    "        layers.Dense(16, activation='relu'),\n",
    "        layers.Dense(1),\n",
    "    ])\n",
    "\n",
    "    wider = keras.Sequential([\n",
    "        layers.Dense(32, activation='relu'),\n",
    "        layers.Dense(1),\n",
    "    ])\n",
    "\n",
    "    deeper = keras.Sequential([\n",
    "        layers.Dense(16, activation='relu'),\n",
    "        layers.Dense(16, activation='relu'),\n",
    "        layers.Dense(1),\n",
    "    ])\n",
    "'''\n",
    "\n",
    "You'll explore how the capacity of a network can affect its performance in the exercise.\n",
    "\n",
    "# Early Stopping\n",
    "\n",
    "We mentioned that when a model is too eagerly learning noise, the validation loss may start to increase during training. To prevent this, **we can simply stop the training whenever it seems the validation loss isn't decreasing anymore**. Interrupting the training this way is called **early stopping**.\n",
    "\n",
    "<img src=\"https://i.imgur.com/eP0gppr.png\"/>\n",
    "\n",
    "*We keep the model where the validation loss is at a minimum.*\n",
    "\n",
    "Once we detect that the validation loss is starting to rise again, we can reset the weights back to where the minimum occured. This ensures that the model won't continue to learn noise and overfit the data.\n",
    "\n",
    "Training with early stopping also means we're in less danger of stopping the training too early, before the network has finished learning signal. **So besides preventing overfitting from training too long, early stopping can also prevent underfitting from not training long enough**. Just set your training epochs to some large number (more than you'll need), and early stopping will take care of the rest.\n",
    "\n",
    "# Adding Early Stopping\n",
    "\n",
    "In Keras, we include early stopping in our training through a callback. A callback is just a function you want run every so often while the network trains. The early stopping callback will run after every epoch. (Keras has a variety of useful callbacks pre-defined, but you can define your own, too.)\n"
   ]
  },
  {
   "cell_type": "code",
   "execution_count": 1,
   "id": "aa4ad940",
   "metadata": {},
   "outputs": [],
   "source": [
    "from tensorflow.keras.callbacks import EarlyStopping # Stop training when a monitored metric has stopped improving."
   ]
  },
  {
   "cell_type": "code",
   "execution_count": 2,
   "id": "7f1ba6e5",
   "metadata": {},
   "outputs": [],
   "source": [
    "early_stopping = EarlyStopping(\n",
    "    min_delta=0.001, # minimium amount of change to count as an improvement\n",
    "    patience=20, # how many epochs to wait before stopping\n",
    "    restore_best_weights=True\n",
    ")"
   ]
  },
  {
   "cell_type": "markdown",
   "id": "6497e624",
   "metadata": {},
   "source": [
    "These parameters say: \"If there hasn't been at least an improvement of 0.001 in the validation loss over the previous 20 epochs, then stop the training and keep the best model you found.\" It can sometimes be hard to tell if the validation loss is rising due to overfitting or just due to random batch variation. **The parameters allow us to set some allowances around when to stop**.\n",
    "\n",
    "As we'll see in our example, we'll pass this callback to the fit method along with the loss and optimizer.\n",
    "\n",
    "# Example - Train a Model with Early Stopping\n",
    "\n",
    "Let's continue developing the model from the example in the last tutorial. We'll increase the capacity of that network but also add an early-stopping callback to prevent overfitting.\n",
    "\n",
    "Here's the data prep again."
   ]
  },
  {
   "cell_type": "code",
   "execution_count": 4,
   "id": "b84e6184",
   "metadata": {},
   "outputs": [
    {
     "data": {
      "text/html": [
       "<div>\n",
       "<style scoped>\n",
       "    .dataframe tbody tr th:only-of-type {\n",
       "        vertical-align: middle;\n",
       "    }\n",
       "\n",
       "    .dataframe tbody tr th {\n",
       "        vertical-align: top;\n",
       "    }\n",
       "\n",
       "    .dataframe thead th {\n",
       "        text-align: right;\n",
       "    }\n",
       "</style>\n",
       "<table border=\"1\" class=\"dataframe\">\n",
       "  <thead>\n",
       "    <tr style=\"text-align: right;\">\n",
       "      <th></th>\n",
       "      <th>fixed acidity</th>\n",
       "      <th>volatile acidity</th>\n",
       "      <th>citric acid</th>\n",
       "      <th>residual sugar</th>\n",
       "      <th>chlorides</th>\n",
       "      <th>free sulfur dioxide</th>\n",
       "      <th>total sulfur dioxide</th>\n",
       "      <th>density</th>\n",
       "      <th>pH</th>\n",
       "      <th>sulphates</th>\n",
       "      <th>alcohol</th>\n",
       "      <th>quality</th>\n",
       "    </tr>\n",
       "  </thead>\n",
       "  <tbody>\n",
       "    <tr>\n",
       "      <th>0</th>\n",
       "      <td>7.4</td>\n",
       "      <td>0.70</td>\n",
       "      <td>0.00</td>\n",
       "      <td>1.9</td>\n",
       "      <td>0.076</td>\n",
       "      <td>11.0</td>\n",
       "      <td>34.0</td>\n",
       "      <td>0.9978</td>\n",
       "      <td>3.51</td>\n",
       "      <td>0.56</td>\n",
       "      <td>9.4</td>\n",
       "      <td>5</td>\n",
       "    </tr>\n",
       "    <tr>\n",
       "      <th>1</th>\n",
       "      <td>7.8</td>\n",
       "      <td>0.88</td>\n",
       "      <td>0.00</td>\n",
       "      <td>2.6</td>\n",
       "      <td>0.098</td>\n",
       "      <td>25.0</td>\n",
       "      <td>67.0</td>\n",
       "      <td>0.9968</td>\n",
       "      <td>3.20</td>\n",
       "      <td>0.68</td>\n",
       "      <td>9.8</td>\n",
       "      <td>5</td>\n",
       "    </tr>\n",
       "    <tr>\n",
       "      <th>2</th>\n",
       "      <td>7.8</td>\n",
       "      <td>0.76</td>\n",
       "      <td>0.04</td>\n",
       "      <td>2.3</td>\n",
       "      <td>0.092</td>\n",
       "      <td>15.0</td>\n",
       "      <td>54.0</td>\n",
       "      <td>0.9970</td>\n",
       "      <td>3.26</td>\n",
       "      <td>0.65</td>\n",
       "      <td>9.8</td>\n",
       "      <td>5</td>\n",
       "    </tr>\n",
       "    <tr>\n",
       "      <th>3</th>\n",
       "      <td>11.2</td>\n",
       "      <td>0.28</td>\n",
       "      <td>0.56</td>\n",
       "      <td>1.9</td>\n",
       "      <td>0.075</td>\n",
       "      <td>17.0</td>\n",
       "      <td>60.0</td>\n",
       "      <td>0.9980</td>\n",
       "      <td>3.16</td>\n",
       "      <td>0.58</td>\n",
       "      <td>9.8</td>\n",
       "      <td>6</td>\n",
       "    </tr>\n",
       "    <tr>\n",
       "      <th>4</th>\n",
       "      <td>7.4</td>\n",
       "      <td>0.70</td>\n",
       "      <td>0.00</td>\n",
       "      <td>1.9</td>\n",
       "      <td>0.076</td>\n",
       "      <td>11.0</td>\n",
       "      <td>34.0</td>\n",
       "      <td>0.9978</td>\n",
       "      <td>3.51</td>\n",
       "      <td>0.56</td>\n",
       "      <td>9.4</td>\n",
       "      <td>5</td>\n",
       "    </tr>\n",
       "  </tbody>\n",
       "</table>\n",
       "</div>"
      ],
      "text/plain": [
       "   fixed acidity  volatile acidity  citric acid  residual sugar  chlorides  \\\n",
       "0            7.4              0.70         0.00             1.9      0.076   \n",
       "1            7.8              0.88         0.00             2.6      0.098   \n",
       "2            7.8              0.76         0.04             2.3      0.092   \n",
       "3           11.2              0.28         0.56             1.9      0.075   \n",
       "4            7.4              0.70         0.00             1.9      0.076   \n",
       "\n",
       "   free sulfur dioxide  total sulfur dioxide  density    pH  sulphates  \\\n",
       "0                 11.0                  34.0   0.9978  3.51       0.56   \n",
       "1                 25.0                  67.0   0.9968  3.20       0.68   \n",
       "2                 15.0                  54.0   0.9970  3.26       0.65   \n",
       "3                 17.0                  60.0   0.9980  3.16       0.58   \n",
       "4                 11.0                  34.0   0.9978  3.51       0.56   \n",
       "\n",
       "   alcohol  quality  \n",
       "0      9.4        5  \n",
       "1      9.8        5  \n",
       "2      9.8        5  \n",
       "3      9.8        6  \n",
       "4      9.4        5  "
      ]
     },
     "execution_count": 4,
     "metadata": {},
     "output_type": "execute_result"
    }
   ],
   "source": [
    "import pandas as pd\n",
    "\n",
    "red_wine = pd.read_csv('data/red-wine.csv')\n",
    "\n",
    "red_wine.head()"
   ]
  },
  {
   "cell_type": "code",
   "execution_count": 7,
   "id": "835b68ed",
   "metadata": {},
   "outputs": [
    {
     "data": {
      "text/html": [
       "<div>\n",
       "<style scoped>\n",
       "    .dataframe tbody tr th:only-of-type {\n",
       "        vertical-align: middle;\n",
       "    }\n",
       "\n",
       "    .dataframe tbody tr th {\n",
       "        vertical-align: top;\n",
       "    }\n",
       "\n",
       "    .dataframe thead th {\n",
       "        text-align: right;\n",
       "    }\n",
       "</style>\n",
       "<table border=\"1\" class=\"dataframe\">\n",
       "  <thead>\n",
       "    <tr style=\"text-align: right;\">\n",
       "      <th></th>\n",
       "      <th>fixed acidity</th>\n",
       "      <th>volatile acidity</th>\n",
       "      <th>citric acid</th>\n",
       "      <th>residual sugar</th>\n",
       "      <th>chlorides</th>\n",
       "      <th>free sulfur dioxide</th>\n",
       "      <th>total sulfur dioxide</th>\n",
       "      <th>density</th>\n",
       "      <th>pH</th>\n",
       "      <th>sulphates</th>\n",
       "      <th>alcohol</th>\n",
       "      <th>quality</th>\n",
       "    </tr>\n",
       "  </thead>\n",
       "  <tbody>\n",
       "    <tr>\n",
       "      <th>1109</th>\n",
       "      <td>10.8</td>\n",
       "      <td>0.470</td>\n",
       "      <td>0.43</td>\n",
       "      <td>2.10</td>\n",
       "      <td>0.171</td>\n",
       "      <td>27.0</td>\n",
       "      <td>66.0</td>\n",
       "      <td>0.99820</td>\n",
       "      <td>3.17</td>\n",
       "      <td>0.76</td>\n",
       "      <td>10.8</td>\n",
       "      <td>6</td>\n",
       "    </tr>\n",
       "    <tr>\n",
       "      <th>1032</th>\n",
       "      <td>8.1</td>\n",
       "      <td>0.820</td>\n",
       "      <td>0.00</td>\n",
       "      <td>4.10</td>\n",
       "      <td>0.095</td>\n",
       "      <td>5.0</td>\n",
       "      <td>14.0</td>\n",
       "      <td>0.99854</td>\n",
       "      <td>3.36</td>\n",
       "      <td>0.53</td>\n",
       "      <td>9.6</td>\n",
       "      <td>5</td>\n",
       "    </tr>\n",
       "    <tr>\n",
       "      <th>1002</th>\n",
       "      <td>9.1</td>\n",
       "      <td>0.290</td>\n",
       "      <td>0.33</td>\n",
       "      <td>2.05</td>\n",
       "      <td>0.063</td>\n",
       "      <td>13.0</td>\n",
       "      <td>27.0</td>\n",
       "      <td>0.99516</td>\n",
       "      <td>3.26</td>\n",
       "      <td>0.84</td>\n",
       "      <td>11.7</td>\n",
       "      <td>7</td>\n",
       "    </tr>\n",
       "    <tr>\n",
       "      <th>487</th>\n",
       "      <td>10.2</td>\n",
       "      <td>0.645</td>\n",
       "      <td>0.36</td>\n",
       "      <td>1.80</td>\n",
       "      <td>0.053</td>\n",
       "      <td>5.0</td>\n",
       "      <td>14.0</td>\n",
       "      <td>0.99820</td>\n",
       "      <td>3.17</td>\n",
       "      <td>0.42</td>\n",
       "      <td>10.0</td>\n",
       "      <td>6</td>\n",
       "    </tr>\n",
       "  </tbody>\n",
       "</table>\n",
       "</div>"
      ],
      "text/plain": [
       "      fixed acidity  volatile acidity  citric acid  residual sugar  chlorides  \\\n",
       "1109           10.8             0.470         0.43            2.10      0.171   \n",
       "1032            8.1             0.820         0.00            4.10      0.095   \n",
       "1002            9.1             0.290         0.33            2.05      0.063   \n",
       "487            10.2             0.645         0.36            1.80      0.053   \n",
       "\n",
       "      free sulfur dioxide  total sulfur dioxide  density    pH  sulphates  \\\n",
       "1109                 27.0                  66.0  0.99820  3.17       0.76   \n",
       "1032                  5.0                  14.0  0.99854  3.36       0.53   \n",
       "1002                 13.0                  27.0  0.99516  3.26       0.84   \n",
       "487                   5.0                  14.0  0.99820  3.17       0.42   \n",
       "\n",
       "      alcohol  quality  \n",
       "1109     10.8        6  \n",
       "1032      9.6        5  \n",
       "1002     11.7        7  \n",
       "487      10.0        6  "
      ]
     },
     "execution_count": 7,
     "metadata": {},
     "output_type": "execute_result"
    }
   ],
   "source": [
    "# Create training and validation splits (70% train)\n",
    "df_train = red_wine.sample(frac=0.7, random_state=0)\n",
    "df_valid = red_wine.drop(df_train.index) # removing the rows that was selected to insert in the df_train\n",
    "df_train.head(4)"
   ]
  },
  {
   "cell_type": "code",
   "execution_count": 9,
   "id": "7977141d",
   "metadata": {},
   "outputs": [],
   "source": [
    "# Scale to [0, 1] all of the collunms\n",
    "max_ = df_train.max(axis=0)\n",
    "min_ = df_train.min(axis=0)\n",
    "df_train = (df_train - min_) / (max_ - min_)\n",
    "df_valid = (df_valid - min_) / (max_ - min_)"
   ]
  },
  {
   "cell_type": "code",
   "execution_count": 10,
   "id": "3783a4e9",
   "metadata": {},
   "outputs": [],
   "source": [
    "# Split features and target\n",
    "X_train = df_train.drop('quality', axis=1)\n",
    "y_train = df_train['quality']\n",
    "X_valid = df_valid.drop('quality', axis=1)\n",
    "y_valid = df_valid['quality']"
   ]
  },
  {
   "cell_type": "markdown",
   "id": "e80b33ba",
   "metadata": {},
   "source": [
    "Now let's increase the capacity of the network. We'll go for a fairly large network, but rely on the callback to halt the training once the validation loss shows signs of increasing."
   ]
  },
  {
   "cell_type": "code",
   "execution_count": 11,
   "id": "6d86cb92",
   "metadata": {},
   "outputs": [],
   "source": [
    "from tensorflow import keras\n",
    "from tensorflow.keras import layers, callbacks"
   ]
  },
  {
   "cell_type": "markdown",
   "id": "efa07d17",
   "metadata": {},
   "source": [
    "patience: Number of epochs with no improvement\n",
    "      after which training will be stopped."
   ]
  },
  {
   "cell_type": "code",
   "execution_count": 13,
   "id": "2390be23",
   "metadata": {},
   "outputs": [],
   "source": [
    "# Creating the callback for early stopping\n",
    "early_stop = callbacks.EarlyStopping (min_delta=0.001, patience=20, restore_best_weights=True)"
   ]
  },
  {
   "cell_type": "code",
   "execution_count": 18,
   "id": "eab791ce",
   "metadata": {},
   "outputs": [],
   "source": [
    "model = keras.Sequential([\n",
    "    layers.Dense(512, activation='relu', input_shape=[X_train.shape[1]]),\n",
    "    layers.Dense(512, activation='relu'),\n",
    "    layers.Dense(512, activation='relu'),\n",
    "    layers.Dense(1)\n",
    "])"
   ]
  },
  {
   "cell_type": "code",
   "execution_count": 19,
   "id": "489b5648",
   "metadata": {},
   "outputs": [],
   "source": [
    "model.compile(\n",
    "    optimizer='adam',\n",
    "    loss='mae'\n",
    ")"
   ]
  },
  {
   "cell_type": "markdown",
   "id": "667c3518",
   "metadata": {},
   "source": [
    "After defining the callback, add it as an argument in fit (you can have several, so put it in a list). Choose a large number of epochs when using early stopping, more than you'll need."
   ]
  },
  {
   "cell_type": "code",
   "execution_count": 20,
   "id": "23bbb99b",
   "metadata": {},
   "outputs": [
    {
     "name": "stdout",
     "output_type": "stream",
     "text": [
      "Epoch 1/500\n",
      "5/5 [==============================] - 4s 99ms/step - loss: 0.2966 - val_loss: 0.1427\n",
      "Epoch 2/500\n",
      "5/5 [==============================] - 0s 30ms/step - loss: 0.1406 - val_loss: 0.1301\n",
      "Epoch 3/500\n",
      "5/5 [==============================] - 0s 27ms/step - loss: 0.1273 - val_loss: 0.1182\n",
      "Epoch 4/500\n",
      "5/5 [==============================] - 0s 26ms/step - loss: 0.1170 - val_loss: 0.1101\n",
      "Epoch 5/500\n",
      "5/5 [==============================] - 0s 29ms/step - loss: 0.1109 - val_loss: 0.1068\n",
      "Epoch 6/500\n",
      "5/5 [==============================] - 0s 30ms/step - loss: 0.1086 - val_loss: 0.1022\n",
      "Epoch 7/500\n",
      "5/5 [==============================] - 0s 26ms/step - loss: 0.1043 - val_loss: 0.1043\n",
      "Epoch 8/500\n",
      "5/5 [==============================] - 0s 28ms/step - loss: 0.1036 - val_loss: 0.1032\n",
      "Epoch 9/500\n",
      "5/5 [==============================] - 0s 25ms/step - loss: 0.1028 - val_loss: 0.1003\n",
      "Epoch 10/500\n",
      "5/5 [==============================] - 0s 25ms/step - loss: 0.1010 - val_loss: 0.1014\n",
      "Epoch 11/500\n",
      "5/5 [==============================] - 0s 29ms/step - loss: 0.1009 - val_loss: 0.0987\n",
      "Epoch 12/500\n",
      "5/5 [==============================] - 0s 29ms/step - loss: 0.0993 - val_loss: 0.0985\n",
      "Epoch 13/500\n",
      "5/5 [==============================] - 0s 28ms/step - loss: 0.0973 - val_loss: 0.1030\n",
      "Epoch 14/500\n",
      "5/5 [==============================] - 0s 31ms/step - loss: 0.0960 - val_loss: 0.0975\n",
      "Epoch 15/500\n",
      "5/5 [==============================] - 0s 25ms/step - loss: 0.0966 - val_loss: 0.0964\n",
      "Epoch 16/500\n",
      "5/5 [==============================] - 0s 24ms/step - loss: 0.0973 - val_loss: 0.1005\n",
      "Epoch 17/500\n",
      "5/5 [==============================] - 0s 26ms/step - loss: 0.1000 - val_loss: 0.1041\n",
      "Epoch 18/500\n",
      "5/5 [==============================] - 0s 27ms/step - loss: 0.0953 - val_loss: 0.1098\n",
      "Epoch 19/500\n",
      "5/5 [==============================] - 0s 26ms/step - loss: 0.0982 - val_loss: 0.0985\n",
      "Epoch 20/500\n",
      "5/5 [==============================] - 0s 25ms/step - loss: 0.0948 - val_loss: 0.0975\n",
      "Epoch 21/500\n",
      "5/5 [==============================] - 0s 27ms/step - loss: 0.0934 - val_loss: 0.0964\n",
      "Epoch 22/500\n",
      "5/5 [==============================] - 0s 28ms/step - loss: 0.0914 - val_loss: 0.0985\n",
      "Epoch 23/500\n",
      "5/5 [==============================] - 0s 25ms/step - loss: 0.0915 - val_loss: 0.1034\n",
      "Epoch 24/500\n",
      "5/5 [==============================] - 0s 25ms/step - loss: 0.0940 - val_loss: 0.1001\n",
      "Epoch 25/500\n",
      "5/5 [==============================] - 0s 25ms/step - loss: 0.0912 - val_loss: 0.0998\n",
      "Epoch 26/500\n",
      "5/5 [==============================] - 0s 27ms/step - loss: 0.0902 - val_loss: 0.0956\n",
      "Epoch 27/500\n",
      "5/5 [==============================] - 0s 25ms/step - loss: 0.0889 - val_loss: 0.0956\n",
      "Epoch 28/500\n",
      "5/5 [==============================] - 0s 35ms/step - loss: 0.0898 - val_loss: 0.0954\n",
      "Epoch 29/500\n",
      "5/5 [==============================] - 0s 27ms/step - loss: 0.0899 - val_loss: 0.0946\n",
      "Epoch 30/500\n",
      "5/5 [==============================] - 0s 28ms/step - loss: 0.0893 - val_loss: 0.0958\n",
      "Epoch 31/500\n",
      "5/5 [==============================] - 0s 27ms/step - loss: 0.0918 - val_loss: 0.1091\n",
      "Epoch 32/500\n",
      "5/5 [==============================] - 0s 26ms/step - loss: 0.0932 - val_loss: 0.1064\n",
      "Epoch 33/500\n",
      "5/5 [==============================] - 0s 26ms/step - loss: 0.0922 - val_loss: 0.0950\n",
      "Epoch 34/500\n",
      "5/5 [==============================] - 0s 27ms/step - loss: 0.0880 - val_loss: 0.0935\n",
      "Epoch 35/500\n",
      "5/5 [==============================] - 0s 29ms/step - loss: 0.0879 - val_loss: 0.0950\n",
      "Epoch 36/500\n",
      "5/5 [==============================] - 0s 25ms/step - loss: 0.0856 - val_loss: 0.0940\n",
      "Epoch 37/500\n",
      "5/5 [==============================] - 0s 27ms/step - loss: 0.0847 - val_loss: 0.0948\n",
      "Epoch 38/500\n",
      "5/5 [==============================] - 0s 29ms/step - loss: 0.0843 - val_loss: 0.0946\n",
      "Epoch 39/500\n",
      "5/5 [==============================] - 0s 26ms/step - loss: 0.0834 - val_loss: 0.0951\n",
      "Epoch 40/500\n",
      "5/5 [==============================] - 0s 26ms/step - loss: 0.0845 - val_loss: 0.0936\n",
      "Epoch 41/500\n",
      "5/5 [==============================] - 0s 26ms/step - loss: 0.0857 - val_loss: 0.0940\n",
      "Epoch 42/500\n",
      "5/5 [==============================] - 0s 29ms/step - loss: 0.0821 - val_loss: 0.0940\n",
      "Epoch 43/500\n",
      "5/5 [==============================] - 0s 26ms/step - loss: 0.0834 - val_loss: 0.0949\n",
      "Epoch 44/500\n",
      "5/5 [==============================] - 0s 25ms/step - loss: 0.0827 - val_loss: 0.0938\n",
      "Epoch 45/500\n",
      "5/5 [==============================] - 0s 27ms/step - loss: 0.0824 - val_loss: 0.0940\n",
      "Epoch 46/500\n",
      "5/5 [==============================] - 0s 26ms/step - loss: 0.0824 - val_loss: 0.0974\n",
      "Epoch 47/500\n",
      "5/5 [==============================] - 0s 29ms/step - loss: 0.0829 - val_loss: 0.0952\n",
      "Epoch 48/500\n",
      "5/5 [==============================] - 0s 25ms/step - loss: 0.0815 - val_loss: 0.1042\n",
      "Epoch 49/500\n",
      "5/5 [==============================] - 0s 26ms/step - loss: 0.0863 - val_loss: 0.0950\n",
      "Epoch 50/500\n",
      "5/5 [==============================] - 0s 25ms/step - loss: 0.0813 - val_loss: 0.0969\n",
      "Epoch 51/500\n",
      "5/5 [==============================] - 0s 28ms/step - loss: 0.0801 - val_loss: 0.0918\n",
      "Epoch 52/500\n",
      "5/5 [==============================] - 0s 30ms/step - loss: 0.0791 - val_loss: 0.0933\n",
      "Epoch 53/500\n",
      "5/5 [==============================] - 0s 27ms/step - loss: 0.0816 - val_loss: 0.0915\n",
      "Epoch 54/500\n",
      "5/5 [==============================] - 0s 27ms/step - loss: 0.0777 - val_loss: 0.0921\n",
      "Epoch 55/500\n",
      "5/5 [==============================] - 0s 26ms/step - loss: 0.0774 - val_loss: 0.0969\n",
      "Epoch 56/500\n",
      "5/5 [==============================] - 0s 32ms/step - loss: 0.0786 - val_loss: 0.0930\n",
      "Epoch 57/500\n",
      "5/5 [==============================] - 0s 27ms/step - loss: 0.0779 - val_loss: 0.0969\n",
      "Epoch 58/500\n",
      "5/5 [==============================] - 0s 27ms/step - loss: 0.0798 - val_loss: 0.0940\n",
      "Epoch 59/500\n",
      "5/5 [==============================] - 0s 27ms/step - loss: 0.0845 - val_loss: 0.1007\n",
      "Epoch 60/500\n",
      "5/5 [==============================] - 0s 30ms/step - loss: 0.0881 - val_loss: 0.1031\n",
      "Epoch 61/500\n",
      "5/5 [==============================] - 0s 27ms/step - loss: 0.0911 - val_loss: 0.0938\n",
      "Epoch 62/500\n",
      "5/5 [==============================] - 0s 27ms/step - loss: 0.0825 - val_loss: 0.0977\n",
      "Epoch 63/500\n",
      "5/5 [==============================] - 0s 31ms/step - loss: 0.0797 - val_loss: 0.0941\n",
      "Epoch 64/500\n",
      "5/5 [==============================] - 0s 26ms/step - loss: 0.0770 - val_loss: 0.0934\n",
      "Epoch 65/500\n",
      "5/5 [==============================] - 0s 28ms/step - loss: 0.0773 - val_loss: 0.0964\n",
      "Epoch 66/500\n",
      "5/5 [==============================] - 0s 27ms/step - loss: 0.0760 - val_loss: 0.0931\n",
      "Epoch 67/500\n",
      "5/5 [==============================] - 0s 26ms/step - loss: 0.0755 - val_loss: 0.0959\n",
      "Epoch 68/500\n",
      "5/5 [==============================] - 0s 29ms/step - loss: 0.0765 - val_loss: 0.0925\n",
      "Epoch 69/500\n",
      "5/5 [==============================] - 0s 24ms/step - loss: 0.0759 - val_loss: 0.0918\n",
      "Epoch 70/500\n",
      "5/5 [==============================] - 0s 36ms/step - loss: 0.0766 - val_loss: 0.0915\n",
      "Epoch 71/500\n",
      "5/5 [==============================] - 0s 27ms/step - loss: 0.0747 - val_loss: 0.0921\n"
     ]
    }
   ],
   "source": [
    "history = model.fit(\n",
    "    X_train, y_train, \n",
    "    validation_data=(X_valid, y_valid),\n",
    "    batch_size = 256, \n",
    "    epochs=500, \n",
    "    callbacks=[early_stop], \n",
    "    verbose=True, \n",
    ")"
   ]
  },
  {
   "cell_type": "code",
   "execution_count": 23,
   "id": "27d17d69",
   "metadata": {},
   "outputs": [],
   "source": [
    "history_df = pd.DataFrame(history.history)"
   ]
  },
  {
   "cell_type": "code",
   "execution_count": 25,
   "id": "2dcbadb6",
   "metadata": {},
   "outputs": [
    {
     "data": {
      "text/html": [
       "<div>\n",
       "<style scoped>\n",
       "    .dataframe tbody tr th:only-of-type {\n",
       "        vertical-align: middle;\n",
       "    }\n",
       "\n",
       "    .dataframe tbody tr th {\n",
       "        vertical-align: top;\n",
       "    }\n",
       "\n",
       "    .dataframe thead th {\n",
       "        text-align: right;\n",
       "    }\n",
       "</style>\n",
       "<table border=\"1\" class=\"dataframe\">\n",
       "  <thead>\n",
       "    <tr style=\"text-align: right;\">\n",
       "      <th></th>\n",
       "      <th>loss</th>\n",
       "      <th>val_loss</th>\n",
       "    </tr>\n",
       "  </thead>\n",
       "  <tbody>\n",
       "    <tr>\n",
       "      <th>0</th>\n",
       "      <td>0.296605</td>\n",
       "      <td>0.142727</td>\n",
       "    </tr>\n",
       "    <tr>\n",
       "      <th>1</th>\n",
       "      <td>0.140557</td>\n",
       "      <td>0.130101</td>\n",
       "    </tr>\n",
       "    <tr>\n",
       "      <th>2</th>\n",
       "      <td>0.127261</td>\n",
       "      <td>0.118222</td>\n",
       "    </tr>\n",
       "    <tr>\n",
       "      <th>3</th>\n",
       "      <td>0.116952</td>\n",
       "      <td>0.110142</td>\n",
       "    </tr>\n",
       "    <tr>\n",
       "      <th>4</th>\n",
       "      <td>0.110940</td>\n",
       "      <td>0.106812</td>\n",
       "    </tr>\n",
       "  </tbody>\n",
       "</table>\n",
       "</div>"
      ],
      "text/plain": [
       "       loss  val_loss\n",
       "0  0.296605  0.142727\n",
       "1  0.140557  0.130101\n",
       "2  0.127261  0.118222\n",
       "3  0.116952  0.110142\n",
       "4  0.110940  0.106812"
      ]
     },
     "execution_count": 25,
     "metadata": {},
     "output_type": "execute_result"
    }
   ],
   "source": [
    "history_df.head()"
   ]
  },
  {
   "cell_type": "code",
   "execution_count": 26,
   "id": "7e37253f",
   "metadata": {},
   "outputs": [
    {
     "data": {
      "text/plain": [
       "<AxesSubplot:>"
      ]
     },
     "execution_count": 26,
     "metadata": {},
     "output_type": "execute_result"
    },
    {
     "data": {
      "image/png": "[encoded data removed]",
      "text/plain": [
       "<Figure size 432x288 with 1 Axes>"
      ]
     },
     "metadata": {
      "needs_background": "light"
     },
     "output_type": "display_data"
    }
   ],
   "source": [
    "history_df.loc[:, ['loss', 'val_loss']].plot()"
   ]
  },
  {
   "cell_type": "code",
   "execution_count": 27,
   "id": "ac4e7deb",
   "metadata": {},
   "outputs": [
    {
     "name": "stdout",
     "output_type": "stream",
     "text": [
      "Minimum validation loss: 0.09146713465452194\n"
     ]
    }
   ],
   "source": [
    "print(\"Minimum validation loss: {}\".format(history_df['val_loss'].min()))"
   ]
  },
  {
   "cell_type": "markdown",
   "id": "5004d517",
   "metadata": {},
   "source": [
    "And sure enough, Keras stopped the training well before the full 500 epochs!\n",
    "\n"
   ]
  },
  {
   "cell_type": "markdown",
   "id": "13f02068",
   "metadata": {},
   "source": [
    "# Exercise"
   ]
  },
  {
   "cell_type": "code",
   "execution_count": 28,
   "id": "ef9ce731",
   "metadata": {},
   "outputs": [],
   "source": [
    "import matplotlib.pyplot as plt\n",
    "plt.style.use('seaborn-whitegrid')\n",
    "# Set Matplotlib defaults\n",
    "plt.rc('figure', autolayout=True)\n",
    "plt.rc('axes', labelweight='bold', labelsize='large',\n",
    "       titleweight='bold', titlesize=18, titlepad=10)\n",
    "plt.rc('animation', html='html5')"
   ]
  },
  {
   "cell_type": "markdown",
   "id": "96f3e0c1",
   "metadata": {},
   "source": [
    "First load the Spotify dataset. Your task will be to predict the **popularity** of a song based on various audio features, like 'tempo', 'danceability', and 'mode'."
   ]
  },
  {
   "cell_type": "markdown",
   "id": "9f078d6f",
   "metadata": {},
   "source": [
    "StandardScaler = Standardize features by removing the mean and scaling to unit variance.\n",
    "\n",
    "The standard score of a sample x is calculated as: z = (x - u) / s. Z-score\n",
    "\n",
    "Many machine learning algorithms perform better when numerical input variables are scaled to a standard range.\n",
    "\n",
    "This includes algorithms that use a weighted sum of the input, like linear regression, and algorithms that use distance measures, like k-nearest neighbors. The two most popular techniques for scaling numerical data prior to modeling are normalization and standardization. Normalization scales each input variable separately to the range 0-1, which is the range for floating-point values where we have the most precision. Standardization scales each input variable separately by subtracting the mean (called centering) and dividing by the standard deviation to shift the distribution to have a mean of zero and a standard deviation of one. More information here: https://machinelearningmastery.com/standardscaler-and-minmaxscaler-transforms-in-python/"
   ]
  },
  {
   "cell_type": "code",
   "execution_count": 29,
   "id": "1eefbcd2",
   "metadata": {},
   "outputs": [],
   "source": [
    "import pandas as pd\n",
    "from sklearn.preprocessing import StandardScaler, OneHotEncoder\n",
    "from sklearn.compose import make_column_transformer\n",
    "from sklearn.model_selection import GroupShuffleSplit"
   ]
  },
  {
   "cell_type": "code",
   "execution_count": 30,
   "id": "fb43dcd9",
   "metadata": {},
   "outputs": [],
   "source": [
    "# Tensorflow imports\n",
    "from tensorflow import keras\n",
    "from tensorflow.keras import layers\n",
    "from tensorflow.keras import callbacks"
   ]
  },
  {
   "cell_type": "code",
   "execution_count": 32,
   "id": "a2424009",
   "metadata": {},
   "outputs": [],
   "source": [
    "spotify = pd.read_csv('data/spotify.csv')"
   ]
  },
  {
   "cell_type": "code",
   "execution_count": 33,
   "id": "18c3cccb",
   "metadata": {},
   "outputs": [
    {
     "data": {
      "text/html": [
       "<div>\n",
       "<style scoped>\n",
       "    .dataframe tbody tr th:only-of-type {\n",
       "        vertical-align: middle;\n",
       "    }\n",
       "\n",
       "    .dataframe tbody tr th {\n",
       "        vertical-align: top;\n",
       "    }\n",
       "\n",
       "    .dataframe thead th {\n",
       "        text-align: right;\n",
       "    }\n",
       "</style>\n",
       "<table border=\"1\" class=\"dataframe\">\n",
       "  <thead>\n",
       "    <tr style=\"text-align: right;\">\n",
       "      <th></th>\n",
       "      <th>track_id</th>\n",
       "      <th>track_name</th>\n",
       "      <th>track_artist</th>\n",
       "      <th>track_popularity</th>\n",
       "      <th>track_album_id</th>\n",
       "      <th>track_album_name</th>\n",
       "      <th>track_album_release_date</th>\n",
       "      <th>playlist_name</th>\n",
       "      <th>playlist_id</th>\n",
       "      <th>playlist_genre</th>\n",
       "      <th>...</th>\n",
       "      <th>key</th>\n",
       "      <th>loudness</th>\n",
       "      <th>mode</th>\n",
       "      <th>speechiness</th>\n",
       "      <th>acousticness</th>\n",
       "      <th>instrumentalness</th>\n",
       "      <th>liveness</th>\n",
       "      <th>valence</th>\n",
       "      <th>tempo</th>\n",
       "      <th>duration_ms</th>\n",
       "    </tr>\n",
       "  </thead>\n",
       "  <tbody>\n",
       "    <tr>\n",
       "      <th>0</th>\n",
       "      <td>6f807x0ima9a1j3VPbc7VN</td>\n",
       "      <td>I Don't Care (with Justin Bieber) - Loud Luxur...</td>\n",
       "      <td>Ed Sheeran</td>\n",
       "      <td>66</td>\n",
       "      <td>2oCs0DGTsRO98Gh5ZSl2Cx</td>\n",
       "      <td>I Don't Care (with Justin Bieber) [Loud Luxury...</td>\n",
       "      <td>2019-06-14</td>\n",
       "      <td>Pop Remix</td>\n",
       "      <td>37i9dQZF1DXcZDD7cfEKhW</td>\n",
       "      <td>pop</td>\n",
       "      <td>...</td>\n",
       "      <td>6</td>\n",
       "      <td>-2.634</td>\n",
       "      <td>1</td>\n",
       "      <td>0.0583</td>\n",
       "      <td>0.1020</td>\n",
       "      <td>0.000000</td>\n",
       "      <td>0.0653</td>\n",
       "      <td>0.518</td>\n",
       "      <td>122.036</td>\n",
       "      <td>194754</td>\n",
       "    </tr>\n",
       "    <tr>\n",
       "      <th>1</th>\n",
       "      <td>0r7CVbZTWZgbTCYdfa2P31</td>\n",
       "      <td>Memories - Dillon Francis Remix</td>\n",
       "      <td>Maroon 5</td>\n",
       "      <td>67</td>\n",
       "      <td>63rPSO264uRjW1X5E6cWv6</td>\n",
       "      <td>Memories (Dillon Francis Remix)</td>\n",
       "      <td>2019-12-13</td>\n",
       "      <td>Pop Remix</td>\n",
       "      <td>37i9dQZF1DXcZDD7cfEKhW</td>\n",
       "      <td>pop</td>\n",
       "      <td>...</td>\n",
       "      <td>11</td>\n",
       "      <td>-4.969</td>\n",
       "      <td>1</td>\n",
       "      <td>0.0373</td>\n",
       "      <td>0.0724</td>\n",
       "      <td>0.004210</td>\n",
       "      <td>0.3570</td>\n",
       "      <td>0.693</td>\n",
       "      <td>99.972</td>\n",
       "      <td>162600</td>\n",
       "    </tr>\n",
       "    <tr>\n",
       "      <th>2</th>\n",
       "      <td>1z1Hg7Vb0AhHDiEmnDE79l</td>\n",
       "      <td>All the Time - Don Diablo Remix</td>\n",
       "      <td>Zara Larsson</td>\n",
       "      <td>70</td>\n",
       "      <td>1HoSmj2eLcsrR0vE9gThr4</td>\n",
       "      <td>All the Time (Don Diablo Remix)</td>\n",
       "      <td>2019-07-05</td>\n",
       "      <td>Pop Remix</td>\n",
       "      <td>37i9dQZF1DXcZDD7cfEKhW</td>\n",
       "      <td>pop</td>\n",
       "      <td>...</td>\n",
       "      <td>1</td>\n",
       "      <td>-3.432</td>\n",
       "      <td>0</td>\n",
       "      <td>0.0742</td>\n",
       "      <td>0.0794</td>\n",
       "      <td>0.000023</td>\n",
       "      <td>0.1100</td>\n",
       "      <td>0.613</td>\n",
       "      <td>124.008</td>\n",
       "      <td>176616</td>\n",
       "    </tr>\n",
       "    <tr>\n",
       "      <th>3</th>\n",
       "      <td>75FpbthrwQmzHlBJLuGdC7</td>\n",
       "      <td>Call You Mine - Keanu Silva Remix</td>\n",
       "      <td>The Chainsmokers</td>\n",
       "      <td>60</td>\n",
       "      <td>1nqYsOef1yKKuGOVchbsk6</td>\n",
       "      <td>Call You Mine - The Remixes</td>\n",
       "      <td>2019-07-19</td>\n",
       "      <td>Pop Remix</td>\n",
       "      <td>37i9dQZF1DXcZDD7cfEKhW</td>\n",
       "      <td>pop</td>\n",
       "      <td>...</td>\n",
       "      <td>7</td>\n",
       "      <td>-3.778</td>\n",
       "      <td>1</td>\n",
       "      <td>0.1020</td>\n",
       "      <td>0.0287</td>\n",
       "      <td>0.000009</td>\n",
       "      <td>0.2040</td>\n",
       "      <td>0.277</td>\n",
       "      <td>121.956</td>\n",
       "      <td>169093</td>\n",
       "    </tr>\n",
       "    <tr>\n",
       "      <th>4</th>\n",
       "      <td>1e8PAfcKUYoKkxPhrHqw4x</td>\n",
       "      <td>Someone You Loved - Future Humans Remix</td>\n",
       "      <td>Lewis Capaldi</td>\n",
       "      <td>69</td>\n",
       "      <td>7m7vv9wlQ4i0LFuJiE2zsQ</td>\n",
       "      <td>Someone You Loved (Future Humans Remix)</td>\n",
       "      <td>2019-03-05</td>\n",
       "      <td>Pop Remix</td>\n",
       "      <td>37i9dQZF1DXcZDD7cfEKhW</td>\n",
       "      <td>pop</td>\n",
       "      <td>...</td>\n",
       "      <td>1</td>\n",
       "      <td>-4.672</td>\n",
       "      <td>1</td>\n",
       "      <td>0.0359</td>\n",
       "      <td>0.0803</td>\n",
       "      <td>0.000000</td>\n",
       "      <td>0.0833</td>\n",
       "      <td>0.725</td>\n",
       "      <td>123.976</td>\n",
       "      <td>189052</td>\n",
       "    </tr>\n",
       "  </tbody>\n",
       "</table>\n",
       "<p>5 rows × 23 columns</p>\n",
       "</div>"
      ],
      "text/plain": [
       "                 track_id                                         track_name  \\\n",
       "0  6f807x0ima9a1j3VPbc7VN  I Don't Care (with Justin Bieber) - Loud Luxur...   \n",
       "1  0r7CVbZTWZgbTCYdfa2P31                    Memories - Dillon Francis Remix   \n",
       "2  1z1Hg7Vb0AhHDiEmnDE79l                    All the Time - Don Diablo Remix   \n",
       "3  75FpbthrwQmzHlBJLuGdC7                  Call You Mine - Keanu Silva Remix   \n",
       "4  1e8PAfcKUYoKkxPhrHqw4x            Someone You Loved - Future Humans Remix   \n",
       "\n",
       "       track_artist  track_popularity          track_album_id  \\\n",
       "0        Ed Sheeran                66  2oCs0DGTsRO98Gh5ZSl2Cx   \n",
       "1          Maroon 5                67  63rPSO264uRjW1X5E6cWv6   \n",
       "2      Zara Larsson                70  1HoSmj2eLcsrR0vE9gThr4   \n",
       "3  The Chainsmokers                60  1nqYsOef1yKKuGOVchbsk6   \n",
       "4     Lewis Capaldi                69  7m7vv9wlQ4i0LFuJiE2zsQ   \n",
       "\n",
       "                                    track_album_name track_album_release_date  \\\n",
       "0  I Don't Care (with Justin Bieber) [Loud Luxury...               2019-06-14   \n",
       "1                    Memories (Dillon Francis Remix)               2019-12-13   \n",
       "2                    All the Time (Don Diablo Remix)               2019-07-05   \n",
       "3                        Call You Mine - The Remixes               2019-07-19   \n",
       "4            Someone You Loved (Future Humans Remix)               2019-03-05   \n",
       "\n",
       "  playlist_name             playlist_id playlist_genre  ... key  loudness  \\\n",
       "0     Pop Remix  37i9dQZF1DXcZDD7cfEKhW            pop  ...   6    -2.634   \n",
       "1     Pop Remix  37i9dQZF1DXcZDD7cfEKhW            pop  ...  11    -4.969   \n",
       "2     Pop Remix  37i9dQZF1DXcZDD7cfEKhW            pop  ...   1    -3.432   \n",
       "3     Pop Remix  37i9dQZF1DXcZDD7cfEKhW            pop  ...   7    -3.778   \n",
       "4     Pop Remix  37i9dQZF1DXcZDD7cfEKhW            pop  ...   1    -4.672   \n",
       "\n",
       "   mode  speechiness  acousticness  instrumentalness  liveness  valence  \\\n",
       "0     1       0.0583        0.1020          0.000000    0.0653    0.518   \n",
       "1     1       0.0373        0.0724          0.004210    0.3570    0.693   \n",
       "2     0       0.0742        0.0794          0.000023    0.1100    0.613   \n",
       "3     1       0.1020        0.0287          0.000009    0.2040    0.277   \n",
       "4     1       0.0359        0.0803          0.000000    0.0833    0.725   \n",
       "\n",
       "     tempo  duration_ms  \n",
       "0  122.036       194754  \n",
       "1   99.972       162600  \n",
       "2  124.008       176616  \n",
       "3  121.956       169093  \n",
       "4  123.976       189052  \n",
       "\n",
       "[5 rows x 23 columns]"
      ]
     },
     "execution_count": 33,
     "metadata": {},
     "output_type": "execute_result"
    }
   ],
   "source": [
    "spotify.head()"
   ]
  },
  {
   "cell_type": "code",
   "execution_count": 34,
   "id": "b8f0a461",
   "metadata": {},
   "outputs": [
    {
     "name": "stdout",
     "output_type": "stream",
     "text": [
      "<class 'pandas.core.frame.DataFrame'>\n",
      "RangeIndex: 32833 entries, 0 to 32832\n",
      "Data columns (total 23 columns):\n",
      " #   Column                    Non-Null Count  Dtype  \n",
      "---  ------                    --------------  -----  \n",
      " 0   track_id                  32833 non-null  object \n",
      " 1   track_name                32828 non-null  object \n",
      " 2   track_artist              32828 non-null  object \n",
      " 3   track_popularity          32833 non-null  int64  \n",
      " 4   track_album_id            32833 non-null  object \n",
      " 5   track_album_name          32828 non-null  object \n",
      " 6   track_album_release_date  32833 non-null  object \n",
      " 7   playlist_name             32833 non-null  object \n",
      " 8   playlist_id               32833 non-null  object \n",
      " 9   playlist_genre            32833 non-null  object \n",
      " 10  playlist_subgenre         32833 non-null  object \n",
      " 11  danceability              32833 non-null  float64\n",
      " 12  energy                    32833 non-null  float64\n",
      " 13  key                       32833 non-null  int64  \n",
      " 14  loudness                  32833 non-null  float64\n",
      " 15  mode                      32833 non-null  int64  \n",
      " 16  speechiness               32833 non-null  float64\n",
      " 17  acousticness              32833 non-null  float64\n",
      " 18  instrumentalness          32833 non-null  float64\n",
      " 19  liveness                  32833 non-null  float64\n",
      " 20  valence                   32833 non-null  float64\n",
      " 21  tempo                     32833 non-null  float64\n",
      " 22  duration_ms               32833 non-null  int64  \n",
      "dtypes: float64(9), int64(4), object(10)\n",
      "memory usage: 5.8+ MB\n"
     ]
    }
   ],
   "source": [
    "spotify.info()"
   ]
  },
  {
   "cell_type": "code",
   "execution_count": 35,
   "id": "4e6cc07f",
   "metadata": {},
   "outputs": [],
   "source": [
    "# there's no null, but use this command anyway\n",
    "X = spotify.copy().dropna()\n",
    "y = X.pop('track_popularity') # remove target from X and also returns it to y"
   ]
  },
  {
   "cell_type": "code",
   "execution_count": 36,
   "id": "bbec78a3",
   "metadata": {},
   "outputs": [
    {
     "data": {
      "text/plain": [
       "0        66\n",
       "1        67\n",
       "2        70\n",
       "3        60\n",
       "4        69\n",
       "         ..\n",
       "32828    42\n",
       "32829    20\n",
       "32830    14\n",
       "32831    15\n",
       "32832    27\n",
       "Name: track_popularity, Length: 32828, dtype: int64"
      ]
     },
     "execution_count": 36,
     "metadata": {},
     "output_type": "execute_result"
    }
   ],
   "source": [
    "y"
   ]
  },
  {
   "cell_type": "code",
   "execution_count": 37,
   "id": "d3bbb441",
   "metadata": {},
   "outputs": [
    {
     "name": "stdout",
     "output_type": "stream",
     "text": [
      "<class 'pandas.core.frame.DataFrame'>\n",
      "Int64Index: 32828 entries, 0 to 32832\n",
      "Data columns (total 22 columns):\n",
      " #   Column                    Non-Null Count  Dtype  \n",
      "---  ------                    --------------  -----  \n",
      " 0   track_id                  32828 non-null  object \n",
      " 1   track_name                32828 non-null  object \n",
      " 2   track_artist              32828 non-null  object \n",
      " 3   track_album_id            32828 non-null  object \n",
      " 4   track_album_name          32828 non-null  object \n",
      " 5   track_album_release_date  32828 non-null  object \n",
      " 6   playlist_name             32828 non-null  object \n",
      " 7   playlist_id               32828 non-null  object \n",
      " 8   playlist_genre            32828 non-null  object \n",
      " 9   playlist_subgenre         32828 non-null  object \n",
      " 10  danceability              32828 non-null  float64\n",
      " 11  energy                    32828 non-null  float64\n",
      " 12  key                       32828 non-null  int64  \n",
      " 13  loudness                  32828 non-null  float64\n",
      " 14  mode                      32828 non-null  int64  \n",
      " 15  speechiness               32828 non-null  float64\n",
      " 16  acousticness              32828 non-null  float64\n",
      " 17  instrumentalness          32828 non-null  float64\n",
      " 18  liveness                  32828 non-null  float64\n",
      " 19  valence                   32828 non-null  float64\n",
      " 20  tempo                     32828 non-null  float64\n",
      " 21  duration_ms               32828 non-null  int64  \n",
      "dtypes: float64(9), int64(3), object(10)\n",
      "memory usage: 5.8+ MB\n"
     ]
    }
   ],
   "source": [
    "X.info()"
   ]
  },
  {
   "cell_type": "code",
   "execution_count": 38,
   "id": "4d30699b",
   "metadata": {},
   "outputs": [],
   "source": [
    "artists = X['track_artist']"
   ]
  },
  {
   "cell_type": "code",
   "execution_count": 39,
   "id": "64814b80",
   "metadata": {},
   "outputs": [],
   "source": [
    "features_num = ['danceability', 'energy', 'key', 'loudness', 'mode',\n",
    "                'speechiness', 'acousticness', 'instrumentalness',\n",
    "                'liveness', 'valence', 'tempo', 'duration_ms']\n",
    "features_cat = ['playlist_genre']"
   ]
  },
  {
   "cell_type": "code",
   "execution_count": 40,
   "id": "4674c4ea",
   "metadata": {},
   "outputs": [],
   "source": [
    "preprocessor = make_column_transformer(\n",
    "    (StandardScaler(), features_num), # fazer o stardard scaler in the features num\n",
    "    (OneHotEncoder(), features_cat), # fazer o one hot encoder in categoricals\n",
    ")"
   ]
  },
  {
   "cell_type": "code",
   "execution_count": 41,
   "id": "c571fd44",
   "metadata": {},
   "outputs": [],
   "source": [
    "# We'll do a \"grouped\" split to keep all of an artist's songs in one\n",
    "# split or the other. This is to help prevent signal leakage.\n",
    "def group_split(X, y, group, train_size=0.75):\n",
    "    splitter = GroupShuffleSplit(train_size=train_size)\n",
    "    train, test = next(splitter.split(X, y, groups=group))\n",
    "    return (X.iloc[train], X.iloc[test], y.iloc[train], y.iloc[test])"
   ]
  },
  {
   "cell_type": "code",
   "execution_count": 42,
   "id": "98d54fc7",
   "metadata": {},
   "outputs": [],
   "source": [
    "X_train, X_valid, y_train, y_valid = group_split(X, y, artists)"
   ]
  },
  {
   "cell_type": "code",
   "execution_count": 44,
   "id": "20f98d37",
   "metadata": {},
   "outputs": [
    {
     "name": "stdout",
     "output_type": "stream",
     "text": [
      "Input shape: [18]\n"
     ]
    }
   ],
   "source": [
    "X_train = preprocessor.fit_transform(X_train)\n",
    "X_valid = preprocessor.transform(X_valid)\n",
    "y_train = y_train / 100 # popularity is on a scale 0-100, so this rescales to 0-1.\n",
    "y_valid = y_valid / 100\n",
    "\n",
    "input_shape = [X_train.shape[1]]\n",
    "print(\"Input shape: {}\".format(input_shape))"
   ]
  },
  {
   "cell_type": "markdown",
   "id": "b461b05b",
   "metadata": {},
   "source": [
    "Let's start with the simplest network, a linear model. This model has low capacity.\n",
    "\n",
    "Run this next cell without any changes to train a linear model on the Spotify dataset."
   ]
  },
  {
   "cell_type": "code",
   "execution_count": 45,
   "id": "39cbf667",
   "metadata": {},
   "outputs": [
    {
     "name": "stdout",
     "output_type": "stream",
     "text": [
      "Minimum Validation Loss: 0.1993\n"
     ]
    },
    {
     "data": {
      "image/png": "[encoded data removed]",
      "text/plain": [
       "<Figure size 432x288 with 1 Axes>"
      ]
     },
     "metadata": {},
     "output_type": "display_data"
    }
   ],
   "source": [
    "model = keras.Sequential([\n",
    "    layers.Dense(1, input_shape=input_shape),\n",
    "])\n",
    "model.compile(\n",
    "    optimizer='adam',\n",
    "    loss='mae',\n",
    ")\n",
    "history = model.fit(\n",
    "    X_train, y_train,\n",
    "    validation_data=(X_valid, y_valid),\n",
    "    batch_size=512,\n",
    "    epochs=50,\n",
    "    verbose=0, # suppress output since we'll plot the curves\n",
    ")\n",
    "history_df = pd.DataFrame(history.history)\n",
    "history_df.loc[0:, ['loss', 'val_loss']].plot()\n",
    "print(\"Minimum Validation Loss: {:0.4f}\".format(history_df['val_loss'].min()));"
   ]
  },
  {
   "cell_type": "markdown",
   "id": "62b5879f",
   "metadata": {},
   "source": [
    "It's not uncommon for the curves to follow a \"hockey stick\" pattern like you see here. This makes the final part of training hard to see, so let's start at epoch 10 instead:"
   ]
  },
  {
   "cell_type": "code",
   "execution_count": 46,
   "id": "4721ae20",
   "metadata": {},
   "outputs": [
    {
     "name": "stdout",
     "output_type": "stream",
     "text": [
      "Minimum Validation Loss: 0.1993\n"
     ]
    },
    {
     "data": {
      "image/png": "[encoded data removed]",
      "text/plain": [
       "<Figure size 432x288 with 1 Axes>"
      ]
     },
     "metadata": {},
     "output_type": "display_data"
    }
   ],
   "source": [
    "# Start the plot at epoch 10\n",
    "history_df.loc[10:, ['loss', 'val_loss']].plot()\n",
    "print(\"Minimum Validation Loss: {:0.4f}\".format(history_df['val_loss'].min()));"
   ]
  },
  {
   "cell_type": "markdown",
   "id": "c04d21b2",
   "metadata": {},
   "source": [
    "# 1) Evaluate Baseline\n",
    "\n",
    "What do you think? Would you say this model is underfitting, overfitting, just right?\n",
    "\n",
    "**The gap between these curves is quite small and the validation loss never increases, so it's more likely that the network is underfitting than overfitting. It would be worth experimenting with more capacity to see if that's the case.**\n",
    "\n",
    "Now let's add some capacity to our network. We'll add three hidden layers with 128 units each. Run the next cell to train the network and see the learning curves."
   ]
  },
  {
   "cell_type": "code",
   "execution_count": 47,
   "id": "61468c61",
   "metadata": {
    "scrolled": false
   },
   "outputs": [
    {
     "name": "stdout",
     "output_type": "stream",
     "text": [
      "Epoch 1/50\n",
      "49/49 [==============================] - 1s 8ms/step - loss: 0.2840 - val_loss: 0.2125\n",
      "Epoch 2/50\n",
      "49/49 [==============================] - 0s 4ms/step - loss: 0.2028 - val_loss: 0.2050\n",
      "Epoch 3/50\n",
      "49/49 [==============================] - 0s 3ms/step - loss: 0.1972 - val_loss: 0.2030\n",
      "Epoch 4/50\n",
      "49/49 [==============================] - 0s 4ms/step - loss: 0.1936 - val_loss: 0.2018\n",
      "Epoch 5/50\n",
      "49/49 [==============================] - 0s 3ms/step - loss: 0.1912 - val_loss: 0.2015\n",
      "Epoch 6/50\n",
      "49/49 [==============================] - 0s 4ms/step - loss: 0.1892 - val_loss: 0.2009\n",
      "Epoch 7/50\n",
      "49/49 [==============================] - 0s 4ms/step - loss: 0.1883 - val_loss: 0.2013\n",
      "Epoch 8/50\n",
      "49/49 [==============================] - 0s 5ms/step - loss: 0.1867 - val_loss: 0.2017\n",
      "Epoch 9/50\n",
      "49/49 [==============================] - 0s 4ms/step - loss: 0.1859 - val_loss: 0.2000\n",
      "Epoch 10/50\n",
      "49/49 [==============================] - 0s 4ms/step - loss: 0.1848 - val_loss: 0.2007\n",
      "Epoch 11/50\n",
      "49/49 [==============================] - 0s 4ms/step - loss: 0.1839 - val_loss: 0.2008\n",
      "Epoch 12/50\n",
      "49/49 [==============================] - 0s 6ms/step - loss: 0.1832 - val_loss: 0.1999\n",
      "Epoch 13/50\n",
      "49/49 [==============================] - 0s 5ms/step - loss: 0.1820 - val_loss: 0.1999\n",
      "Epoch 14/50\n",
      "49/49 [==============================] - 0s 5ms/step - loss: 0.1811 - val_loss: 0.2005\n",
      "Epoch 15/50\n",
      "49/49 [==============================] - 0s 5ms/step - loss: 0.1813 - val_loss: 0.2004\n",
      "Epoch 16/50\n",
      "49/49 [==============================] - 0s 4ms/step - loss: 0.1805 - val_loss: 0.2006\n",
      "Epoch 17/50\n",
      "49/49 [==============================] - 0s 4ms/step - loss: 0.1795 - val_loss: 0.2011\n",
      "Epoch 18/50\n",
      "49/49 [==============================] - 0s 4ms/step - loss: 0.1797 - val_loss: 0.2014\n",
      "Epoch 19/50\n",
      "49/49 [==============================] - 0s 5ms/step - loss: 0.1783 - val_loss: 0.2011\n",
      "Epoch 20/50\n",
      "49/49 [==============================] - 0s 5ms/step - loss: 0.1779 - val_loss: 0.2016\n",
      "Epoch 21/50\n",
      "49/49 [==============================] - 0s 7ms/step - loss: 0.1771 - val_loss: 0.2016\n",
      "Epoch 22/50\n",
      "49/49 [==============================] - 0s 10ms/step - loss: 0.1765 - val_loss: 0.2022\n",
      "Epoch 23/50\n",
      "49/49 [==============================] - 0s 8ms/step - loss: 0.1763 - val_loss: 0.2019\n",
      "Epoch 24/50\n",
      "49/49 [==============================] - 0s 8ms/step - loss: 0.1762 - val_loss: 0.2021\n",
      "Epoch 25/50\n",
      "49/49 [==============================] - 0s 8ms/step - loss: 0.1751 - val_loss: 0.2018\n",
      "Epoch 26/50\n",
      "49/49 [==============================] - 0s 8ms/step - loss: 0.1745 - val_loss: 0.2033\n",
      "Epoch 27/50\n",
      "49/49 [==============================] - 0s 8ms/step - loss: 0.1749 - val_loss: 0.2042\n",
      "Epoch 28/50\n",
      "49/49 [==============================] - 0s 8ms/step - loss: 0.1734 - val_loss: 0.2029\n",
      "Epoch 29/50\n",
      "49/49 [==============================] - 0s 9ms/step - loss: 0.1729 - val_loss: 0.2031\n",
      "Epoch 30/50\n",
      "49/49 [==============================] - 0s 7ms/step - loss: 0.1732 - val_loss: 0.2039\n",
      "Epoch 31/50\n",
      "49/49 [==============================] - 0s 7ms/step - loss: 0.1725 - val_loss: 0.2026\n",
      "Epoch 32/50\n",
      "49/49 [==============================] - 0s 8ms/step - loss: 0.1723 - val_loss: 0.2043\n",
      "Epoch 33/50\n",
      "49/49 [==============================] - 0s 5ms/step - loss: 0.1714 - val_loss: 0.2044\n",
      "Epoch 34/50\n",
      "49/49 [==============================] - 0s 4ms/step - loss: 0.1710 - val_loss: 0.2044\n",
      "Epoch 35/50\n",
      "49/49 [==============================] - 0s 5ms/step - loss: 0.1712 - val_loss: 0.2057\n",
      "Epoch 36/50\n",
      "49/49 [==============================] - 0s 6ms/step - loss: 0.1698 - val_loss: 0.2046\n",
      "Epoch 37/50\n",
      "49/49 [==============================] - 0s 4ms/step - loss: 0.1697 - val_loss: 0.2056\n",
      "Epoch 38/50\n",
      "49/49 [==============================] - 0s 4ms/step - loss: 0.1687 - val_loss: 0.2060\n",
      "Epoch 39/50\n",
      "49/49 [==============================] - 0s 6ms/step - loss: 0.1681 - val_loss: 0.2054\n",
      "Epoch 40/50\n",
      "49/49 [==============================] - 0s 5ms/step - loss: 0.1686 - val_loss: 0.2071\n",
      "Epoch 41/50\n",
      "49/49 [==============================] - 0s 5ms/step - loss: 0.1684 - val_loss: 0.2058\n",
      "Epoch 42/50\n",
      "49/49 [==============================] - 0s 5ms/step - loss: 0.1670 - val_loss: 0.2059\n",
      "Epoch 43/50\n",
      "49/49 [==============================] - 0s 5ms/step - loss: 0.1673 - val_loss: 0.2082\n",
      "Epoch 44/50\n",
      "49/49 [==============================] - 0s 6ms/step - loss: 0.1671 - val_loss: 0.2068\n",
      "Epoch 45/50\n",
      "49/49 [==============================] - 0s 6ms/step - loss: 0.1657 - val_loss: 0.2065\n",
      "Epoch 46/50\n",
      "49/49 [==============================] - 0s 5ms/step - loss: 0.1657 - val_loss: 0.2075\n",
      "Epoch 47/50\n",
      "49/49 [==============================] - 0s 5ms/step - loss: 0.1650 - val_loss: 0.2084\n",
      "Epoch 48/50\n",
      "49/49 [==============================] - 0s 5ms/step - loss: 0.1645 - val_loss: 0.2072\n",
      "Epoch 49/50\n",
      "49/49 [==============================] - 0s 6ms/step - loss: 0.1642 - val_loss: 0.2081\n",
      "Epoch 50/50\n",
      "49/49 [==============================] - 0s 5ms/step - loss: 0.1644 - val_loss: 0.2083\n",
      "Minimum Validation Loss: 0.1999\n"
     ]
    },
    {
     "data": {
      "image/png": "[encoded data removed]",
      "text/plain": [
       "<Figure size 432x288 with 1 Axes>"
      ]
     },
     "metadata": {},
     "output_type": "display_data"
    }
   ],
   "source": [
    "model = keras.Sequential([\n",
    "    layers.Dense(128, activation='relu', input_shape=input_shape),\n",
    "    layers.Dense(64, activation='relu'),\n",
    "    layers.Dense(1)\n",
    "])\n",
    "model.compile(\n",
    "    optimizer='adam',\n",
    "    loss='mae',\n",
    ")\n",
    "history = model.fit(\n",
    "    X_train, y_train,\n",
    "    validation_data=(X_valid, y_valid),\n",
    "    batch_size=512,\n",
    "    epochs=50,\n",
    ")\n",
    "history_df = pd.DataFrame(history.history)\n",
    "history_df.loc[:, ['loss', 'val_loss']].plot()\n",
    "print(\"Minimum Validation Loss: {:0.4f}\".format(history_df['val_loss'].min()));"
   ]
  },
  {
   "cell_type": "markdown",
   "id": "a0433c7a",
   "metadata": {},
   "source": [
    "# 2) Add Capacity\n",
    "\n",
    "What is your evaluation of these curves? Underfitting, overfitting, just right?\n",
    "\n",
    "**Now the validation loss begins to rise very early, while the training loss continues to decrease. This indicates that the network has begun to overfit. At this point, we would need to try something to prevent it, either by reducing the number of units or through a method like early stopping. (We'll see another in the next lesson!)**"
   ]
  },
  {
   "cell_type": "markdown",
   "id": "df59e95c",
   "metadata": {},
   "source": [
    "# 3) Define Early Stopping Callback\n",
    "\n",
    "Now define an early stopping callback that waits 5 epochs (`patience'`) for a change in validation loss of at least `0.001` (`min_delta`) and keeps the weights with the best loss (`restore_best_weights`)."
   ]
  },
  {
   "cell_type": "code",
   "execution_count": 48,
   "id": "91c5faab",
   "metadata": {},
   "outputs": [],
   "source": [
    "from tensorflow.keras import callbacks\n",
    "\n",
    "early_stopping = callbacks.EarlyStopping(min_delta=0.001, patience=5, restore_best_weights=True)\n"
   ]
  },
  {
   "cell_type": "code",
   "execution_count": 49,
   "id": "28317254",
   "metadata": {},
   "outputs": [
    {
     "name": "stdout",
     "output_type": "stream",
     "text": [
      "Epoch 1/50\n",
      "49/49 [==============================] - 13s 6ms/step - loss: 0.2648 - val_loss: 0.2149\n",
      "Epoch 2/50\n",
      "49/49 [==============================] - 0s 4ms/step - loss: 0.2036 - val_loss: 0.2072\n",
      "Epoch 3/50\n",
      "49/49 [==============================] - 0s 4ms/step - loss: 0.1970 - val_loss: 0.2036\n",
      "Epoch 4/50\n",
      "49/49 [==============================] - 0s 3ms/step - loss: 0.1936 - val_loss: 0.2016\n",
      "Epoch 5/50\n",
      "49/49 [==============================] - 0s 4ms/step - loss: 0.1909 - val_loss: 0.2023\n",
      "Epoch 6/50\n",
      "49/49 [==============================] - 0s 4ms/step - loss: 0.1894 - val_loss: 0.2017\n",
      "Epoch 7/50\n",
      "49/49 [==============================] - 0s 4ms/step - loss: 0.1884 - val_loss: 0.2023\n",
      "Epoch 8/50\n",
      "49/49 [==============================] - 0s 4ms/step - loss: 0.1867 - val_loss: 0.2012\n",
      "Epoch 9/50\n",
      "49/49 [==============================] - 0s 3ms/step - loss: 0.1862 - val_loss: 0.2025\n",
      "Minimum Validation Loss: 0.2012\n"
     ]
    },
    {
     "data": {
      "image/png": "[encoded data removed]",
      "text/plain": [
       "<Figure size 432x288 with 1 Axes>"
      ]
     },
     "metadata": {},
     "output_type": "display_data"
    }
   ],
   "source": [
    "model = keras.Sequential([\n",
    "    layers.Dense(128, activation='relu', input_shape=input_shape),\n",
    "    layers.Dense(64, activation='relu'),    \n",
    "    layers.Dense(1)\n",
    "])\n",
    "model.compile(\n",
    "    optimizer='adam',\n",
    "    loss='mae',\n",
    ")\n",
    "history = model.fit(\n",
    "    X_train, y_train,\n",
    "    validation_data=(X_valid, y_valid),\n",
    "    batch_size=512,\n",
    "    epochs=50,\n",
    "    callbacks=[early_stopping]\n",
    ")\n",
    "history_df = pd.DataFrame(history.history)\n",
    "history_df.loc[:, ['loss', 'val_loss']].plot()\n",
    "print(\"Minimum Validation Loss: {:0.4f}\".format(history_df['val_loss'].min()));"
   ]
  },
  {
   "cell_type": "markdown",
   "id": "7231d623",
   "metadata": {},
   "source": [
    "# 4) Train and Interpret\n",
    "\n",
    "Was this an improvement compared to training without early stopping?\n",
    "\n",
    "**The early stopping callback did stop the training once the network began overfitting. Moreover, by including restore_best_weights we still get to keep the model where validation loss was lowest.**"
   ]
  }
 ],
 "metadata": {
  "kernelspec": {
   "display_name": "Python 3 (ipykernel)",
   "language": "python",
   "name": "python3"
  },
  "language_info": {
   "codemirror_mode": {
    "name": "ipython",
    "version": 3
   },
   "file_extension": ".py",
   "mimetype": "text/x-python",
   "name": "python",
   "nbconvert_exporter": "python",
   "pygments_lexer": "ipython3",
   "version": "3.9.7"
  }
 },
 "nbformat": 4,
 "nbformat_minor": 5
}
