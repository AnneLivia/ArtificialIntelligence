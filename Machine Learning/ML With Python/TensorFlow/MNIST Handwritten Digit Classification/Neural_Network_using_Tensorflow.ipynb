{
  "nbformat": 4,
  "nbformat_minor": 0,
  "metadata": {
    "colab": {
      "name": "Neural Network using Tensorflow.ipynb",
      "provenance": []
    },
    "kernelspec": {
      "name": "python3",
      "display_name": "Python 3"
    }
  },
  "cells": [
    {
      "cell_type": "markdown",
      "metadata": {
        "id": "seqk1RNQYvhY"
      },
      "source": [
        "TensorFlow is an end-to-end open source platform for machine learning. It has a comprehensive, flexible ecosystem of tools, libraries and community resources that lets researchers push the state-of-the-art in ML and developers easily build and deploy ML powered applications.\n",
        "\n",
        "Keras is a deep learning API written in Python, running on top of the machine learning platform TensorFlow. It was developed with a focus on enabling fast experimentation. Being able to go from idea to result as fast as possible is key to doing good research.\n",
        "\n",
        "There are several differences between these two frameworks. Keras is a neural network library while TensorFlow is the open-source library for a number of various tasks in machine learning. TensorFlow provides both high-level and low-level APIs while Keras provides only high-level APIs. In terms of flexibility, Tensorflow’s eager execution allows for immediate iteration along with intuitive debugging. Keras offers simple and consistent high-level APIs and follows best practices to reduce the cognitive load for the users. Both frameworks thus provide high-level APIs for building and training models with ease. Keras is built in Python which makes it way more user-friendly than TensorFlow. (https://analyticsindiamag.com/tensorflow-vs-keras-which-one-should-you-choose/)"
      ]
    },
    {
      "cell_type": "code",
      "metadata": {
        "id": "j2w8BD6pX4M-"
      },
      "source": [
        "import tensorflow as tf"
      ],
      "execution_count": 4,
      "outputs": []
    },
    {
      "cell_type": "markdown",
      "metadata": {
        "id": "3RJA9jFka66U"
      },
      "source": [
        "matplotlib.pyplot is a collection of functions that make matplotlib work like MATLAB. Each pyplot function makes some change to a figure: e.g., creates a figure, creates a plotting area in a figure, plots some lines in a plotting area, decorates the plot with labels, etc."
      ]
    },
    {
      "cell_type": "code",
      "metadata": {
        "id": "Dgvb6n60a6cj"
      },
      "source": [
        "import matplotlib.pyplot as plt"
      ],
      "execution_count": 7,
      "outputs": []
    },
    {
      "cell_type": "markdown",
      "metadata": {
        "id": "8i-7ycR1YWgE"
      },
      "source": [
        "Module: tf.keras.datasets:\n",
        "\n",
        "boston_housing module: Boston housing price regression dataset.\n",
        "\n",
        "cifar10 module: CIFAR10 small images classification dataset.\n",
        "\n",
        "cifar100 module: CIFAR100 small images classification dataset.\n",
        "\n",
        "fashion_mnist module: Fashion-MNIST dataset.\n",
        "\n",
        "imdb module: IMDB sentiment classification dataset.\n",
        "\n",
        "mnist module: MNIST handwritten digits dataset.\n",
        "\n",
        "reuters module: Reuters topic classification dataset."
      ]
    },
    {
      "cell_type": "code",
      "metadata": {
        "id": "-d2LV5dfYB9h"
      },
      "source": [
        "mnist = tf.keras.datasets.mnist # dataset of handwritten digits from 0 to 9"
      ],
      "execution_count": 8,
      "outputs": []
    },
    {
      "cell_type": "code",
      "metadata": {
        "colab": {
          "base_uri": "https://localhost:8080/"
        },
        "id": "fiozpaOQYuLj",
        "outputId": "7a150423-64cc-4bf7-a6ac-77bc90961774"
      },
      "source": [
        "(x_train, y_train), (x_test, y_test) = mnist.load_data(); # loading data from the dataset\n",
        "\n",
        "# normalizing the data (makes easier for a network to learn)\n",
        "x_train = tf.keras.utils.normalize(x_train, axis=1)\n",
        "x_test = tf.keras.utils.normalize(x_test, axis=1)"
      ],
      "execution_count": 9,
      "outputs": [
        {
          "output_type": "stream",
          "text": [
            "Downloading data from https://storage.googleapis.com/tensorflow/tf-keras-datasets/mnist.npz\n",
            "11493376/11490434 [==============================] - 0s 0us/step\n"
          ],
          "name": "stdout"
        }
      ]
    },
    {
      "cell_type": "code",
      "metadata": {
        "colab": {
          "base_uri": "https://localhost:8080/",
          "height": 265
        },
        "id": "ym5BQs1qbK8H",
        "outputId": "c6f28c4e-dbc6-4f40-82ab-982c46116843"
      },
      "source": [
        "plt.imshow(x_train[0], cmap = plt.cm.binary)\n",
        "plt.show()\n",
        "# print(x_train[0])\n",
        "\n",
        "# it's a black and white image (binary image)"
      ],
      "execution_count": 14,
      "outputs": [
        {
          "output_type": "display_data",
          "data": {
            "image/png": "[encoded data removed]",
            "text/plain": [
              "<Figure size 432x288 with 1 Axes>"
            ]
          },
          "metadata": {
            "tags": [],
            "needs_background": "light"
          }
        }
      ]
    },
    {
      "cell_type": "markdown",
      "metadata": {
        "id": "9bmyEo-acmUk"
      },
      "source": [
        "A Sequential model is appropriate for a plain stack of layers where each layer has exactly one input tensor and one output tensor.\n",
        "\n",
        "A Sequential model is not appropriate when:\n",
        "\n",
        "Your model has multiple inputs or multiple outputs\n",
        "Any of your layers has multiple inputs or multiple outputs\n",
        "You need to do layer sharing\n",
        "You want non-linear topology (e.g. a residual connection, a multi-branch model)\n",
        "\n",
        "There are three ways to create Keras models:\n",
        "\n",
        "*   The Sequential model, which is very straightforward (a simple list of layers), but is limited to single-input, single-output stacks of layers (as the name gives away).\n",
        "*   The Functional API, which is an easy-to-use, fully-featured API that supports arbitrary model architectures. For most people and most use cases, this is what you should be using. This is the Keras \"industry strength\" model.\n",
        "\n",
        "*   Model subclassing, where you implement everything from scratch on your own. Use this if you have complex, out-of-the-box research use cases.\n",
        "\n"
      ]
    },
    {
      "cell_type": "code",
      "metadata": {
        "colab": {
          "base_uri": "https://localhost:8080/"
        },
        "id": "zLEt3SX2cbfa",
        "outputId": "f29ca238-8ccb-414e-f35f-4f36b6bff431"
      },
      "source": [
        "# building the model to traning the neural network.\n",
        "model = tf.keras.models.Sequential()\n",
        "# the first layer is the input layer\n",
        "# the array is 28 by 28 bidimensional array, we must flat that\n",
        "model.add(tf.keras.layers.Flatten()) # input layer\n",
        "model.add(tf.keras.layers.Dense(128, activation=tf.nn.relu)) # 128 neurons and relu activation function (hidden layer)\n",
        "model.add(tf.keras.layers.Dense(128, activation=tf.nn.relu)) # 128 neurons and relu activation function (hidden layer)\n",
        "model.add(tf.keras.layers.Dense(10, activation=tf.nn.softmax)) # 128 neurons and relu activation function (output layer)\n",
        "\n",
        "model.compile(optimizer='adam', loss='sparse_categorical_crossentropy', metrics=['accuracy'])\n",
        "\n",
        "# train the model\n",
        "\n",
        "model.fit(x_train, y_train, epochs=5)"
      ],
      "execution_count": 16,
      "outputs": [
        {
          "output_type": "stream",
          "text": [
            "Epoch 1/5\n",
            "1875/1875 [==============================] - 4s 2ms/step - loss: 1.6260 - accuracy: 0.8778\n",
            "Epoch 2/5\n",
            "1875/1875 [==============================] - 4s 2ms/step - loss: 0.3626 - accuracy: 0.9268\n",
            "Epoch 3/5\n",
            "1875/1875 [==============================] - 4s 2ms/step - loss: 0.2344 - accuracy: 0.9449\n",
            "Epoch 4/5\n",
            "1875/1875 [==============================] - 4s 2ms/step - loss: 0.1744 - accuracy: 0.9543\n",
            "Epoch 5/5\n",
            "1875/1875 [==============================] - 4s 2ms/step - loss: 0.1434 - accuracy: 0.9610\n"
          ],
          "name": "stdout"
        },
        {
          "output_type": "execute_result",
          "data": {
            "text/plain": [
              "<tensorflow.python.keras.callbacks.History at 0x7fa395c037f0>"
            ]
          },
          "metadata": {
            "tags": []
          },
          "execution_count": 16
        }
      ]
    },
    {
      "cell_type": "markdown",
      "metadata": {
        "id": "RgkIVm7_fSIc"
      },
      "source": [
        "The idea is that the model generalize and not overfitting, so calculate val_loss and val_acc"
      ]
    },
    {
      "cell_type": "code",
      "metadata": {
        "colab": {
          "base_uri": "https://localhost:8080/"
        },
        "id": "81Ew9g56fag0",
        "outputId": "917a8ab5-f200-4c78-ee44-c10fd84cc413"
      },
      "source": [
        "val_loss, val_acc = model.evaluate(x_test, y_test)\n",
        "print(val_loss, val_acc)"
      ],
      "execution_count": 17,
      "outputs": [
        {
          "output_type": "stream",
          "text": [
            "313/313 [==============================] - 0s 1ms/step - loss: 0.1452 - accuracy: 0.9630\n",
            "0.14515450596809387 0.9629999995231628\n"
          ],
          "name": "stdout"
        }
      ]
    },
    {
      "cell_type": "markdown",
      "metadata": {
        "id": "ZrzLbvIUfyng"
      },
      "source": [
        "Para salvar e carregar o modelo, usar os seguintes comandos:\n",
        "\n"
      ]
    },
    {
      "cell_type": "code",
      "metadata": {
        "colab": {
          "base_uri": "https://localhost:8080/"
        },
        "id": "1CzhU032fzy7",
        "outputId": "91ce3b46-3fb4-4932-f996-88b1d309be06"
      },
      "source": [
        "model.save('model_saved')\n",
        "modelnew = tf.keras.models.load_model('model_saved')"
      ],
      "execution_count": 19,
      "outputs": [
        {
          "output_type": "stream",
          "text": [
            "INFO:tensorflow:Assets written to: model_saved/assets\n"
          ],
          "name": "stdout"
        }
      ]
    },
    {
      "cell_type": "code",
      "metadata": {
        "colab": {
          "base_uri": "https://localhost:8080/"
        },
        "id": "bMhGwL-ggwXg",
        "outputId": "1f3119a3-4fb1-4403-f104-1b628dffda44"
      },
      "source": [
        "predictions = modelnew.predict([x_test]);\n",
        "print(predictions)"
      ],
      "execution_count": 21,
      "outputs": [
        {
          "output_type": "stream",
          "text": [
            "[[1.5621051e-17 8.1483896e-11 3.6872880e-08 ... 9.9999797e-01\n",
            "  8.6742134e-11 3.0117238e-07]\n",
            " [2.6958100e-09 1.4477729e-14 9.9996972e-01 ... 3.0190089e-05\n",
            "  9.0494066e-09 7.7282922e-15]\n",
            " [2.6457164e-08 9.9998069e-01 2.6077853e-08 ... 3.1609940e-07\n",
            "  1.8155872e-05 7.1655586e-07]\n",
            " ...\n",
            " [3.4160653e-11 5.4298326e-11 2.0582293e-11 ... 7.8140062e-08\n",
            "  2.0232453e-11 1.5370132e-06]\n",
            " [4.0586485e-27 7.9159575e-33 3.5772144e-33 ... 5.1752530e-27\n",
            "  1.0393883e-21 2.9234815e-26]\n",
            " [1.0238548e-23 1.4138740e-21 1.6903911e-22 ... 8.8612302e-32\n",
            "  1.7364753e-22 0.0000000e+00]]\n"
          ],
          "name": "stdout"
        }
      ]
    },
    {
      "cell_type": "code",
      "metadata": {
        "colab": {
          "base_uri": "https://localhost:8080/",
          "height": 282
        },
        "id": "dDuII6Tug6Dr",
        "outputId": "ed399789-8564-4ac3-946f-90be6201c191"
      },
      "source": [
        "import numpy as np\n",
        "print(np.argmax(predictions[0]))\n",
        "\n",
        "plt.imshow(x_test[0])\n",
        "plt.show()"
      ],
      "execution_count": 23,
      "outputs": [
        {
          "output_type": "stream",
          "text": [
            "7\n"
          ],
          "name": "stdout"
        },
        {
          "output_type": "display_data",
          "data": {
            "image/png": "[encoded data removed]",
            "text/plain": [
              "<Figure size 432x288 with 1 Axes>"
            ]
          },
          "metadata": {
            "tags": [],
            "needs_background": "light"
          }
        }
      ]
    }
  ]
}