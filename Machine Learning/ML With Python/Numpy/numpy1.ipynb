{
  "nbformat": 4,
  "nbformat_minor": 0,
  "metadata": {
    "colab": {
      "name": "numpy1.ipynb",
      "provenance": []
    },
    "kernelspec": {
      "name": "python3",
      "display_name": "Python 3"
    }
  },
  "cells": [
    {
      "cell_type": "markdown",
      "metadata": {
        "id": "Gd5ytmiEmjh0"
      },
      "source": [
        "What is numpy ?\n",
        "\n",
        "Acoording to this [website](https://numpy.org/doc/stable/user/whatisnumpy.html), NumPy is the fundamental package for scientific computing in Python. It is a Python library that provides a multidimensional array object, various derived objects (such as masked arrays and matrices), and an assortment of routines for fast operations on arrays, including mathematical, logical, shape manipulation, sorting, selecting, I/O, discrete Fourier transforms, basic linear algebra, basic statistical operations, random simulation and much more.\n",
        "\n"
      ]
    },
    {
      "cell_type": "code",
      "metadata": {
        "id": "f3S5lq7GmEAZ"
      },
      "source": [
        "import numpy as np\n",
        "import matplotlib.pylab as plt\n",
        "from numpy import random"
      ],
      "execution_count": 1,
      "outputs": []
    },
    {
      "cell_type": "code",
      "metadata": {
        "colab": {
          "base_uri": "https://localhost:8080/"
        },
        "id": "1finBQD8nIEb",
        "outputId": "c607d19b-9e75-4b96-ca4d-c8ac0fb99962"
      },
      "source": [
        "# creating one dimensional array\n",
        "listt = [x for x in range(1, 10)]\n",
        "print(\"List: \", listt)\n",
        "np_array = np.array(listt, dtype=np.float32)\n",
        "print(\"Np Array\", np_array)\n",
        "\n",
        "# creating two dimensinal array\n",
        "lisst_2d = [[x for x in range(5)], [x for x in range(5, 10)], [x for x in range(10, 15)]]\n",
        "print(\"2d list: \", lisst_2d)\n",
        "np_array_2d = np.array(lisst_2d, dtype=np.float32)\n",
        "print(\"Np Array\", np_array_2d)\n",
        "\n",
        "# range of numbers with np\n",
        "print(np.arange(1, 10))\n",
        "\n",
        "# generating float range. Return evenly spaced numbers over a specified interval.\n",
        "print(np.linspace(0, 2, 7))\n",
        "\n",
        "# array of zeros\n",
        "print(np.zeros(4))\n",
        "print(np.ones((2, 3)))\n",
        "print(np_array_2d.size)\n",
        "print(np_array_2d.dtype)\n",
        "print(\"Random: \", np.random.randint(10, 60, size=(3, 3)))\n",
        "\n",
        "# by using ? after a function we can have information about a function\n",
        "np.zeros?"
      ],
      "execution_count": 40,
      "outputs": [
        {
          "output_type": "stream",
          "text": [
            "List:  [1, 2, 3, 4, 5, 6, 7, 8, 9]\n",
            "Np Array [1. 2. 3. 4. 5. 6. 7. 8. 9.]\n",
            "2d list:  [[0, 1, 2, 3, 4], [5, 6, 7, 8, 9], [10, 11, 12, 13, 14]]\n",
            "Np Array [[ 0.  1.  2.  3.  4.]\n",
            " [ 5.  6.  7.  8.  9.]\n",
            " [10. 11. 12. 13. 14.]]\n",
            "[1 2 3 4 5 6 7 8 9]\n",
            "[0.         0.33333333 0.66666667 1.         1.33333333 1.66666667\n",
            " 2.        ]\n",
            "[0. 0. 0. 0.]\n",
            "[[1. 1. 1.]\n",
            " [1. 1. 1.]]\n",
            "15\n",
            "float32\n",
            "Random:  [[49 33 53]\n",
            " [44 23 49]\n",
            " [24 17 22]]\n"
          ],
          "name": "stdout"
        }
      ]
    },
    {
      "cell_type": "code",
      "metadata": {
        "colab": {
          "base_uri": "https://localhost:8080/"
        },
        "id": "yL-YNB_twSsW",
        "outputId": "430d1236-7da1-4203-a318-3cd8496bf0fd"
      },
      "source": [
        "np_array_2d[0, 1] = 2\n",
        "np_array_2d.itemset((1, 3), 2)\n",
        "print(np_array_2d)\n",
        "print(\"Shape: \", np_array_2d.shape)\n",
        "print(np_array_2d.item(0, 2))\n",
        "\n",
        "# getting specifics indexes\n",
        "print(np.take(np_array_2d, [0, 3]))\n",
        "# replacing values (first the index, second the values)\n",
        "np.put(np_array_2d, [0, 3, 6], [0, 0, 0])\n",
        "print(np_array_2d)\n",
        "\n",
        "# slicing array (from 0 to 5 step 2)\n",
        "print(np_array[:5:2])\n",
        "# get values from second array\n",
        "print(np_array_2d[:,1])\n",
        "# flip array\n",
        "print(np_array[::-1])\n",
        "# even or odd numbers, and other conditions\n",
        "print(np_array[np_array % 2 == 0])\n",
        "print(np_array[np_array % 2 != 0])\n",
        "print(np_array[(np_array > 2) & (np_array < 5)])\n",
        "print(np_array[(np_array > 2) | (np_array == 9)])\n",
        "\n",
        "np_array[1] = 2\n",
        "np_array[2] = 2\n",
        "np_array[3] = 2\n",
        "print(np_array[::-1])\n",
        "print(np.unique(np_array))"
      ],
      "execution_count": 52,
      "outputs": [
        {
          "output_type": "stream",
          "text": [
            "[[ 0.  2.  2.  0.  4.]\n",
            " [ 5.  0.  7.  2.  9.]\n",
            " [10. 11. 12. 13. 14.]]\n",
            "Shape:  (3, 5)\n",
            "2.0\n",
            "[0. 0.]\n",
            "[[ 0.  2.  2.  0.  4.]\n",
            " [ 5.  0.  7.  2.  9.]\n",
            " [10. 11. 12. 13. 14.]]\n",
            "[1. 3. 5.]\n",
            "[ 2.  0. 11.]\n",
            "[9. 8. 7. 6. 5. 4. 3. 2. 1.]\n",
            "[2. 4. 6. 8.]\n",
            "[1. 3. 5. 7. 9.]\n",
            "[3. 4.]\n",
            "[3. 4. 5. 6. 7. 8. 9.]\n",
            "[9. 8. 7. 6. 5. 4. 2. 2. 1.]\n",
            "[1. 2. 4. 5. 6. 7. 8. 9.]\n"
          ],
          "name": "stdout"
        }
      ]
    },
    {
      "cell_type": "code",
      "metadata": {
        "colab": {
          "base_uri": "https://localhost:8080/"
        },
        "id": "Y5cIivWzyUuD",
        "outputId": "f3456521-6f2f-4407-c055-2588e5b7f1e6"
      },
      "source": [
        "# reshaping array (gives a new shape to an array without changing its data.)\n",
        "# first is the number of rows and second is the number of cols\n",
        "print(np_array.reshape((3,3)))\n",
        "''' resize array\n",
        "    Return a new array with the specified shape.\n",
        "\n",
        "    If the new array is larger than the original array, then the new\n",
        "    array is filled with repeated copies of a.  Note that this behavior\n",
        "    is different from a.resize(new_shape) which fills with zeros instead\n",
        "    of repeated copies of a.\n",
        "'''\n",
        "print(np.resize(np_array, (2, 5)))\n",
        "\n",
        "'''\n",
        "    In linear algebra, the transpose of a matrix is an operator which flips a matrix \n",
        "    over its diagonal; that is, it switches the row and column indices of the matrix \n",
        "    A by producing another matrix, often denoted by AT (among other notations).\n",
        "\n",
        "'''\n",
        "print(\"before transposing: \\n\", np_array_2d)\n",
        "print(\"after transposing: \\n\", np_array_2d.transpose())\n",
        "# swaping values from two index\n",
        "np.resize(np_array_2d, (2, 5))\n",
        "print(\"before swap axes: \\n\", np_array_2d)\n",
        "print(\"Swap axes: \\n\", np_array_2d.swapaxes(0, 1))\n",
        "\n",
        "# flatten array\n",
        "print(np_array_2d.flatten())\n",
        "\n",
        "# flatten in collunm order\n",
        "print(np_array_2d.flatten('F'))\n",
        "# sort rows\n",
        "np_array_2d_random = np.random.randint(1, 50, size=(4, 4))\n",
        "print(\"Before sort: \\n\", np_array_2d_random)\n",
        "np_array_2d_random.sort(axis=1)\n",
        "print(\"Sort rows:\\n\",np_array_2d_random)\n",
        "#  sort cols\n",
        "np_array_2d_random.sort(axis=0)\n",
        "print(\"sort cols:\\n\",np_array_2d_random)"
      ],
      "execution_count": 83,
      "outputs": [
        {
          "output_type": "stream",
          "text": [
            "[[1. 2. 2.]\n",
            " [4. 5. 6.]\n",
            " [7. 8. 9.]]\n",
            "[[1. 2. 2. 4. 5.]\n",
            " [6. 7. 8. 9. 1.]]\n",
            "before transposing: \n",
            " [[ 0.  0.  2.  2.  4.]\n",
            " [ 0.  2.  5.  7.  9.]\n",
            " [10. 11. 12. 13. 14.]]\n",
            "after transposing: \n",
            " [[ 0.  0. 10.]\n",
            " [ 0.  2. 11.]\n",
            " [ 2.  5. 12.]\n",
            " [ 2.  7. 13.]\n",
            " [ 4.  9. 14.]]\n",
            "before swap axes: \n",
            " [[ 0.  0.  2.  2.  4.]\n",
            " [ 0.  2.  5.  7.  9.]\n",
            " [10. 11. 12. 13. 14.]]\n",
            "Swap axes: \n",
            " [[ 0.  0. 10.]\n",
            " [ 0.  2. 11.]\n",
            " [ 2.  5. 12.]\n",
            " [ 2.  7. 13.]\n",
            " [ 4.  9. 14.]]\n",
            "[ 0.  0.  2.  2.  4.  0.  2.  5.  7.  9. 10. 11. 12. 13. 14.]\n",
            "[ 0.  0. 10.  0.  2. 11.  2.  5. 12.  2.  7. 13.  4.  9. 14.]\n",
            "Before sort: \n",
            " [[37 46 45 25]\n",
            " [ 6 42 26 17]\n",
            " [15 11 21  1]\n",
            " [42 22  2 37]]\n",
            "Sort rows:\n",
            " [[25 37 45 46]\n",
            " [ 6 17 26 42]\n",
            " [ 1 11 15 21]\n",
            " [ 2 22 37 42]]\n",
            "sort cols:\n",
            " [[ 1 11 15 21]\n",
            " [ 2 17 26 42]\n",
            " [ 6 22 37 42]\n",
            " [25 37 45 46]]\n"
          ],
          "name": "stdout"
        }
      ]
    },
    {
      "cell_type": "code",
      "metadata": {
        "id": "0UAHWlLr7t-Z"
      },
      "source": [
        ""
      ],
      "execution_count": null,
      "outputs": []
    }
  ]
}