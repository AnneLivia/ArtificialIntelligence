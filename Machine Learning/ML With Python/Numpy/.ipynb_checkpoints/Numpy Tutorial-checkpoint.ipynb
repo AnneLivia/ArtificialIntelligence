{
 "cells": [
  {
   "cell_type": "markdown",
   "metadata": {},
   "source": [
    "According to Derek Banas: NumPy is an amazing scientific computing library that is used by numerous other Python Data Science libraries. NumPy contains many mathematical, array and string functions that are extremely useful. Along with all the basic math functions you'll also find them for Linear Algebra, Statistics, Simulation, etc.\n",
    "\n",
    "NumPy (Numerical Python) is an open source Python library that’s used in almost every field of science and engineering. It’s the universal standard for working with numerical data in Python, and it’s at the core of the scientific Python and PyData ecosystems. NumPy users include everyone from beginning coders to experienced researchers doing state-of-the-art scientific and industrial research and development. The NumPy API is used extensively in Pandas, SciPy, Matplotlib, scikit-learn, scikit-image and most other data science and scientific Python packages.\n",
    "\n",
    "The NumPy library contains multidimensional array and matrix data structures (you’ll find more information about this in later sections). It provides ndarray, a homogeneous n-dimensional array object, with methods to efficiently operate on it. NumPy can be used to perform a wide variety of mathematical operations on arrays. It adds powerful data structures to Python that guarantee efficient calculations with arrays and matrices and it supplies an enormous library of high-level mathematical functions that operate on these arrays and matrices.\n",
    "\n",
    "\n",
    "# Numpy Arrrays\n",
    "\n",
    "## Creating Arrays"
   ]
  },
  {
   "cell_type": "code",
   "execution_count": 4,
   "metadata": {},
   "outputs": [],
   "source": [
    "# To access NumPy and its functions import it in your Python code like this:\n",
    "import numpy as np\n",
    "import matplotlib.pylab as plt\n",
    "from numpy import random"
   ]
  },
  {
   "cell_type": "code",
   "execution_count": 24,
   "metadata": {},
   "outputs": [
    {
     "data": {
      "text/plain": [
       "dtype('int32')"
      ]
     },
     "execution_count": 24,
     "metadata": {},
     "output_type": "execute_result"
    }
   ],
   "source": [
    "list1 = [1, 2, 3, 4, 5, 6] # regular python list\n",
    "\n",
    "# one dimensional array with numpy\n",
    "np_array_1 = np.array(list1, dtype=np.int8)\n",
    "\n",
    "np_array_1\n",
    "\n",
    "list2 = [[1, 2, 3], [4, 5, 6]] # regular python list\n",
    "\n",
    "# multidimensional array with numpy\n",
    "np_array_2 = np.array(list2)\n",
    "np_array_2\n",
    "\n",
    "# range of values (start_value, stop_value - 1, step)\n",
    "np.arange(1, 20, 2)\n",
    "\n",
    "# generating floats\n",
    "np.linspace(0, 5, 5)\n",
    "# generate zero array\n",
    "np.zeros(4)\n",
    "# multidimensional (4, 5)\n",
    "np.zeros((4,5))\n",
    "# generating ones\n",
    "np.ones((3,3))\n",
    "#number of items\n",
    "np_array_2.size\n",
    "# generating arrays with default values\n",
    "np_arr_2 = np.array([1,2,3,4,5,6])\n",
    "np_arr_2\n",
    "np_arr_3 = np.array([[1,2,3],[4,5,6]])\n",
    "np_arr_3\n",
    "\n",
    "# getting the array data type\n",
    "np_arr_3.dtype"
   ]
  },
  {
   "cell_type": "markdown",
   "metadata": {},
   "source": [
    "Data types in numpy are:\n",
    "- Data Types\n",
    "- Boolean : np.bool_\n",
    "- Char : np.byte\n",
    "- Short : np.short\n",
    "- Integer : np.short\n",
    "- Long : np.int_\n",
    "- Float : np.single & np.float32\n",
    "- Double : np.double & np.float64\n",
    "- np.int8 : -128 to 127\n",
    "- np.int16 : -32768 to 32767\n",
    "- np.int32 : -2147483648 to 2147483647\n",
    "- np.int64 : -9223372036854775808 to 9223372036854775807"
   ]
  },
  {
   "cell_type": "code",
   "execution_count": 26,
   "metadata": {},
   "outputs": [
    {
     "data": {
      "text/plain": [
       "array([[18, 24, 28, 32],\n",
       "       [32, 24, 25, 34],\n",
       "       [38, 21, 42, 39]])"
      ]
     },
     "execution_count": 26,
     "metadata": {},
     "output_type": "execute_result"
    }
   ],
   "source": [
    "# generate random arrays start, end and amount of values. \n",
    "np.random.randint(10, 50, 5)\n",
    "\n",
    "# generate random arrays start, end and amount of values. multidimensional\n",
    "np.random.randint(10, 50, (3,4))"
   ]
  },
  {
   "cell_type": "code",
   "execution_count": 28,
   "metadata": {},
   "outputs": [],
   "source": [
    "# if i want to know more about a funtion I can insert a ? in front of the function\n",
    "np.random.randint?"
   ]
  },
  {
   "cell_type": "markdown",
   "metadata": {},
   "source": [
    "# Slicing and indexes"
   ]
  },
  {
   "cell_type": "code",
   "execution_count": 29,
   "metadata": {},
   "outputs": [
    {
     "data": {
      "text/plain": [
       "array([[1, 2, 3],\n",
       "       [4, 5, 6]])"
      ]
     },
     "execution_count": 29,
     "metadata": {},
     "output_type": "execute_result"
    }
   ],
   "source": [
    "np_arr_3"
   ]
  },
  {
   "cell_type": "code",
   "execution_count": 32,
   "metadata": {},
   "outputs": [],
   "source": [
    "# changing a value in a array\n",
    "np_arr_3[0, 0] = 5"
   ]
  },
  {
   "cell_type": "code",
   "execution_count": 33,
   "metadata": {},
   "outputs": [
    {
     "data": {
      "text/plain": [
       "array([[5, 2, 3],\n",
       "       [4, 5, 6]])"
      ]
     },
     "execution_count": 33,
     "metadata": {},
     "output_type": "execute_result"
    }
   ],
   "source": [
    "np_arr_3"
   ]
  },
  {
   "cell_type": "code",
   "execution_count": null,
   "metadata": {},
   "outputs": [],
   "source": [
    "# different way to change it first is the index, second is the value\n",
    "np_arr_3.itemset((0, 1), 1) "
   ]
  }
 ],
 "metadata": {
  "kernelspec": {
   "display_name": "Python 3",
   "language": "python",
   "name": "python3"
  },
  "language_info": {
   "codemirror_mode": {
    "name": "ipython",
    "version": 3
   },
   "file_extension": ".py",
   "mimetype": "text/x-python",
   "name": "python",
   "nbconvert_exporter": "python",
   "pygments_lexer": "ipython3",
   "version": "3.6.8"
  }
 },
 "nbformat": 4,
 "nbformat_minor": 2
}
