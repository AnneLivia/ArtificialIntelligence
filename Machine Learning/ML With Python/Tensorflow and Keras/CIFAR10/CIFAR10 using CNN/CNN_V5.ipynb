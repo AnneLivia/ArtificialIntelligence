{
  "nbformat": 4,
  "nbformat_minor": 0,
  "metadata": {
    "colab": {
      "name": "CNN_V5.ipynb",
      "provenance": []
    },
    "kernelspec": {
      "name": "python3",
      "display_name": "Python 3"
    }
  },
  "cells": [
    {
      "cell_type": "code",
      "metadata": {
        "id": "AW71Ck9zDkGP"
      },
      "source": [
        "# This is a dataset of 50,000 32x32 color training images and 10,000 test images, labeled over 10 categories\n",
        "from keras.datasets import cifar10\n",
        "from sklearn.model_selection import train_test_split\n",
        "import matplotlib.pyplot as plt\n"
      ],
      "execution_count": null,
      "outputs": []
    },
    {
      "cell_type": "code",
      "metadata": {
        "colab": {
          "base_uri": "https://localhost:8080/"
        },
        "id": "-P2Ltjp0FfkN",
        "outputId": "d56e44de-a57d-44f5-d8db-b571c7433bc4"
      },
      "source": [
        "(x_train, y_train), (x_test, y_test) = cifar10.load_data()"
      ],
      "execution_count": null,
      "outputs": [
        {
          "output_type": "stream",
          "text": [
            "Downloading data from https://www.cs.toronto.edu/~kriz/cifar-10-python.tar.gz\n",
            "170500096/170498071 [==============================] - 3s 0us/step\n"
          ],
          "name": "stdout"
        }
      ]
    },
    {
      "cell_type": "code",
      "metadata": {
        "id": "j7mUQvZsFr2M"
      },
      "source": [
        "x_train, x_val, y_train, y_val = train_test_split(x_train, y_train, test_size=0.5, stratify=y_train)"
      ],
      "execution_count": null,
      "outputs": []
    },
    {
      "cell_type": "code",
      "metadata": {
        "colab": {
          "base_uri": "https://localhost:8080/"
        },
        "id": "dCB-m0MjF3jq",
        "outputId": "d21f08a8-6c3e-409b-d1ee-d04d1e89c0de"
      },
      "source": [
        "print(len(y_train), len(y_val), len(y_test))"
      ],
      "execution_count": null,
      "outputs": [
        {
          "output_type": "stream",
          "text": [
            "25000 25000 10000\n"
          ],
          "name": "stdout"
        }
      ]
    },
    {
      "cell_type": "code",
      "metadata": {
        "colab": {
          "base_uri": "https://localhost:8080/",
          "height": 266
        },
        "id": "_cXkzdWKF_m8",
        "outputId": "ebf8827f-7adf-403d-d202-aec29abb139c"
      },
      "source": [
        "plt.imshow(x_train[0])\n",
        "plt.show()"
      ],
      "execution_count": null,
      "outputs": [
        {
          "output_type": "display_data",
          "data": {
            "image/png": "[encoded data removed]",
            "text/plain": [
              "<Figure size 432x288 with 1 Axes>"
            ]
          },
          "metadata": {
            "tags": [],
            "needs_background": "light"
          }
        }
      ]
    },
    {
      "cell_type": "code",
      "metadata": {
        "colab": {
          "base_uri": "https://localhost:8080/",
          "height": 268
        },
        "id": "zbHMFrRQGFqg",
        "outputId": "30b99434-013e-447f-fe35-988798c37991"
      },
      "source": [
        "plt.subplot(221)\n",
        "plt.imshow(x_train[0])\n",
        "plt.subplot(222)\n",
        "plt.imshow(x_train[1])\n",
        "plt.subplot(223)\n",
        "plt.imshow(x_train[2])\n",
        "plt.subplot(224)\n",
        "plt.imshow(x_train[3])\n",
        "plt.show()"
      ],
      "execution_count": null,
      "outputs": [
        {
          "output_type": "display_data",
          "data": {
            "image/png": "[encoded data removed]",
            "text/plain": [
              "<Figure size 432x288 with 4 Axes>"
            ]
          },
          "metadata": {
            "tags": [],
            "needs_background": "light"
          }
        }
      ]
    },
    {
      "cell_type": "code",
      "metadata": {
        "id": "CqWRfVp0GVkx"
      },
      "source": [
        "# need to specify 32x32 and 3 channels since it's a colored dataset\n",
        "x_train = x_train.reshape(x_train.shape[0], 32, 32, 3).astype('float32')\n",
        "x_test = x_test.reshape(x_test.shape[0], 32, 32, 3).astype('float32')\n",
        "x_val = x_val.reshape(x_val.shape[0], 32, 32, 3).astype('float32')"
      ],
      "execution_count": null,
      "outputs": []
    },
    {
      "cell_type": "code",
      "metadata": {
        "id": "poHuZdWOG9Ox"
      },
      "source": [
        "# need to normalize values \n",
        "x_train = x_train / 255\n",
        "x_test = x_test / 255\n",
        "x_val = x_val / 255"
      ],
      "execution_count": null,
      "outputs": []
    },
    {
      "cell_type": "code",
      "metadata": {
        "id": "h4N0VlLtHJDj"
      },
      "source": [
        "import numpy\n",
        "from keras.models import Sequential\n",
        "from keras.layers import Dense\n",
        "from keras.layers import Dropout\n",
        "from keras.layers import Flatten\n",
        "from keras.layers.convolutional import Conv2D\n",
        "from keras.layers.convolutional import MaxPooling2D\n",
        "from keras.utils import np_utils"
      ],
      "execution_count": null,
      "outputs": []
    },
    {
      "cell_type": "code",
      "metadata": {
        "colab": {
          "base_uri": "https://localhost:8080/"
        },
        "id": "11SlhERSHn9o",
        "outputId": "926f2a4a-b74d-4456-9808-82c66b21b55f"
      },
      "source": [
        "y_train = np_utils.to_categorical(y_train)\n",
        "y_val = np_utils.to_categorical(y_val)\n",
        "y_test = np_utils.to_categorical(y_test)\n",
        "\n",
        "num_classes = y_test.shape[1]\n",
        "\n",
        "print(num_classes)"
      ],
      "execution_count": null,
      "outputs": [
        {
          "output_type": "stream",
          "text": [
            "10\n"
          ],
          "name": "stdout"
        }
      ]
    },
    {
      "cell_type": "code",
      "metadata": {
        "id": "RXU8Kc29H4sL"
      },
      "source": [
        "def baseline_model():\n",
        "  model = Sequential()\n",
        "  model.add(Conv2D(40, (3, 3), input_shape=(32, 32, 3), activation='relu'))\n",
        "  model.add(MaxPooling2D(pool_size = (2, 2)))\n",
        "  model.add(Conv2D(120, (3, 3), activation='relu'))\n",
        "  model.add(MaxPooling2D(pool_size = (2, 2)))\n",
        "  model.add(Dropout(0.2))\n",
        "  model.add(Conv2D(180, (3, 3), activation='relu'))\n",
        "  model.add(MaxPooling2D(pool_size = (2, 2)))\n",
        "  model.add(Flatten())\n",
        "  model.add(Dense(130, activation='relu'))\n",
        "  model.add(Dropout(0.5))\n",
        "  model.add(Dense(num_classes, activation='softmax'))\n",
        "  model.compile(loss = 'categorical_crossentropy', optimizer='adam', metrics=['accuracy'])\n",
        "  return model"
      ],
      "execution_count": null,
      "outputs": []
    },
    {
      "cell_type": "code",
      "metadata": {
        "id": "1RHle-5sIkmd"
      },
      "source": [
        "model = baseline_model()"
      ],
      "execution_count": null,
      "outputs": []
    },
    {
      "cell_type": "code",
      "metadata": {
        "colab": {
          "base_uri": "https://localhost:8080/"
        },
        "id": "3-zQCNc5Im2r",
        "outputId": "bf8cdfe5-3418-41fc-9ce4-99717166d4bd"
      },
      "source": [
        "model.fit(x_train, y_train, validation_data=(x_val, y_val), epochs=80, batch_size=300)"
      ],
      "execution_count": null,
      "outputs": [
        {
          "output_type": "stream",
          "text": [
            "Epoch 1/80\n",
            "84/84 [==============================] - 73s 863ms/step - loss: 1.8152 - accuracy: 0.3156 - val_loss: 1.5988 - val_accuracy: 0.4124\n",
            "Epoch 2/80\n",
            "84/84 [==============================] - 76s 903ms/step - loss: 1.5991 - accuracy: 0.4078 - val_loss: 1.4278 - val_accuracy: 0.4768\n",
            "Epoch 3/80\n",
            "84/84 [==============================] - 71s 840ms/step - loss: 1.4682 - accuracy: 0.4646 - val_loss: 1.3397 - val_accuracy: 0.5248\n",
            "Epoch 4/80\n",
            "84/84 [==============================] - 71s 849ms/step - loss: 1.3870 - accuracy: 0.5038 - val_loss: 1.2806 - val_accuracy: 0.5485\n",
            "Epoch 5/80\n",
            "84/84 [==============================] - 73s 866ms/step - loss: 1.3243 - accuracy: 0.5252 - val_loss: 1.2144 - val_accuracy: 0.5660\n",
            "Epoch 6/80\n",
            "84/84 [==============================] - 71s 846ms/step - loss: 1.2673 - accuracy: 0.5480 - val_loss: 1.2360 - val_accuracy: 0.5550\n",
            "Epoch 7/80\n",
            "84/84 [==============================] - 73s 873ms/step - loss: 1.2202 - accuracy: 0.5661 - val_loss: 1.1222 - val_accuracy: 0.6059\n",
            "Epoch 8/80\n",
            "84/84 [==============================] - 71s 847ms/step - loss: 1.1516 - accuracy: 0.5917 - val_loss: 1.0812 - val_accuracy: 0.6204\n",
            "Epoch 9/80\n",
            "84/84 [==============================] - 71s 840ms/step - loss: 1.1224 - accuracy: 0.6025 - val_loss: 1.0596 - val_accuracy: 0.6320\n",
            "Epoch 10/80\n",
            "84/84 [==============================] - 71s 841ms/step - loss: 1.0731 - accuracy: 0.6206 - val_loss: 1.0084 - val_accuracy: 0.6508\n",
            "Epoch 11/80\n",
            "84/84 [==============================] - 71s 842ms/step - loss: 1.0219 - accuracy: 0.6381 - val_loss: 0.9841 - val_accuracy: 0.6574\n",
            "Epoch 12/80\n",
            "84/84 [==============================] - 71s 843ms/step - loss: 1.0037 - accuracy: 0.6486 - val_loss: 0.9685 - val_accuracy: 0.6628\n",
            "Epoch 13/80\n",
            "84/84 [==============================] - 70s 836ms/step - loss: 0.9565 - accuracy: 0.6662 - val_loss: 0.9476 - val_accuracy: 0.6692\n",
            "Epoch 14/80\n",
            "84/84 [==============================] - 71s 844ms/step - loss: 0.9441 - accuracy: 0.6705 - val_loss: 0.9581 - val_accuracy: 0.6645\n",
            "Epoch 15/80\n",
            "84/84 [==============================] - 70s 837ms/step - loss: 0.9065 - accuracy: 0.6852 - val_loss: 0.9155 - val_accuracy: 0.6804\n",
            "Epoch 16/80\n",
            "84/84 [==============================] - 70s 837ms/step - loss: 0.8679 - accuracy: 0.6978 - val_loss: 0.8946 - val_accuracy: 0.6888\n",
            "Epoch 17/80\n",
            "84/84 [==============================] - 71s 840ms/step - loss: 0.8461 - accuracy: 0.7030 - val_loss: 0.8922 - val_accuracy: 0.6901\n",
            "Epoch 18/80\n",
            "84/84 [==============================] - 70s 839ms/step - loss: 0.8247 - accuracy: 0.7120 - val_loss: 0.8994 - val_accuracy: 0.6880\n",
            "Epoch 19/80\n",
            "84/84 [==============================] - 72s 853ms/step - loss: 0.8000 - accuracy: 0.7180 - val_loss: 0.8686 - val_accuracy: 0.6966\n",
            "Epoch 20/80\n",
            "84/84 [==============================] - 70s 839ms/step - loss: 0.7754 - accuracy: 0.7286 - val_loss: 0.8696 - val_accuracy: 0.6990\n",
            "Epoch 21/80\n",
            "84/84 [==============================] - 70s 834ms/step - loss: 0.7513 - accuracy: 0.7366 - val_loss: 0.8982 - val_accuracy: 0.6949\n",
            "Epoch 22/80\n",
            "84/84 [==============================] - 70s 837ms/step - loss: 0.7299 - accuracy: 0.7464 - val_loss: 0.8558 - val_accuracy: 0.7041\n",
            "Epoch 23/80\n",
            "84/84 [==============================] - 71s 849ms/step - loss: 0.6903 - accuracy: 0.7555 - val_loss: 0.9022 - val_accuracy: 0.6918\n",
            "Epoch 24/80\n",
            "84/84 [==============================] - 71s 842ms/step - loss: 0.6842 - accuracy: 0.7585 - val_loss: 0.8482 - val_accuracy: 0.7112\n",
            "Epoch 25/80\n",
            "84/84 [==============================] - 70s 839ms/step - loss: 0.6517 - accuracy: 0.7715 - val_loss: 0.8309 - val_accuracy: 0.7173\n",
            "Epoch 26/80\n",
            "84/84 [==============================] - 70s 835ms/step - loss: 0.6423 - accuracy: 0.7748 - val_loss: 0.8431 - val_accuracy: 0.7168\n",
            "Epoch 27/80\n",
            "84/84 [==============================] - 70s 838ms/step - loss: 0.6105 - accuracy: 0.7864 - val_loss: 0.8248 - val_accuracy: 0.7215\n",
            "Epoch 28/80\n",
            "84/84 [==============================] - 71s 849ms/step - loss: 0.5868 - accuracy: 0.7950 - val_loss: 0.8405 - val_accuracy: 0.7181\n",
            "Epoch 29/80\n",
            "84/84 [==============================] - 71s 840ms/step - loss: 0.5720 - accuracy: 0.7995 - val_loss: 0.8181 - val_accuracy: 0.7285\n",
            "Epoch 30/80\n",
            "84/84 [==============================] - 70s 838ms/step - loss: 0.5542 - accuracy: 0.8034 - val_loss: 0.8428 - val_accuracy: 0.7199\n",
            "Epoch 31/80\n",
            "84/84 [==============================] - 70s 839ms/step - loss: 0.5354 - accuracy: 0.8124 - val_loss: 0.8554 - val_accuracy: 0.7184\n",
            "Epoch 32/80\n",
            "84/84 [==============================] - 71s 846ms/step - loss: 0.5283 - accuracy: 0.8113 - val_loss: 0.8720 - val_accuracy: 0.7192\n",
            "Epoch 33/80\n",
            "84/84 [==============================] - 70s 839ms/step - loss: 0.5081 - accuracy: 0.8192 - val_loss: 0.8467 - val_accuracy: 0.7279\n",
            "Epoch 34/80\n",
            "84/84 [==============================] - 70s 838ms/step - loss: 0.4920 - accuracy: 0.8234 - val_loss: 0.8584 - val_accuracy: 0.7220\n",
            "Epoch 35/80\n",
            "84/84 [==============================] - 70s 838ms/step - loss: 0.4850 - accuracy: 0.8297 - val_loss: 0.8568 - val_accuracy: 0.7260\n",
            "Epoch 36/80\n",
            "84/84 [==============================] - 70s 839ms/step - loss: 0.4640 - accuracy: 0.8330 - val_loss: 0.8570 - val_accuracy: 0.7254\n",
            "Epoch 37/80\n",
            "84/84 [==============================] - 73s 864ms/step - loss: 0.4534 - accuracy: 0.8375 - val_loss: 0.8828 - val_accuracy: 0.7236\n",
            "Epoch 38/80\n",
            "84/84 [==============================] - 70s 839ms/step - loss: 0.4342 - accuracy: 0.8475 - val_loss: 0.8580 - val_accuracy: 0.7296\n",
            "Epoch 39/80\n",
            "84/84 [==============================] - 70s 837ms/step - loss: 0.4169 - accuracy: 0.8527 - val_loss: 0.8774 - val_accuracy: 0.7237\n",
            "Epoch 40/80\n",
            "84/84 [==============================] - 70s 835ms/step - loss: 0.4097 - accuracy: 0.8545 - val_loss: 0.9458 - val_accuracy: 0.7188\n",
            "Epoch 41/80\n",
            "84/84 [==============================] - 71s 845ms/step - loss: 0.4016 - accuracy: 0.8576 - val_loss: 0.9032 - val_accuracy: 0.7277\n",
            "Epoch 42/80\n",
            "84/84 [==============================] - 70s 834ms/step - loss: 0.4002 - accuracy: 0.8586 - val_loss: 0.8828 - val_accuracy: 0.7324\n",
            "Epoch 43/80\n",
            "84/84 [==============================] - 70s 831ms/step - loss: 0.3797 - accuracy: 0.8650 - val_loss: 0.9227 - val_accuracy: 0.7270\n",
            "Epoch 44/80\n",
            "84/84 [==============================] - 70s 833ms/step - loss: 0.3673 - accuracy: 0.8686 - val_loss: 0.9210 - val_accuracy: 0.7271\n",
            "Epoch 45/80\n",
            "84/84 [==============================] - 71s 840ms/step - loss: 0.3558 - accuracy: 0.8736 - val_loss: 0.9432 - val_accuracy: 0.7261\n",
            "Epoch 46/80\n",
            "84/84 [==============================] - 71s 842ms/step - loss: 0.3407 - accuracy: 0.8785 - val_loss: 0.9751 - val_accuracy: 0.7193\n",
            "Epoch 47/80\n",
            "84/84 [==============================] - 70s 839ms/step - loss: 0.3388 - accuracy: 0.8794 - val_loss: 0.9412 - val_accuracy: 0.7312\n",
            "Epoch 48/80\n",
            "84/84 [==============================] - 70s 838ms/step - loss: 0.3231 - accuracy: 0.8848 - val_loss: 0.9752 - val_accuracy: 0.7244\n",
            "Epoch 49/80\n",
            "84/84 [==============================] - 70s 837ms/step - loss: 0.3305 - accuracy: 0.8814 - val_loss: 0.9646 - val_accuracy: 0.7237\n",
            "Epoch 50/80\n",
            "84/84 [==============================] - 71s 850ms/step - loss: 0.3077 - accuracy: 0.8902 - val_loss: 0.9865 - val_accuracy: 0.7286\n",
            "Epoch 51/80\n",
            "84/84 [==============================] - 70s 838ms/step - loss: 0.3016 - accuracy: 0.8910 - val_loss: 1.0071 - val_accuracy: 0.7274\n",
            "Epoch 52/80\n",
            "84/84 [==============================] - 70s 837ms/step - loss: 0.3063 - accuracy: 0.8909 - val_loss: 1.0060 - val_accuracy: 0.7215\n",
            "Epoch 53/80\n",
            "84/84 [==============================] - 70s 838ms/step - loss: 0.3018 - accuracy: 0.8919 - val_loss: 1.0030 - val_accuracy: 0.7282\n",
            "Epoch 54/80\n",
            "84/84 [==============================] - 70s 838ms/step - loss: 0.2793 - accuracy: 0.9001 - val_loss: 1.0309 - val_accuracy: 0.7256\n",
            "Epoch 55/80\n",
            "84/84 [==============================] - 71s 848ms/step - loss: 0.2872 - accuracy: 0.8983 - val_loss: 1.0009 - val_accuracy: 0.7257\n",
            "Epoch 56/80\n",
            "84/84 [==============================] - 70s 833ms/step - loss: 0.2721 - accuracy: 0.9067 - val_loss: 1.0244 - val_accuracy: 0.7290\n",
            "Epoch 57/80\n",
            "84/84 [==============================] - 72s 852ms/step - loss: 0.2693 - accuracy: 0.9026 - val_loss: 1.0760 - val_accuracy: 0.7194\n",
            "Epoch 58/80\n",
            "84/84 [==============================] - 71s 843ms/step - loss: 0.2581 - accuracy: 0.9078 - val_loss: 1.0391 - val_accuracy: 0.7310\n",
            "Epoch 59/80\n",
            "84/84 [==============================] - 71s 850ms/step - loss: 0.2494 - accuracy: 0.9121 - val_loss: 1.0684 - val_accuracy: 0.7280\n",
            "Epoch 60/80\n",
            "84/84 [==============================] - 71s 841ms/step - loss: 0.2478 - accuracy: 0.9112 - val_loss: 1.0495 - val_accuracy: 0.7292\n",
            "Epoch 61/80\n",
            "84/84 [==============================] - 70s 839ms/step - loss: 0.2505 - accuracy: 0.9108 - val_loss: 1.0541 - val_accuracy: 0.7256\n",
            "Epoch 62/80\n",
            "84/84 [==============================] - 71s 842ms/step - loss: 0.2473 - accuracy: 0.9111 - val_loss: 1.0624 - val_accuracy: 0.7285\n",
            "Epoch 63/80\n",
            "84/84 [==============================] - 71s 847ms/step - loss: 0.2356 - accuracy: 0.9152 - val_loss: 1.0891 - val_accuracy: 0.7304\n",
            "Epoch 64/80\n",
            "84/84 [==============================] - 71s 841ms/step - loss: 0.2337 - accuracy: 0.9167 - val_loss: 1.1145 - val_accuracy: 0.7278\n",
            "Epoch 65/80\n",
            "84/84 [==============================] - 71s 840ms/step - loss: 0.2365 - accuracy: 0.9148 - val_loss: 1.1079 - val_accuracy: 0.7260\n",
            "Epoch 66/80\n",
            "84/84 [==============================] - 70s 839ms/step - loss: 0.2243 - accuracy: 0.9179 - val_loss: 1.1440 - val_accuracy: 0.7279\n",
            "Epoch 67/80\n",
            "84/84 [==============================] - 71s 840ms/step - loss: 0.2197 - accuracy: 0.9227 - val_loss: 1.1409 - val_accuracy: 0.7290\n",
            "Epoch 68/80\n",
            "84/84 [==============================] - 71s 846ms/step - loss: 0.2174 - accuracy: 0.9228 - val_loss: 1.1329 - val_accuracy: 0.7236\n",
            "Epoch 69/80\n",
            "84/84 [==============================] - 71s 840ms/step - loss: 0.2194 - accuracy: 0.9233 - val_loss: 1.1376 - val_accuracy: 0.7259\n",
            "Epoch 70/80\n",
            "84/84 [==============================] - 71s 840ms/step - loss: 0.2135 - accuracy: 0.9230 - val_loss: 1.1956 - val_accuracy: 0.7252\n",
            "Epoch 71/80\n",
            "84/84 [==============================] - 71s 841ms/step - loss: 0.2088 - accuracy: 0.9276 - val_loss: 1.1977 - val_accuracy: 0.7261\n",
            "Epoch 72/80\n",
            "84/84 [==============================] - 71s 840ms/step - loss: 0.2180 - accuracy: 0.9224 - val_loss: 1.1483 - val_accuracy: 0.7298\n",
            "Epoch 73/80\n",
            "84/84 [==============================] - 71s 848ms/step - loss: 0.2030 - accuracy: 0.9280 - val_loss: 1.1362 - val_accuracy: 0.7274\n",
            "Epoch 74/80\n",
            "84/84 [==============================] - 70s 838ms/step - loss: 0.1921 - accuracy: 0.9330 - val_loss: 1.2383 - val_accuracy: 0.7262\n",
            "Epoch 75/80\n",
            "84/84 [==============================] - 70s 836ms/step - loss: 0.1895 - accuracy: 0.9335 - val_loss: 1.2411 - val_accuracy: 0.7247\n",
            "Epoch 76/80\n",
            "84/84 [==============================] - 71s 842ms/step - loss: 0.1932 - accuracy: 0.9322 - val_loss: 1.2042 - val_accuracy: 0.7237\n",
            "Epoch 77/80\n",
            "84/84 [==============================] - 72s 854ms/step - loss: 0.1849 - accuracy: 0.9331 - val_loss: 1.2116 - val_accuracy: 0.7289\n",
            "Epoch 78/80\n",
            "84/84 [==============================] - 71s 842ms/step - loss: 0.1966 - accuracy: 0.9315 - val_loss: 1.1984 - val_accuracy: 0.7295\n",
            "Epoch 79/80\n",
            "84/84 [==============================] - 71s 839ms/step - loss: 0.1933 - accuracy: 0.9351 - val_loss: 1.1960 - val_accuracy: 0.7222\n",
            "Epoch 80/80\n",
            "84/84 [==============================] - 71s 840ms/step - loss: 0.1754 - accuracy: 0.9363 - val_loss: 1.2567 - val_accuracy: 0.7265\n"
          ],
          "name": "stdout"
        },
        {
          "output_type": "execute_result",
          "data": {
            "text/plain": [
              "<tensorflow.python.keras.callbacks.History at 0x7fcec3ee0fd0>"
            ]
          },
          "metadata": {
            "tags": []
          },
          "execution_count": 19
        }
      ]
    },
    {
      "cell_type": "code",
      "metadata": {
        "colab": {
          "base_uri": "https://localhost:8080/"
        },
        "id": "mXXxSH9fIxA2",
        "outputId": "60eba8c6-f16a-4234-f70f-8efd40e8116d"
      },
      "source": [
        "scores = model.evaluate(x_test, y_test)\n",
        "result_error = str('%.2f'%(1 - scores[1]))\n",
        "print('Error: ', result_error)"
      ],
      "execution_count": null,
      "outputs": [
        {
          "output_type": "stream",
          "text": [
            "313/313 [==============================] - 7s 22ms/step - loss: 1.2647 - accuracy: 0.7255\n",
            "Error:  0.27\n"
          ],
          "name": "stdout"
        }
      ]
    },
    {
      "cell_type": "code",
      "metadata": {
        "colab": {
          "base_uri": "https://localhost:8080/"
        },
        "id": "GxtKvPdECjjI",
        "outputId": "d101cc4a-8d02-42ad-8b7d-ccd34206ba5a"
      },
      "source": [
        "!pip install pyyaml h5py"
      ],
      "execution_count": null,
      "outputs": [
        {
          "output_type": "stream",
          "text": [
            "Requirement already satisfied: pyyaml in /usr/local/lib/python3.6/dist-packages (3.13)\n",
            "Requirement already satisfied: h5py in /usr/local/lib/python3.6/dist-packages (2.10.0)\n",
            "Requirement already satisfied: six in /usr/local/lib/python3.6/dist-packages (from h5py) (1.15.0)\n",
            "Requirement already satisfied: numpy>=1.7 in /usr/local/lib/python3.6/dist-packages (from h5py) (1.18.5)\n"
          ],
          "name": "stdout"
        }
      ]
    },
    {
      "cell_type": "code",
      "metadata": {
        "colab": {
          "base_uri": "https://localhost:8080/"
        },
        "id": "40elb65EClM_",
        "outputId": "e67e22e7-8131-42f4-a437-1882282a6a7b"
      },
      "source": [
        "from google.colab import drive\n",
        "drive.mount('/content/gdrive')"
      ],
      "execution_count": null,
      "outputs": [
        {
          "output_type": "stream",
          "text": [
            "Mounted at /content/gdrive\n"
          ],
          "name": "stdout"
        }
      ]
    },
    {
      "cell_type": "code",
      "metadata": {
        "id": "nTDQxiKUCvnz"
      },
      "source": [
        "model_json = model.to_json()\n",
        "with open(\"/content/gdrive/My Drive/Colab Notebooks/model_cifar10_AnneLivia.json\" , \"w\") as json_file:\n",
        "    json_file.write(model_json)\n",
        "\n",
        "#serialize weights to HDF5\n",
        "model.save_weights(\"/content/gdrive/My Drive/Colab Notebooks/model_w_cifar10_AnneLivia.h5\" )"
      ],
      "execution_count": null,
      "outputs": []
    }
  ]
}