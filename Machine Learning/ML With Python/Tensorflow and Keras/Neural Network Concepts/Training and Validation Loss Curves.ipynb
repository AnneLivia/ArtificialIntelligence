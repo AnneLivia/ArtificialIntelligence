{
 "cells": [
  {
   "cell_type": "code",
   "execution_count": 7,
   "id": "00e7e6ea",
   "metadata": {},
   "outputs": [],
   "source": [
    "import pandas as pd"
   ]
  },
  {
   "cell_type": "markdown",
   "id": "acd21d5b",
   "metadata": {},
   "source": [
    "# Breast Cancer Wisconsin (Diagnostic) Data Set\n",
    "\n",
    "This breast cancer databases was obtained from the University of Wisconsin Hospitals, Madison from Dr. William H. Wolberg. Can be accessed in <a href=\"https://archive.ics.uci.edu/ml/datasets/Breast+Cancer+Wisconsin+%28Diagnostic%29\">UCI Machine Learning Repository</a>\n",
    "\n",
    "Tutorial about Training and Validation Loss Curves from <a href=\"https://www.youtube.com/watch?v=p3CcfIjycBA&list=WL&index=52&ab_channel=DigitalSreeni\"> DigitalSreeni Youtube Channel</a>\n",
    "   \n",
    "### 1. Number of Instances: 699 (as of 15 July 1992)\n",
    "\n",
    "### 2. Number of Attributes: 10 plus the class attribute\n",
    "\n",
    "### 3. Attribute Information: (class attribute has been moved to last column)\n",
    "\n",
    "   #  Attribute                     Domain\n",
    "   -- -----------------------------------------\n",
    "       1. Sample code number            id number\n",
    "       2. Clump Thickness               1 - 10\n",
    "       3. Uniformity of Cell Size       1 - 10\n",
    "       4. Uniformity of Cell Shape      1 - 10\n",
    "       5. Marginal Adhesion             1 - 10\n",
    "       6. Single Epithelial Cell Size   1 - 10\n",
    "       7. Bare Nuclei                   1 - 10\n",
    "       8. Bland Chromatin               1 - 10\n",
    "       9. Normal Nucleoli               1 - 10\n",
    "       10. Mitoses                      1 - 10\n",
    "       11. Class:                       (2 for benign, 4 for malignant)\n",
    "\n",
    "### 4. Missing attribute values: 16\n",
    "\n",
    "   There are 16 instances in Groups 1 to 6 that contain a single missing \n",
    "   (i.e., unavailable) attribute value, now denoted by \"?\".  \n",
    "\n",
    "### 5. Class distribution:\n",
    " \n",
    "   Benign: 458 (65.5%)\n",
    "   Malignant: 241 (34.5%)\n",
    "   \n",
    "That's a inbalanced dataset. There's not much data. If we don't have enough data, the curves looks different"
   ]
  },
  {
   "cell_type": "code",
   "execution_count": 24,
   "id": "44010bb0",
   "metadata": {},
   "outputs": [],
   "source": [
    "df_full = pd.read_csv('data/breast-cancer-wisconsin.data', sep=',')"
   ]
  },
  {
   "cell_type": "code",
   "execution_count": 25,
   "id": "25944b37",
   "metadata": {},
   "outputs": [
    {
     "data": {
      "text/html": [
       "<div>\n",
       "<style scoped>\n",
       "    .dataframe tbody tr th:only-of-type {\n",
       "        vertical-align: middle;\n",
       "    }\n",
       "\n",
       "    .dataframe tbody tr th {\n",
       "        vertical-align: top;\n",
       "    }\n",
       "\n",
       "    .dataframe thead th {\n",
       "        text-align: right;\n",
       "    }\n",
       "</style>\n",
       "<table border=\"1\" class=\"dataframe\">\n",
       "  <thead>\n",
       "    <tr style=\"text-align: right;\">\n",
       "      <th></th>\n",
       "      <th>1000025</th>\n",
       "      <th>5</th>\n",
       "      <th>1</th>\n",
       "      <th>1.1</th>\n",
       "      <th>1.2</th>\n",
       "      <th>2</th>\n",
       "      <th>1.3</th>\n",
       "      <th>3</th>\n",
       "      <th>1.4</th>\n",
       "      <th>1.5</th>\n",
       "      <th>2.1</th>\n",
       "    </tr>\n",
       "  </thead>\n",
       "  <tbody>\n",
       "    <tr>\n",
       "      <th>0</th>\n",
       "      <td>1002945</td>\n",
       "      <td>5</td>\n",
       "      <td>4</td>\n",
       "      <td>4</td>\n",
       "      <td>5</td>\n",
       "      <td>7</td>\n",
       "      <td>10</td>\n",
       "      <td>3</td>\n",
       "      <td>2</td>\n",
       "      <td>1</td>\n",
       "      <td>2</td>\n",
       "    </tr>\n",
       "    <tr>\n",
       "      <th>1</th>\n",
       "      <td>1015425</td>\n",
       "      <td>3</td>\n",
       "      <td>1</td>\n",
       "      <td>1</td>\n",
       "      <td>1</td>\n",
       "      <td>2</td>\n",
       "      <td>2</td>\n",
       "      <td>3</td>\n",
       "      <td>1</td>\n",
       "      <td>1</td>\n",
       "      <td>2</td>\n",
       "    </tr>\n",
       "    <tr>\n",
       "      <th>2</th>\n",
       "      <td>1016277</td>\n",
       "      <td>6</td>\n",
       "      <td>8</td>\n",
       "      <td>8</td>\n",
       "      <td>1</td>\n",
       "      <td>3</td>\n",
       "      <td>4</td>\n",
       "      <td>3</td>\n",
       "      <td>7</td>\n",
       "      <td>1</td>\n",
       "      <td>2</td>\n",
       "    </tr>\n",
       "    <tr>\n",
       "      <th>3</th>\n",
       "      <td>1017023</td>\n",
       "      <td>4</td>\n",
       "      <td>1</td>\n",
       "      <td>1</td>\n",
       "      <td>3</td>\n",
       "      <td>2</td>\n",
       "      <td>1</td>\n",
       "      <td>3</td>\n",
       "      <td>1</td>\n",
       "      <td>1</td>\n",
       "      <td>2</td>\n",
       "    </tr>\n",
       "    <tr>\n",
       "      <th>4</th>\n",
       "      <td>1017122</td>\n",
       "      <td>8</td>\n",
       "      <td>10</td>\n",
       "      <td>10</td>\n",
       "      <td>8</td>\n",
       "      <td>7</td>\n",
       "      <td>10</td>\n",
       "      <td>9</td>\n",
       "      <td>7</td>\n",
       "      <td>1</td>\n",
       "      <td>4</td>\n",
       "    </tr>\n",
       "  </tbody>\n",
       "</table>\n",
       "</div>"
      ],
      "text/plain": [
       "   1000025  5   1  1.1  1.2  2 1.3  3  1.4  1.5  2.1\n",
       "0  1002945  5   4    4    5  7  10  3    2    1    2\n",
       "1  1015425  3   1    1    1  2   2  3    1    1    2\n",
       "2  1016277  6   8    8    1  3   4  3    7    1    2\n",
       "3  1017023  4   1    1    3  2   1  3    1    1    2\n",
       "4  1017122  8  10   10    8  7  10  9    7    1    4"
      ]
     },
     "execution_count": 25,
     "metadata": {},
     "output_type": "execute_result"
    }
   ],
   "source": [
    "df_full.head()"
   ]
  },
  {
   "cell_type": "code",
   "execution_count": 26,
   "id": "f9e65d8c",
   "metadata": {},
   "outputs": [],
   "source": [
    "df_full.columns = ['Id', \n",
    "                   'ClumpThickness', \n",
    "                   'Uniformity of Cell Size', \n",
    "                   'Uniformity of Cell Shape', \n",
    "                   'Marginal Adhesion', \n",
    "                   'SingleEpithelialCellSize', \n",
    "                   'BareNuclei', \n",
    "                   'BlandChromatin', \n",
    "                   'NormalNucleoli', \n",
    "                   'Mitoses', \n",
    "                   'Class'];"
   ]
  },
  {
   "cell_type": "code",
   "execution_count": 27,
   "id": "54d72417",
   "metadata": {},
   "outputs": [],
   "source": [
    "df_full.set_index(['Id'], inplace=True, drop=True)"
   ]
  },
  {
   "cell_type": "code",
   "execution_count": 28,
   "id": "cc6a5618",
   "metadata": {
    "scrolled": true
   },
   "outputs": [
    {
     "data": {
      "text/html": [
       "<div>\n",
       "<style scoped>\n",
       "    .dataframe tbody tr th:only-of-type {\n",
       "        vertical-align: middle;\n",
       "    }\n",
       "\n",
       "    .dataframe tbody tr th {\n",
       "        vertical-align: top;\n",
       "    }\n",
       "\n",
       "    .dataframe thead th {\n",
       "        text-align: right;\n",
       "    }\n",
       "</style>\n",
       "<table border=\"1\" class=\"dataframe\">\n",
       "  <thead>\n",
       "    <tr style=\"text-align: right;\">\n",
       "      <th></th>\n",
       "      <th>ClumpThickness</th>\n",
       "      <th>Uniformity of Cell Size</th>\n",
       "      <th>Uniformity of Cell Shape</th>\n",
       "      <th>Marginal Adhesion</th>\n",
       "      <th>SingleEpithelialCellSize</th>\n",
       "      <th>BareNuclei</th>\n",
       "      <th>BlandChromatin</th>\n",
       "      <th>NormalNucleoli</th>\n",
       "      <th>Mitoses</th>\n",
       "      <th>Class</th>\n",
       "    </tr>\n",
       "    <tr>\n",
       "      <th>Id</th>\n",
       "      <th></th>\n",
       "      <th></th>\n",
       "      <th></th>\n",
       "      <th></th>\n",
       "      <th></th>\n",
       "      <th></th>\n",
       "      <th></th>\n",
       "      <th></th>\n",
       "      <th></th>\n",
       "      <th></th>\n",
       "    </tr>\n",
       "  </thead>\n",
       "  <tbody>\n",
       "    <tr>\n",
       "      <th>1002945</th>\n",
       "      <td>5</td>\n",
       "      <td>4</td>\n",
       "      <td>4</td>\n",
       "      <td>5</td>\n",
       "      <td>7</td>\n",
       "      <td>10</td>\n",
       "      <td>3</td>\n",
       "      <td>2</td>\n",
       "      <td>1</td>\n",
       "      <td>2</td>\n",
       "    </tr>\n",
       "    <tr>\n",
       "      <th>1015425</th>\n",
       "      <td>3</td>\n",
       "      <td>1</td>\n",
       "      <td>1</td>\n",
       "      <td>1</td>\n",
       "      <td>2</td>\n",
       "      <td>2</td>\n",
       "      <td>3</td>\n",
       "      <td>1</td>\n",
       "      <td>1</td>\n",
       "      <td>2</td>\n",
       "    </tr>\n",
       "    <tr>\n",
       "      <th>1016277</th>\n",
       "      <td>6</td>\n",
       "      <td>8</td>\n",
       "      <td>8</td>\n",
       "      <td>1</td>\n",
       "      <td>3</td>\n",
       "      <td>4</td>\n",
       "      <td>3</td>\n",
       "      <td>7</td>\n",
       "      <td>1</td>\n",
       "      <td>2</td>\n",
       "    </tr>\n",
       "    <tr>\n",
       "      <th>1017023</th>\n",
       "      <td>4</td>\n",
       "      <td>1</td>\n",
       "      <td>1</td>\n",
       "      <td>3</td>\n",
       "      <td>2</td>\n",
       "      <td>1</td>\n",
       "      <td>3</td>\n",
       "      <td>1</td>\n",
       "      <td>1</td>\n",
       "      <td>2</td>\n",
       "    </tr>\n",
       "    <tr>\n",
       "      <th>1017122</th>\n",
       "      <td>8</td>\n",
       "      <td>10</td>\n",
       "      <td>10</td>\n",
       "      <td>8</td>\n",
       "      <td>7</td>\n",
       "      <td>10</td>\n",
       "      <td>9</td>\n",
       "      <td>7</td>\n",
       "      <td>1</td>\n",
       "      <td>4</td>\n",
       "    </tr>\n",
       "  </tbody>\n",
       "</table>\n",
       "</div>"
      ],
      "text/plain": [
       "         ClumpThickness  Uniformity of Cell Size  Uniformity of Cell Shape  \\\n",
       "Id                                                                           \n",
       "1002945               5                        4                         4   \n",
       "1015425               3                        1                         1   \n",
       "1016277               6                        8                         8   \n",
       "1017023               4                        1                         1   \n",
       "1017122               8                       10                        10   \n",
       "\n",
       "         Marginal Adhesion  SingleEpithelialCellSize BareNuclei  \\\n",
       "Id                                                                \n",
       "1002945                  5                         7         10   \n",
       "1015425                  1                         2          2   \n",
       "1016277                  1                         3          4   \n",
       "1017023                  3                         2          1   \n",
       "1017122                  8                         7         10   \n",
       "\n",
       "         BlandChromatin  NormalNucleoli  Mitoses  Class  \n",
       "Id                                                       \n",
       "1002945               3               2        1      2  \n",
       "1015425               3               1        1      2  \n",
       "1016277               3               7        1      2  \n",
       "1017023               3               1        1      2  \n",
       "1017122               9               7        1      4  "
      ]
     },
     "execution_count": 28,
     "metadata": {},
     "output_type": "execute_result"
    }
   ],
   "source": [
    "df_full.head()"
   ]
  },
  {
   "cell_type": "code",
   "execution_count": 31,
   "id": "297cb29e",
   "metadata": {},
   "outputs": [
    {
     "name": "stdout",
     "output_type": "stream",
     "text": [
      "<class 'pandas.core.frame.DataFrame'>\n",
      "Int64Index: 698 entries, 1002945 to 897471\n",
      "Data columns (total 10 columns):\n",
      " #   Column                    Non-Null Count  Dtype \n",
      "---  ------                    --------------  ----- \n",
      " 0   ClumpThickness            698 non-null    int64 \n",
      " 1   Uniformity of Cell Size   698 non-null    int64 \n",
      " 2   Uniformity of Cell Shape  698 non-null    int64 \n",
      " 3   Marginal Adhesion         698 non-null    int64 \n",
      " 4   SingleEpithelialCellSize  698 non-null    int64 \n",
      " 5   BareNuclei                698 non-null    object\n",
      " 6   BlandChromatin            698 non-null    int64 \n",
      " 7   NormalNucleoli            698 non-null    int64 \n",
      " 8   Mitoses                   698 non-null    int64 \n",
      " 9   Class                     698 non-null    int64 \n",
      "dtypes: int64(9), object(1)\n",
      "memory usage: 60.0+ KB\n"
     ]
    }
   ],
   "source": [
    "df_full.info()"
   ]
  },
  {
   "cell_type": "code",
   "execution_count": 29,
   "id": "9f7319e6",
   "metadata": {},
   "outputs": [
    {
     "data": {
      "text/html": [
       "<div>\n",
       "<style scoped>\n",
       "    .dataframe tbody tr th:only-of-type {\n",
       "        vertical-align: middle;\n",
       "    }\n",
       "\n",
       "    .dataframe tbody tr th {\n",
       "        vertical-align: top;\n",
       "    }\n",
       "\n",
       "    .dataframe thead th {\n",
       "        text-align: right;\n",
       "    }\n",
       "</style>\n",
       "<table border=\"1\" class=\"dataframe\">\n",
       "  <thead>\n",
       "    <tr style=\"text-align: right;\">\n",
       "      <th></th>\n",
       "      <th>ClumpThickness</th>\n",
       "      <th>Uniformity of Cell Size</th>\n",
       "      <th>Uniformity of Cell Shape</th>\n",
       "      <th>Marginal Adhesion</th>\n",
       "      <th>SingleEpithelialCellSize</th>\n",
       "      <th>BlandChromatin</th>\n",
       "      <th>NormalNucleoli</th>\n",
       "      <th>Mitoses</th>\n",
       "      <th>Class</th>\n",
       "    </tr>\n",
       "  </thead>\n",
       "  <tbody>\n",
       "    <tr>\n",
       "      <th>count</th>\n",
       "      <td>698.000000</td>\n",
       "      <td>698.000000</td>\n",
       "      <td>698.000000</td>\n",
       "      <td>698.000000</td>\n",
       "      <td>698.000000</td>\n",
       "      <td>698.000000</td>\n",
       "      <td>698.000000</td>\n",
       "      <td>698.000000</td>\n",
       "      <td>698.000000</td>\n",
       "    </tr>\n",
       "    <tr>\n",
       "      <th>mean</th>\n",
       "      <td>4.416905</td>\n",
       "      <td>3.137536</td>\n",
       "      <td>3.210602</td>\n",
       "      <td>2.809456</td>\n",
       "      <td>3.217765</td>\n",
       "      <td>3.438395</td>\n",
       "      <td>2.869628</td>\n",
       "      <td>1.590258</td>\n",
       "      <td>2.690544</td>\n",
       "    </tr>\n",
       "    <tr>\n",
       "      <th>std</th>\n",
       "      <td>2.817673</td>\n",
       "      <td>3.052575</td>\n",
       "      <td>2.972867</td>\n",
       "      <td>2.856606</td>\n",
       "      <td>2.215408</td>\n",
       "      <td>2.440056</td>\n",
       "      <td>3.055004</td>\n",
       "      <td>1.716162</td>\n",
       "      <td>0.951596</td>\n",
       "    </tr>\n",
       "    <tr>\n",
       "      <th>min</th>\n",
       "      <td>1.000000</td>\n",
       "      <td>1.000000</td>\n",
       "      <td>1.000000</td>\n",
       "      <td>1.000000</td>\n",
       "      <td>1.000000</td>\n",
       "      <td>1.000000</td>\n",
       "      <td>1.000000</td>\n",
       "      <td>1.000000</td>\n",
       "      <td>2.000000</td>\n",
       "    </tr>\n",
       "    <tr>\n",
       "      <th>25%</th>\n",
       "      <td>2.000000</td>\n",
       "      <td>1.000000</td>\n",
       "      <td>1.000000</td>\n",
       "      <td>1.000000</td>\n",
       "      <td>2.000000</td>\n",
       "      <td>2.000000</td>\n",
       "      <td>1.000000</td>\n",
       "      <td>1.000000</td>\n",
       "      <td>2.000000</td>\n",
       "    </tr>\n",
       "    <tr>\n",
       "      <th>50%</th>\n",
       "      <td>4.000000</td>\n",
       "      <td>1.000000</td>\n",
       "      <td>1.000000</td>\n",
       "      <td>1.000000</td>\n",
       "      <td>2.000000</td>\n",
       "      <td>3.000000</td>\n",
       "      <td>1.000000</td>\n",
       "      <td>1.000000</td>\n",
       "      <td>2.000000</td>\n",
       "    </tr>\n",
       "    <tr>\n",
       "      <th>75%</th>\n",
       "      <td>6.000000</td>\n",
       "      <td>5.000000</td>\n",
       "      <td>5.000000</td>\n",
       "      <td>4.000000</td>\n",
       "      <td>4.000000</td>\n",
       "      <td>5.000000</td>\n",
       "      <td>4.000000</td>\n",
       "      <td>1.000000</td>\n",
       "      <td>4.000000</td>\n",
       "    </tr>\n",
       "    <tr>\n",
       "      <th>max</th>\n",
       "      <td>10.000000</td>\n",
       "      <td>10.000000</td>\n",
       "      <td>10.000000</td>\n",
       "      <td>10.000000</td>\n",
       "      <td>10.000000</td>\n",
       "      <td>10.000000</td>\n",
       "      <td>10.000000</td>\n",
       "      <td>10.000000</td>\n",
       "      <td>4.000000</td>\n",
       "    </tr>\n",
       "  </tbody>\n",
       "</table>\n",
       "</div>"
      ],
      "text/plain": [
       "       ClumpThickness  Uniformity of Cell Size  Uniformity of Cell Shape  \\\n",
       "count      698.000000               698.000000                698.000000   \n",
       "mean         4.416905                 3.137536                  3.210602   \n",
       "std          2.817673                 3.052575                  2.972867   \n",
       "min          1.000000                 1.000000                  1.000000   \n",
       "25%          2.000000                 1.000000                  1.000000   \n",
       "50%          4.000000                 1.000000                  1.000000   \n",
       "75%          6.000000                 5.000000                  5.000000   \n",
       "max         10.000000                10.000000                 10.000000   \n",
       "\n",
       "       Marginal Adhesion  SingleEpithelialCellSize  BlandChromatin  \\\n",
       "count         698.000000                698.000000      698.000000   \n",
       "mean            2.809456                  3.217765        3.438395   \n",
       "std             2.856606                  2.215408        2.440056   \n",
       "min             1.000000                  1.000000        1.000000   \n",
       "25%             1.000000                  2.000000        2.000000   \n",
       "50%             1.000000                  2.000000        3.000000   \n",
       "75%             4.000000                  4.000000        5.000000   \n",
       "max            10.000000                 10.000000       10.000000   \n",
       "\n",
       "       NormalNucleoli     Mitoses       Class  \n",
       "count      698.000000  698.000000  698.000000  \n",
       "mean         2.869628    1.590258    2.690544  \n",
       "std          3.055004    1.716162    0.951596  \n",
       "min          1.000000    1.000000    2.000000  \n",
       "25%          1.000000    1.000000    2.000000  \n",
       "50%          1.000000    1.000000    2.000000  \n",
       "75%          4.000000    1.000000    4.000000  \n",
       "max         10.000000   10.000000    4.000000  "
      ]
     },
     "execution_count": 29,
     "metadata": {},
     "output_type": "execute_result"
    }
   ],
   "source": [
    "df_full.describe()"
   ]
  },
  {
   "cell_type": "code",
   "execution_count": 61,
   "id": "12f70571",
   "metadata": {},
   "outputs": [
    {
     "name": "stdout",
     "output_type": "stream",
     "text": [
      "<class 'pandas.core.frame.DataFrame'>\n",
      "Int64Index: 698 entries, 1002945 to 897471\n",
      "Data columns (total 10 columns):\n",
      " #   Column                    Non-Null Count  Dtype \n",
      "---  ------                    --------------  ----- \n",
      " 0   ClumpThickness            698 non-null    int64 \n",
      " 1   Uniformity of Cell Size   698 non-null    int64 \n",
      " 2   Uniformity of Cell Shape  698 non-null    int64 \n",
      " 3   Marginal Adhesion         698 non-null    int64 \n",
      " 4   SingleEpithelialCellSize  698 non-null    int64 \n",
      " 5   BareNuclei                698 non-null    object\n",
      " 6   BlandChromatin            698 non-null    int64 \n",
      " 7   NormalNucleoli            698 non-null    int64 \n",
      " 8   Mitoses                   698 non-null    int64 \n",
      " 9   Class                     698 non-null    int64 \n",
      "dtypes: int64(9), object(1)\n",
      "memory usage: 60.0+ KB\n"
     ]
    }
   ],
   "source": [
    "df_full.info()"
   ]
  },
  {
   "cell_type": "code",
   "execution_count": 84,
   "id": "f91d8f66",
   "metadata": {},
   "outputs": [],
   "source": [
    "df_full['Class'] = df_full['Class'].map({4 : 1, 2: 0}) # 1 = malign 0 = benign"
   ]
  },
  {
   "cell_type": "code",
   "execution_count": 30,
   "id": "8e111536",
   "metadata": {},
   "outputs": [],
   "source": [
    "from sklearn.model_selection import train_test_split"
   ]
  },
  {
   "cell_type": "markdown",
   "id": "dbb2ee0b",
   "metadata": {},
   "source": [
    "### Defining X and y"
   ]
  },
  {
   "cell_type": "code",
   "execution_count": 85,
   "id": "10dd6ee4",
   "metadata": {},
   "outputs": [],
   "source": [
    "X = df_full.drop(['Class', 'BareNuclei'], axis=1) # BareNuclei is object, drop for now\n",
    "y = df_full['Class']"
   ]
  },
  {
   "cell_type": "markdown",
   "id": "aeda197a",
   "metadata": {},
   "source": [
    "### Normalizing data"
   ]
  },
  {
   "cell_type": "code",
   "execution_count": 75,
   "id": "9bb86320",
   "metadata": {},
   "outputs": [],
   "source": [
    "from sklearn.preprocessing import MinMaxScaler"
   ]
  },
  {
   "cell_type": "code",
   "execution_count": 86,
   "id": "2cf23850",
   "metadata": {},
   "outputs": [],
   "source": [
    "minMaxObj = MinMaxScaler()\n",
    "X_min_max = minMaxObj.fit_transform(X)"
   ]
  },
  {
   "cell_type": "code",
   "execution_count": 87,
   "id": "3ef72603",
   "metadata": {},
   "outputs": [
    {
     "data": {
      "text/plain": [
       "array([[0.44444444, 0.33333333, 0.33333333, ..., 0.22222222, 0.11111111,\n",
       "        0.        ],\n",
       "       [0.22222222, 0.        , 0.        , ..., 0.22222222, 0.        ,\n",
       "        0.        ],\n",
       "       [0.55555556, 0.77777778, 0.77777778, ..., 0.22222222, 0.66666667,\n",
       "        0.        ],\n",
       "       ...,\n",
       "       [0.44444444, 1.        , 1.        , ..., 0.77777778, 1.        ,\n",
       "        0.11111111],\n",
       "       [0.33333333, 0.77777778, 0.55555556, ..., 1.        , 0.55555556,\n",
       "        0.        ],\n",
       "       [0.33333333, 0.77777778, 0.77777778, ..., 1.        , 0.33333333,\n",
       "        0.        ]])"
      ]
     },
     "execution_count": 87,
     "metadata": {},
     "output_type": "execute_result"
    }
   ],
   "source": [
    "X_min_max"
   ]
  },
  {
   "cell_type": "code",
   "execution_count": 88,
   "id": "30ba0df9",
   "metadata": {},
   "outputs": [
    {
     "data": {
      "text/html": [
       "<div>\n",
       "<style scoped>\n",
       "    .dataframe tbody tr th:only-of-type {\n",
       "        vertical-align: middle;\n",
       "    }\n",
       "\n",
       "    .dataframe tbody tr th {\n",
       "        vertical-align: top;\n",
       "    }\n",
       "\n",
       "    .dataframe thead th {\n",
       "        text-align: right;\n",
       "    }\n",
       "</style>\n",
       "<table border=\"1\" class=\"dataframe\">\n",
       "  <thead>\n",
       "    <tr style=\"text-align: right;\">\n",
       "      <th></th>\n",
       "      <th>ClumpThickness</th>\n",
       "      <th>Uniformity of Cell Size</th>\n",
       "      <th>Uniformity of Cell Shape</th>\n",
       "      <th>Marginal Adhesion</th>\n",
       "      <th>SingleEpithelialCellSize</th>\n",
       "      <th>BlandChromatin</th>\n",
       "      <th>NormalNucleoli</th>\n",
       "      <th>Mitoses</th>\n",
       "    </tr>\n",
       "  </thead>\n",
       "  <tbody>\n",
       "    <tr>\n",
       "      <th>0</th>\n",
       "      <td>0.444444</td>\n",
       "      <td>0.333333</td>\n",
       "      <td>0.333333</td>\n",
       "      <td>0.444444</td>\n",
       "      <td>0.666667</td>\n",
       "      <td>0.222222</td>\n",
       "      <td>0.111111</td>\n",
       "      <td>0.0</td>\n",
       "    </tr>\n",
       "    <tr>\n",
       "      <th>1</th>\n",
       "      <td>0.222222</td>\n",
       "      <td>0.000000</td>\n",
       "      <td>0.000000</td>\n",
       "      <td>0.000000</td>\n",
       "      <td>0.111111</td>\n",
       "      <td>0.222222</td>\n",
       "      <td>0.000000</td>\n",
       "      <td>0.0</td>\n",
       "    </tr>\n",
       "    <tr>\n",
       "      <th>2</th>\n",
       "      <td>0.555556</td>\n",
       "      <td>0.777778</td>\n",
       "      <td>0.777778</td>\n",
       "      <td>0.000000</td>\n",
       "      <td>0.222222</td>\n",
       "      <td>0.222222</td>\n",
       "      <td>0.666667</td>\n",
       "      <td>0.0</td>\n",
       "    </tr>\n",
       "    <tr>\n",
       "      <th>3</th>\n",
       "      <td>0.333333</td>\n",
       "      <td>0.000000</td>\n",
       "      <td>0.000000</td>\n",
       "      <td>0.222222</td>\n",
       "      <td>0.111111</td>\n",
       "      <td>0.222222</td>\n",
       "      <td>0.000000</td>\n",
       "      <td>0.0</td>\n",
       "    </tr>\n",
       "    <tr>\n",
       "      <th>4</th>\n",
       "      <td>0.777778</td>\n",
       "      <td>1.000000</td>\n",
       "      <td>1.000000</td>\n",
       "      <td>0.777778</td>\n",
       "      <td>0.666667</td>\n",
       "      <td>0.888889</td>\n",
       "      <td>0.666667</td>\n",
       "      <td>0.0</td>\n",
       "    </tr>\n",
       "  </tbody>\n",
       "</table>\n",
       "</div>"
      ],
      "text/plain": [
       "   ClumpThickness  Uniformity of Cell Size  Uniformity of Cell Shape  \\\n",
       "0        0.444444                 0.333333                  0.333333   \n",
       "1        0.222222                 0.000000                  0.000000   \n",
       "2        0.555556                 0.777778                  0.777778   \n",
       "3        0.333333                 0.000000                  0.000000   \n",
       "4        0.777778                 1.000000                  1.000000   \n",
       "\n",
       "   Marginal Adhesion  SingleEpithelialCellSize  BlandChromatin  \\\n",
       "0           0.444444                  0.666667        0.222222   \n",
       "1           0.000000                  0.111111        0.222222   \n",
       "2           0.000000                  0.222222        0.222222   \n",
       "3           0.222222                  0.111111        0.222222   \n",
       "4           0.777778                  0.666667        0.888889   \n",
       "\n",
       "   NormalNucleoli  Mitoses  \n",
       "0        0.111111      0.0  \n",
       "1        0.000000      0.0  \n",
       "2        0.666667      0.0  \n",
       "3        0.000000      0.0  \n",
       "4        0.666667      0.0  "
      ]
     },
     "execution_count": 88,
     "metadata": {},
     "output_type": "execute_result"
    }
   ],
   "source": [
    "X = pd.DataFrame(X_min_max, columns=X.columns)\n",
    "X.head()"
   ]
  },
  {
   "cell_type": "code",
   "execution_count": 89,
   "id": "4591e116",
   "metadata": {},
   "outputs": [],
   "source": [
    "X_train, X_test, y_train, y_test = train_test_split(X, y, test_size=0.25, random_state=42)"
   ]
  },
  {
   "cell_type": "code",
   "execution_count": 90,
   "id": "5968bc4d",
   "metadata": {},
   "outputs": [
    {
     "data": {
      "text/plain": [
       "8"
      ]
     },
     "execution_count": 90,
     "metadata": {},
     "output_type": "execute_result"
    }
   ],
   "source": [
    "X_train.shape[1]"
   ]
  },
  {
   "cell_type": "code",
   "execution_count": 91,
   "id": "1dfb1b7c",
   "metadata": {},
   "outputs": [
    {
     "data": {
      "text/plain": [
       "Id\n",
       "1197510    0\n",
       "535331     0\n",
       "822829     1\n",
       "1320304    0\n",
       "1296572    1\n",
       "Name: Class, dtype: int64"
      ]
     },
     "execution_count": 91,
     "metadata": {},
     "output_type": "execute_result"
    }
   ],
   "source": [
    "y_train[:5]"
   ]
  },
  {
   "cell_type": "code",
   "execution_count": 82,
   "id": "9dc4f84f",
   "metadata": {},
   "outputs": [],
   "source": [
    "from tensorflow import keras\n",
    "from tensorflow.keras import layers"
   ]
  },
  {
   "cell_type": "markdown",
   "id": "bb3c4ca5",
   "metadata": {},
   "source": [
    "# One dense layers with 16 neurons"
   ]
  },
  {
   "cell_type": "code",
   "execution_count": 96,
   "id": "dfdbd194",
   "metadata": {},
   "outputs": [],
   "source": [
    "model = keras.Sequential(\n",
    "    [\n",
    "        layers.Dense(units=16, activation='relu', input_shape=[X_train.shape[1]]),\n",
    "        layers.Dropout(0.2),\n",
    "        layers.Dense(units=1, activation='sigmoid'),\n",
    "    ]\n",
    ")"
   ]
  },
  {
   "cell_type": "code",
   "execution_count": 97,
   "id": "c65486f1",
   "metadata": {},
   "outputs": [],
   "source": [
    "model.compile(optimizer='adam', loss='binary_crossentropy', metrics=['accuracy'])"
   ]
  },
  {
   "cell_type": "code",
   "execution_count": 99,
   "id": "735d5fad",
   "metadata": {},
   "outputs": [
    {
     "name": "stdout",
     "output_type": "stream",
     "text": [
      "Model: \"sequential\"\n",
      "_________________________________________________________________\n",
      " Layer (type)                Output Shape              Param #   \n",
      "=================================================================\n",
      " dense_1 (Dense)             (None, 16)                144       \n",
      "                                                                 \n",
      " dropout (Dropout)           (None, 16)                0         \n",
      "                                                                 \n",
      " dense_2 (Dense)             (None, 1)                 17        \n",
      "                                                                 \n",
      "=================================================================\n",
      "Total params: 161\n",
      "Trainable params: 161\n",
      "Non-trainable params: 0\n",
      "_________________________________________________________________\n",
      "None\n"
     ]
    }
   ],
   "source": [
    "print(model.summary())"
   ]
  },
  {
   "cell_type": "code",
   "execution_count": 100,
   "id": "28a5eee4",
   "metadata": {},
   "outputs": [
    {
     "name": "stdout",
     "output_type": "stream",
     "text": [
      "Epoch 1/50\n",
      "9/9 [==============================] - 4s 58ms/step - loss: 0.6407 - accuracy: 0.4512 - val_loss: 0.6332 - val_accuracy: 0.4286\n",
      "Epoch 2/50\n",
      "9/9 [==============================] - 0s 6ms/step - loss: 0.6274 - accuracy: 0.5545 - val_loss: 0.6180 - val_accuracy: 0.5429\n",
      "Epoch 3/50\n",
      "9/9 [==============================] - 0s 7ms/step - loss: 0.6101 - accuracy: 0.6463 - val_loss: 0.6036 - val_accuracy: 0.6400\n",
      "Epoch 4/50\n",
      "9/9 [==============================] - 0s 6ms/step - loss: 0.6035 - accuracy: 0.6616 - val_loss: 0.5896 - val_accuracy: 0.7029\n",
      "Epoch 5/50\n",
      "9/9 [==============================] - 0s 7ms/step - loss: 0.5858 - accuracy: 0.7457 - val_loss: 0.5757 - val_accuracy: 0.7714\n",
      "Epoch 6/50\n",
      "9/9 [==============================] - 0s 6ms/step - loss: 0.5749 - accuracy: 0.7839 - val_loss: 0.5614 - val_accuracy: 0.8343\n",
      "Epoch 7/50\n",
      "9/9 [==============================] - 0s 7ms/step - loss: 0.5559 - accuracy: 0.8470 - val_loss: 0.5474 - val_accuracy: 0.8857\n",
      "Epoch 8/50\n",
      "9/9 [==============================] - 0s 11ms/step - loss: 0.5464 - accuracy: 0.8757 - val_loss: 0.5328 - val_accuracy: 0.8857\n",
      "Epoch 9/50\n",
      "9/9 [==============================] - 0s 7ms/step - loss: 0.5306 - accuracy: 0.8872 - val_loss: 0.5169 - val_accuracy: 0.9143\n",
      "Epoch 10/50\n",
      "9/9 [==============================] - 0s 7ms/step - loss: 0.5116 - accuracy: 0.9197 - val_loss: 0.4994 - val_accuracy: 0.9314\n",
      "Epoch 11/50\n",
      "9/9 [==============================] - 0s 6ms/step - loss: 0.4933 - accuracy: 0.9331 - val_loss: 0.4809 - val_accuracy: 0.9486\n",
      "Epoch 12/50\n",
      "9/9 [==============================] - 0s 6ms/step - loss: 0.4747 - accuracy: 0.9350 - val_loss: 0.4631 - val_accuracy: 0.9543\n",
      "Epoch 13/50\n",
      "9/9 [==============================] - 0s 6ms/step - loss: 0.4685 - accuracy: 0.9446 - val_loss: 0.4450 - val_accuracy: 0.9600\n",
      "Epoch 14/50\n",
      "9/9 [==============================] - 0s 9ms/step - loss: 0.4475 - accuracy: 0.9465 - val_loss: 0.4273 - val_accuracy: 0.9600\n",
      "Epoch 15/50\n",
      "9/9 [==============================] - 0s 8ms/step - loss: 0.4303 - accuracy: 0.9426 - val_loss: 0.4102 - val_accuracy: 0.9600\n",
      "Epoch 16/50\n",
      "9/9 [==============================] - 0s 8ms/step - loss: 0.4149 - accuracy: 0.9426 - val_loss: 0.3942 - val_accuracy: 0.9600\n",
      "Epoch 17/50\n",
      "9/9 [==============================] - 0s 8ms/step - loss: 0.3932 - accuracy: 0.9484 - val_loss: 0.3788 - val_accuracy: 0.9600\n",
      "Epoch 18/50\n",
      "9/9 [==============================] - 0s 12ms/step - loss: 0.3822 - accuracy: 0.9560 - val_loss: 0.3631 - val_accuracy: 0.9600\n",
      "Epoch 19/50\n",
      "9/9 [==============================] - 0s 8ms/step - loss: 0.3722 - accuracy: 0.9446 - val_loss: 0.3483 - val_accuracy: 0.9600\n",
      "Epoch 20/50\n",
      "9/9 [==============================] - 0s 8ms/step - loss: 0.3521 - accuracy: 0.9541 - val_loss: 0.3339 - val_accuracy: 0.9657\n",
      "Epoch 21/50\n",
      "9/9 [==============================] - 0s 8ms/step - loss: 0.3448 - accuracy: 0.9484 - val_loss: 0.3203 - val_accuracy: 0.9657\n",
      "Epoch 22/50\n",
      "9/9 [==============================] - 0s 6ms/step - loss: 0.3243 - accuracy: 0.9541 - val_loss: 0.3081 - val_accuracy: 0.9657\n",
      "Epoch 23/50\n",
      "9/9 [==============================] - 0s 7ms/step - loss: 0.3196 - accuracy: 0.9541 - val_loss: 0.2958 - val_accuracy: 0.9714\n",
      "Epoch 24/50\n",
      "9/9 [==============================] - 0s 6ms/step - loss: 0.3062 - accuracy: 0.9541 - val_loss: 0.2846 - val_accuracy: 0.9714\n",
      "Epoch 25/50\n",
      "9/9 [==============================] - 0s 8ms/step - loss: 0.2889 - accuracy: 0.9484 - val_loss: 0.2747 - val_accuracy: 0.9714\n",
      "Epoch 26/50\n",
      "9/9 [==============================] - 0s 6ms/step - loss: 0.2839 - accuracy: 0.9503 - val_loss: 0.2649 - val_accuracy: 0.9714\n",
      "Epoch 27/50\n",
      "9/9 [==============================] - 0s 6ms/step - loss: 0.2739 - accuracy: 0.9465 - val_loss: 0.2559 - val_accuracy: 0.9714\n",
      "Epoch 28/50\n",
      "9/9 [==============================] - 0s 7ms/step - loss: 0.2659 - accuracy: 0.9541 - val_loss: 0.2475 - val_accuracy: 0.9714\n",
      "Epoch 29/50\n",
      "9/9 [==============================] - 0s 7ms/step - loss: 0.2602 - accuracy: 0.9503 - val_loss: 0.2398 - val_accuracy: 0.9771\n",
      "Epoch 30/50\n",
      "9/9 [==============================] - 0s 9ms/step - loss: 0.2480 - accuracy: 0.9541 - val_loss: 0.2324 - val_accuracy: 0.9771\n",
      "Epoch 31/50\n",
      "9/9 [==============================] - 0s 9ms/step - loss: 0.2478 - accuracy: 0.9541 - val_loss: 0.2256 - val_accuracy: 0.9771\n",
      "Epoch 32/50\n",
      "9/9 [==============================] - 0s 8ms/step - loss: 0.2373 - accuracy: 0.9522 - val_loss: 0.2184 - val_accuracy: 0.9771\n",
      "Epoch 33/50\n",
      "9/9 [==============================] - 0s 9ms/step - loss: 0.2348 - accuracy: 0.9522 - val_loss: 0.2121 - val_accuracy: 0.9771\n",
      "Epoch 34/50\n",
      "9/9 [==============================] - 0s 7ms/step - loss: 0.2268 - accuracy: 0.9503 - val_loss: 0.2066 - val_accuracy: 0.9771\n",
      "Epoch 35/50\n",
      "9/9 [==============================] - 0s 7ms/step - loss: 0.2185 - accuracy: 0.9560 - val_loss: 0.2014 - val_accuracy: 0.9771\n",
      "Epoch 36/50\n",
      "9/9 [==============================] - 0s 8ms/step - loss: 0.2108 - accuracy: 0.9598 - val_loss: 0.1976 - val_accuracy: 0.9771\n",
      "Epoch 37/50\n",
      "9/9 [==============================] - 0s 9ms/step - loss: 0.2019 - accuracy: 0.9598 - val_loss: 0.1932 - val_accuracy: 0.9771\n",
      "Epoch 38/50\n",
      "9/9 [==============================] - 0s 7ms/step - loss: 0.2151 - accuracy: 0.9503 - val_loss: 0.1889 - val_accuracy: 0.9771\n",
      "Epoch 39/50\n",
      "9/9 [==============================] - 0s 7ms/step - loss: 0.2019 - accuracy: 0.9560 - val_loss: 0.1856 - val_accuracy: 0.9771\n",
      "Epoch 40/50\n",
      "9/9 [==============================] - 0s 7ms/step - loss: 0.2007 - accuracy: 0.9503 - val_loss: 0.1827 - val_accuracy: 0.9771\n",
      "Epoch 41/50\n",
      "9/9 [==============================] - 0s 7ms/step - loss: 0.1966 - accuracy: 0.9541 - val_loss: 0.1798 - val_accuracy: 0.9771\n",
      "Epoch 42/50\n",
      "9/9 [==============================] - 0s 7ms/step - loss: 0.1918 - accuracy: 0.9598 - val_loss: 0.1772 - val_accuracy: 0.9771\n",
      "Epoch 43/50\n",
      "9/9 [==============================] - 0s 6ms/step - loss: 0.1911 - accuracy: 0.9503 - val_loss: 0.1760 - val_accuracy: 0.9771\n",
      "Epoch 44/50\n",
      "9/9 [==============================] - 0s 8ms/step - loss: 0.1835 - accuracy: 0.9579 - val_loss: 0.1729 - val_accuracy: 0.9771\n",
      "Epoch 45/50\n",
      "9/9 [==============================] - 0s 8ms/step - loss: 0.1812 - accuracy: 0.9598 - val_loss: 0.1691 - val_accuracy: 0.9771\n",
      "Epoch 46/50\n",
      "9/9 [==============================] - 0s 9ms/step - loss: 0.1751 - accuracy: 0.9598 - val_loss: 0.1653 - val_accuracy: 0.9771\n",
      "Epoch 47/50\n",
      "9/9 [==============================] - 0s 8ms/step - loss: 0.1746 - accuracy: 0.9560 - val_loss: 0.1627 - val_accuracy: 0.9771\n",
      "Epoch 48/50\n",
      "9/9 [==============================] - 0s 8ms/step - loss: 0.1667 - accuracy: 0.9541 - val_loss: 0.1604 - val_accuracy: 0.9771\n",
      "Epoch 49/50\n",
      "9/9 [==============================] - 0s 9ms/step - loss: 0.1784 - accuracy: 0.9560 - val_loss: 0.1593 - val_accuracy: 0.9771\n",
      "Epoch 50/50\n",
      "9/9 [==============================] - 0s 9ms/step - loss: 0.1687 - accuracy: 0.9560 - val_loss: 0.1576 - val_accuracy: 0.9771\n"
     ]
    }
   ],
   "source": [
    "history = model.fit(X_train , y_train, validation_data=(X_test, y_test), epochs=50, batch_size=64, verbose=1)"
   ]
  },
  {
   "cell_type": "code",
   "execution_count": 101,
   "id": "6be6dd43",
   "metadata": {},
   "outputs": [
    {
     "name": "stdout",
     "output_type": "stream",
     "text": [
      "6/6 [==============================] - 0s 2ms/step - loss: 0.1576 - accuracy: 0.9771\n"
     ]
    }
   ],
   "source": [
    "acc = model.evaluate(X_test, y_test)"
   ]
  },
  {
   "cell_type": "code",
   "execution_count": 102,
   "id": "ce9ee449",
   "metadata": {},
   "outputs": [
    {
     "data": {
      "text/plain": [
       "[0.15762852132320404, 0.977142870426178]"
      ]
     },
     "execution_count": 102,
     "metadata": {},
     "output_type": "execute_result"
    }
   ],
   "source": [
    "acc"
   ]
  },
  {
   "cell_type": "code",
   "execution_count": 112,
   "id": "e3aec0f0",
   "metadata": {},
   "outputs": [],
   "source": [
    "# predict\n",
    "pred = model.predict(X_test) # return an array with a range from 0 to 1\n",
    "pred = (pred > 0.5) # if > 0.5 return 1, for malign, otherwise return 0, for benign"
   ]
  },
  {
   "cell_type": "code",
   "execution_count": 113,
   "id": "9d6ba0a5",
   "metadata": {},
   "outputs": [],
   "source": [
    "from sklearn.metrics import classification_report"
   ]
  },
  {
   "cell_type": "code",
   "execution_count": 117,
   "id": "2fba3ba7",
   "metadata": {},
   "outputs": [
    {
     "name": "stdout",
     "output_type": "stream",
     "text": [
      "              precision    recall  f1-score   support\n",
      "\n",
      "           0       1.00      0.97      0.98       115\n",
      "           1       0.94      1.00      0.97        60\n",
      "\n",
      "    accuracy                           0.98       175\n",
      "   macro avg       0.97      0.98      0.98       175\n",
      "weighted avg       0.98      0.98      0.98       175\n",
      "\n"
     ]
    }
   ],
   "source": [
    "print(classification_report(y_test, pred))"
   ]
  },
  {
   "cell_type": "code",
   "execution_count": 119,
   "id": "e4be3eeb",
   "metadata": {},
   "outputs": [],
   "source": [
    "from sklearn.metrics import confusion_matrix\n",
    "import seaborn as sns"
   ]
  },
  {
   "cell_type": "code",
   "execution_count": 126,
   "id": "4f8eb3b5",
   "metadata": {},
   "outputs": [],
   "source": [
    "cfmatrix = confusion_matrix(y_test, pred)"
   ]
  },
  {
   "cell_type": "code",
   "execution_count": 127,
   "id": "f0fda37d",
   "metadata": {},
   "outputs": [
    {
     "data": {
      "text/plain": [
       "array([[111,   4],\n",
       "       [  0,  60]], dtype=int64)"
      ]
     },
     "execution_count": 127,
     "metadata": {},
     "output_type": "execute_result"
    }
   ],
   "source": [
    "cfmatrix"
   ]
  },
  {
   "cell_type": "code",
   "execution_count": 132,
   "id": "12478dbb",
   "metadata": {},
   "outputs": [
    {
     "data": {
      "text/plain": [
       "<AxesSubplot:>"
      ]
     },
     "execution_count": 132,
     "metadata": {},
     "output_type": "execute_result"
    },
    {
     "data": {
      "image/png": "[encoded data removed]",
      "text/plain": [
       "<Figure size 432x288 with 2 Axes>"
      ]
     },
     "metadata": {
      "needs_background": "light"
     },
     "output_type": "display_data"
    }
   ],
   "source": [
    "sns.heatmap(cfmatrix, annot=True, fmt='d')"
   ]
  },
  {
   "cell_type": "code",
   "execution_count": 105,
   "id": "70b30f55",
   "metadata": {},
   "outputs": [],
   "source": [
    "# plot train and accuracy loss\n",
    "loss = history.history['loss']\n",
    "val_loss = history.history['val_loss']\n",
    "epochs = range(1, len(loss) + 1) # 1 - 50"
   ]
  },
  {
   "cell_type": "code",
   "execution_count": 106,
   "id": "cfdb43e8",
   "metadata": {},
   "outputs": [],
   "source": [
    "import matplotlib.pyplot as plt"
   ]
  },
  {
   "cell_type": "code",
   "execution_count": 110,
   "id": "3770fe8c",
   "metadata": {},
   "outputs": [
    {
     "data": {
      "image/png": "[encoded data removed]",
      "text/plain": [
       "<Figure size 432x288 with 1 Axes>"
      ]
     },
     "metadata": {
      "needs_background": "light"
     },
     "output_type": "display_data"
    }
   ],
   "source": [
    "plt.plot(epochs, loss, 'y', label='Training loss')\n",
    "plt.plot(epochs, val_loss, 'r', label='Validation loss')\n",
    "plt.title('Training and Validation loss')\n",
    "plt.xlabel('Epochs')\n",
    "plt.ylabel('Loss')\n",
    "plt.legend()\n",
    "plt.show()"
   ]
  },
  {
   "cell_type": "code",
   "execution_count": 111,
   "id": "08421fbc",
   "metadata": {},
   "outputs": [
    {
     "data": {
      "image/png": "[encoded data removed]",
      "text/plain": [
       "<Figure size 432x288 with 1 Axes>"
      ]
     },
     "metadata": {
      "needs_background": "light"
     },
     "output_type": "display_data"
    }
   ],
   "source": [
    "# plot train and accuracy loss\n",
    "loss = history.history['accuracy']\n",
    "val_loss = history.history['val_accuracy']\n",
    "epochs = range(1, len(loss) + 1) # 1 - 50\n",
    "\n",
    "plt.plot(epochs, loss, 'y', label='Training accuracy')\n",
    "plt.plot(epochs, val_loss, 'r', label='Validation accuracy')\n",
    "plt.title('Training and Validation accuracy')\n",
    "plt.xlabel('Epochs')\n",
    "plt.ylabel('Accuracy')\n",
    "plt.legend()\n",
    "plt.show()"
   ]
  },
  {
   "cell_type": "markdown",
   "id": "06a19b93",
   "metadata": {},
   "source": [
    "**The more the non linearity the more deeper must be the neural network**\n",
    "\n",
    "Usually the training should be better than validation set, we can see in both graphs that, the loss for validation is smaller than training and in accuracy, the validation set is performing better than training."
   ]
  }
 ],
 "metadata": {
  "kernelspec": {
   "display_name": "Python 3 (ipykernel)",
   "language": "python",
   "name": "python3"
  },
  "language_info": {
   "codemirror_mode": {
    "name": "ipython",
    "version": 3
   },
   "file_extension": ".py",
   "mimetype": "text/x-python",
   "name": "python",
   "nbconvert_exporter": "python",
   "pygments_lexer": "ipython3",
   "version": "3.9.7"
  }
 },
 "nbformat": 4,
 "nbformat_minor": 5
}
