{
  "nbformat": 4,
  "nbformat_minor": 0,
  "metadata": {
    "colab": {
      "name": "CNN_V4.ipynb",
      "provenance": []
    },
    "kernelspec": {
      "name": "python3",
      "display_name": "Python 3"
    }
  },
  "cells": [
    {
      "cell_type": "code",
      "metadata": {
        "colab": {
          "base_uri": "https://localhost:8080/"
        },
        "id": "9XXPl4Xv_axY",
        "outputId": "9592f671-0e5f-4a4d-d813-3987f7cd2269"
      },
      "source": [
        "from google.colab import drive\n",
        "from keras.models import model_from_json\n",
        "import numpy as np\n",
        "import imageio\n",
        "import cv2\n",
        "drive.mount('/content/gdrive')"
      ],
      "execution_count": 1,
      "outputs": [
        {
          "output_type": "stream",
          "text": [
            "Mounted at /content/gdrive\n"
          ],
          "name": "stdout"
        }
      ]
    },
    {
      "cell_type": "code",
      "metadata": {
        "id": "dCeCLbmQCAEI"
      },
      "source": [
        "X = imageio.imread(\"/content/gdrive/MyDrive/Colab Notebooks/amostra1.png\")\n",
        "X = cv2.resize(X, (28, 28))\n",
        "X = cv2.cvtColor(X, cv2.COLOR_BGR2GRAY)"
      ],
      "execution_count": 2,
      "outputs": []
    },
    {
      "cell_type": "code",
      "metadata": {
        "colab": {
          "base_uri": "https://localhost:8080/",
          "height": 265
        },
        "id": "bwKP-EW0CPZ-",
        "outputId": "3f36c88a-483f-4f7f-ec5f-a9f53dcd5154"
      },
      "source": [
        "import matplotlib.pyplot as plt\n",
        "plt.imshow(X)\n",
        "plt.show()"
      ],
      "execution_count": 3,
      "outputs": [
        {
          "output_type": "display_data",
          "data": {
            "image/png": "[encoded data removed]",
            "text/plain": [
              "<Figure size 432x288 with 1 Axes>"
            ]
          },
          "metadata": {
            "tags": [],
            "needs_background": "light"
          }
        }
      ]
    },
    {
      "cell_type": "code",
      "metadata": {
        "id": "AHkhlZBgCUo6"
      },
      "source": [
        "X = np.expand_dims(X, 2)\n",
        "X = X.reshape(1, 28, 28, 1).astype('float32')  \n",
        "X = X / 255"
      ],
      "execution_count": 4,
      "outputs": []
    },
    {
      "cell_type": "code",
      "metadata": {
        "colab": {
          "base_uri": "https://localhost:8080/"
        },
        "id": "6jjA9y6dCftu",
        "outputId": "d3ab6c0a-1cef-4e3a-d3ec-6714bf1772fb"
      },
      "source": [
        "with open(\"/content/gdrive/MyDrive/Colab Notebooks/model.json\" , \"r\") as json_file:\n",
        "  load_model_json = json_file.read()\n",
        "  model = model_from_json(load_model_json)\n",
        "  model.load_weights(\"/content/gdrive/MyDrive/Colab Notebooks/model_w.h5\")\n",
        "  model.compile(loss=\"categorical_crossentropy\", optimizer=\"adam\", metrics=[\"accuracy\"])\n",
        "  y = model.predict(X)\n",
        "  \n",
        "  print(np.argmax(y, axis=1))"
      ],
      "execution_count": 5,
      "outputs": [
        {
          "output_type": "stream",
          "text": [
            "[5]\n"
          ],
          "name": "stdout"
        }
      ]
    }
  ]
}