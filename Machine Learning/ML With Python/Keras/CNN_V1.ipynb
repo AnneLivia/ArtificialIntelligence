{
  "nbformat": 4,
  "nbformat_minor": 0,
  "metadata": {
    "colab": {
      "name": "CNN_V1.ipynb",
      "provenance": [],
      "collapsed_sections": []
    },
    "kernelspec": {
      "name": "python3",
      "display_name": "Python 3"
    }
  },
  "cells": [
    {
      "cell_type": "code",
      "metadata": {
        "id": "c3k3AMizHC4H"
      },
      "source": [
        "# import all required libraries\n",
        "# obtaining the dataset mnist available on keras\n",
        "from keras.datasets import mnist \n",
        "# importing a library that can be used to plot the data\n",
        "import matplotlib.pyplot as plt\n",
        "# need to import a library that can be used to construct the validation dataset\n",
        "from sklearn.model_selection import train_test_split"
      ],
      "execution_count": 74,
      "outputs": []
    },
    {
      "cell_type": "code",
      "metadata": {
        "id": "loQoUk5cILmi"
      },
      "source": [
        "# load the data (including x_train, y_train and x_test, y_test) from mnist dataset \n",
        "# the function load_data() returns Tuple of Numpy arrays, where x_train is the data and y_train is the label data\n",
        "# the same for x_test and y_test. (Supervised learning)\n",
        "(x_train, y_train), (x_test, y_test) = mnist.load_data();"
      ],
      "execution_count": 75,
      "outputs": []
    },
    {
      "cell_type": "markdown",
      "metadata": {
        "id": "xJfTj4GUK3eY"
      },
      "source": [
        "Information obtaineed from [here](https://stats.stackexchange.com/questions/19048/what-is-the-difference-between-test-set-and-validation-set).\n",
        "\n",
        "\n",
        "Training set: a set of examples used for learning: to fit the parameters of the classifier In the Multilayer Perceptron (MLP) case, we would use the training set to find the “optimal” weights with the back-prop rule\n",
        "\n",
        "Validation set: a set of examples used to tune the parameters of a classifier In the MLP case, we would use the validation set to find the “optimal” number of hidden units or determine a stopping point for the back-propagation algorithm\n",
        "\n",
        "Test set: a set of examples used only to assess the performance of a fully-trained classifier In the MLP case, we would use the test to estimate the error rate after we have chosen the final model (MLP size and actual weights) After assessing the final model on the test set, YOU MUST NOT tune the model any further!\n",
        "\n",
        "Why separate test and validation sets? The error rate estimate of the final model on validation data will be biased (smaller than the true error rate) since the validation set is used to select the final model After assessing the final model on the test set, YOU MUST NOT tune the model any further!\n",
        "\n",
        "source : Introduction to Pattern Analysis,Ricardo Gutierrez-OsunaTexas A&M University, Texas A&M University\n",
        "\n",
        "\n",
        "Training set  --> to fit the parameters [i.e., weights]\n",
        "Validation set --> to tune the parameters [i.e., architecture]\n",
        "Test set --> to assess the performance [i.e., generalization and predictive power]\n",
        "\n",
        "\n",
        "Let's assume that you are training a model whose performance depends on a set of hyperparameters. In the case of a neural network, these parameters may be for instance the learning rate or the number of training iterations.\n",
        "\n",
        "Given a choice of hyperparameter values, you use the training set to train the model. But, how do you set the values for the hyperparameters? That's what the validation set is for. You can use it to evaluate the performance of your model for different combinations of hyperparameter values (e.g. by means of a grid search process) and keep the best trained model.\n",
        "\n",
        "Reference: https://datascience.stackexchange.com/questions/18339/why-use-both-validation-set-and-test-set"
      ]
    },
    {
      "cell_type": "code",
      "metadata": {
        "colab": {
          "base_uri": "https://localhost:8080/"
        },
        "id": "pk4JVJC2I2C7",
        "outputId": "da78b693-e3ca-42a8-aca0-5dd9fa25b3d6"
      },
      "source": [
        "# the next step is to split the train data into validation and train\n",
        "# test_size equal to 0.5 means that the train set is going to be divided in the middle 50% to validation and 50% to train\n",
        "# stratify = y_Train = mantain each class balanced (that is, returns training and test subsets that have the \n",
        "# same proportions of class labels as the input dataset.) that guaratees a good representation of each class (don't create a bias (vies))\n",
        "# the data is divided randomly\n",
        "x_train, x_validation, y_train, y_validation = train_test_split(x_train, y_train, test_size=0.5, stratify=y_train)\n",
        "\n",
        "print(len(y_train), len(y_validation), len(y_test))"
      ],
      "execution_count": 76,
      "outputs": [
        {
          "output_type": "stream",
          "text": [
            "30000 30000 10000\n"
          ],
          "name": "stdout"
        }
      ]
    },
    {
      "cell_type": "code",
      "metadata": {
        "colab": {
          "base_uri": "https://localhost:8080/",
          "height": 265
        },
        "id": "wC7h5fyAOLQz",
        "outputId": "2a0974a6-1bed-4c95-a31d-ed84c47ae85a"
      },
      "source": [
        "# ploting some data from the training dataset\n",
        "plt.imshow(x_train[0]);\n",
        "plt.show();"
      ],
      "execution_count": 77,
      "outputs": [
        {
          "output_type": "display_data",
          "data": {
            "image/png": "[encoded data removed]",
            "text/plain": [
              "<Figure size 432x288 with 1 Axes>"
            ]
          },
          "metadata": {
            "tags": [],
            "needs_background": "light"
          }
        }
      ]
    },
    {
      "cell_type": "code",
      "metadata": {
        "colab": {
          "base_uri": "https://localhost:8080/",
          "height": 268
        },
        "id": "oDsfm2qdOsBs",
        "outputId": "481854b6-5da5-43a5-8e99-25922024238c"
      },
      "source": [
        "# viewing four images side by side\n",
        "# 2 x 2 figure, 1 = first position\n",
        "plt.subplot(221)\n",
        "plt.imshow(x_train[0])\n",
        "# 2 x 2 figure, 2 = second position\n",
        "plt.subplot(222)\n",
        "plt.imshow(x_train[1])\n",
        "# 2 x 2 figure, 3 = third position\n",
        "plt.subplot(223)\n",
        "plt.imshow(x_train[2])\n",
        "# 2 x 2 figure, 4 = fourth position\n",
        "plt.subplot(224)\n",
        "plt.imshow(x_train[3])\n",
        "plt.show()"
      ],
      "execution_count": 78,
      "outputs": [
        {
          "output_type": "display_data",
          "data": {
            "image/png": "[encoded data removed]",
            "text/plain": [
              "<Figure size 432x288 with 4 Axes>"
            ]
          },
          "metadata": {
            "tags": [],
            "needs_background": "light"
          }
        }
      ]
    },
    {
      "cell_type": "code",
      "metadata": {
        "colab": {
          "base_uri": "https://localhost:8080/"
        },
        "id": "BRuOxVP5Pawt",
        "outputId": "504f713d-3394-4dc7-8ce7-f7f1f19ab1be"
      },
      "source": [
        "# discovering how many classes there are in the dataset\n",
        "# by using set(array), it returns all values once\n",
        "# Sets are used to store multiple items in a single variable.\n",
        "set(y_train)"
      ],
      "execution_count": 79,
      "outputs": [
        {
          "output_type": "execute_result",
          "data": {
            "text/plain": [
              "{0, 1, 2, 3, 4, 5, 6, 7, 8, 9}"
            ]
          },
          "metadata": {
            "tags": []
          },
          "execution_count": 79
        }
      ]
    },
    {
      "cell_type": "markdown",
      "metadata": {
        "id": "T5rMkBmPSYjG"
      },
      "source": [
        "Dropout is a regularization method that approximates training a large number of neural networks with different architectures in parallel.\n",
        "\n",
        "During training, some number of layer outputs are randomly ignored or “dropped out.” This has the effect of making the layer look-like and be treated-like a layer with a different number of nodes and connectivity to the prior layer. In effect, each update to a layer during training is performed with a different “view” of the configured layer.\n",
        "\n",
        "By dropping a unit out, we mean temporarily removing it from the network, along with all its incoming and outgoing connections\n",
        "\n",
        "\n",
        "A common approach to addressing this problem from signal processing is called down sampling. This is where a lower resolution version of an input signal is created that still contains the large or important structural elements, without the fine detail that may not be as useful to the task."
      ]
    },
    {
      "cell_type": "code",
      "metadata": {
        "id": "GHHeDwpmPyDO"
      },
      "source": [
        "# used to manipulate array values\n",
        "import numpy \n",
        "# libraries used to build the neural network\n",
        "from keras.models import Sequential\n",
        "# mlp dense\n",
        "from keras.layers import Dense\n",
        "from keras.layers import Dropout\n",
        "# to unify convolution layer with the mlp strong-conected layer\n",
        "from keras.layers import Flatten\n",
        "from keras.layers.convolutional import Conv2D\n",
        "# method of pooling \n",
        "from keras.layers.convolutional import MaxPooling2D\n",
        "# create classes 10, classes\n",
        "from keras.utils import np_utils"
      ],
      "execution_count": 80,
      "outputs": []
    },
    {
      "cell_type": "code",
      "metadata": {
        "id": "tfA2RIzLT6I7"
      },
      "source": [
        "# Redimensiona os dados para ficar no formato que o tensorflow trabalha\n",
        "# it's interesting to resize the image (better to work with low resolution images)\n",
        "# sequence of specified parameter\n",
        "# number images,\n",
        "# specifying that is 28x28, \n",
        "# 1 channel of the RGB (if it was colored, it would be 3)\n",
        "# type is going to be float to better normalize the values \n",
        "x_train = x_train.reshape(x_train.shape[0], 28, 28, 1).astype('float32')\n",
        "x_validation = x_validation.reshape(x_validation.shape[0], 28, 28, 1).astype('float32')\n",
        "x_test = x_test.reshape(x_test.shape[0], 28, 28, 1).astype('float32')"
      ],
      "execution_count": 81,
      "outputs": []
    },
    {
      "cell_type": "code",
      "metadata": {
        "id": "K5F-39lBVRdo"
      },
      "source": [
        "# normalizing the values of 0, 255 to 0, 1\n",
        "# neural networks is going to work better within 0-1 interval\n",
        "x_train = x_train / 255\n",
        "x_validation /= 255\n",
        "x_test /= 255"
      ],
      "execution_count": 82,
      "outputs": []
    },
    {
      "cell_type": "markdown",
      "metadata": {
        "id": "OU22MnuHWfgv"
      },
      "source": [
        "np_utils.to_categorical: This function returns a matrix of binary values (either ‘1’ or ‘0’). It has number of rows equal to the length of the input vector and number of columns equal to the number of classes.\n",
        "\n",
        "Example:\n",
        "\n",
        "supossing the datas are distributed in this way:\n",
        "\n",
        "[0 0 0 0 0 1 0 1] = [1]\n",
        "\n",
        "[0 0 0 1 0 1 0 1] = [9]\n",
        "\n",
        "[0 1 1 0 0 1 0 1] = [6]\n",
        "\n",
        "by applying to_categorial, this would be change to:\n",
        "\n",
        "[0 0 0 0 0 1 0 1] = [0 1 0 0 0 0 0 0 0 0]\n",
        "\n",
        "[0 0 0 1 0 1 0 1] = [0 0 0 0 0 0 0 0 0 1]\n",
        "\n",
        "[0 1 1 0 0 1 0 1] = [0 0 0 0 0 1 0 0 0 0]"
      ]
    },
    {
      "cell_type": "code",
      "metadata": {
        "colab": {
          "base_uri": "https://localhost:8080/"
        },
        "id": "-LOQQAqCVjga",
        "outputId": "450a2c4f-1339-4977-95e5-badd7bef287c"
      },
      "source": [
        "print(\"before change to categorial: \", y_train[0])\n",
        "\n",
        "# Converts a class vector (integers) to binary class matrix.\n",
        "y_train = np_utils.to_categorical(y_train)\n",
        "y_validation = np_utils.to_categorical(y_validation)\n",
        "y_test = np_utils.to_categorical(y_test)\n",
        "\n",
        "num_classes = y_test.shape[1]\n",
        "print(\"Number of classes: \", num_classes) # from 0 to 9, 10 classes\n",
        "print(\"after change to categorial: \", y_train[0])"
      ],
      "execution_count": 83,
      "outputs": [
        {
          "output_type": "stream",
          "text": [
            "before change to categorial:  4\n",
            "Number of classes:  10\n",
            "after change to categorial:  [0. 0. 0. 0. 1. 0. 0. 0. 0. 0.]\n"
          ],
          "name": "stdout"
        }
      ]
    },
    {
      "cell_type": "markdown",
      "metadata": {
        "id": "aubzf5RmaKwB"
      },
      "source": [
        "Model Parameters are the properties of training data that will learn on its own during training by the classifier or other ML model. For example, weights and biases, or split points in Decision Tree.\n",
        "\n",
        "Model Hyperparameters are instead properties that govern the entire training process. They include variables which determines the network structure (for example, Number of Hidden Units) and the variables which determine how the network is trained (for example, Learning Rate). Model hyperparameters are set before training (before optimizing the weights and bias).\n",
        "For example, here are some model inbuilt configuration variables :\n",
        "* Learning Rate\n",
        "* Number of Epochs\n",
        "* Hidden Layers\n",
        "* Hidden Units\n",
        "* Activations Functions\n",
        "\n",
        "\n",
        "Reference: https://medium.com/@jorgesleonel/hyperparameters-in-machine-deep-learning-ca69ad10b981\n",
        "\n",
        "Model parameter = the model changes it automatically\n",
        "hyperparameter = we control it\n",
        "\n"
      ]
    },
    {
      "cell_type": "code",
      "metadata": {
        "id": "GH3Nwgy4Yr0v"
      },
      "source": [
        "# construct the neural network\n",
        "def baseline_model():\n",
        "  # build a sequecial (sequencial of layers (it's a composition of layers))\n",
        "  model = Sequential()\n",
        "  # first layer of the neural network is going to be a convolution 2d\n",
        "  # parameters in sequence:\n",
        "  # 10 = how many neurons is going to be created (filters in the conv layer)\n",
        "  # (3, 3) = each filter is 3 by 3\n",
        "  # input_shape=(28, 28, 1) = input layer configuration (28 by 28 with only one channel)\n",
        "  # activation='relu' = function of activation\n",
        "  # those are called hyperparemeters\n",
        "  model.add(Conv2D(10, (3, 3), input_shape=(28, 28, 1), activation='relu'))\n",
        "  # pooling 2 by 2\n",
        "  model.add(MaxPooling2D(pool_size=(2, 2)))\n",
        "\n",
        "  # New conv layer added after first training where it had Cnn error 0.03 and Cnn accuracy 0.97\n",
        "  model.add(Conv2D(50, (3, 3), activation='relu'))\n",
        "  # pooling 2 by 2\n",
        "  model.add(MaxPooling2D(pool_size=(2, 2)))\n",
        "  # only one convolution layer defined\n",
        "  # flatten all data to pass the data to the mlp\n",
        "  model.add(Flatten())\n",
        "  # 10 neurons in the connected layer\n",
        "  model.add(Dense(10, activation='relu'))\n",
        "  # final layer of the neural network is the output layer\n",
        "  # it must have num_classes neurons, with softmax activation function \n",
        "  model.add(Dense(num_classes, activation='softmax'))\n",
        "  # compiling the neural network, optimizer = how the weights are going to be updated\n",
        "  # loss = the type of problem, metrics = the metric used to avaliate the model using validation set\n",
        "  model.compile(loss='categorical_crossentropy', optimizer='adam', metrics=['accuracy'])\n",
        "\n",
        "  return model\n",
        "\n",
        "# loading the network\n",
        "model = baseline_model()"
      ],
      "execution_count": 84,
      "outputs": []
    },
    {
      "cell_type": "code",
      "metadata": {
        "colab": {
          "base_uri": "https://localhost:8080/"
        },
        "id": "Dr7HSTRydLj9",
        "outputId": "cff74c2f-29d2-48af-83e0-b73e05ba7841"
      },
      "source": [
        "# training neral network by using the function fit, parameter in sequence:\n",
        "# training set, validation set, number of epochs, \n",
        "# batch_sise = how many data are used to verify the first generalization of the model. from\n",
        "# each 200 images, the model is going to be checked (evaluate the weights from each 200 images)\n",
        "model.fit(x_train, y_train, validation_data=(x_validation, y_validation), epochs=10, batch_size=200)"
      ],
      "execution_count": 85,
      "outputs": [
        {
          "output_type": "stream",
          "text": [
            "Epoch 1/10\n",
            "150/150 [==============================] - 15s 100ms/step - loss: 0.9998 - accuracy: 0.6950 - val_loss: 0.3735 - val_accuracy: 0.8923\n",
            "Epoch 2/10\n",
            "150/150 [==============================] - 15s 99ms/step - loss: 0.2891 - accuracy: 0.9169 - val_loss: 0.2145 - val_accuracy: 0.9402\n",
            "Epoch 3/10\n",
            "150/150 [==============================] - 15s 99ms/step - loss: 0.1905 - accuracy: 0.9452 - val_loss: 0.1613 - val_accuracy: 0.9550\n",
            "Epoch 4/10\n",
            "150/150 [==============================] - 15s 99ms/step - loss: 0.1443 - accuracy: 0.9582 - val_loss: 0.1439 - val_accuracy: 0.9584\n",
            "Epoch 5/10\n",
            "150/150 [==============================] - 15s 99ms/step - loss: 0.1207 - accuracy: 0.9645 - val_loss: 0.1137 - val_accuracy: 0.9668\n",
            "Epoch 6/10\n",
            "150/150 [==============================] - 15s 99ms/step - loss: 0.1095 - accuracy: 0.9678 - val_loss: 0.1093 - val_accuracy: 0.9668\n",
            "Epoch 7/10\n",
            "150/150 [==============================] - 15s 102ms/step - loss: 0.0950 - accuracy: 0.9716 - val_loss: 0.0975 - val_accuracy: 0.9710\n",
            "Epoch 8/10\n",
            "150/150 [==============================] - 15s 99ms/step - loss: 0.0865 - accuracy: 0.9743 - val_loss: 0.0992 - val_accuracy: 0.9706\n",
            "Epoch 9/10\n",
            "150/150 [==============================] - 15s 99ms/step - loss: 0.0806 - accuracy: 0.9761 - val_loss: 0.0852 - val_accuracy: 0.9737\n",
            "Epoch 10/10\n",
            "150/150 [==============================] - 15s 99ms/step - loss: 0.0739 - accuracy: 0.9779 - val_loss: 0.0909 - val_accuracy: 0.9728\n"
          ],
          "name": "stdout"
        },
        {
          "output_type": "execute_result",
          "data": {
            "text/plain": [
              "<tensorflow.python.keras.callbacks.History at 0x7fd812475588>"
            ]
          },
          "metadata": {
            "tags": []
          },
          "execution_count": 85
        }
      ]
    },
    {
      "cell_type": "code",
      "metadata": {
        "colab": {
          "base_uri": "https://localhost:8080/"
        },
        "id": "7Giftp6efEt0",
        "outputId": "f78334d6-befc-40c5-e7cf-e3149067df78"
      },
      "source": [
        "# verify the model using the test dataset\n",
        "# By setting verbose 0, 1 or 2 you just say how do you want to 'see' the training progress for each epoch. verbose=0 will show you nothing (silent)\n",
        "scores = model.evaluate(x_test, y_test, verbose=0)\n",
        "# 1 - scores[1] = error, scores[1] = accuracy\n",
        "result_error = str(\"%.2f\"%(1 - scores[1]))\n",
        "result_accuracy = str(\"%.2f\"%(scores[1]))\n",
        "print(\"Cnn error\", result_error)\n",
        "print(\"Cnn accuracy\", result_accuracy)"
      ],
      "execution_count": 86,
      "outputs": [
        {
          "output_type": "stream",
          "text": [
            "Cnn error 0.02\n",
            "Cnn accuracy 0.98\n"
          ],
          "name": "stdout"
        }
      ]
    },
    {
      "cell_type": "markdown",
      "metadata": {
        "id": "JdRaFzZ5gKSJ"
      },
      "source": [
        "To improve the neural network, we can improve the architecture of the neural network, add new layers, and so on"
      ]
    }
  ]
}