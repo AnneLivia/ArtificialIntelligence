{
 "cells": [
  {
   "cell_type": "markdown",
   "metadata": {},
   "source": [
    "# What is Extra Trees:\n",
    "\n",
    "Extra Tree is used both for regression and classification\n",
    "\n",
    "Extra Trees is an ensemble machine learning algorithm that combines the predictions from many decision trees.\n",
    "It is related to the widely used random forest algorithm. It can often achieve as-good or better performance than the random forest algorithm, although it uses a simpler algorithm to construct the decision trees used as members of the ensemble.Extremely Randomized Trees, or Extra Trees for short, is an ensemble machine learning algorithm.\n",
    "\n",
    "Specifically, it is an ensemble of decision trees and is related to other ensembles of decision trees algorithms such as bootstrap aggregation (bagging) and random forest. Unlike bagging and random forest that develop each decision tree from a bootstrap sample of the training dataset, the Extra Trees algorithm fits each decision tree on the whole training dataset.\n",
    "\n",
    "Like random forest, the Extra Trees algorithm will randomly sample the features at each split point of a decision tree. Unlike random forest, which uses a greedy algorithm to select an optimal split point, the Extra Trees algorithm selects a split point at random.\n",
    "\n",
    "More info in this <a href=\"https://machinelearningmastery.com/extra-trees-ensemble-with-python/#:~:text=Extra%20Trees%20is%20an%20ensemble,predictions%20from%20many%20decision%20trees.&text=It%20can%20often%20achieve%20as,as%20members%20of%20the%20ensemble\"> Link </a>"
   ]
  },
  {
   "cell_type": "code",
   "execution_count": 18,
   "metadata": {},
   "outputs": [],
   "source": [
    "# - Weak Learner (Uses only one node)\n",
    "import pandas as pd\n",
    "import numpy as np\n",
    "from sklearn.datasets import load_iris\n",
    "from sklearn.tree import DecisionTreeClassifier\n",
    "from sklearn.model_selection import train_test_split"
   ]
  },
  {
   "cell_type": "code",
   "execution_count": 12,
   "metadata": {},
   "outputs": [],
   "source": [
    "# O iris comes in numpy, transforming it to dataframe\n",
    "x = pd.DataFrame(load_iris().data, columns=load_iris().feature_names)\n",
    "y = pd.DataFrame(load_iris().target, columns=['Species'])  "
   ]
  },
  {
   "cell_type": "code",
   "execution_count": 13,
   "metadata": {},
   "outputs": [
    {
     "data": {
      "text/html": [
       "<div>\n",
       "<style scoped>\n",
       "    .dataframe tbody tr th:only-of-type {\n",
       "        vertical-align: middle;\n",
       "    }\n",
       "\n",
       "    .dataframe tbody tr th {\n",
       "        vertical-align: top;\n",
       "    }\n",
       "\n",
       "    .dataframe thead th {\n",
       "        text-align: right;\n",
       "    }\n",
       "</style>\n",
       "<table border=\"1\" class=\"dataframe\">\n",
       "  <thead>\n",
       "    <tr style=\"text-align: right;\">\n",
       "      <th></th>\n",
       "      <th>sepal length (cm)</th>\n",
       "      <th>sepal width (cm)</th>\n",
       "      <th>petal length (cm)</th>\n",
       "      <th>petal width (cm)</th>\n",
       "    </tr>\n",
       "  </thead>\n",
       "  <tbody>\n",
       "    <tr>\n",
       "      <th>0</th>\n",
       "      <td>5.1</td>\n",
       "      <td>3.5</td>\n",
       "      <td>1.4</td>\n",
       "      <td>0.2</td>\n",
       "    </tr>\n",
       "    <tr>\n",
       "      <th>1</th>\n",
       "      <td>4.9</td>\n",
       "      <td>3.0</td>\n",
       "      <td>1.4</td>\n",
       "      <td>0.2</td>\n",
       "    </tr>\n",
       "    <tr>\n",
       "      <th>2</th>\n",
       "      <td>4.7</td>\n",
       "      <td>3.2</td>\n",
       "      <td>1.3</td>\n",
       "      <td>0.2</td>\n",
       "    </tr>\n",
       "    <tr>\n",
       "      <th>3</th>\n",
       "      <td>4.6</td>\n",
       "      <td>3.1</td>\n",
       "      <td>1.5</td>\n",
       "      <td>0.2</td>\n",
       "    </tr>\n",
       "    <tr>\n",
       "      <th>4</th>\n",
       "      <td>5.0</td>\n",
       "      <td>3.6</td>\n",
       "      <td>1.4</td>\n",
       "      <td>0.2</td>\n",
       "    </tr>\n",
       "  </tbody>\n",
       "</table>\n",
       "</div>"
      ],
      "text/plain": [
       "   sepal length (cm)  sepal width (cm)  petal length (cm)  petal width (cm)\n",
       "0                5.1               3.5                1.4               0.2\n",
       "1                4.9               3.0                1.4               0.2\n",
       "2                4.7               3.2                1.3               0.2\n",
       "3                4.6               3.1                1.5               0.2\n",
       "4                5.0               3.6                1.4               0.2"
      ]
     },
     "execution_count": 13,
     "metadata": {},
     "output_type": "execute_result"
    }
   ],
   "source": [
    "x.head()"
   ]
  },
  {
   "cell_type": "code",
   "execution_count": 17,
   "metadata": {},
   "outputs": [
    {
     "data": {
      "text/plain": [
       "Species\n",
       "2          50\n",
       "1          50\n",
       "0          50\n",
       "dtype: int64"
      ]
     },
     "execution_count": 17,
     "metadata": {},
     "output_type": "execute_result"
    }
   ],
   "source": [
    "y.value_counts()"
   ]
  },
  {
   "cell_type": "code",
   "execution_count": 19,
   "metadata": {},
   "outputs": [],
   "source": [
    " # posso especificar em portentagem ou numeros absolutos\n",
    "x_train, x_test, y_train, y_test = train_test_split(x, y, test_size=20, random_state=100)"
   ]
  },
  {
   "cell_type": "code",
   "execution_count": 23,
   "metadata": {},
   "outputs": [
    {
     "data": {
      "text/html": [
       "<div>\n",
       "<style scoped>\n",
       "    .dataframe tbody tr th:only-of-type {\n",
       "        vertical-align: middle;\n",
       "    }\n",
       "\n",
       "    .dataframe tbody tr th {\n",
       "        vertical-align: top;\n",
       "    }\n",
       "\n",
       "    .dataframe thead th {\n",
       "        text-align: right;\n",
       "    }\n",
       "</style>\n",
       "<table border=\"1\" class=\"dataframe\">\n",
       "  <thead>\n",
       "    <tr style=\"text-align: right;\">\n",
       "      <th></th>\n",
       "      <th>Species</th>\n",
       "    </tr>\n",
       "  </thead>\n",
       "  <tbody>\n",
       "    <tr>\n",
       "      <th>125</th>\n",
       "      <td>2</td>\n",
       "    </tr>\n",
       "    <tr>\n",
       "      <th>31</th>\n",
       "      <td>0</td>\n",
       "    </tr>\n",
       "    <tr>\n",
       "      <th>146</th>\n",
       "      <td>2</td>\n",
       "    </tr>\n",
       "    <tr>\n",
       "      <th>29</th>\n",
       "      <td>0</td>\n",
       "    </tr>\n",
       "    <tr>\n",
       "      <th>69</th>\n",
       "      <td>1</td>\n",
       "    </tr>\n",
       "    <tr>\n",
       "      <th>...</th>\n",
       "      <td>...</td>\n",
       "    </tr>\n",
       "    <tr>\n",
       "      <th>87</th>\n",
       "      <td>1</td>\n",
       "    </tr>\n",
       "    <tr>\n",
       "      <th>103</th>\n",
       "      <td>2</td>\n",
       "    </tr>\n",
       "    <tr>\n",
       "      <th>67</th>\n",
       "      <td>1</td>\n",
       "    </tr>\n",
       "    <tr>\n",
       "      <th>24</th>\n",
       "      <td>0</td>\n",
       "    </tr>\n",
       "    <tr>\n",
       "      <th>8</th>\n",
       "      <td>0</td>\n",
       "    </tr>\n",
       "  </tbody>\n",
       "</table>\n",
       "<p>130 rows × 1 columns</p>\n",
       "</div>"
      ],
      "text/plain": [
       "     Species\n",
       "125        2\n",
       "31         0\n",
       "146        2\n",
       "29         0\n",
       "69         1\n",
       "..       ...\n",
       "87         1\n",
       "103        2\n",
       "67         1\n",
       "24         0\n",
       "8          0\n",
       "\n",
       "[130 rows x 1 columns]"
      ]
     },
     "execution_count": 23,
     "metadata": {},
     "output_type": "execute_result"
    }
   ],
   "source": [
    "y_train"
   ]
  },
  {
   "cell_type": "code",
   "execution_count": 24,
   "metadata": {},
   "outputs": [
    {
     "data": {
      "text/plain": [
       "array([2, 0, 2, 0, 1, 2, 1, 0, 1, 2, 1, 1, 2, 0, 0, 1, 0, 1, 2, 2, 0, 1,\n",
       "       2, 2, 0, 0, 0, 0, 1, 0, 0, 0, 1, 2, 2, 1, 2, 1, 2, 2, 1, 0, 2, 2,\n",
       "       2, 0, 0, 2, 0, 0, 0, 1, 2, 2, 2, 0, 1, 1, 0, 1, 1, 2, 0, 1, 1, 1,\n",
       "       1, 1, 1, 2, 2, 0, 1, 0, 1, 2, 2, 2, 1, 0, 0, 0, 0, 2, 0, 0, 1, 0,\n",
       "       2, 1, 2, 0, 2, 2, 0, 1, 1, 1, 2, 1, 1, 0, 0, 0, 2, 1, 1, 0, 2, 2,\n",
       "       2, 1, 1, 1, 1, 2, 2, 0, 0, 1, 1, 1, 1, 2, 1, 1, 2, 1, 0, 0])"
      ]
     },
     "execution_count": 24,
     "metadata": {},
     "output_type": "execute_result"
    }
   ],
   "source": [
    "#  it is used to change a 2-dimensional array or a multi-dimensional array into a contiguous flattened array. \n",
    "np.ravel(y_train) # ravel is used to change "
   ]
  },
  {
   "cell_type": "markdown",
   "metadata": {},
   "source": [
    "# Weak Learner"
   ]
  },
  {
   "cell_type": "code",
   "execution_count": 27,
   "metadata": {},
   "outputs": [
    {
     "data": {
      "text/plain": [
       "0.55"
      ]
     },
     "execution_count": 27,
     "metadata": {},
     "output_type": "execute_result"
    }
   ],
   "source": [
    "atree = DecisionTreeClassifier(max_depth=1)\n",
    "# training\n",
    "atree.fit(x_train, np.ravel(y_train))\n",
    "# test accuracy in test set\n",
    "atree.score(x_test, y_test) # it's better just for a little bit from a random model"
   ]
  },
  {
   "cell_type": "markdown",
   "metadata": {},
   "source": [
    "# Multiple Weak Learner (Without Random Selection of data and Features)"
   ]
  },
  {
   "cell_type": "code",
   "execution_count": 32,
   "metadata": {},
   "outputs": [
    {
     "data": {
      "text/plain": [
       "0.55"
      ]
     },
     "execution_count": 32,
     "metadata": {},
     "output_type": "execute_result"
    }
   ],
   "source": [
    "from sklearn import ensemble \n",
    "\n",
    "onetree = DecisionTreeClassifier(max_depth=1)\n",
    "\n",
    "# creating a multiple weak trees using bagging technique (this methods replicated my weak tree in many tree)\n",
    "# the base tree is my weak learner with only one depth\n",
    "# the n_estimators is the number of trees i want\n",
    "# bootstrap false\n",
    "mtree = ensemble.BaggingClassifier(base_estimator=onetree, n_estimators=1000, bootstrap=False)\n",
    "\n",
    "# training\n",
    "mtree.fit(x_train, np.ravel(y_train))\n",
    "# test accuracy in test set\n",
    "mtree.score(x_test, y_test) # it's better just for a little bit from a random model\n",
    "\n",
    "# Why the same result? because I don't have random state in the classifiers, all of them are learning exactly the same thing\n",
    "# I'm not exploring the dataset in different ways"
   ]
  },
  {
   "cell_type": "markdown",
   "metadata": {},
   "source": [
    "# Solution one: Random Forest\n",
    "\n",
    "### to resolve this problem (Change samples of each tree, using datas with reposition, i. e, it allows repetition) - the selection of samples are random\n",
    "\n",
    "### Random features are going to be choosen and tested to deteremine the nodes of the tree\n",
    "\n",
    "### In this implemention, it's going to be used sqrt(n_features) -> so each node can test only with this number of features\n",
    "\n",
    "### This is being doing to add variability to the model, I'm forcing each classifier to learn a different part of the dataset, after that, it is combined what each one learned. This combination can be majority vote for classification or averaging for regression\n",
    "\n",
    "# So basically Random Forest adds randomness to each tree and after that gets the collective knowledge"
   ]
  },
  {
   "cell_type": "code",
   "execution_count": 33,
   "metadata": {},
   "outputs": [
    {
     "data": {
      "text/plain": [
       "0.9"
      ]
     },
     "execution_count": 33,
     "metadata": {},
     "output_type": "execute_result"
    }
   ],
   "source": [
    "# it's going to be used some criterion to divided the data the best one\n",
    "# The strategy used to choose the split at each node. Supported,\n",
    "# strategies are \"best\" to choose the best split and \"random\" to choose the best random split.\n",
    "\n",
    "onetree = DecisionTreeClassifier(max_depth=1, splitter='best', max_features='sqrt') \n",
    "\n",
    "# creating a multiple weak trees using bagging technique (this methods replicated my weak tree in many tree)\n",
    "# the base tree is my weak learner with only one depth\n",
    "# the n_estimators is the number of trees i want\n",
    "# bootstrap True, it does the sample of my original data with reposition \n",
    "rfmtree = ensemble.BaggingClassifier(base_estimator=onetree, n_estimators=1000, bootstrap=True)\n",
    "\n",
    "# training\n",
    "rfmtree.fit(x_train, np.ravel(y_train))\n",
    "# test accuracy in test set\n",
    "rfmtree.score(x_test, y_test) # it's better just for a little bit from a random model\n",
    "\n",
    "# Why the same result? because I don't have random state in the classifiers, all of them are learning exactly the same thing\n",
    "# I'm not exploring the dataset in different ways"
   ]
  },
  {
   "cell_type": "markdown",
   "metadata": {},
   "source": [
    "# Solution Two: Extra Tree\n",
    "\n",
    "### All data is going to be used for training (There's no reposition, boostrap is false), samples without repetition\n",
    "### Random choose some features and the split is random to determine each node of the tree\n"
   ]
  },
  {
   "cell_type": "code",
   "execution_count": 34,
   "metadata": {},
   "outputs": [
    {
     "data": {
      "text/plain": [
       "0.95"
      ]
     },
     "execution_count": 34,
     "metadata": {},
     "output_type": "execute_result"
    }
   ],
   "source": [
    "# it's going to be used some criterion to divided the data the best one (criterion can be gini or entropia)\n",
    "# The strategy used to choose the split at each node. Supported,\n",
    "# strategies are \"best\" to choose the best split and \"random\" to choose the best random split.\n",
    "\n",
    "onetree = DecisionTreeClassifier(max_depth=1, splitter='random', max_features='sqrt') \n",
    "\n",
    "# creating a multiple weak trees using bagging technique (this methods replicated my weak tree in many tree)\n",
    "# the base tree is my weak learner with only one depth\n",
    "# the n_estimators is the number of trees i want\n",
    "# bootstrap True, it does the sample of my original data with reposition \n",
    "etmtree = ensemble.BaggingClassifier(base_estimator=onetree, n_estimators=1000, bootstrap=False)\n",
    "\n",
    "# training\n",
    "etmtree.fit(x_train, np.ravel(y_train))\n",
    "# test accuracy in test set\n",
    "etmtree.score(x_test, y_test) # it's better just for a little bit from a random model\n",
    "\n",
    "# Why the same result? because I don't have random state in the classifiers, all of them are learning exactly the same thing\n",
    "# I'm not exploring the dataset in different ways"
   ]
  },
  {
   "cell_type": "markdown",
   "metadata": {},
   "source": [
    "# So basically the main difference between extra tree and random forest is the way they explore the sample and apply randomness\n",
    "# Extra tree explore all data without reposition and apply random to select features\n",
    "# Random Forest explores random samples with reposition (allows repetition) and applys random to features too\n",
    "\n",
    "\n",
    "From <a href=\"https://quantdare.com/what-is-the-difference-between-extra-trees-and-random-forest/\">this link in QuantDare website </a>, some differences between the two algorithms:\n",
    "\n",
    "- Random forest uses bootstrap replicas, that is to say, it subsamples the input data with replacement, whereas Extra Trees use the whole original sample. In the Extra Trees sklearn implementation there is an optional parameter that allows users to bootstrap replicas, but by default, it uses the entire input sample. This may increase variance because bootstrapping makes it more diversified.\n",
    "\n",
    "- Another difference is the selection of cut points in order to split nodes. Random Forest chooses the optimum split while Extra Trees chooses it randomly. However, once the split points are selected, the two algorithms choose the best one between all the subset of features. Therefore, Extra Trees adds randomization but still has optimization.\n",
    "\n",
    "- the Extra Trees algorithm is faster."
   ]
  },
  {
   "cell_type": "code",
   "execution_count": 35,
   "metadata": {},
   "outputs": [],
   "source": [
    "import matplotlib.pyplot as plt\n",
    "from sklearn.datasets import fetch_olivetti_faces # base de reconhecimento facil, extrair pictures mais importantes"
   ]
  },
  {
   "cell_type": "code",
   "execution_count": 36,
   "metadata": {},
   "outputs": [
    {
     "name": "stdout",
     "output_type": "stream",
     "text": [
      "downloading Olivetti faces from https://ndownloader.figshare.com/files/5976027 to C:\\Users\\annel\\scikit_learn_data\n"
     ]
    }
   ],
   "source": [
    "dataset = fetch_olivetti_faces()"
   ]
  },
  {
   "cell_type": "code",
   "execution_count": 40,
   "metadata": {},
   "outputs": [
    {
     "data": {
      "text/plain": [
       "<matplotlib.image.AxesImage at 0x2102c24d4e0>"
      ]
     },
     "execution_count": 40,
     "metadata": {},
     "output_type": "execute_result"
    },
    {
     "data": {
      "image/png": "[encoded data removed]",
      "text/plain": [
       "<Figure size 288x288 with 1 Axes>"
      ]
     },
     "metadata": {
      "needs_background": "light"
     },
     "output_type": "display_data"
    },
    {
     "data": {
      "image/png": "[encoded data removed]",
      "text/plain": [
       "<Figure size 288x288 with 1 Axes>"
      ]
     },
     "metadata": {
      "needs_background": "light"
     },
     "output_type": "display_data"
    }
   ],
   "source": [
    "plt.matshow(dataset.images[66])\n",
    "plt.matshow(dataset.images[22])"
   ]
  },
  {
   "cell_type": "code",
   "execution_count": 42,
   "metadata": {},
   "outputs": [
    {
     "data": {
      "text/plain": [
       "(400, 64, 64)"
      ]
     },
     "execution_count": 42,
     "metadata": {},
     "output_type": "execute_result"
    }
   ],
   "source": [
    "dataset.images.shape\n",
    "# there are 400 samples each image is 64 by 64, that is: 64 x 64 = 4096 -> characteristics \n",
    "# each dot is a characteristic in this case"
   ]
  },
  {
   "cell_type": "code",
   "execution_count": 47,
   "metadata": {},
   "outputs": [
    {
     "data": {
      "text/plain": [
       "array([[0.30991736, 0.3677686 , 0.41735536, ..., 0.37190083, 0.3305785 ,\n",
       "        0.30578512],\n",
       "       [0.3429752 , 0.40495867, 0.43801653, ..., 0.37190083, 0.338843  ,\n",
       "        0.3140496 ],\n",
       "       [0.3429752 , 0.41735536, 0.45041323, ..., 0.38016528, 0.338843  ,\n",
       "        0.29752067],\n",
       "       ...,\n",
       "       [0.21487603, 0.20661157, 0.2231405 , ..., 0.15289256, 0.16528925,\n",
       "        0.17355372],\n",
       "       [0.20247933, 0.2107438 , 0.2107438 , ..., 0.14876033, 0.16115703,\n",
       "        0.16528925],\n",
       "       [0.20247933, 0.20661157, 0.20247933, ..., 0.15289256, 0.16115703,\n",
       "        0.1570248 ]], dtype=float32)"
      ]
     },
     "execution_count": 47,
     "metadata": {},
     "output_type": "execute_result"
    }
   ],
   "source": [
    "dataset.images[0]"
   ]
  },
  {
   "cell_type": "code",
   "execution_count": 69,
   "metadata": {},
   "outputs": [
    {
     "data": {
      "text/plain": [
       "400"
      ]
     },
     "execution_count": 69,
     "metadata": {},
     "output_type": "execute_result"
    }
   ],
   "source": [
    "len(dataset.images)"
   ]
  },
  {
   "cell_type": "markdown",
   "metadata": {},
   "source": [
    "Need to flatten images, each pixel is a characteristic \n",
    "reshape Returns an array containing the same data with a new shape.\n",
    "Gives a new shape to an array without changing its data.\n",
    "numpy.reshape(a, newshape, order='C')[source]\n",
    "- a = Array to be reshaped.\n",
    "- newshape = The new shape should be compatible with the original shape. If an integer, then the result will be a 1-D array of that length. One shape dimension can be -1. In this case, the value is inferred from the length of the array and remaining dimensions."
   ]
  },
  {
   "cell_type": "code",
   "execution_count": 48,
   "metadata": {},
   "outputs": [
    {
     "data": {
      "text/plain": [
       "(400, 4096)"
      ]
     },
     "execution_count": 48,
     "metadata": {},
     "output_type": "execute_result"
    }
   ],
   "source": [
    "x = dataset.images.reshape((len(dataset.images), -1))\n",
    "x.shape # there are 400 data samples each one of them with 4096 characteristics"
   ]
  },
  {
   "cell_type": "code",
   "execution_count": 50,
   "metadata": {},
   "outputs": [
    {
     "data": {
      "text/plain": [
       "array([ 0,  0,  0,  0,  0,  0,  0,  0,  0,  0,  1,  1,  1,  1,  1,  1,  1,\n",
       "        1,  1,  1,  2,  2,  2,  2,  2,  2,  2,  2,  2,  2,  3,  3,  3,  3,\n",
       "        3,  3,  3,  3,  3,  3,  4,  4,  4,  4,  4,  4,  4,  4,  4,  4,  5,\n",
       "        5,  5,  5,  5,  5,  5,  5,  5,  5,  6,  6,  6,  6,  6,  6,  6,  6,\n",
       "        6,  6,  7,  7,  7,  7,  7,  7,  7,  7,  7,  7,  8,  8,  8,  8,  8,\n",
       "        8,  8,  8,  8,  8,  9,  9,  9,  9,  9,  9,  9,  9,  9,  9, 10, 10,\n",
       "       10, 10, 10, 10, 10, 10, 10, 10, 11, 11, 11, 11, 11, 11, 11, 11, 11,\n",
       "       11, 12, 12, 12, 12, 12, 12, 12, 12, 12, 12, 13, 13, 13, 13, 13, 13,\n",
       "       13, 13, 13, 13, 14, 14, 14, 14, 14, 14, 14, 14, 14, 14, 15, 15, 15,\n",
       "       15, 15, 15, 15, 15, 15, 15, 16, 16, 16, 16, 16, 16, 16, 16, 16, 16,\n",
       "       17, 17, 17, 17, 17, 17, 17, 17, 17, 17, 18, 18, 18, 18, 18, 18, 18,\n",
       "       18, 18, 18, 19, 19, 19, 19, 19, 19, 19, 19, 19, 19, 20, 20, 20, 20,\n",
       "       20, 20, 20, 20, 20, 20, 21, 21, 21, 21, 21, 21, 21, 21, 21, 21, 22,\n",
       "       22, 22, 22, 22, 22, 22, 22, 22, 22, 23, 23, 23, 23, 23, 23, 23, 23,\n",
       "       23, 23, 24, 24, 24, 24, 24, 24, 24, 24, 24, 24, 25, 25, 25, 25, 25,\n",
       "       25, 25, 25, 25, 25, 26, 26, 26, 26, 26, 26, 26, 26, 26, 26, 27, 27,\n",
       "       27, 27, 27, 27, 27, 27, 27, 27, 28, 28, 28, 28, 28, 28, 28, 28, 28,\n",
       "       28, 29, 29, 29, 29, 29, 29, 29, 29, 29, 29, 30, 30, 30, 30, 30, 30,\n",
       "       30, 30, 30, 30, 31, 31, 31, 31, 31, 31, 31, 31, 31, 31, 32, 32, 32,\n",
       "       32, 32, 32, 32, 32, 32, 32, 33, 33, 33, 33, 33, 33, 33, 33, 33, 33,\n",
       "       34, 34, 34, 34, 34, 34, 34, 34, 34, 34, 35, 35, 35, 35, 35, 35, 35,\n",
       "       35, 35, 35, 36, 36, 36, 36, 36, 36, 36, 36, 36, 36, 37, 37, 37, 37,\n",
       "       37, 37, 37, 37, 37, 37, 38, 38, 38, 38, 38, 38, 38, 38, 38, 38, 39,\n",
       "       39, 39, 39, 39, 39, 39, 39, 39, 39])"
      ]
     },
     "execution_count": 50,
     "metadata": {},
     "output_type": "execute_result"
    }
   ],
   "source": [
    "y = dataset.target\n",
    "y # for each face, there are 10 images"
   ]
  },
  {
   "cell_type": "code",
   "execution_count": 59,
   "metadata": {},
   "outputs": [
    {
     "data": {
      "text/plain": [
       "array([ 0,  1,  2,  3,  4,  5,  6,  7,  8,  9, 10, 11, 12, 13, 14, 15, 16,\n",
       "       17, 18, 19, 20, 21, 22, 23, 24, 25, 26, 27, 28, 29, 30, 31, 32, 33,\n",
       "       34, 35, 36, 37, 38, 39])"
      ]
     },
     "execution_count": 59,
     "metadata": {},
     "output_type": "execute_result"
    }
   ],
   "source": [
    "np.unique(y) # there are 40 people, 0 for person 1, 1 is the class for person 2, and so on."
   ]
  },
  {
   "cell_type": "code",
   "execution_count": 60,
   "metadata": {},
   "outputs": [],
   "source": [
    "x_train_face, x_test_face, y_train_face, y_test_face = train_test_split(x, y, test_size=0.3, random_state=0)"
   ]
  },
  {
   "cell_type": "markdown",
   "metadata": {},
   "source": [
    "# Model without attributes selection"
   ]
  },
  {
   "cell_type": "code",
   "execution_count": 61,
   "metadata": {},
   "outputs": [
    {
     "data": {
      "text/plain": [
       "0.8916666666666667"
      ]
     },
     "execution_count": 61,
     "metadata": {},
     "output_type": "execute_result"
    }
   ],
   "source": [
    "ex = ensemble.ExtraTreesClassifier()\n",
    "ex.fit(x_train_face, y_train_face)\n",
    "ex.score(x_test_face, y_test_face)"
   ]
  },
  {
   "cell_type": "code",
   "execution_count": 63,
   "metadata": {},
   "outputs": [
    {
     "data": {
      "text/plain": [
       "0.8916666666666667"
      ]
     },
     "execution_count": 63,
     "metadata": {},
     "output_type": "execute_result"
    }
   ],
   "source": [
    "from sklearn import metrics as me\n",
    "p = ex.predict(x_test_face)\n",
    "me.accuracy_score(y_test_face, p)"
   ]
  },
  {
   "cell_type": "code",
   "execution_count": 62,
   "metadata": {},
   "outputs": [
    {
     "data": {
      "text/plain": [
       "array([3.85530168e-04, 3.41857820e-04, 6.11348373e-05, ...,\n",
       "       2.68979848e-04, 2.42909087e-04, 1.47113688e-04])"
      ]
     },
     "execution_count": 62,
     "metadata": {},
     "output_type": "execute_result"
    }
   ],
   "source": [
    "ex.feature_importances_ # show the importance of each feature for the classification"
   ]
  },
  {
   "cell_type": "markdown",
   "metadata": {},
   "source": [
    "# Selection of attributes"
   ]
  },
  {
   "cell_type": "code",
   "execution_count": 64,
   "metadata": {},
   "outputs": [],
   "source": [
    "selection = ensemble.ExtraTreesClassifier()\n",
    "selection.fit(x_train_face, y_train_face)\n",
    "importances = selection.feature_importances_"
   ]
  },
  {
   "cell_type": "code",
   "execution_count": 65,
   "metadata": {},
   "outputs": [
    {
     "data": {
      "text/plain": [
       "(4096,)"
      ]
     },
     "execution_count": 65,
     "metadata": {},
     "output_type": "execute_result"
    }
   ],
   "source": [
    "importances.shape # number of features"
   ]
  },
  {
   "cell_type": "code",
   "execution_count": 67,
   "metadata": {},
   "outputs": [
    {
     "data": {
      "text/plain": [
       "(64, 64)"
      ]
     },
     "execution_count": 67,
     "metadata": {},
     "output_type": "execute_result"
    }
   ],
   "source": [
    "# Generating a graph to show which characteristics are the most important\n",
    "importances_graph = importances.reshape(dataset.images[0].shape) # changing the format of the data to 64x64\n",
    "importances_graph.shape"
   ]
  },
  {
   "cell_type": "code",
   "execution_count": 70,
   "metadata": {},
   "outputs": [
    {
     "data": {
      "text/plain": [
       "<matplotlib.image.AxesImage at 0x21029456160>"
      ]
     },
     "execution_count": 70,
     "metadata": {},
     "output_type": "execute_result"
    },
    {
     "data": {
      "image/png": "[encoded data removed]",
      "text/plain": [
       "<Figure size 288x288 with 1 Axes>"
      ]
     },
     "metadata": {
      "needs_background": "light"
     },
     "output_type": "display_data"
    }
   ],
   "source": [
    "plt.matshow(importances_graph, cmap=plt.cm.hot) # mapa de calor, coloca os pontos vermelhos nas partes mais importantes"
   ]
  },
  {
   "cell_type": "code",
   "execution_count": 117,
   "metadata": {
    "scrolled": true
   },
   "outputs": [
    {
     "data": {
      "text/plain": [
       "[0,\n",
       " 1,\n",
       " 3,\n",
       " 4,\n",
       " 5,\n",
       " 7,\n",
       " 8,\n",
       " 9,\n",
       " 10,\n",
       " 11,\n",
       " 13,\n",
       " 14,\n",
       " 15,\n",
       " 16,\n",
       " 17,\n",
       " 18,\n",
       " 19,\n",
       " 20,\n",
       " 21,\n",
       " 22,\n",
       " 23,\n",
       " 24,\n",
       " 25,\n",
       " 26,\n",
       " 27,\n",
       " 28,\n",
       " 29,\n",
       " 31,\n",
       " 32,\n",
       " 33,\n",
       " 35,\n",
       " 37,\n",
       " 38,\n",
       " 39,\n",
       " 40,\n",
       " 41,\n",
       " 42,\n",
       " 43,\n",
       " 44,\n",
       " 45,\n",
       " 47,\n",
       " 48,\n",
       " 49,\n",
       " 50,\n",
       " 51,\n",
       " 52,\n",
       " 53,\n",
       " 54,\n",
       " 55,\n",
       " 56,\n",
       " 57,\n",
       " 61,\n",
       " 62,\n",
       " 68,\n",
       " 70,\n",
       " 72,\n",
       " 73,\n",
       " 74,\n",
       " 75,\n",
       " 76,\n",
       " 77,\n",
       " 79,\n",
       " 80,\n",
       " 81,\n",
       " 83,\n",
       " 84,\n",
       " 85,\n",
       " 86,\n",
       " 87,\n",
       " 88,\n",
       " 89,\n",
       " 90,\n",
       " 91,\n",
       " 92,\n",
       " 93,\n",
       " 94,\n",
       " 98,\n",
       " 99,\n",
       " 100,\n",
       " 101,\n",
       " 102,\n",
       " 103,\n",
       " 104,\n",
       " 105,\n",
       " 106,\n",
       " 107,\n",
       " 108,\n",
       " 109,\n",
       " 110,\n",
       " 111,\n",
       " 114,\n",
       " 115,\n",
       " 116,\n",
       " 117,\n",
       " 118,\n",
       " 120,\n",
       " 121,\n",
       " 122,\n",
       " 123,\n",
       " 125,\n",
       " 126,\n",
       " 127,\n",
       " 128,\n",
       " 129,\n",
       " 131,\n",
       " 132,\n",
       " 133,\n",
       " 135,\n",
       " 136,\n",
       " 137,\n",
       " 138,\n",
       " 139,\n",
       " 140,\n",
       " 141,\n",
       " 142,\n",
       " 143,\n",
       " 144,\n",
       " 145,\n",
       " 146,\n",
       " 148,\n",
       " 149,\n",
       " 150,\n",
       " 151,\n",
       " 152,\n",
       " 153,\n",
       " 154,\n",
       " 155,\n",
       " 156,\n",
       " 157,\n",
       " 158,\n",
       " 161,\n",
       " 162,\n",
       " 164,\n",
       " 165,\n",
       " 166,\n",
       " 167,\n",
       " 168,\n",
       " 174,\n",
       " 175,\n",
       " 177,\n",
       " 178,\n",
       " 180,\n",
       " 181,\n",
       " 182,\n",
       " 183,\n",
       " 185,\n",
       " 186,\n",
       " 187,\n",
       " 188,\n",
       " 189,\n",
       " 195,\n",
       " 197,\n",
       " 198,\n",
       " 199,\n",
       " 200,\n",
       " 201,\n",
       " 202,\n",
       " 203,\n",
       " 204,\n",
       " 205,\n",
       " 206,\n",
       " 207,\n",
       " 208,\n",
       " 209,\n",
       " 210,\n",
       " 212,\n",
       " 213,\n",
       " 214,\n",
       " 215,\n",
       " 216,\n",
       " 218,\n",
       " 219,\n",
       " 220,\n",
       " 221,\n",
       " 222,\n",
       " 224,\n",
       " 226,\n",
       " 228,\n",
       " 229,\n",
       " 231,\n",
       " 236,\n",
       " 237,\n",
       " 238,\n",
       " 239,\n",
       " 240,\n",
       " 241,\n",
       " 242,\n",
       " 243,\n",
       " 245,\n",
       " 246,\n",
       " 247,\n",
       " 248,\n",
       " 249,\n",
       " 250,\n",
       " 251,\n",
       " 252,\n",
       " 254,\n",
       " 258,\n",
       " 260,\n",
       " 263,\n",
       " 264,\n",
       " 265,\n",
       " 266,\n",
       " 267,\n",
       " 268,\n",
       " 269,\n",
       " 270,\n",
       " 273,\n",
       " 274,\n",
       " 275,\n",
       " 277,\n",
       " 278,\n",
       " 279,\n",
       " 281,\n",
       " 282,\n",
       " 285,\n",
       " 289,\n",
       " 292,\n",
       " 293,\n",
       " 295,\n",
       " 306,\n",
       " 307,\n",
       " 308,\n",
       " 309,\n",
       " 311,\n",
       " 313,\n",
       " 314,\n",
       " 316,\n",
       " 317,\n",
       " 318,\n",
       " 320,\n",
       " 321,\n",
       " 325,\n",
       " 328,\n",
       " 331,\n",
       " 332,\n",
       " 334,\n",
       " 336,\n",
       " 339,\n",
       " 340,\n",
       " 343,\n",
       " 344,\n",
       " 345,\n",
       " 346,\n",
       " 347,\n",
       " 349,\n",
       " 350,\n",
       " 351,\n",
       " 352,\n",
       " 354,\n",
       " 356,\n",
       " 357,\n",
       " 360,\n",
       " 361,\n",
       " 366,\n",
       " 367,\n",
       " 372,\n",
       " 377,\n",
       " 378,\n",
       " 380,\n",
       " 381,\n",
       " 383,\n",
       " 389,\n",
       " 390,\n",
       " 391,\n",
       " 393,\n",
       " 394,\n",
       " 395,\n",
       " 396,\n",
       " 397,\n",
       " 398,\n",
       " 399,\n",
       " 400,\n",
       " 401,\n",
       " 402,\n",
       " 404,\n",
       " 405,\n",
       " 406,\n",
       " 408,\n",
       " 409,\n",
       " 411,\n",
       " 413,\n",
       " 414,\n",
       " 420,\n",
       " 421,\n",
       " 423,\n",
       " 425,\n",
       " 426,\n",
       " 427,\n",
       " 428,\n",
       " 429,\n",
       " 431,\n",
       " 434,\n",
       " 436,\n",
       " 439,\n",
       " 444,\n",
       " 445,\n",
       " 446,\n",
       " 449,\n",
       " 450,\n",
       " 451,\n",
       " 453,\n",
       " 454,\n",
       " 455,\n",
       " 457,\n",
       " 458,\n",
       " 459,\n",
       " 460,\n",
       " 461,\n",
       " 462,\n",
       " 463,\n",
       " 464,\n",
       " 465,\n",
       " 466,\n",
       " 467,\n",
       " 468,\n",
       " 470,\n",
       " 471,\n",
       " 472,\n",
       " 474,\n",
       " 476,\n",
       " 478,\n",
       " 479,\n",
       " 481,\n",
       " 483,\n",
       " 486,\n",
       " 491,\n",
       " 492,\n",
       " 494,\n",
       " 495,\n",
       " 496,\n",
       " 497,\n",
       " 498,\n",
       " 499,\n",
       " 500,\n",
       " 501,\n",
       " 502,\n",
       " 503,\n",
       " 505,\n",
       " 507,\n",
       " 509,\n",
       " 510,\n",
       " 513,\n",
       " 514,\n",
       " 516,\n",
       " 518,\n",
       " 519,\n",
       " 520,\n",
       " 521,\n",
       " 522,\n",
       " 523,\n",
       " 524,\n",
       " 525,\n",
       " 526,\n",
       " 527,\n",
       " 528,\n",
       " 529,\n",
       " 530,\n",
       " 531,\n",
       " 532,\n",
       " 533,\n",
       " 534,\n",
       " 535,\n",
       " 538,\n",
       " 539,\n",
       " 540,\n",
       " 545,\n",
       " 546,\n",
       " 547,\n",
       " 549,\n",
       " 551,\n",
       " 554,\n",
       " 555,\n",
       " 556,\n",
       " 557,\n",
       " 558,\n",
       " 559,\n",
       " 560,\n",
       " 561,\n",
       " 562,\n",
       " 563,\n",
       " 565,\n",
       " 566,\n",
       " 569,\n",
       " 571,\n",
       " 574,\n",
       " 575,\n",
       " 576,\n",
       " 580,\n",
       " 581,\n",
       " 582,\n",
       " 583,\n",
       " 584,\n",
       " 585,\n",
       " 586,\n",
       " 587,\n",
       " 590,\n",
       " 591,\n",
       " 592,\n",
       " 595,\n",
       " 596,\n",
       " 597,\n",
       " 598,\n",
       " 603,\n",
       " 604,\n",
       " 611,\n",
       " 613,\n",
       " 614,\n",
       " 615,\n",
       " 619,\n",
       " 620,\n",
       " 621,\n",
       " 622,\n",
       " 623,\n",
       " 627,\n",
       " 628,\n",
       " 629,\n",
       " 630,\n",
       " 631,\n",
       " 632,\n",
       " 638,\n",
       " 639,\n",
       " 641,\n",
       " 642,\n",
       " 646,\n",
       " 647,\n",
       " 648,\n",
       " 650,\n",
       " 651,\n",
       " 652,\n",
       " 653,\n",
       " 654,\n",
       " 655,\n",
       " 656,\n",
       " 657,\n",
       " 658,\n",
       " 659,\n",
       " 660,\n",
       " 661,\n",
       " 662,\n",
       " 664,\n",
       " 667,\n",
       " 668,\n",
       " 671,\n",
       " 672,\n",
       " 673,\n",
       " 677,\n",
       " 679,\n",
       " 681,\n",
       " 683,\n",
       " 689,\n",
       " 691,\n",
       " 693,\n",
       " 696,\n",
       " 697,\n",
       " 699,\n",
       " 701,\n",
       " 702,\n",
       " 706,\n",
       " 707,\n",
       " 708,\n",
       " 709,\n",
       " 710,\n",
       " 711,\n",
       " 712,\n",
       " 713,\n",
       " 715,\n",
       " 719,\n",
       " 721,\n",
       " 722,\n",
       " 723,\n",
       " 724,\n",
       " 725,\n",
       " 728,\n",
       " 738,\n",
       " 741,\n",
       " 747,\n",
       " 748,\n",
       " 749,\n",
       " 751,\n",
       " 753,\n",
       " 758,\n",
       " 759,\n",
       " 761,\n",
       " 762,\n",
       " 763,\n",
       " 764,\n",
       " 769,\n",
       " 770,\n",
       " 771,\n",
       " 772,\n",
       " 773,\n",
       " 774,\n",
       " 778,\n",
       " 779,\n",
       " 780,\n",
       " 781,\n",
       " 782,\n",
       " 784,\n",
       " 785,\n",
       " 786,\n",
       " 787,\n",
       " 789,\n",
       " 794,\n",
       " 799,\n",
       " 811,\n",
       " 812,\n",
       " 813,\n",
       " 814,\n",
       " 815,\n",
       " 816,\n",
       " 817,\n",
       " 818,\n",
       " 819,\n",
       " 820,\n",
       " 821,\n",
       " 822,\n",
       " 823,\n",
       " 824,\n",
       " 825,\n",
       " 826,\n",
       " 827,\n",
       " 828,\n",
       " 829,\n",
       " 830,\n",
       " 836,\n",
       " 840,\n",
       " 841,\n",
       " 844,\n",
       " 845,\n",
       " 846,\n",
       " 847,\n",
       " 849,\n",
       " 850,\n",
       " 851,\n",
       " 852,\n",
       " 855,\n",
       " 856,\n",
       " 858,\n",
       " 861,\n",
       " 873,\n",
       " 875,\n",
       " 876,\n",
       " 877,\n",
       " 878,\n",
       " 880,\n",
       " 882,\n",
       " 885,\n",
       " 888,\n",
       " 890,\n",
       " 891,\n",
       " 892,\n",
       " 895,\n",
       " 896,\n",
       " 900,\n",
       " 902,\n",
       " 904,\n",
       " 905,\n",
       " 908,\n",
       " 909,\n",
       " 910,\n",
       " 911,\n",
       " 915,\n",
       " 917,\n",
       " 918,\n",
       " 929,\n",
       " 930,\n",
       " 933,\n",
       " 935,\n",
       " 936,\n",
       " 939,\n",
       " 940,\n",
       " 944,\n",
       " 947,\n",
       " 949,\n",
       " 951,\n",
       " 954,\n",
       " 955,\n",
       " 958,\n",
       " 959,\n",
       " 961,\n",
       " 963,\n",
       " 966,\n",
       " 968,\n",
       " 969,\n",
       " 970,\n",
       " 971,\n",
       " 972,\n",
       " 974,\n",
       " 977,\n",
       " 983,\n",
       " 986,\n",
       " 992,\n",
       " 998,\n",
       " 1002,\n",
       " 1005,\n",
       " 1006,\n",
       " 1008,\n",
       " 1011,\n",
       " 1012,\n",
       " 1013,\n",
       " 1014,\n",
       " 1015,\n",
       " 1016,\n",
       " 1017,\n",
       " 1019,\n",
       " 1022,\n",
       " 1029,\n",
       " 1030,\n",
       " 1031,\n",
       " 1032,\n",
       " 1033,\n",
       " 1034,\n",
       " 1036,\n",
       " 1037,\n",
       " 1038,\n",
       " 1042,\n",
       " 1043,\n",
       " 1047,\n",
       " 1048,\n",
       " 1050,\n",
       " 1053,\n",
       " 1054,\n",
       " 1055,\n",
       " 1056,\n",
       " 1057,\n",
       " 1070,\n",
       " 1071,\n",
       " 1076,\n",
       " 1080,\n",
       " 1081,\n",
       " 1084,\n",
       " 1086,\n",
       " 1089,\n",
       " 1090,\n",
       " 1092,\n",
       " 1094,\n",
       " 1095,\n",
       " 1096,\n",
       " 1097,\n",
       " 1098,\n",
       " 1099,\n",
       " 1100,\n",
       " 1102,\n",
       " 1106,\n",
       " 1114,\n",
       " 1117,\n",
       " 1119,\n",
       " 1130,\n",
       " 1131,\n",
       " 1134,\n",
       " 1137,\n",
       " 1139,\n",
       " 1140,\n",
       " 1141,\n",
       " 1143,\n",
       " 1145,\n",
       " 1146,\n",
       " 1148,\n",
       " 1149,\n",
       " 1154,\n",
       " 1156,\n",
       " 1157,\n",
       " 1159,\n",
       " 1160,\n",
       " 1162,\n",
       " 1163,\n",
       " 1166,\n",
       " 1168,\n",
       " 1169,\n",
       " 1170,\n",
       " 1175,\n",
       " 1181,\n",
       " 1183,\n",
       " 1185,\n",
       " 1186,\n",
       " 1193,\n",
       " 1197,\n",
       " 1204,\n",
       " 1206,\n",
       " 1207,\n",
       " 1210,\n",
       " 1212,\n",
       " 1213,\n",
       " 1218,\n",
       " 1220,\n",
       " 1221,\n",
       " 1222,\n",
       " 1223,\n",
       " 1224,\n",
       " 1225,\n",
       " 1226,\n",
       " 1230,\n",
       " 1232,\n",
       " 1233,\n",
       " 1234,\n",
       " 1235,\n",
       " 1236,\n",
       " 1243,\n",
       " 1245,\n",
       " 1247,\n",
       " 1249,\n",
       " 1258,\n",
       " 1259,\n",
       " 1260,\n",
       " 1261,\n",
       " 1263,\n",
       " 1264,\n",
       " 1265,\n",
       " 1270,\n",
       " 1273,\n",
       " 1275,\n",
       " 1276,\n",
       " 1278,\n",
       " 1280,\n",
       " 1281,\n",
       " 1283,\n",
       " 1285,\n",
       " 1286,\n",
       " 1287,\n",
       " 1288,\n",
       " 1289,\n",
       " 1290,\n",
       " 1292,\n",
       " 1294,\n",
       " 1295,\n",
       " 1297,\n",
       " 1298,\n",
       " 1299,\n",
       " 1300,\n",
       " 1301,\n",
       " 1302,\n",
       " 1303,\n",
       " 1305,\n",
       " 1308,\n",
       " 1310,\n",
       " 1311,\n",
       " 1313,\n",
       " 1314,\n",
       " 1315,\n",
       " 1316,\n",
       " 1317,\n",
       " 1321,\n",
       " 1322,\n",
       " 1323,\n",
       " 1325,\n",
       " 1327,\n",
       " 1330,\n",
       " 1331,\n",
       " 1335,\n",
       " 1339,\n",
       " 1343,\n",
       " 1345,\n",
       " 1348,\n",
       " 1350,\n",
       " 1351,\n",
       " 1352,\n",
       " 1353,\n",
       " 1354,\n",
       " 1355,\n",
       " 1356,\n",
       " 1358,\n",
       " 1359,\n",
       " 1362,\n",
       " 1365,\n",
       " 1367,\n",
       " 1370,\n",
       " 1371,\n",
       " 1372,\n",
       " 1373,\n",
       " 1374,\n",
       " 1375,\n",
       " 1376,\n",
       " 1377,\n",
       " 1378,\n",
       " 1383,\n",
       " 1385,\n",
       " 1391,\n",
       " 1393,\n",
       " 1394,\n",
       " 1400,\n",
       " 1408,\n",
       " 1411,\n",
       " 1412,\n",
       " 1414,\n",
       " 1415,\n",
       " 1416,\n",
       " 1417,\n",
       " 1419,\n",
       " 1420,\n",
       " 1421,\n",
       " 1423,\n",
       " 1424,\n",
       " 1426,\n",
       " 1427,\n",
       " 1428,\n",
       " 1429,\n",
       " 1431,\n",
       " 1434,\n",
       " 1443,\n",
       " 1444,\n",
       " 1445,\n",
       " 1447,\n",
       " 1450,\n",
       " 1454,\n",
       " 1459,\n",
       " 1474,\n",
       " 1476,\n",
       " 1477,\n",
       " 1478,\n",
       " 1479,\n",
       " 1480,\n",
       " 1482,\n",
       " 1483,\n",
       " 1484,\n",
       " 1485,\n",
       " 1486,\n",
       " 1488,\n",
       " 1489,\n",
       " 1491,\n",
       " 1497,\n",
       " 1498,\n",
       " 1500,\n",
       " 1502,\n",
       " 1504,\n",
       " 1505,\n",
       " 1509,\n",
       " 1517,\n",
       " 1520,\n",
       " 1529,\n",
       " 1530,\n",
       " 1534,\n",
       " 1540,\n",
       " 1541,\n",
       " 1542,\n",
       " 1543,\n",
       " 1544,\n",
       " 1545,\n",
       " 1546,\n",
       " 1550,\n",
       " 1551,\n",
       " 1553,\n",
       " 1554,\n",
       " 1555,\n",
       " 1559,\n",
       " 1561,\n",
       " 1563,\n",
       " 1564,\n",
       " 1565,\n",
       " 1566,\n",
       " 1570,\n",
       " 1571,\n",
       " 1573,\n",
       " 1574,\n",
       " 1579,\n",
       " 1580,\n",
       " 1583,\n",
       " 1584,\n",
       " 1588,\n",
       " 1589,\n",
       " 1590,\n",
       " 1591,\n",
       " 1592,\n",
       " 1600,\n",
       " 1601,\n",
       " 1605,\n",
       " 1606,\n",
       " 1607,\n",
       " 1608,\n",
       " 1611,\n",
       " 1613,\n",
       " 1614,\n",
       " 1615,\n",
       " 1616,\n",
       " 1622,\n",
       " 1623,\n",
       " 1624,\n",
       " 1625,\n",
       " 1627,\n",
       " 1632,\n",
       " 1633,\n",
       " 1634,\n",
       " 1635,\n",
       " 1639,\n",
       " 1643,\n",
       " 1648,\n",
       " 1649,\n",
       " 1654,\n",
       " 1661,\n",
       " 1667,\n",
       " 1668,\n",
       " 1669,\n",
       " 1670,\n",
       " 1671,\n",
       " 1672,\n",
       " 1673,\n",
       " 1674,\n",
       " 1676,\n",
       " 1677,\n",
       " 1678,\n",
       " 1679,\n",
       " 1680,\n",
       " 1683,\n",
       " 1688,\n",
       " 1689,\n",
       " 1690,\n",
       " 1691,\n",
       " 1692,\n",
       " 1693,\n",
       " 1694,\n",
       " 1696,\n",
       " 1698,\n",
       " 1700,\n",
       " 1702,\n",
       " 1703,\n",
       " 1709,\n",
       " 1710,\n",
       " 1711,\n",
       " 1712,\n",
       " 1713,\n",
       " 1714,\n",
       " 1716,\n",
       " 1721,\n",
       " 1723,\n",
       " 1733,\n",
       " 1734,\n",
       " 1735,\n",
       " 1736,\n",
       " 1737,\n",
       " 1738,\n",
       " 1739,\n",
       " 1741,\n",
       " 1743,\n",
       " 1745,\n",
       " 1746,\n",
       " 1752,\n",
       " 1754,\n",
       " 1755,\n",
       " 1756,\n",
       " 1757,\n",
       " 1759,\n",
       " 1763,\n",
       " 1764,\n",
       " 1765,\n",
       " 1767,\n",
       " 1768,\n",
       " 1769,\n",
       " 1772,\n",
       " 1775,\n",
       " 1776,\n",
       " 1777,\n",
       " 1778,\n",
       " 1780,\n",
       " 1781,\n",
       " 1783,\n",
       " 1789,\n",
       " 1791,\n",
       " 1795,\n",
       " 1797,\n",
       " 1798,\n",
       " 1799,\n",
       " 1800,\n",
       " 1801,\n",
       " 1802,\n",
       " 1803,\n",
       " 1804,\n",
       " 1805,\n",
       " 1807,\n",
       " 1808,\n",
       " 1811,\n",
       " 1813,\n",
       " 1815,\n",
       " 1816,\n",
       " 1817,\n",
       " 1818,\n",
       " 1819,\n",
       " 1820,\n",
       " 1821,\n",
       " 1822,\n",
       " 1823,\n",
       " 1825,\n",
       " 1827,\n",
       " 1834,\n",
       " 1836,\n",
       " 1837,\n",
       " 1841,\n",
       " 1846,\n",
       " 1847,\n",
       " 1849,\n",
       " 1851,\n",
       " 1857,\n",
       " 1858,\n",
       " 1859,\n",
       " 1864,\n",
       " 1865,\n",
       " 1866,\n",
       " 1868,\n",
       " 1870,\n",
       " 1872,\n",
       " 1874,\n",
       " ...]"
      ]
     },
     "execution_count": 117,
     "metadata": {},
     "output_type": "execute_result"
    }
   ],
   "source": [
    "# select more important features\n",
    "index = []\n",
    "for i in range(len(importances)):\n",
    "    if importances[i] >= 0.0002: # threshold\n",
    "        index.append(i)\n",
    "index"
   ]
  },
  {
   "cell_type": "code",
   "execution_count": 118,
   "metadata": {},
   "outputs": [
    {
     "data": {
      "text/plain": [
       "2038"
      ]
     },
     "execution_count": 118,
     "metadata": {},
     "output_type": "execute_result"
    }
   ],
   "source": [
    "len(index)"
   ]
  },
  {
   "cell_type": "code",
   "execution_count": 119,
   "metadata": {},
   "outputs": [],
   "source": [
    "x_new = x[:, index].reshape(len(dataset.images), -1)"
   ]
  },
  {
   "cell_type": "code",
   "execution_count": 120,
   "metadata": {},
   "outputs": [
    {
     "data": {
      "text/plain": [
       "(400, 2038)"
      ]
     },
     "execution_count": 120,
     "metadata": {},
     "output_type": "execute_result"
    }
   ],
   "source": [
    "x_new.shape # now it only uses 32 most important features"
   ]
  },
  {
   "cell_type": "code",
   "execution_count": 122,
   "metadata": {},
   "outputs": [
    {
     "data": {
      "text/plain": [
       "0.9083333333333333"
      ]
     },
     "execution_count": 122,
     "metadata": {},
     "output_type": "execute_result"
    }
   ],
   "source": [
    "x_train_face, x_test_face, y_train_face, y_test_face = train_test_split(x_new, y, test_size=0.3, random_state=0)\n",
    "ex2 = ensemble.ExtraTreesClassifier()\n",
    "ex2.fit(x_train_face, y_train_face)\n",
    "ex2.score(x_test_face, y_test_face)"
   ]
  }
 ],
 "metadata": {
  "kernelspec": {
   "display_name": "Python 3",
   "language": "python",
   "name": "python3"
  },
  "language_info": {
   "codemirror_mode": {
    "name": "ipython",
    "version": 3
   },
   "file_extension": ".py",
   "mimetype": "text/x-python",
   "name": "python",
   "nbconvert_exporter": "python",
   "pygments_lexer": "ipython3",
   "version": "3.6.8"
  }
 },
 "nbformat": 4,
 "nbformat_minor": 2
}
