{
 "cells": [
  {
   "cell_type": "code",
   "execution_count": 1,
   "metadata": {},
   "outputs": [],
   "source": [
    "import pandas as pd"
   ]
  },
  {
   "cell_type": "code",
   "execution_count": 3,
   "metadata": {},
   "outputs": [],
   "source": [
    "wine = pd.read_csv(\"sample_data/wine.data\", sep=',')"
   ]
  },
  {
   "cell_type": "code",
   "execution_count": 4,
   "metadata": {},
   "outputs": [
    {
     "data": {
      "text/html": [
       "<div>\n",
       "<style scoped>\n",
       "    .dataframe tbody tr th:only-of-type {\n",
       "        vertical-align: middle;\n",
       "    }\n",
       "\n",
       "    .dataframe tbody tr th {\n",
       "        vertical-align: top;\n",
       "    }\n",
       "\n",
       "    .dataframe thead th {\n",
       "        text-align: right;\n",
       "    }\n",
       "</style>\n",
       "<table border=\"1\" class=\"dataframe\">\n",
       "  <thead>\n",
       "    <tr style=\"text-align: right;\">\n",
       "      <th></th>\n",
       "      <th>1</th>\n",
       "      <th>14.23</th>\n",
       "      <th>1.71</th>\n",
       "      <th>2.43</th>\n",
       "      <th>15.6</th>\n",
       "      <th>127</th>\n",
       "      <th>2.8</th>\n",
       "      <th>3.06</th>\n",
       "      <th>.28</th>\n",
       "      <th>2.29</th>\n",
       "      <th>5.64</th>\n",
       "      <th>1.04</th>\n",
       "      <th>3.92</th>\n",
       "      <th>1065</th>\n",
       "    </tr>\n",
       "  </thead>\n",
       "  <tbody>\n",
       "    <tr>\n",
       "      <th>0</th>\n",
       "      <td>1</td>\n",
       "      <td>13.20</td>\n",
       "      <td>1.78</td>\n",
       "      <td>2.14</td>\n",
       "      <td>11.2</td>\n",
       "      <td>100</td>\n",
       "      <td>2.65</td>\n",
       "      <td>2.76</td>\n",
       "      <td>0.26</td>\n",
       "      <td>1.28</td>\n",
       "      <td>4.38</td>\n",
       "      <td>1.05</td>\n",
       "      <td>3.40</td>\n",
       "      <td>1050</td>\n",
       "    </tr>\n",
       "    <tr>\n",
       "      <th>1</th>\n",
       "      <td>1</td>\n",
       "      <td>13.16</td>\n",
       "      <td>2.36</td>\n",
       "      <td>2.67</td>\n",
       "      <td>18.6</td>\n",
       "      <td>101</td>\n",
       "      <td>2.80</td>\n",
       "      <td>3.24</td>\n",
       "      <td>0.30</td>\n",
       "      <td>2.81</td>\n",
       "      <td>5.68</td>\n",
       "      <td>1.03</td>\n",
       "      <td>3.17</td>\n",
       "      <td>1185</td>\n",
       "    </tr>\n",
       "    <tr>\n",
       "      <th>2</th>\n",
       "      <td>1</td>\n",
       "      <td>14.37</td>\n",
       "      <td>1.95</td>\n",
       "      <td>2.50</td>\n",
       "      <td>16.8</td>\n",
       "      <td>113</td>\n",
       "      <td>3.85</td>\n",
       "      <td>3.49</td>\n",
       "      <td>0.24</td>\n",
       "      <td>2.18</td>\n",
       "      <td>7.80</td>\n",
       "      <td>0.86</td>\n",
       "      <td>3.45</td>\n",
       "      <td>1480</td>\n",
       "    </tr>\n",
       "    <tr>\n",
       "      <th>3</th>\n",
       "      <td>1</td>\n",
       "      <td>13.24</td>\n",
       "      <td>2.59</td>\n",
       "      <td>2.87</td>\n",
       "      <td>21.0</td>\n",
       "      <td>118</td>\n",
       "      <td>2.80</td>\n",
       "      <td>2.69</td>\n",
       "      <td>0.39</td>\n",
       "      <td>1.82</td>\n",
       "      <td>4.32</td>\n",
       "      <td>1.04</td>\n",
       "      <td>2.93</td>\n",
       "      <td>735</td>\n",
       "    </tr>\n",
       "    <tr>\n",
       "      <th>4</th>\n",
       "      <td>1</td>\n",
       "      <td>14.20</td>\n",
       "      <td>1.76</td>\n",
       "      <td>2.45</td>\n",
       "      <td>15.2</td>\n",
       "      <td>112</td>\n",
       "      <td>3.27</td>\n",
       "      <td>3.39</td>\n",
       "      <td>0.34</td>\n",
       "      <td>1.97</td>\n",
       "      <td>6.75</td>\n",
       "      <td>1.05</td>\n",
       "      <td>2.85</td>\n",
       "      <td>1450</td>\n",
       "    </tr>\n",
       "  </tbody>\n",
       "</table>\n",
       "</div>"
      ],
      "text/plain": [
       "   1  14.23  1.71  2.43  15.6  127   2.8  3.06   .28  2.29  5.64  1.04  3.92  \\\n",
       "0  1  13.20  1.78  2.14  11.2  100  2.65  2.76  0.26  1.28  4.38  1.05  3.40   \n",
       "1  1  13.16  2.36  2.67  18.6  101  2.80  3.24  0.30  2.81  5.68  1.03  3.17   \n",
       "2  1  14.37  1.95  2.50  16.8  113  3.85  3.49  0.24  2.18  7.80  0.86  3.45   \n",
       "3  1  13.24  2.59  2.87  21.0  118  2.80  2.69  0.39  1.82  4.32  1.04  2.93   \n",
       "4  1  14.20  1.76  2.45  15.2  112  3.27  3.39  0.34  1.97  6.75  1.05  2.85   \n",
       "\n",
       "   1065  \n",
       "0  1050  \n",
       "1  1185  \n",
       "2  1480  \n",
       "3   735  \n",
       "4  1450  "
      ]
     },
     "execution_count": 4,
     "metadata": {},
     "output_type": "execute_result"
    }
   ],
   "source": [
    "wine.head()"
   ]
  },
  {
   "cell_type": "code",
   "execution_count": 6,
   "metadata": {},
   "outputs": [],
   "source": [
    "# define o nome das colunas\n",
    "wine.columns = [ 'Class'\n",
    "              ,'alcohol'\n",
    "              ,'malicAcid'\n",
    "              ,'ash'\n",
    "              ,'ashalcalinity'\n",
    "              ,'magnesium'\n",
    "              ,'totalPhenols'\n",
    "              ,'flavanoids'\n",
    "              ,'nonFlavanoidPhenols'\n",
    "              ,'proanthocyanins'\n",
    "              ,'colorIntensity'\n",
    "              ,'hue'\n",
    "              ,'od280_od315'\n",
    "              ,'proline'\n",
    "             ]"
   ]
  },
  {
   "cell_type": "code",
   "execution_count": 7,
   "metadata": {},
   "outputs": [
    {
     "data": {
      "text/html": [
       "<div>\n",
       "<style scoped>\n",
       "    .dataframe tbody tr th:only-of-type {\n",
       "        vertical-align: middle;\n",
       "    }\n",
       "\n",
       "    .dataframe tbody tr th {\n",
       "        vertical-align: top;\n",
       "    }\n",
       "\n",
       "    .dataframe thead th {\n",
       "        text-align: right;\n",
       "    }\n",
       "</style>\n",
       "<table border=\"1\" class=\"dataframe\">\n",
       "  <thead>\n",
       "    <tr style=\"text-align: right;\">\n",
       "      <th></th>\n",
       "      <th>Class</th>\n",
       "      <th>alcohol</th>\n",
       "      <th>malicAcid</th>\n",
       "      <th>ash</th>\n",
       "      <th>ashalcalinity</th>\n",
       "      <th>magnesium</th>\n",
       "      <th>totalPhenols</th>\n",
       "      <th>flavanoids</th>\n",
       "      <th>nonFlavanoidPhenols</th>\n",
       "      <th>proanthocyanins</th>\n",
       "      <th>colorIntensity</th>\n",
       "      <th>hue</th>\n",
       "      <th>od280_od315</th>\n",
       "      <th>proline</th>\n",
       "    </tr>\n",
       "  </thead>\n",
       "  <tbody>\n",
       "    <tr>\n",
       "      <th>0</th>\n",
       "      <td>1</td>\n",
       "      <td>13.20</td>\n",
       "      <td>1.78</td>\n",
       "      <td>2.14</td>\n",
       "      <td>11.2</td>\n",
       "      <td>100</td>\n",
       "      <td>2.65</td>\n",
       "      <td>2.76</td>\n",
       "      <td>0.26</td>\n",
       "      <td>1.28</td>\n",
       "      <td>4.38</td>\n",
       "      <td>1.05</td>\n",
       "      <td>3.40</td>\n",
       "      <td>1050</td>\n",
       "    </tr>\n",
       "    <tr>\n",
       "      <th>1</th>\n",
       "      <td>1</td>\n",
       "      <td>13.16</td>\n",
       "      <td>2.36</td>\n",
       "      <td>2.67</td>\n",
       "      <td>18.6</td>\n",
       "      <td>101</td>\n",
       "      <td>2.80</td>\n",
       "      <td>3.24</td>\n",
       "      <td>0.30</td>\n",
       "      <td>2.81</td>\n",
       "      <td>5.68</td>\n",
       "      <td>1.03</td>\n",
       "      <td>3.17</td>\n",
       "      <td>1185</td>\n",
       "    </tr>\n",
       "    <tr>\n",
       "      <th>2</th>\n",
       "      <td>1</td>\n",
       "      <td>14.37</td>\n",
       "      <td>1.95</td>\n",
       "      <td>2.50</td>\n",
       "      <td>16.8</td>\n",
       "      <td>113</td>\n",
       "      <td>3.85</td>\n",
       "      <td>3.49</td>\n",
       "      <td>0.24</td>\n",
       "      <td>2.18</td>\n",
       "      <td>7.80</td>\n",
       "      <td>0.86</td>\n",
       "      <td>3.45</td>\n",
       "      <td>1480</td>\n",
       "    </tr>\n",
       "    <tr>\n",
       "      <th>3</th>\n",
       "      <td>1</td>\n",
       "      <td>13.24</td>\n",
       "      <td>2.59</td>\n",
       "      <td>2.87</td>\n",
       "      <td>21.0</td>\n",
       "      <td>118</td>\n",
       "      <td>2.80</td>\n",
       "      <td>2.69</td>\n",
       "      <td>0.39</td>\n",
       "      <td>1.82</td>\n",
       "      <td>4.32</td>\n",
       "      <td>1.04</td>\n",
       "      <td>2.93</td>\n",
       "      <td>735</td>\n",
       "    </tr>\n",
       "    <tr>\n",
       "      <th>4</th>\n",
       "      <td>1</td>\n",
       "      <td>14.20</td>\n",
       "      <td>1.76</td>\n",
       "      <td>2.45</td>\n",
       "      <td>15.2</td>\n",
       "      <td>112</td>\n",
       "      <td>3.27</td>\n",
       "      <td>3.39</td>\n",
       "      <td>0.34</td>\n",
       "      <td>1.97</td>\n",
       "      <td>6.75</td>\n",
       "      <td>1.05</td>\n",
       "      <td>2.85</td>\n",
       "      <td>1450</td>\n",
       "    </tr>\n",
       "  </tbody>\n",
       "</table>\n",
       "</div>"
      ],
      "text/plain": [
       "   Class  alcohol  malicAcid   ash  ashalcalinity  magnesium  totalPhenols  \\\n",
       "0      1    13.20       1.78  2.14           11.2        100          2.65   \n",
       "1      1    13.16       2.36  2.67           18.6        101          2.80   \n",
       "2      1    14.37       1.95  2.50           16.8        113          3.85   \n",
       "3      1    13.24       2.59  2.87           21.0        118          2.80   \n",
       "4      1    14.20       1.76  2.45           15.2        112          3.27   \n",
       "\n",
       "   flavanoids  nonFlavanoidPhenols  proanthocyanins  colorIntensity   hue  \\\n",
       "0        2.76                 0.26             1.28            4.38  1.05   \n",
       "1        3.24                 0.30             2.81            5.68  1.03   \n",
       "2        3.49                 0.24             2.18            7.80  0.86   \n",
       "3        2.69                 0.39             1.82            4.32  1.04   \n",
       "4        3.39                 0.34             1.97            6.75  1.05   \n",
       "\n",
       "   od280_od315  proline  \n",
       "0         3.40     1050  \n",
       "1         3.17     1185  \n",
       "2         3.45     1480  \n",
       "3         2.93      735  \n",
       "4         2.85     1450  "
      ]
     },
     "execution_count": 7,
     "metadata": {},
     "output_type": "execute_result"
    }
   ],
   "source": [
    "wine.head()"
   ]
  },
  {
   "cell_type": "code",
   "execution_count": 8,
   "metadata": {},
   "outputs": [
    {
     "data": {
      "text/html": [
       "<div>\n",
       "<style scoped>\n",
       "    .dataframe tbody tr th:only-of-type {\n",
       "        vertical-align: middle;\n",
       "    }\n",
       "\n",
       "    .dataframe tbody tr th {\n",
       "        vertical-align: top;\n",
       "    }\n",
       "\n",
       "    .dataframe thead th {\n",
       "        text-align: right;\n",
       "    }\n",
       "</style>\n",
       "<table border=\"1\" class=\"dataframe\">\n",
       "  <thead>\n",
       "    <tr style=\"text-align: right;\">\n",
       "      <th></th>\n",
       "      <th>Class</th>\n",
       "      <th>alcohol</th>\n",
       "      <th>malicAcid</th>\n",
       "      <th>ash</th>\n",
       "      <th>ashalcalinity</th>\n",
       "      <th>magnesium</th>\n",
       "      <th>totalPhenols</th>\n",
       "      <th>flavanoids</th>\n",
       "      <th>nonFlavanoidPhenols</th>\n",
       "      <th>proanthocyanins</th>\n",
       "      <th>colorIntensity</th>\n",
       "      <th>hue</th>\n",
       "      <th>od280_od315</th>\n",
       "      <th>proline</th>\n",
       "    </tr>\n",
       "  </thead>\n",
       "  <tbody>\n",
       "    <tr>\n",
       "      <th>count</th>\n",
       "      <td>177.000000</td>\n",
       "      <td>177.000000</td>\n",
       "      <td>177.000000</td>\n",
       "      <td>177.000000</td>\n",
       "      <td>177.000000</td>\n",
       "      <td>177.000000</td>\n",
       "      <td>177.000000</td>\n",
       "      <td>177.000000</td>\n",
       "      <td>177.000000</td>\n",
       "      <td>177.000000</td>\n",
       "      <td>177.000000</td>\n",
       "      <td>177.000000</td>\n",
       "      <td>177.000000</td>\n",
       "      <td>177.000000</td>\n",
       "    </tr>\n",
       "    <tr>\n",
       "      <th>mean</th>\n",
       "      <td>1.943503</td>\n",
       "      <td>12.993672</td>\n",
       "      <td>2.339887</td>\n",
       "      <td>2.366158</td>\n",
       "      <td>19.516949</td>\n",
       "      <td>99.587571</td>\n",
       "      <td>2.292260</td>\n",
       "      <td>2.023446</td>\n",
       "      <td>0.362316</td>\n",
       "      <td>1.586949</td>\n",
       "      <td>5.054802</td>\n",
       "      <td>0.956983</td>\n",
       "      <td>2.604294</td>\n",
       "      <td>745.096045</td>\n",
       "    </tr>\n",
       "    <tr>\n",
       "      <th>std</th>\n",
       "      <td>0.773991</td>\n",
       "      <td>0.808808</td>\n",
       "      <td>1.119314</td>\n",
       "      <td>0.275080</td>\n",
       "      <td>3.336071</td>\n",
       "      <td>14.174018</td>\n",
       "      <td>0.626465</td>\n",
       "      <td>0.998658</td>\n",
       "      <td>0.124653</td>\n",
       "      <td>0.571545</td>\n",
       "      <td>2.324446</td>\n",
       "      <td>0.229135</td>\n",
       "      <td>0.705103</td>\n",
       "      <td>314.884046</td>\n",
       "    </tr>\n",
       "    <tr>\n",
       "      <th>min</th>\n",
       "      <td>1.000000</td>\n",
       "      <td>11.030000</td>\n",
       "      <td>0.740000</td>\n",
       "      <td>1.360000</td>\n",
       "      <td>10.600000</td>\n",
       "      <td>70.000000</td>\n",
       "      <td>0.980000</td>\n",
       "      <td>0.340000</td>\n",
       "      <td>0.130000</td>\n",
       "      <td>0.410000</td>\n",
       "      <td>1.280000</td>\n",
       "      <td>0.480000</td>\n",
       "      <td>1.270000</td>\n",
       "      <td>278.000000</td>\n",
       "    </tr>\n",
       "    <tr>\n",
       "      <th>25%</th>\n",
       "      <td>1.000000</td>\n",
       "      <td>12.360000</td>\n",
       "      <td>1.600000</td>\n",
       "      <td>2.210000</td>\n",
       "      <td>17.200000</td>\n",
       "      <td>88.000000</td>\n",
       "      <td>1.740000</td>\n",
       "      <td>1.200000</td>\n",
       "      <td>0.270000</td>\n",
       "      <td>1.250000</td>\n",
       "      <td>3.210000</td>\n",
       "      <td>0.780000</td>\n",
       "      <td>1.930000</td>\n",
       "      <td>500.000000</td>\n",
       "    </tr>\n",
       "    <tr>\n",
       "      <th>50%</th>\n",
       "      <td>2.000000</td>\n",
       "      <td>13.050000</td>\n",
       "      <td>1.870000</td>\n",
       "      <td>2.360000</td>\n",
       "      <td>19.500000</td>\n",
       "      <td>98.000000</td>\n",
       "      <td>2.350000</td>\n",
       "      <td>2.130000</td>\n",
       "      <td>0.340000</td>\n",
       "      <td>1.550000</td>\n",
       "      <td>4.680000</td>\n",
       "      <td>0.960000</td>\n",
       "      <td>2.780000</td>\n",
       "      <td>672.000000</td>\n",
       "    </tr>\n",
       "    <tr>\n",
       "      <th>75%</th>\n",
       "      <td>3.000000</td>\n",
       "      <td>13.670000</td>\n",
       "      <td>3.100000</td>\n",
       "      <td>2.560000</td>\n",
       "      <td>21.500000</td>\n",
       "      <td>107.000000</td>\n",
       "      <td>2.800000</td>\n",
       "      <td>2.860000</td>\n",
       "      <td>0.440000</td>\n",
       "      <td>1.950000</td>\n",
       "      <td>6.200000</td>\n",
       "      <td>1.120000</td>\n",
       "      <td>3.170000</td>\n",
       "      <td>985.000000</td>\n",
       "    </tr>\n",
       "    <tr>\n",
       "      <th>max</th>\n",
       "      <td>3.000000</td>\n",
       "      <td>14.830000</td>\n",
       "      <td>5.800000</td>\n",
       "      <td>3.230000</td>\n",
       "      <td>30.000000</td>\n",
       "      <td>162.000000</td>\n",
       "      <td>3.880000</td>\n",
       "      <td>5.080000</td>\n",
       "      <td>0.660000</td>\n",
       "      <td>3.580000</td>\n",
       "      <td>13.000000</td>\n",
       "      <td>1.710000</td>\n",
       "      <td>4.000000</td>\n",
       "      <td>1680.000000</td>\n",
       "    </tr>\n",
       "  </tbody>\n",
       "</table>\n",
       "</div>"
      ],
      "text/plain": [
       "            Class     alcohol   malicAcid         ash  ashalcalinity  \\\n",
       "count  177.000000  177.000000  177.000000  177.000000     177.000000   \n",
       "mean     1.943503   12.993672    2.339887    2.366158      19.516949   \n",
       "std      0.773991    0.808808    1.119314    0.275080       3.336071   \n",
       "min      1.000000   11.030000    0.740000    1.360000      10.600000   \n",
       "25%      1.000000   12.360000    1.600000    2.210000      17.200000   \n",
       "50%      2.000000   13.050000    1.870000    2.360000      19.500000   \n",
       "75%      3.000000   13.670000    3.100000    2.560000      21.500000   \n",
       "max      3.000000   14.830000    5.800000    3.230000      30.000000   \n",
       "\n",
       "        magnesium  totalPhenols  flavanoids  nonFlavanoidPhenols  \\\n",
       "count  177.000000    177.000000  177.000000           177.000000   \n",
       "mean    99.587571      2.292260    2.023446             0.362316   \n",
       "std     14.174018      0.626465    0.998658             0.124653   \n",
       "min     70.000000      0.980000    0.340000             0.130000   \n",
       "25%     88.000000      1.740000    1.200000             0.270000   \n",
       "50%     98.000000      2.350000    2.130000             0.340000   \n",
       "75%    107.000000      2.800000    2.860000             0.440000   \n",
       "max    162.000000      3.880000    5.080000             0.660000   \n",
       "\n",
       "       proanthocyanins  colorIntensity         hue  od280_od315      proline  \n",
       "count       177.000000      177.000000  177.000000   177.000000   177.000000  \n",
       "mean          1.586949        5.054802    0.956983     2.604294   745.096045  \n",
       "std           0.571545        2.324446    0.229135     0.705103   314.884046  \n",
       "min           0.410000        1.280000    0.480000     1.270000   278.000000  \n",
       "25%           1.250000        3.210000    0.780000     1.930000   500.000000  \n",
       "50%           1.550000        4.680000    0.960000     2.780000   672.000000  \n",
       "75%           1.950000        6.200000    1.120000     3.170000   985.000000  \n",
       "max           3.580000       13.000000    1.710000     4.000000  1680.000000  "
      ]
     },
     "execution_count": 8,
     "metadata": {},
     "output_type": "execute_result"
    }
   ],
   "source": [
    "wine.describe()"
   ]
  },
  {
   "cell_type": "markdown",
   "metadata": {},
   "source": [
    "Observa-se através da média (mean) que as grandezas de cada caracteristica são bem diferentes. isso é um problema, porque em machine learning não é indicado trabalhar com dados de grandezas diferentes, exemplo: kg, metros, idade, etc. Isso pode influenciar equivocadamente o algoritmo ao atualizar os parametros e pesos durante o treino. por isso é indicado efetuar o tratamento dos dados antes de enviar para o algoritmo de ML. Esse tratamento pode ser normalização (escalar os valores para uma escala de 0-1) ou padronização (z-score que usa média e desvio padrão)."
   ]
  },
  {
   "cell_type": "code",
   "execution_count": 9,
   "metadata": {},
   "outputs": [],
   "source": [
    "# selecionando algumas colunas\n",
    "wine_sub = wine[['proline','alcohol','malicAcid','magnesium','flavanoids']]"
   ]
  },
  {
   "cell_type": "code",
   "execution_count": 11,
   "metadata": {},
   "outputs": [],
   "source": [
    "# plota boxplot de algumas colunas\n",
    "import seaborn as sns"
   ]
  },
  {
   "cell_type": "code",
   "execution_count": 12,
   "metadata": {},
   "outputs": [
    {
     "data": {
      "image/png": "[encoded data removed]",
      "text/plain": [
       "<Figure size 432x288 with 1 Axes>"
      ]
     },
     "metadata": {
      "needs_background": "light"
     },
     "output_type": "display_data"
    }
   ],
   "source": [
    "ax = sns.boxplot(data=wine_sub)"
   ]
  },
  {
   "cell_type": "markdown",
   "metadata": {},
   "source": [
    "É possivel observar através do gráfico cima que os valores estão muito diferentes. o traço dentro do box corresponde a mediana.\n",
    "Os gráficos de caixa mostram visualmente a distribuição de dados numéricos e a assimetria por meio da exibição dos quartis de dados (ou percentis) e médias.\n",
    "\n",
    "<img src=\"https://www.simplypsychology.org/boxplot.jpg?ezimgfmt=rs:555x285/rscb30/ng:webp/ngcb30\"/>\n",
    "\n",
    "More information about this can be found in <a href=\"https://www.simplypsychology.org/boxplots.html#:~:text=In%20descriptive%20statistics%2C%20a%20box,(or%20percentiles)%20and%20averages\" target=\"u_blank\">link</a>\n",
    "\n",
    "Observa-se que os valores das outras caracteristicas são abaixo de 250, enquanto que os valores de proline são muito grandes. por isso o box plot está bastante divergente."
   ]
  },
  {
   "cell_type": "code",
   "execution_count": 13,
   "metadata": {},
   "outputs": [
    {
     "data": {
      "text/html": [
       "<div>\n",
       "<style scoped>\n",
       "    .dataframe tbody tr th:only-of-type {\n",
       "        vertical-align: middle;\n",
       "    }\n",
       "\n",
       "    .dataframe tbody tr th {\n",
       "        vertical-align: top;\n",
       "    }\n",
       "\n",
       "    .dataframe thead th {\n",
       "        text-align: right;\n",
       "    }\n",
       "</style>\n",
       "<table border=\"1\" class=\"dataframe\">\n",
       "  <thead>\n",
       "    <tr style=\"text-align: right;\">\n",
       "      <th></th>\n",
       "      <th>proline</th>\n",
       "      <th>alcohol</th>\n",
       "      <th>malicAcid</th>\n",
       "      <th>magnesium</th>\n",
       "      <th>flavanoids</th>\n",
       "    </tr>\n",
       "  </thead>\n",
       "  <tbody>\n",
       "    <tr>\n",
       "      <th>count</th>\n",
       "      <td>177.000000</td>\n",
       "      <td>177.000000</td>\n",
       "      <td>177.000000</td>\n",
       "      <td>177.000000</td>\n",
       "      <td>177.000000</td>\n",
       "    </tr>\n",
       "    <tr>\n",
       "      <th>mean</th>\n",
       "      <td>745.096045</td>\n",
       "      <td>12.993672</td>\n",
       "      <td>2.339887</td>\n",
       "      <td>99.587571</td>\n",
       "      <td>2.023446</td>\n",
       "    </tr>\n",
       "    <tr>\n",
       "      <th>std</th>\n",
       "      <td>314.884046</td>\n",
       "      <td>0.808808</td>\n",
       "      <td>1.119314</td>\n",
       "      <td>14.174018</td>\n",
       "      <td>0.998658</td>\n",
       "    </tr>\n",
       "    <tr>\n",
       "      <th>min</th>\n",
       "      <td>278.000000</td>\n",
       "      <td>11.030000</td>\n",
       "      <td>0.740000</td>\n",
       "      <td>70.000000</td>\n",
       "      <td>0.340000</td>\n",
       "    </tr>\n",
       "    <tr>\n",
       "      <th>25%</th>\n",
       "      <td>500.000000</td>\n",
       "      <td>12.360000</td>\n",
       "      <td>1.600000</td>\n",
       "      <td>88.000000</td>\n",
       "      <td>1.200000</td>\n",
       "    </tr>\n",
       "    <tr>\n",
       "      <th>50%</th>\n",
       "      <td>672.000000</td>\n",
       "      <td>13.050000</td>\n",
       "      <td>1.870000</td>\n",
       "      <td>98.000000</td>\n",
       "      <td>2.130000</td>\n",
       "    </tr>\n",
       "    <tr>\n",
       "      <th>75%</th>\n",
       "      <td>985.000000</td>\n",
       "      <td>13.670000</td>\n",
       "      <td>3.100000</td>\n",
       "      <td>107.000000</td>\n",
       "      <td>2.860000</td>\n",
       "    </tr>\n",
       "    <tr>\n",
       "      <th>max</th>\n",
       "      <td>1680.000000</td>\n",
       "      <td>14.830000</td>\n",
       "      <td>5.800000</td>\n",
       "      <td>162.000000</td>\n",
       "      <td>5.080000</td>\n",
       "    </tr>\n",
       "  </tbody>\n",
       "</table>\n",
       "</div>"
      ],
      "text/plain": [
       "           proline     alcohol   malicAcid   magnesium  flavanoids\n",
       "count   177.000000  177.000000  177.000000  177.000000  177.000000\n",
       "mean    745.096045   12.993672    2.339887   99.587571    2.023446\n",
       "std     314.884046    0.808808    1.119314   14.174018    0.998658\n",
       "min     278.000000   11.030000    0.740000   70.000000    0.340000\n",
       "25%     500.000000   12.360000    1.600000   88.000000    1.200000\n",
       "50%     672.000000   13.050000    1.870000   98.000000    2.130000\n",
       "75%     985.000000   13.670000    3.100000  107.000000    2.860000\n",
       "max    1680.000000   14.830000    5.800000  162.000000    5.080000"
      ]
     },
     "execution_count": 13,
     "metadata": {},
     "output_type": "execute_result"
    }
   ],
   "source": [
    "# estatística descritiva\n",
    "wine_sub.describe()"
   ]
  },
  {
   "cell_type": "code",
   "execution_count": 14,
   "metadata": {},
   "outputs": [
    {
     "data": {
      "image/png": "[encoded data removed]",
      "text/plain": [
       "<Figure size 432x288 with 1 Axes>"
      ]
     },
     "metadata": {
      "needs_background": "light"
     },
     "output_type": "display_data"
    }
   ],
   "source": [
    "# distribuição da coluna alcohol\n",
    "ax = sns.distplot(wine_sub.alcohol)"
   ]
  },
  {
   "cell_type": "code",
   "execution_count": 15,
   "metadata": {},
   "outputs": [
    {
     "data": {
      "image/png": "[encoded data removed]",
      "text/plain": [
       "<Figure size 432x288 with 1 Axes>"
      ]
     },
     "metadata": {
      "needs_background": "light"
     },
     "output_type": "display_data"
    }
   ],
   "source": [
    "# distribuição da coluna malicAcid\n",
    "ax = sns.distplot(wine_sub.malicAcid, color='y')"
   ]
  },
  {
   "cell_type": "code",
   "execution_count": 16,
   "metadata": {},
   "outputs": [
    {
     "data": {
      "image/png": "[encoded data removed]",
      "text/plain": [
       "<Figure size 432x288 with 1 Axes>"
      ]
     },
     "metadata": {
      "needs_background": "light"
     },
     "output_type": "display_data"
    }
   ],
   "source": [
    "# distribuição da coluna magnesium\n",
    "ax = sns.distplot(wine_sub.magnesium, color='g')"
   ]
  },
  {
   "cell_type": "code",
   "execution_count": 17,
   "metadata": {},
   "outputs": [
    {
     "data": {
      "image/png": "[encoded data removed]",
      "text/plain": [
       "<Figure size 432x288 with 1 Axes>"
      ]
     },
     "metadata": {
      "needs_background": "light"
     },
     "output_type": "display_data"
    }
   ],
   "source": [
    "# distribuição da coluna flavanoids\n",
    "ax = sns.distplot(wine_sub.flavanoids, color='r')"
   ]
  },
  {
   "cell_type": "code",
   "execution_count": 19,
   "metadata": {},
   "outputs": [
    {
     "data": {
      "image/png": "[encoded data removed]",
      "text/plain": [
       "<Figure size 432x288 with 1 Axes>"
      ]
     },
     "metadata": {
      "needs_background": "light"
     },
     "output_type": "display_data"
    }
   ],
   "source": [
    "# distribuição da coluna proline\n",
    "ax = sns.distplot(wine_sub.proline, color='k')"
   ]
  },
  {
   "cell_type": "markdown",
   "metadata": {},
   "source": [
    "# Standartization\n",
    "\n",
    "Standardization is another scaling technique where the values are centered around the mean with a unit standard deviation. This means that the mean of the attribute becomes zero and the resultant distribution has a unit standard deviation. \n",
    "\n",
    "<img src=\"https://www.thoughtco.com/thmb/ZHmzJvAo0WjzWIcqH8USLftKS6o=/735x0/zscore-56a8fa785f9b58b7d0f6e87b.GIF\" width=20%/>\n",
    "\n"
   ]
  },
  {
   "cell_type": "code",
   "execution_count": 20,
   "metadata": {},
   "outputs": [],
   "source": [
    "from sklearn.preprocessing import StandardScaler"
   ]
  },
  {
   "cell_type": "code",
   "execution_count": 21,
   "metadata": {},
   "outputs": [],
   "source": [
    "# computes all paramaters of the data using FIT\n",
    "sdscaler = StandardScaler();\n",
    "compute_paramter = sdscaler.fit(wine);"
   ]
  },
  {
   "cell_type": "code",
   "execution_count": 22,
   "metadata": {},
   "outputs": [],
   "source": [
    "# applying the computed parameters into the data to transform it\n",
    "standData = compute_paramter.transform(wine);"
   ]
  },
  {
   "cell_type": "code",
   "execution_count": 23,
   "metadata": {},
   "outputs": [
    {
     "data": {
      "text/plain": [
       "array([[-1.22246766,  0.2558245 , -0.50162433, ...,  0.40709978,\n",
       "         1.13169801,  0.97105248],\n",
       "       [-1.22246766,  0.20622873,  0.01802001, ...,  0.3195674 ,\n",
       "         0.80457911,  1.40099798],\n",
       "       [-1.22246766,  1.70650069, -0.34931478, ..., -0.4244579 ,\n",
       "         1.20281081,  2.34050852],\n",
       "       ...,\n",
       "       [ 1.36887097,  0.34261709,  1.73822194, ..., -1.60614514,\n",
       "        -1.48525319,  0.28632445],\n",
       "       [ 1.36887097,  0.21862767,  0.22408586, ..., -1.56237895,\n",
       "        -1.39991783,  0.30224836],\n",
       "       [ 1.36887097,  1.40892609,  1.57695301, ..., -1.51861275,\n",
       "        -1.42836295, -0.58949046]])"
      ]
     },
     "execution_count": 23,
     "metadata": {},
     "output_type": "execute_result"
    }
   ],
   "source": [
    "# retornou um array com os dados padronizados (standartization)\n",
    "standData"
   ]
  },
  {
   "cell_type": "code",
   "execution_count": 25,
   "metadata": {},
   "outputs": [
    {
     "data": {
      "image/png": "[encoded data removed]",
      "text/plain": [
       "<Figure size 720x432 with 1 Axes>"
      ]
     },
     "metadata": {
      "needs_background": "light"
     },
     "output_type": "display_data"
    }
   ],
   "source": [
    "# visualizando o boxplot dos dados\n",
    "import seaborn as sns\n",
    "from matplotlib import pyplot as plt\n",
    "plt.figure(figsize=(10,6))\n",
    "\n",
    "ax = sns.boxplot(data=standData)"
   ]
  },
  {
   "cell_type": "markdown",
   "metadata": {},
   "source": [
    "Observa-se através do grafico acima que agora os dados estão padronizados e proprocionais. os pontos acima são outliers. As caixas estão muito proximas uma das outras. existe um padrão nas medianas, elas estão bem proximas de 0. \n",
    "\n",
    "*If it’s symmetrical then the mean is equal to the median. You cannot infer the sd from the simple plot, unless you know the distribution from which the values comes.*"
   ]
  },
  {
   "cell_type": "code",
   "execution_count": 26,
   "metadata": {},
   "outputs": [
    {
     "data": {
      "text/html": [
       "<div>\n",
       "<style scoped>\n",
       "    .dataframe tbody tr th:only-of-type {\n",
       "        vertical-align: middle;\n",
       "    }\n",
       "\n",
       "    .dataframe tbody tr th {\n",
       "        vertical-align: top;\n",
       "    }\n",
       "\n",
       "    .dataframe thead th {\n",
       "        text-align: right;\n",
       "    }\n",
       "</style>\n",
       "<table border=\"1\" class=\"dataframe\">\n",
       "  <thead>\n",
       "    <tr style=\"text-align: right;\">\n",
       "      <th></th>\n",
       "      <th>0</th>\n",
       "      <th>1</th>\n",
       "      <th>2</th>\n",
       "      <th>3</th>\n",
       "      <th>4</th>\n",
       "      <th>5</th>\n",
       "      <th>6</th>\n",
       "      <th>7</th>\n",
       "      <th>8</th>\n",
       "      <th>9</th>\n",
       "      <th>10</th>\n",
       "      <th>11</th>\n",
       "      <th>12</th>\n",
       "      <th>13</th>\n",
       "    </tr>\n",
       "  </thead>\n",
       "  <tbody>\n",
       "    <tr>\n",
       "      <th>count</th>\n",
       "      <td>1.770000e+02</td>\n",
       "      <td>1.770000e+02</td>\n",
       "      <td>1.770000e+02</td>\n",
       "      <td>1.770000e+02</td>\n",
       "      <td>1.770000e+02</td>\n",
       "      <td>1.770000e+02</td>\n",
       "      <td>1.770000e+02</td>\n",
       "      <td>1.770000e+02</td>\n",
       "      <td>1.770000e+02</td>\n",
       "      <td>1.770000e+02</td>\n",
       "      <td>1.770000e+02</td>\n",
       "      <td>1.770000e+02</td>\n",
       "      <td>1.770000e+02</td>\n",
       "      <td>1.770000e+02</td>\n",
       "    </tr>\n",
       "    <tr>\n",
       "      <th>mean</th>\n",
       "      <td>1.327250e-15</td>\n",
       "      <td>-2.609338e-16</td>\n",
       "      <td>4.252719e-16</td>\n",
       "      <td>-4.378168e-16</td>\n",
       "      <td>-6.410440e-16</td>\n",
       "      <td>-1.028681e-16</td>\n",
       "      <td>-1.279579e-16</td>\n",
       "      <td>1.505387e-16</td>\n",
       "      <td>-5.595022e-16</td>\n",
       "      <td>5.645202e-17</td>\n",
       "      <td>1.568112e-16</td>\n",
       "      <td>6.310081e-16</td>\n",
       "      <td>6.335171e-16</td>\n",
       "      <td>2.389802e-16</td>\n",
       "    </tr>\n",
       "    <tr>\n",
       "      <th>std</th>\n",
       "      <td>1.002837e+00</td>\n",
       "      <td>1.002837e+00</td>\n",
       "      <td>1.002837e+00</td>\n",
       "      <td>1.002837e+00</td>\n",
       "      <td>1.002837e+00</td>\n",
       "      <td>1.002837e+00</td>\n",
       "      <td>1.002837e+00</td>\n",
       "      <td>1.002837e+00</td>\n",
       "      <td>1.002837e+00</td>\n",
       "      <td>1.002837e+00</td>\n",
       "      <td>1.002837e+00</td>\n",
       "      <td>1.002837e+00</td>\n",
       "      <td>1.002837e+00</td>\n",
       "      <td>1.002837e+00</td>\n",
       "    </tr>\n",
       "    <tr>\n",
       "      <th>min</th>\n",
       "      <td>-1.222468e+00</td>\n",
       "      <td>-2.434746e+00</td>\n",
       "      <td>-1.433400e+00</td>\n",
       "      <td>-3.668064e+00</td>\n",
       "      <td>-2.680472e+00</td>\n",
       "      <td>-2.093373e+00</td>\n",
       "      <td>-2.100648e+00</td>\n",
       "      <td>-1.690491e+00</td>\n",
       "      <td>-1.868993e+00</td>\n",
       "      <td>-2.065084e+00</td>\n",
       "      <td>-1.628565e+00</td>\n",
       "      <td>-2.087573e+00</td>\n",
       "      <td>-1.897707e+00</td>\n",
       "      <td>-1.487599e+00</td>\n",
       "    </tr>\n",
       "    <tr>\n",
       "      <th>25%</th>\n",
       "      <td>-1.222468e+00</td>\n",
       "      <td>-7.856866e-01</td>\n",
       "      <td>-6.628933e-01</td>\n",
       "      <td>-5.692924e-01</td>\n",
       "      <td>-6.964846e-01</td>\n",
       "      <td>-8.198411e-01</td>\n",
       "      <td>-8.840502e-01</td>\n",
       "      <td>-8.268924e-01</td>\n",
       "      <td>-7.426883e-01</td>\n",
       "      <td>-5.912136e-01</td>\n",
       "      <td>-7.959038e-01</td>\n",
       "      <td>-7.745875e-01</td>\n",
       "      <td>-9.590184e-01</td>\n",
       "      <td>-7.805774e-01</td>\n",
       "    </tr>\n",
       "    <tr>\n",
       "      <th>50%</th>\n",
       "      <td>7.320166e-02</td>\n",
       "      <td>6.984037e-02</td>\n",
       "      <td>-4.209899e-01</td>\n",
       "      <td>-2.245039e-02</td>\n",
       "      <td>-5.094986e-03</td>\n",
       "      <td>-1.123234e-01</td>\n",
       "      <td>9.242960e-02</td>\n",
       "      <td>1.069996e-01</td>\n",
       "      <td>-1.795360e-01</td>\n",
       "      <td>-6.483128e-02</td>\n",
       "      <td>-1.617011e-01</td>\n",
       "      <td>1.320404e-02</td>\n",
       "      <td>2.498992e-01</td>\n",
       "      <td>-2.327949e-01</td>\n",
       "    </tr>\n",
       "    <tr>\n",
       "      <th>75%</th>\n",
       "      <td>1.368871e+00</td>\n",
       "      <td>8.385748e-01</td>\n",
       "      <td>6.810145e-01</td>\n",
       "      <td>7.066723e-01</td>\n",
       "      <td>5.961134e-01</td>\n",
       "      <td>5.244425e-01</td>\n",
       "      <td>8.127835e-01</td>\n",
       "      <td>8.400546e-01</td>\n",
       "      <td>6.249672e-01</td>\n",
       "      <td>6.370119e-01</td>\n",
       "      <td>4.940731e-01</td>\n",
       "      <td>7.134631e-01</td>\n",
       "      <td>8.045791e-01</td>\n",
       "      <td>7.640417e-01</td>\n",
       "    </tr>\n",
       "    <tr>\n",
       "      <th>max</th>\n",
       "      <td>1.368871e+00</td>\n",
       "      <td>2.276852e+00</td>\n",
       "      <td>3.100048e+00</td>\n",
       "      <td>3.149233e+00</td>\n",
       "      <td>3.151249e+00</td>\n",
       "      <td>4.415790e+00</td>\n",
       "      <td>2.541633e+00</td>\n",
       "      <td>3.069345e+00</td>\n",
       "      <td>2.394874e+00</td>\n",
       "      <td>3.497023e+00</td>\n",
       "      <td>3.427800e+00</td>\n",
       "      <td>3.295669e+00</td>\n",
       "      <td>1.985052e+00</td>\n",
       "      <td>2.977465e+00</td>\n",
       "    </tr>\n",
       "  </tbody>\n",
       "</table>\n",
       "</div>"
      ],
      "text/plain": [
       "                 0             1             2             3             4   \\\n",
       "count  1.770000e+02  1.770000e+02  1.770000e+02  1.770000e+02  1.770000e+02   \n",
       "mean   1.327250e-15 -2.609338e-16  4.252719e-16 -4.378168e-16 -6.410440e-16   \n",
       "std    1.002837e+00  1.002837e+00  1.002837e+00  1.002837e+00  1.002837e+00   \n",
       "min   -1.222468e+00 -2.434746e+00 -1.433400e+00 -3.668064e+00 -2.680472e+00   \n",
       "25%   -1.222468e+00 -7.856866e-01 -6.628933e-01 -5.692924e-01 -6.964846e-01   \n",
       "50%    7.320166e-02  6.984037e-02 -4.209899e-01 -2.245039e-02 -5.094986e-03   \n",
       "75%    1.368871e+00  8.385748e-01  6.810145e-01  7.066723e-01  5.961134e-01   \n",
       "max    1.368871e+00  2.276852e+00  3.100048e+00  3.149233e+00  3.151249e+00   \n",
       "\n",
       "                 5             6             7             8             9   \\\n",
       "count  1.770000e+02  1.770000e+02  1.770000e+02  1.770000e+02  1.770000e+02   \n",
       "mean  -1.028681e-16 -1.279579e-16  1.505387e-16 -5.595022e-16  5.645202e-17   \n",
       "std    1.002837e+00  1.002837e+00  1.002837e+00  1.002837e+00  1.002837e+00   \n",
       "min   -2.093373e+00 -2.100648e+00 -1.690491e+00 -1.868993e+00 -2.065084e+00   \n",
       "25%   -8.198411e-01 -8.840502e-01 -8.268924e-01 -7.426883e-01 -5.912136e-01   \n",
       "50%   -1.123234e-01  9.242960e-02  1.069996e-01 -1.795360e-01 -6.483128e-02   \n",
       "75%    5.244425e-01  8.127835e-01  8.400546e-01  6.249672e-01  6.370119e-01   \n",
       "max    4.415790e+00  2.541633e+00  3.069345e+00  2.394874e+00  3.497023e+00   \n",
       "\n",
       "                 10            11            12            13  \n",
       "count  1.770000e+02  1.770000e+02  1.770000e+02  1.770000e+02  \n",
       "mean   1.568112e-16  6.310081e-16  6.335171e-16  2.389802e-16  \n",
       "std    1.002837e+00  1.002837e+00  1.002837e+00  1.002837e+00  \n",
       "min   -1.628565e+00 -2.087573e+00 -1.897707e+00 -1.487599e+00  \n",
       "25%   -7.959038e-01 -7.745875e-01 -9.590184e-01 -7.805774e-01  \n",
       "50%   -1.617011e-01  1.320404e-02  2.498992e-01 -2.327949e-01  \n",
       "75%    4.940731e-01  7.134631e-01  8.045791e-01  7.640417e-01  \n",
       "max    3.427800e+00  3.295669e+00  1.985052e+00  2.977465e+00  "
      ]
     },
     "execution_count": 26,
     "metadata": {},
     "output_type": "execute_result"
    }
   ],
   "source": [
    "df_std = pd.DataFrame(standData);\n",
    "df_std.describe()\n",
    "# observa-se que o desvio padrão está em torno de 1"
   ]
  },
  {
   "cell_type": "markdown",
   "metadata": {},
   "source": [
    "# Normalization or Max/Min Normalization\n",
    "\n",
    "This technique is to re-cales features with a distribution value between 0 and 1. For every feature, the minimum value of that feature gets transformed into 0 and the maximum value gets transformed into 1.\n",
    "\n",
    "<img src=\"https://miro.medium.com/max/1400/1*GwcC80mDUyscDAWtwZSBdA.png\" width=50%/>"
   ]
  },
  {
   "cell_type": "code",
   "execution_count": 27,
   "metadata": {},
   "outputs": [],
   "source": [
    "from sklearn.preprocessing import MinMaxScaler"
   ]
  },
  {
   "cell_type": "code",
   "execution_count": 28,
   "metadata": {},
   "outputs": [
    {
     "data": {
      "text/html": [
       "<div>\n",
       "<style scoped>\n",
       "    .dataframe tbody tr th:only-of-type {\n",
       "        vertical-align: middle;\n",
       "    }\n",
       "\n",
       "    .dataframe tbody tr th {\n",
       "        vertical-align: top;\n",
       "    }\n",
       "\n",
       "    .dataframe thead th {\n",
       "        text-align: right;\n",
       "    }\n",
       "</style>\n",
       "<table border=\"1\" class=\"dataframe\">\n",
       "  <thead>\n",
       "    <tr style=\"text-align: right;\">\n",
       "      <th></th>\n",
       "      <th>Class</th>\n",
       "      <th>alcohol</th>\n",
       "      <th>malicAcid</th>\n",
       "      <th>ash</th>\n",
       "      <th>ashalcalinity</th>\n",
       "      <th>magnesium</th>\n",
       "      <th>totalPhenols</th>\n",
       "      <th>flavanoids</th>\n",
       "      <th>nonFlavanoidPhenols</th>\n",
       "      <th>proanthocyanins</th>\n",
       "      <th>colorIntensity</th>\n",
       "      <th>hue</th>\n",
       "      <th>od280_od315</th>\n",
       "      <th>proline</th>\n",
       "    </tr>\n",
       "  </thead>\n",
       "  <tbody>\n",
       "    <tr>\n",
       "      <th>0</th>\n",
       "      <td>1</td>\n",
       "      <td>13.20</td>\n",
       "      <td>1.78</td>\n",
       "      <td>2.14</td>\n",
       "      <td>11.2</td>\n",
       "      <td>100</td>\n",
       "      <td>2.65</td>\n",
       "      <td>2.76</td>\n",
       "      <td>0.26</td>\n",
       "      <td>1.28</td>\n",
       "      <td>4.38</td>\n",
       "      <td>1.05</td>\n",
       "      <td>3.40</td>\n",
       "      <td>1050</td>\n",
       "    </tr>\n",
       "    <tr>\n",
       "      <th>1</th>\n",
       "      <td>1</td>\n",
       "      <td>13.16</td>\n",
       "      <td>2.36</td>\n",
       "      <td>2.67</td>\n",
       "      <td>18.6</td>\n",
       "      <td>101</td>\n",
       "      <td>2.80</td>\n",
       "      <td>3.24</td>\n",
       "      <td>0.30</td>\n",
       "      <td>2.81</td>\n",
       "      <td>5.68</td>\n",
       "      <td>1.03</td>\n",
       "      <td>3.17</td>\n",
       "      <td>1185</td>\n",
       "    </tr>\n",
       "    <tr>\n",
       "      <th>2</th>\n",
       "      <td>1</td>\n",
       "      <td>14.37</td>\n",
       "      <td>1.95</td>\n",
       "      <td>2.50</td>\n",
       "      <td>16.8</td>\n",
       "      <td>113</td>\n",
       "      <td>3.85</td>\n",
       "      <td>3.49</td>\n",
       "      <td>0.24</td>\n",
       "      <td>2.18</td>\n",
       "      <td>7.80</td>\n",
       "      <td>0.86</td>\n",
       "      <td>3.45</td>\n",
       "      <td>1480</td>\n",
       "    </tr>\n",
       "    <tr>\n",
       "      <th>3</th>\n",
       "      <td>1</td>\n",
       "      <td>13.24</td>\n",
       "      <td>2.59</td>\n",
       "      <td>2.87</td>\n",
       "      <td>21.0</td>\n",
       "      <td>118</td>\n",
       "      <td>2.80</td>\n",
       "      <td>2.69</td>\n",
       "      <td>0.39</td>\n",
       "      <td>1.82</td>\n",
       "      <td>4.32</td>\n",
       "      <td>1.04</td>\n",
       "      <td>2.93</td>\n",
       "      <td>735</td>\n",
       "    </tr>\n",
       "    <tr>\n",
       "      <th>4</th>\n",
       "      <td>1</td>\n",
       "      <td>14.20</td>\n",
       "      <td>1.76</td>\n",
       "      <td>2.45</td>\n",
       "      <td>15.2</td>\n",
       "      <td>112</td>\n",
       "      <td>3.27</td>\n",
       "      <td>3.39</td>\n",
       "      <td>0.34</td>\n",
       "      <td>1.97</td>\n",
       "      <td>6.75</td>\n",
       "      <td>1.05</td>\n",
       "      <td>2.85</td>\n",
       "      <td>1450</td>\n",
       "    </tr>\n",
       "  </tbody>\n",
       "</table>\n",
       "</div>"
      ],
      "text/plain": [
       "   Class  alcohol  malicAcid   ash  ashalcalinity  magnesium  totalPhenols  \\\n",
       "0      1    13.20       1.78  2.14           11.2        100          2.65   \n",
       "1      1    13.16       2.36  2.67           18.6        101          2.80   \n",
       "2      1    14.37       1.95  2.50           16.8        113          3.85   \n",
       "3      1    13.24       2.59  2.87           21.0        118          2.80   \n",
       "4      1    14.20       1.76  2.45           15.2        112          3.27   \n",
       "\n",
       "   flavanoids  nonFlavanoidPhenols  proanthocyanins  colorIntensity   hue  \\\n",
       "0        2.76                 0.26             1.28            4.38  1.05   \n",
       "1        3.24                 0.30             2.81            5.68  1.03   \n",
       "2        3.49                 0.24             2.18            7.80  0.86   \n",
       "3        2.69                 0.39             1.82            4.32  1.04   \n",
       "4        3.39                 0.34             1.97            6.75  1.05   \n",
       "\n",
       "   od280_od315  proline  \n",
       "0         3.40     1050  \n",
       "1         3.17     1185  \n",
       "2         3.45     1480  \n",
       "3         2.93      735  \n",
       "4         2.85     1450  "
      ]
     },
     "execution_count": 28,
     "metadata": {},
     "output_type": "execute_result"
    }
   ],
   "source": [
    "wine.head()"
   ]
  },
  {
   "cell_type": "code",
   "execution_count": 29,
   "metadata": {},
   "outputs": [],
   "source": [
    "# treina o algoritmo e cria o objeto obj_norm\n",
    "# computando os min max\n",
    "# Transform features by scaling each feature to a given range.\n",
    "obj_norm = MinMaxScaler().fit(wine)"
   ]
  },
  {
   "cell_type": "code",
   "execution_count": 30,
   "metadata": {},
   "outputs": [],
   "source": [
    "# aplica o normalizador\n",
    "norm_df = obj_norm.transform(wine)"
   ]
  },
  {
   "cell_type": "code",
   "execution_count": 31,
   "metadata": {},
   "outputs": [
    {
     "data": {
      "text/plain": [
       "array([[0.        , 0.57105263, 0.2055336 , ..., 0.46341463, 0.78021978,\n",
       "        0.55064194],\n",
       "       [0.        , 0.56052632, 0.3201581 , ..., 0.44715447, 0.6959707 ,\n",
       "        0.64693295],\n",
       "       [0.        , 0.87894737, 0.23913043, ..., 0.30894309, 0.7985348 ,\n",
       "        0.85734665],\n",
       "       ...,\n",
       "       [1.        , 0.58947368, 0.69960474, ..., 0.08943089, 0.10622711,\n",
       "        0.39728959],\n",
       "       [1.        , 0.56315789, 0.36561265, ..., 0.09756098, 0.12820513,\n",
       "        0.40085592],\n",
       "       [1.        , 0.81578947, 0.66403162, ..., 0.10569106, 0.12087912,\n",
       "        0.20114123]])"
      ]
     },
     "execution_count": 31,
     "metadata": {},
     "output_type": "execute_result"
    }
   ],
   "source": [
    "# imprime os dados normalizados\n",
    "norm_df"
   ]
  },
  {
   "cell_type": "code",
   "execution_count": 32,
   "metadata": {},
   "outputs": [
    {
     "data": {
      "image/png": "[encoded data removed]",
      "text/plain": [
       "<Figure size 720x432 with 1 Axes>"
      ]
     },
     "metadata": {
      "needs_background": "light"
     },
     "output_type": "display_data"
    }
   ],
   "source": [
    "# visualiza os boxplots\n",
    "import seaborn as sns\n",
    "from matplotlib import pyplot as plt\n",
    "plt.figure(figsize=(10,6))\n",
    "ax = sns.boxplot(data=norm_df)"
   ]
  },
  {
   "cell_type": "markdown",
   "metadata": {},
   "source": [
    "Agora as medianas dos dados acima não são padronizadas (não estão em torno de 0). apenas os valores que estão entre 0 e 1. \n",
    "os dados apenas foram escalados na mesma escala de 0 a 1, mas eles não estão padronizados."
   ]
  },
  {
   "cell_type": "code",
   "execution_count": 33,
   "metadata": {},
   "outputs": [],
   "source": [
    "# transforma o numpy array para um dataframe\n",
    "norm_df = pd.DataFrame(norm_df)"
   ]
  },
  {
   "cell_type": "code",
   "execution_count": 34,
   "metadata": {},
   "outputs": [
    {
     "data": {
      "text/html": [
       "<div>\n",
       "<style scoped>\n",
       "    .dataframe tbody tr th:only-of-type {\n",
       "        vertical-align: middle;\n",
       "    }\n",
       "\n",
       "    .dataframe tbody tr th {\n",
       "        vertical-align: top;\n",
       "    }\n",
       "\n",
       "    .dataframe thead th {\n",
       "        text-align: right;\n",
       "    }\n",
       "</style>\n",
       "<table border=\"1\" class=\"dataframe\">\n",
       "  <thead>\n",
       "    <tr style=\"text-align: right;\">\n",
       "      <th></th>\n",
       "      <th>0</th>\n",
       "      <th>1</th>\n",
       "      <th>2</th>\n",
       "      <th>3</th>\n",
       "      <th>4</th>\n",
       "      <th>5</th>\n",
       "      <th>6</th>\n",
       "      <th>7</th>\n",
       "      <th>8</th>\n",
       "      <th>9</th>\n",
       "      <th>10</th>\n",
       "      <th>11</th>\n",
       "      <th>12</th>\n",
       "      <th>13</th>\n",
       "    </tr>\n",
       "  </thead>\n",
       "  <tbody>\n",
       "    <tr>\n",
       "      <th>count</th>\n",
       "      <td>177.000000</td>\n",
       "      <td>177.000000</td>\n",
       "      <td>177.000000</td>\n",
       "      <td>177.000000</td>\n",
       "      <td>177.000000</td>\n",
       "      <td>177.000000</td>\n",
       "      <td>177.000000</td>\n",
       "      <td>177.000000</td>\n",
       "      <td>177.000000</td>\n",
       "      <td>177.000000</td>\n",
       "      <td>177.000000</td>\n",
       "      <td>177.000000</td>\n",
       "      <td>177.000000</td>\n",
       "      <td>177.000000</td>\n",
       "    </tr>\n",
       "    <tr>\n",
       "      <th>mean</th>\n",
       "      <td>0.471751</td>\n",
       "      <td>0.516756</td>\n",
       "      <td>0.316183</td>\n",
       "      <td>0.538053</td>\n",
       "      <td>0.459637</td>\n",
       "      <td>0.321604</td>\n",
       "      <td>0.452503</td>\n",
       "      <td>0.355157</td>\n",
       "      <td>0.438333</td>\n",
       "      <td>0.371277</td>\n",
       "      <td>0.322082</td>\n",
       "      <td>0.387791</td>\n",
       "      <td>0.488752</td>\n",
       "      <td>0.333164</td>\n",
       "    </tr>\n",
       "    <tr>\n",
       "      <th>std</th>\n",
       "      <td>0.386996</td>\n",
       "      <td>0.212844</td>\n",
       "      <td>0.221208</td>\n",
       "      <td>0.147102</td>\n",
       "      <td>0.171962</td>\n",
       "      <td>0.154065</td>\n",
       "      <td>0.216022</td>\n",
       "      <td>0.210687</td>\n",
       "      <td>0.235194</td>\n",
       "      <td>0.180298</td>\n",
       "      <td>0.198332</td>\n",
       "      <td>0.186289</td>\n",
       "      <td>0.258279</td>\n",
       "      <td>0.224596</td>\n",
       "    </tr>\n",
       "    <tr>\n",
       "      <th>min</th>\n",
       "      <td>0.000000</td>\n",
       "      <td>0.000000</td>\n",
       "      <td>0.000000</td>\n",
       "      <td>0.000000</td>\n",
       "      <td>0.000000</td>\n",
       "      <td>0.000000</td>\n",
       "      <td>0.000000</td>\n",
       "      <td>0.000000</td>\n",
       "      <td>0.000000</td>\n",
       "      <td>0.000000</td>\n",
       "      <td>0.000000</td>\n",
       "      <td>0.000000</td>\n",
       "      <td>0.000000</td>\n",
       "      <td>0.000000</td>\n",
       "    </tr>\n",
       "    <tr>\n",
       "      <th>25%</th>\n",
       "      <td>0.000000</td>\n",
       "      <td>0.350000</td>\n",
       "      <td>0.169960</td>\n",
       "      <td>0.454545</td>\n",
       "      <td>0.340206</td>\n",
       "      <td>0.195652</td>\n",
       "      <td>0.262069</td>\n",
       "      <td>0.181435</td>\n",
       "      <td>0.264151</td>\n",
       "      <td>0.264984</td>\n",
       "      <td>0.164676</td>\n",
       "      <td>0.243902</td>\n",
       "      <td>0.241758</td>\n",
       "      <td>0.158345</td>\n",
       "    </tr>\n",
       "    <tr>\n",
       "      <th>50%</th>\n",
       "      <td>0.500000</td>\n",
       "      <td>0.531579</td>\n",
       "      <td>0.223320</td>\n",
       "      <td>0.534759</td>\n",
       "      <td>0.458763</td>\n",
       "      <td>0.304348</td>\n",
       "      <td>0.472414</td>\n",
       "      <td>0.377637</td>\n",
       "      <td>0.396226</td>\n",
       "      <td>0.359621</td>\n",
       "      <td>0.290102</td>\n",
       "      <td>0.390244</td>\n",
       "      <td>0.553114</td>\n",
       "      <td>0.281027</td>\n",
       "    </tr>\n",
       "    <tr>\n",
       "      <th>75%</th>\n",
       "      <td>1.000000</td>\n",
       "      <td>0.694737</td>\n",
       "      <td>0.466403</td>\n",
       "      <td>0.641711</td>\n",
       "      <td>0.561856</td>\n",
       "      <td>0.402174</td>\n",
       "      <td>0.627586</td>\n",
       "      <td>0.531646</td>\n",
       "      <td>0.584906</td>\n",
       "      <td>0.485804</td>\n",
       "      <td>0.419795</td>\n",
       "      <td>0.520325</td>\n",
       "      <td>0.695971</td>\n",
       "      <td>0.504280</td>\n",
       "    </tr>\n",
       "    <tr>\n",
       "      <th>max</th>\n",
       "      <td>1.000000</td>\n",
       "      <td>1.000000</td>\n",
       "      <td>1.000000</td>\n",
       "      <td>1.000000</td>\n",
       "      <td>1.000000</td>\n",
       "      <td>1.000000</td>\n",
       "      <td>1.000000</td>\n",
       "      <td>1.000000</td>\n",
       "      <td>1.000000</td>\n",
       "      <td>1.000000</td>\n",
       "      <td>1.000000</td>\n",
       "      <td>1.000000</td>\n",
       "      <td>1.000000</td>\n",
       "      <td>1.000000</td>\n",
       "    </tr>\n",
       "  </tbody>\n",
       "</table>\n",
       "</div>"
      ],
      "text/plain": [
       "               0           1           2           3           4           5   \\\n",
       "count  177.000000  177.000000  177.000000  177.000000  177.000000  177.000000   \n",
       "mean     0.471751    0.516756    0.316183    0.538053    0.459637    0.321604   \n",
       "std      0.386996    0.212844    0.221208    0.147102    0.171962    0.154065   \n",
       "min      0.000000    0.000000    0.000000    0.000000    0.000000    0.000000   \n",
       "25%      0.000000    0.350000    0.169960    0.454545    0.340206    0.195652   \n",
       "50%      0.500000    0.531579    0.223320    0.534759    0.458763    0.304348   \n",
       "75%      1.000000    0.694737    0.466403    0.641711    0.561856    0.402174   \n",
       "max      1.000000    1.000000    1.000000    1.000000    1.000000    1.000000   \n",
       "\n",
       "               6           7           8           9           10          11  \\\n",
       "count  177.000000  177.000000  177.000000  177.000000  177.000000  177.000000   \n",
       "mean     0.452503    0.355157    0.438333    0.371277    0.322082    0.387791   \n",
       "std      0.216022    0.210687    0.235194    0.180298    0.198332    0.186289   \n",
       "min      0.000000    0.000000    0.000000    0.000000    0.000000    0.000000   \n",
       "25%      0.262069    0.181435    0.264151    0.264984    0.164676    0.243902   \n",
       "50%      0.472414    0.377637    0.396226    0.359621    0.290102    0.390244   \n",
       "75%      0.627586    0.531646    0.584906    0.485804    0.419795    0.520325   \n",
       "max      1.000000    1.000000    1.000000    1.000000    1.000000    1.000000   \n",
       "\n",
       "               12          13  \n",
       "count  177.000000  177.000000  \n",
       "mean     0.488752    0.333164  \n",
       "std      0.258279    0.224596  \n",
       "min      0.000000    0.000000  \n",
       "25%      0.241758    0.158345  \n",
       "50%      0.553114    0.281027  \n",
       "75%      0.695971    0.504280  \n",
       "max      1.000000    1.000000  "
      ]
     },
     "execution_count": 34,
     "metadata": {},
     "output_type": "execute_result"
    }
   ],
   "source": [
    "# estatística descritiva\n",
    "norm_df.describe()"
   ]
  },
  {
   "cell_type": "markdown",
   "metadata": {},
   "source": [
    "# Visualizando os processamentos através de um algoritmo de machine learning"
   ]
  },
  {
   "cell_type": "code",
   "execution_count": 42,
   "metadata": {},
   "outputs": [],
   "source": [
    "X = wine.drop('Class', axis=1); # obtendo as caracteristica com exceção do target\n",
    "y = wine['Class'];"
   ]
  },
  {
   "cell_type": "code",
   "execution_count": 43,
   "metadata": {},
   "outputs": [],
   "source": [
    "from sklearn.model_selection import train_test_split"
   ]
  },
  {
   "cell_type": "code",
   "execution_count": 52,
   "metadata": {},
   "outputs": [],
   "source": [
    "# splitting into train and test\n",
    "X_train, X_test, y_train, y_test = train_test_split(X, y, train_size=0.8, random_state=1)"
   ]
  },
  {
   "cell_type": "code",
   "execution_count": 53,
   "metadata": {},
   "outputs": [],
   "source": [
    "# since we are going to compare each one of the results, let's create a pipeline for each one of the methods\n",
    "from sklearn.preprocessing import MinMaxScaler, StandardScaler\n",
    "from sklearn.pipeline import Pipeline\n",
    "from sklearn.neighbors import KNeighborsClassifier\n",
    "from sklearn import svm"
   ]
  },
  {
   "cell_type": "markdown",
   "metadata": {},
   "source": [
    "# Aplicando KNN normal sem a normalização ou padronização"
   ]
  },
  {
   "cell_type": "code",
   "execution_count": 55,
   "metadata": {},
   "outputs": [],
   "source": [
    "knn = KNeighborsClassifier()\n",
    "knn.fit(X_train, y_train)\n",
    "pred = knn.predict(X_test)"
   ]
  },
  {
   "cell_type": "code",
   "execution_count": 57,
   "metadata": {},
   "outputs": [],
   "source": [
    "from sklearn.metrics import accuracy_score"
   ]
  },
  {
   "cell_type": "code",
   "execution_count": 58,
   "metadata": {},
   "outputs": [
    {
     "name": "stdout",
     "output_type": "stream",
     "text": [
      "0.75\n"
     ]
    }
   ],
   "source": [
    "print(accuracy_score(y_test, pred))"
   ]
  },
  {
   "cell_type": "code",
   "execution_count": 59,
   "metadata": {},
   "outputs": [
    {
     "data": {
      "text/plain": [
       "0.75"
      ]
     },
     "execution_count": 59,
     "metadata": {},
     "output_type": "execute_result"
    }
   ],
   "source": [
    "# I could do this to return accuracy too\n",
    "knn.score(X_test, y_test)"
   ]
  },
  {
   "cell_type": "markdown",
   "metadata": {},
   "source": [
    "# Aplicando SVC normal sem a normalização ou padronização"
   ]
  },
  {
   "cell_type": "code",
   "execution_count": 63,
   "metadata": {},
   "outputs": [
    {
     "name": "stdout",
     "output_type": "stream",
     "text": [
      "0.75\n"
     ]
    }
   ],
   "source": [
    "svc = svm.SVC()\n",
    "svc.fit(X_train, y_train)\n",
    "predd = svc.predict(X_test)\n",
    "print(accuracy_score(y_test, predd))"
   ]
  },
  {
   "cell_type": "markdown",
   "metadata": {},
   "source": [
    "# Aplicando KNN e SCV com a normalização e padronização"
   ]
  },
  {
   "cell_type": "code",
   "execution_count": 61,
   "metadata": {},
   "outputs": [],
   "source": [
    "# steps : list\n",
    "# List of (name, transform) tuples (implementing fit/transform) that are\n",
    "# chained, in the order in which they are chained, with the last object an estimator.\n",
    "knn_std = Pipeline(steps=[\n",
    "    ('std', StandardScaler()), # step 1\n",
    "    ('knn_std', KNeighborsClassifier(n_neighbors=5)) # step 2\n",
    "])\n",
    "\n",
    "knn_norm = Pipeline([('norm', MinMaxScaler()), ('knn_norm', KNeighborsClassifier())])\n",
    "\n",
    "svm_std = Pipeline(steps=[\n",
    "    ('std', StandardScaler()), # step 1\n",
    "    ('svm_std', svm.SVC()) # step 2 SVC = support vector for classification\n",
    "])\n",
    "\n",
    "svm_norm = Pipeline(steps=[ ('norm', MinMaxScaler()),  ('svm_norm', svm.SVC())])"
   ]
  },
  {
   "cell_type": "markdown",
   "metadata": {},
   "source": [
    "# Standartization with KNN"
   ]
  },
  {
   "cell_type": "code",
   "execution_count": 64,
   "metadata": {},
   "outputs": [
    {
     "data": {
      "text/plain": [
       "Pipeline(steps=[('std', StandardScaler()), ('knn_std', KNeighborsClassifier())])"
      ]
     },
     "execution_count": 64,
     "metadata": {},
     "output_type": "execute_result"
    }
   ],
   "source": [
    "knn_std.fit(X_train, y_train)"
   ]
  },
  {
   "cell_type": "code",
   "execution_count": 65,
   "metadata": {},
   "outputs": [
    {
     "data": {
      "text/plain": [
       "0.9722222222222222"
      ]
     },
     "execution_count": 65,
     "metadata": {},
     "output_type": "execute_result"
    }
   ],
   "source": [
    "# Apply transforms, and score with the final estimator\n",
    "knn_std.score(X_test, y_test)"
   ]
  },
  {
   "cell_type": "markdown",
   "metadata": {},
   "source": [
    "# Standartization with SVM (C)"
   ]
  },
  {
   "cell_type": "code",
   "execution_count": 67,
   "metadata": {},
   "outputs": [
    {
     "data": {
      "text/plain": [
       "Pipeline(steps=[('std', StandardScaler()), ('svm_std', SVC())])"
      ]
     },
     "execution_count": 67,
     "metadata": {},
     "output_type": "execute_result"
    }
   ],
   "source": [
    "svm_std.fit(X_train, y_train)"
   ]
  },
  {
   "cell_type": "code",
   "execution_count": 68,
   "metadata": {},
   "outputs": [
    {
     "data": {
      "text/plain": [
       "1.0"
      ]
     },
     "execution_count": 68,
     "metadata": {},
     "output_type": "execute_result"
    }
   ],
   "source": [
    "# Apply transforms, and score with the final estimator\n",
    "svm_std.score(X_test, y_test)"
   ]
  },
  {
   "cell_type": "markdown",
   "metadata": {},
   "source": [
    "# Normalization with KNN"
   ]
  },
  {
   "cell_type": "code",
   "execution_count": 71,
   "metadata": {},
   "outputs": [
    {
     "data": {
      "text/plain": [
       "Pipeline(steps=[('norm', MinMaxScaler()), ('knn_norm', KNeighborsClassifier())])"
      ]
     },
     "execution_count": 71,
     "metadata": {},
     "output_type": "execute_result"
    }
   ],
   "source": [
    "knn_norm.fit(X_train, y_train)"
   ]
  },
  {
   "cell_type": "code",
   "execution_count": 73,
   "metadata": {},
   "outputs": [
    {
     "data": {
      "text/plain": [
       "0.9722222222222222"
      ]
     },
     "execution_count": 73,
     "metadata": {},
     "output_type": "execute_result"
    }
   ],
   "source": [
    "# Apply transforms, and score with the final estimator\n",
    "knn_norm.score(X_test, y_test)"
   ]
  },
  {
   "cell_type": "markdown",
   "metadata": {},
   "source": [
    "# Normalization with SVM (C)"
   ]
  },
  {
   "cell_type": "code",
   "execution_count": 74,
   "metadata": {},
   "outputs": [
    {
     "data": {
      "text/plain": [
       "Pipeline(steps=[('norm', MinMaxScaler()), ('svm_norm', SVC())])"
      ]
     },
     "execution_count": 74,
     "metadata": {},
     "output_type": "execute_result"
    }
   ],
   "source": [
    "svm_norm.fit(X_train, y_train)"
   ]
  },
  {
   "cell_type": "code",
   "execution_count": 75,
   "metadata": {},
   "outputs": [
    {
     "data": {
      "text/plain": [
       "0.9722222222222222"
      ]
     },
     "execution_count": 75,
     "metadata": {},
     "output_type": "execute_result"
    }
   ],
   "source": [
    "# Apply transforms, and score with the final estimator\n",
    "svm_norm.score(X_test, y_test)"
   ]
  },
  {
   "cell_type": "markdown",
   "metadata": {},
   "source": [
    "<img src=\"https://miro.medium.com/max/992/1*dZlwWGNhFco5bmpfwYyLCQ.png\"/>"
   ]
  },
  {
   "cell_type": "code",
   "execution_count": 76,
   "metadata": {},
   "outputs": [
    {
     "ename": "SyntaxError",
     "evalue": "invalid syntax (<ipython-input-76-3e11ec0c820f>, line 1)",
     "output_type": "error",
     "traceback": [
      "\u001b[1;36m  File \u001b[1;32m\"<ipython-input-76-3e11ec0c820f>\"\u001b[1;36m, line \u001b[1;32m1\u001b[0m\n\u001b[1;33m    Algoritmos que usam calculos de distancias como KNN, K-means, SVM, etc. funcionam muito bem com um padronizador.\u001b[0m\n\u001b[1;37m                 ^\u001b[0m\n\u001b[1;31mSyntaxError\u001b[0m\u001b[1;31m:\u001b[0m invalid syntax\n"
     ]
    }
   ],
   "source": [
    "Algoritmos que usam calculos de distancias como KNN, K-means, SVM, etc. funcionam muito bem com um padronizador.\n",
    "Algoritmos que usam gradiente descendente também são bons, porque ajuda a encontrar um minimo local otimo de forma mais facil.\n",
    "Com arvores, não interfere tanto.\n",
    "Nas redes neurais são utilizados a normalização. elas exigem que os dados estejam entre 0-1.\n",
    "\n",
    "Quando lida com distancia = stardatization\n",
    "Redes neurais = normalização"
   ]
  }
 ],
 "metadata": {
  "kernelspec": {
   "display_name": "Python 3",
   "language": "python",
   "name": "python3"
  },
  "language_info": {
   "codemirror_mode": {
    "name": "ipython",
    "version": 3
   },
   "file_extension": ".py",
   "mimetype": "text/x-python",
   "name": "python",
   "nbconvert_exporter": "python",
   "pygments_lexer": "ipython3",
   "version": "3.6.8"
  }
 },
 "nbformat": 4,
 "nbformat_minor": 2
}
