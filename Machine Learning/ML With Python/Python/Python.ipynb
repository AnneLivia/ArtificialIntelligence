{
  "nbformat": 4,
  "nbformat_minor": 0,
  "metadata": {
    "colab": {
      "name": "Python.ipynb",
      "provenance": [],
      "collapsed_sections": []
    },
    "kernelspec": {
      "name": "python3",
      "display_name": "Python 3"
    }
  },
  "cells": [
    {
      "cell_type": "markdown",
      "metadata": {
        "id": "lGFveA9ikyac"
      },
      "source": [
        "Importing libraries (packages)\n",
        "\n"
      ]
    },
    {
      "cell_type": "code",
      "metadata": {
        "id": "uDhJo_cDkaYm"
      },
      "source": [
        "import sys\n",
        "import math\n",
        "import random\n",
        "import time\n",
        "import threading\n",
        "import time\n",
        "from functools import reduce"
      ],
      "execution_count": 2,
      "outputs": []
    },
    {
      "cell_type": "markdown",
      "metadata": {
        "id": "5zrg8yKlA4El"
      },
      "source": [
        "Output and input functions \n"
      ]
    },
    {
      "cell_type": "code",
      "metadata": {
        "id": "nHaZXhHxAuGc",
        "outputId": "da15d8b6-5b33-4523-8074-e1d1cb537cda",
        "colab": {
          "base_uri": "https://localhost:8080/"
        }
      },
      "source": [
        "print(\"Hello World\"); # finishes with \\n\n",
        "word = input(\"Insert a word: \"); \n",
        "n = int(input(\"insert a number: \"));\n",
        "print(\"The number is: \", n);\n",
        "\n",
        "variable = (1 + \n",
        "            2 \n",
        "            + 3);\n",
        "\n",
        "'''\n",
        "  comments of more than \n",
        "  one line is done in this way\n",
        "'''\n",
        "print(\"Hi %s, the answer is: \"%word, end=\"\");\n",
        "print(\"%d + %d = %.02f\"%(n, variable, n / variable));\n",
        "\n",
        "print(\"%d %s %.2f %c\"%(2, \"l\", 2.2, 'a'))\n",
        "\n",
        "# creating a separator\n",
        "print(16,1,1997, sep=\"/\");\n"
      ],
      "execution_count": 27,
      "outputs": [
        {
          "output_type": "stream",
          "text": [
            "Hello World\n",
            "Insert a word: l\n",
            "insert a number: 2\n",
            "The number is:  2\n",
            "Hi l, the answer is: 2 + 6 = 0.33\n",
            "2 l 2.20 a\n",
            "16/1/1997\n"
          ],
          "name": "stdout"
        }
      ]
    },
    {
      "cell_type": "markdown",
      "metadata": {
        "id": "VzglAdlQDA2u"
      },
      "source": [
        "Data type of a variable in python is automatically assigned\n",
        "\n",
        "in python there are integer, float, complex number, string, booleans, list..."
      ]
    },
    {
      "cell_type": "code",
      "metadata": {
        "id": "QHB--I_jDATa",
        "outputId": "5971907f-d88a-42b0-d4c3-484b1107ffb8",
        "colab": {
          "base_uri": "https://localhost:8080/"
        }
      },
      "source": [
        "v = 1\n",
        "print(type(v));\n",
        "v = \"strings\";\n",
        "print(type(v));\n",
        "print(sys.maxsize); # maximum size of a integer in python (there's no limit to the size of a int in python)\n",
        "print(sys.float_info.max); # maximum of a float\n",
        "\n",
        "\n",
        "#complex number = real part + imaginary\n",
        "co = 5 + 6j;\n",
        "print(type(co));\n",
        "\n",
        "print(False and True);\n",
        "\n",
        "stringg = ''' this type of triple quote allows to insert ' and \" without using \\\\' and \\\\\" '''\n",
        "print(stringg)\n",
        "\n",
        "# cast\n",
        "print(chr(65));\n",
        "print(ord('A'));\n",
        "print(int(6.5));\n",
        "print(str(65.22));"
      ],
      "execution_count": 20,
      "outputs": [
        {
          "output_type": "stream",
          "text": [
            "<class 'int'>\n",
            "<class 'str'>\n",
            "9223372036854775807\n",
            "1.7976931348623157e+308\n",
            "<class 'complex'>\n",
            "False\n",
            " this type of triple quote allows to insert ' and \" without using \\' and \\\" \n",
            "A\n",
            "65\n",
            "6\n",
            "65.22\n"
          ],
          "name": "stdout"
        }
      ]
    },
    {
      "cell_type": "markdown",
      "metadata": {
        "id": "20VZOEUdEBzH"
      },
      "source": [
        "Math functions from math module\n",
        "Modules in Python are simply Python files with a .py extension. \n",
        "A Python module can have a set of functions, classes or variables defined and implemented.\n",
        "A package is a collection of Python modules"
      ]
    },
    {
      "cell_type": "code",
      "metadata": {
        "id": "dqN4PlVkEB93",
        "outputId": "afe24398-61b7-4dac-9ca0-6bba03ec0f59",
        "colab": {
          "base_uri": "https://localhost:8080/"
        }
      },
      "source": [
        "print(5 + 2)\n",
        "print(5 ** 2) # pow\n",
        "print(5 / 2)\n",
        "print(5 % 2)\n",
        "print(5 // 2) # integer division\n",
        "\n",
        "i = 1\n",
        "i+=1 # i++ doesn't work\n",
        "print(i)\n",
        "\n",
        "# math functions from math module\n",
        "print(abs(2));\n",
        "print(max(2, 5));\n",
        "print(min(2, 1));\n",
        "print(math.ceil(2.5));\n",
        "print(math.floor(2.5));\n",
        "print(math.sqrt(4));\n",
        "print(math.factorial(9));\n",
        "print(math.pow(2, 4));\n",
        "print(round(5.4));\n",
        "print(math.sin(2));\n",
        "print(math.tan(2));\n",
        "print(math.exp(2));\n",
        "print(math.log(math.exp(1)));\n",
        "print(math.atan(2));\n",
        "print(math.pi);\n",
        "# many many others"
      ],
      "execution_count": 34,
      "outputs": [
        {
          "output_type": "stream",
          "text": [
            "7\n",
            "25\n",
            "2.5\n",
            "1\n",
            "2\n",
            "2\n",
            "2\n",
            "5\n",
            "1\n",
            "3\n",
            "2\n",
            "2.0\n",
            "362880\n",
            "16.0\n",
            "5\n",
            "0.9092974268256817\n",
            "-2.185039863261519\n",
            "7.38905609893065\n",
            "1.0\n",
            "1.1071487177940904\n",
            "3.141592653589793\n"
          ],
          "name": "stdout"
        }
      ]
    },
    {
      "cell_type": "markdown",
      "metadata": {
        "id": "gd9gt39QIPXX"
      },
      "source": [
        "Gereneting random values from random module"
      ]
    },
    {
      "cell_type": "code",
      "metadata": {
        "id": "ryhSetFxIPLZ",
        "outputId": "66c1d102-bc1d-4db0-f872-00337e31f523",
        "colab": {
          "base_uri": "https://localhost:8080/"
        }
      },
      "source": [
        "print(random.randint(1, 101)); # random number from 1 to 101\n",
        "print(math.inf > 0); \n",
        "print(math.inf - math.inf); # NaN is infinity (Not a Number)"
      ],
      "execution_count": 36,
      "outputs": [
        {
          "output_type": "stream",
          "text": [
            "49\n",
            "True\n",
            "nan\n"
          ],
          "name": "stdout"
        }
      ]
    },
    {
      "cell_type": "markdown",
      "metadata": {
        "id": "mbptHDCLI9nS"
      },
      "source": [
        "Relational and logical operations"
      ]
    },
    {
      "cell_type": "code",
      "metadata": {
        "id": "EOGJknZ_I99W",
        "outputId": "c64a74cd-73bf-4e29-f463-05b4f7d23691",
        "colab": {
          "base_uri": "https://localhost:8080/"
        }
      },
      "source": [
        "year = 1979\n",
        "if year == 2019:\n",
        "  print(\"We're not in 2019\")\n",
        "elif year == 2020: \n",
        "  print(\"We're in 2020\")\n",
        "elif year >= 2021:\n",
        "  print(\"We're after 2020\")\n",
        "elif year != 1979 and year < 1980:\n",
        "  print(\"We're in 70\\'s and it\\'s not 79\") \n",
        "else:\n",
        "  print(\"it's 79\")\n",
        "\n",
        "age = 17\n",
        "vote = False\n",
        "if age >= 16:\n",
        "  if not (vote == True):\n",
        "    print(\"doesn't vote yet\")\n",
        "  else:\n",
        "    print(\"vote\")\n",
        "else:\n",
        "  print(\"doesn't vote yet\")\n",
        "\n",
        "print (True or False)\n",
        "print (True and True)\n",
        "print (not False)\n",
        "\n",
        "# ternary operator\n",
        "x = 1 if 3 > 2 else 0\n",
        "print(x)"
      ],
      "execution_count": 51,
      "outputs": [
        {
          "output_type": "stream",
          "text": [
            "it's 79\n",
            "doesn't vote yet\n",
            "True\n",
            "True\n",
            "True\n",
            "1\n"
          ],
          "name": "stdout"
        }
      ]
    },
    {
      "cell_type": "markdown",
      "metadata": {
        "id": "IkghRAgSLMbI"
      },
      "source": [
        "some string operations"
      ]
    },
    {
      "cell_type": "code",
      "metadata": {
        "id": "1pH7h3BbLM1a",
        "outputId": "e4e25794-f371-4be7-da1d-9fff94ec914e",
        "colab": {
          "base_uri": "https://localhost:8080/"
        }
      },
      "source": [
        "stringf = \"hahahihi\"\n",
        "print(len(stringf))\n",
        "print(\"First char: \", stringf[0])\n",
        "print(\"Last char: \", stringf[-1])\n",
        "print(\"First 2 chars: \", stringf[:2])\n",
        "print(\"second to third char: \", stringf[1:3])\n",
        "print(stringf[0:-1:2]) # from first index to last and skip the next one\n",
        "\n",
        "# can't change char from a array in this way\n",
        "#'str' object does not support item assignment\n",
        "# stringf[0] = 'c' # wrong\n",
        "#alternative\n",
        "stringf = stringf.replace('ha', 'KKKK')\n",
        "print(stringf)\n",
        "# adding another word to the string\n",
        "stringf = stringf[:2] + \"adding Here\" + stringf[3:]\n",
        "print(stringf)\n",
        "stringgg = \"WoRd\"\n",
        "print(\"Uppercase: \", stringgg.upper())\n",
        "print(\"Lowercase: \", stringgg.lower())\n",
        "print(\"Checking if word or char is in something: \", (\"adding\" in stringf))\n",
        "print(\"Checking if word or char is in something: \", (\"Hihahahis\" not in stringf))\n",
        "# first index of a match\n",
        "print(\"Checking first index of a match: \", stringf.find(\"Here\"))\n",
        "\n",
        "# removing (strip something from string)\n",
        "print(\"           hi         \".strip())\n",
        "print(\"           hi         \".lstrip()) # removing from left\n",
        "print(\"           hi         \".rstrip()) # removing from right\n",
        "\n",
        "# convert list into string and separate into spaces\n",
        "print(\" \".join([\"Some\", \"Words\"]))\n",
        "# string into a list\n",
        "print(\"String, Car, Ball\".split(\",\"))\n",
        "\n",
        "# format output\n",
        "int1 = int2 = 2\n",
        "print(f'{int1} + {int2} = {int1+int2}')\n",
        "\n",
        "\n",
        "print(\"Str123\".isalnum())\n",
        "print(\"str\".isalpha())\n",
        "print(\"123\".isdigit())\n"
      ],
      "execution_count": 75,
      "outputs": [
        {
          "output_type": "stream",
          "text": [
            "8\n",
            "First char:  h\n",
            "Last char:  i\n",
            "First 2 chars:  ha\n",
            "second to third char:  ah\n",
            "hhhh\n",
            "KKKKKKKKhihi\n",
            "KKadding HereKKKKKhihi\n",
            "Uppercase:  WORD\n",
            "Lowercase:  word\n",
            "Checking if word or char is in something:  True\n",
            "Checking if word or char is in something:  True\n",
            "Checking first index of a match:  9\n",
            "hi\n",
            "hi         \n",
            "           hi\n",
            "Some Words\n",
            "['String', ' Car', ' Ball']\n",
            "2 + 2 = 4\n",
            "True\n",
            "True\n",
            "True\n"
          ],
          "name": "stdout"
        }
      ]
    },
    {
      "cell_type": "markdown",
      "metadata": {
        "id": "b0rAOJAdPnsh"
      },
      "source": [
        "List operations\n",
        "list have mutable data \n",
        "mutable = can be change\n",
        "not mutable = cannot be change (touple is an example)"
      ]
    },
    {
      "cell_type": "code",
      "metadata": {
        "id": "Pk8mKidyPpX5",
        "outputId": "70012ae2-3700-42bb-b6c2-0da6b63772ed",
        "colab": {
          "base_uri": "https://localhost:8080/"
        }
      },
      "source": [
        "l1 = [1, \"string\", True, 2.22]\n",
        "print(\"Length: \", len(l1))\n",
        "print(\"Word: \", l1[0])\n",
        "print(\"Word: \", l1[-1])\n",
        "print(\"Word: \", l1[::-1])\n",
        "print(\"Word: \", l1)\n",
        "l1[0] = 2\n",
        "l1[2:3] = [\"ha\", \"hi\"] # adding new item\n",
        "print(\"Word: \", l1)\n",
        "l1[2:2] = [\"ooooo\"]\n",
        "print(\"Word: \", l1)\n",
        "l1.insert(2, \"hahaa\")\n",
        "print(\"Word: \", l1)\n",
        "\n",
        "l2 = l1 + [\"haha\", 4444, 444]\n",
        "print(l2)\n",
        "l2.remove(\"ooooo\")\n",
        "print(l2)\n",
        "l2.pop()\n",
        "print(l2)\n",
        "l3 = [[1,2], [3,4]]\n",
        "print(l3[0][0])\n",
        "print([3,4] in l3)\n",
        "print(\"min in a list\", min([1,3,-1,4]))\n",
        "print(\"max in a list\", max([1,3,-1,4]))"
      ],
      "execution_count": 94,
      "outputs": [
        {
          "output_type": "stream",
          "text": [
            "Length:  4\n",
            "Word:  1\n",
            "Word:  2.22\n",
            "Word:  [2.22, True, 'string', 1]\n",
            "Word:  [1, 'string', True, 2.22]\n",
            "Word:  [2, 'string', 'ha', 'hi', 2.22]\n",
            "Word:  [2, 'string', 'ooooo', 'ha', 'hi', 2.22]\n",
            "Word:  [2, 'string', 'hahaa', 'ooooo', 'ha', 'hi', 2.22]\n",
            "[2, 'string', 'hahaa', 'ooooo', 'ha', 'hi', 2.22, 'haha', 4444, 444]\n",
            "[2, 'string', 'hahaa', 'ha', 'hi', 2.22, 'haha', 4444, 444]\n",
            "[2, 'string', 'hahaa', 'ha', 'hi', 2.22, 'haha', 4444]\n",
            "1\n",
            "True\n",
            "min in a list -1\n",
            "max in a list 4\n"
          ],
          "name": "stdout"
        }
      ]
    },
    {
      "cell_type": "markdown",
      "metadata": {
        "id": "e-QcQbxfSB7C"
      },
      "source": [
        "loops ( for and while )"
      ]
    },
    {
      "cell_type": "code",
      "metadata": {
        "id": "9dw6Xlb4SFj6",
        "outputId": "aa0c9b63-7a24-41d1-e371-7067a5cece87",
        "colab": {
          "base_uri": "https://localhost:8080/"
        }
      },
      "source": [
        "w = 1\n",
        "while w < 10:\n",
        "  print(w)\n",
        "  w+=1\n",
        "\n",
        "w2 = 0\n",
        "\n",
        "while w2 < 20:\n",
        "  if w2 % 2 == 0:\n",
        "    print(w2)\n",
        "  elif w2 == 9:\n",
        "    break\n",
        "  w2+=1\n",
        "\n",
        "print('\\n\\n\\n')\n",
        "l4 = [1, 3.2, \"livia\"]\n",
        "while len(l4):\n",
        "  print(l4.pop())\n",
        "\n",
        "\n",
        "\n",
        "for i in range(0, 10): # from 0 to 9\n",
        "  print(i, sep=\" \", end=\"\")\n",
        "\n",
        "print('\\n\\n\\n')\n",
        "l4 = [1, 3.2, \"livia\"]\n",
        "for x in l4:\n",
        "  print(x)\n",
        "\n",
        "print('\\n\\n\\n')\n",
        "for x in [1,2,3,4]:\n",
        "  print(x)"
      ],
      "execution_count": 101,
      "outputs": [
        {
          "output_type": "stream",
          "text": [
            "1\n",
            "2\n",
            "3\n",
            "4\n",
            "5\n",
            "6\n",
            "7\n",
            "8\n",
            "9\n",
            "0\n",
            "2\n",
            "4\n",
            "6\n",
            "8\n",
            "\n",
            "\n",
            "\n",
            "\n",
            "livia\n",
            "3.2\n",
            "1\n",
            "0123456789\n",
            "\n",
            "\n",
            "\n",
            "1\n",
            "3.2\n",
            "livia\n",
            "\n",
            "\n",
            "\n",
            "\n",
            "1\n",
            "2\n",
            "3\n",
            "4\n"
          ],
          "name": "stdout"
        }
      ]
    },
    {
      "cell_type": "markdown",
      "metadata": {
        "id": "_rvtiejkXvYZ"
      },
      "source": [
        "iterators = allow to cycle through values"
      ]
    },
    {
      "cell_type": "code",
      "metadata": {
        "id": "r9mhD7AsXvIP",
        "outputId": "e025d560-fbbc-4c90-9762-cb85e7cb8a5d",
        "colab": {
          "base_uri": "https://localhost:8080/"
        }
      },
      "source": [
        "l5 = [1, 2, 3, 4]\n",
        "itr = iter(l5)\n",
        "print(next(itr))\n",
        "print(next(itr))\n",
        "print(next(itr))\n",
        "print(next(itr))"
      ],
      "execution_count": 112,
      "outputs": [
        {
          "output_type": "stream",
          "text": [
            "1\n",
            "2\n",
            "3\n",
            "4\n"
          ],
          "name": "stdout"
        }
      ]
    },
    {
      "cell_type": "markdown",
      "metadata": {
        "id": "E7dMAxruYf4F"
      },
      "source": [
        "range function"
      ]
    },
    {
      "cell_type": "code",
      "metadata": {
        "id": "AAgv7xbwYgOC",
        "outputId": "f1a6ca17-b24b-4068-ec3a-eb4d739227a4",
        "colab": {
          "base_uri": "https://localhost:8080/"
        }
      },
      "source": [
        "print(list(range(0,10,2)))\n",
        "\n",
        "nlist = [list(range(1,4)), list(range(4,7)), list(range(7, 10))]\n",
        "print(nlist)\n",
        "for i in range(0, 3):\n",
        "  for j in range(0, 3):\n",
        "    print(nlist[i][j], \" \", end=\"\")\n",
        "  print()"
      ],
      "execution_count": 119,
      "outputs": [
        {
          "output_type": "stream",
          "text": [
            "[0, 2, 4, 6, 8]\n",
            "[[1, 2, 3], [4, 5, 6], [7, 8, 9]]\n",
            "1  2  3  \n",
            "4  5  6  \n",
            "7  8  9  \n"
          ],
          "name": "stdout"
        }
      ]
    },
    {
      "cell_type": "markdown",
      "metadata": {
        "id": "hQufJnG7ZqfS"
      },
      "source": [
        "tuples = imutable = cannot be change\n",
        "\n",
        "list is []\n",
        "\n",
        "tuple = ()"
      ]
    },
    {
      "cell_type": "code",
      "metadata": {
        "id": "ZFz0Xzu3Zs1y",
        "outputId": "17be3119-6b7b-4ab1-e10a-4565dc631f15",
        "colab": {
          "base_uri": "https://localhost:8080/"
        }
      },
      "source": [
        "t1 = (1, 3.2, \"l\")\n",
        "print(\"length: \", len(t1))\n",
        "print(\"last\", t1[-1])\n",
        "print(\"reverse\", t1[::-1])"
      ],
      "execution_count": 120,
      "outputs": [
        {
          "output_type": "stream",
          "text": [
            "length:  3\n",
            "last l\n",
            "reverse ('l', 3.2, 1)\n"
          ],
          "name": "stdout"
        }
      ]
    },
    {
      "cell_type": "markdown",
      "metadata": {
        "id": "UIVrFsTDaAVt"
      },
      "source": [
        "dictionaries associates key with value (duplicate keys are not allowed)"
      ]
    },
    {
      "cell_type": "code",
      "metadata": {
        "id": "gDQ1UYY2aLMc",
        "outputId": "c8aa7247-3ef9-4647-908f-bff67d20d2c0",
        "colab": {
          "base_uri": "https://localhost:8080/"
        }
      },
      "source": [
        "languages = {\n",
        "    \"best1\" : \"c++\",\n",
        "    \"best2\" : \"python\"\n",
        "}\n",
        "\n",
        "print(languages[\"best1\"])\n",
        "print(\"len: \", len(languages))\n",
        "\n",
        "languages[\"best1\"] = \"c\"\n",
        "print(languages[\"best1\"])\n",
        "\n",
        "languages[\"best3\"] = \"java\"\n",
        "print(languages)\n",
        "\n",
        "# change to list\n",
        "print(list(languages.items()))\n",
        "\n",
        "print(list(languages.keys()))\n",
        "print(list(languages.values()))\n",
        "\n",
        "\n",
        "# detele item\n",
        "\n",
        "del languages[\"best2\"]\n",
        "print(languages)\n",
        "print(languages.pop(\"best3\"))\n",
        "\n",
        "languages[\"best3\"] = \"c++\"\n",
        "languages[\"best4\"] = \"php\"\n",
        "languages[\"best5\"] = \"javascript\"\n",
        "languages[\"best6\"] = \"ruby\"\n",
        "languages[\"best7\"] = \"matlab\"\n",
        "\n",
        "print(\"c\" in languages)\n",
        "\n",
        "# run through keys\n",
        "for i in languages:\n",
        "  print(i)\n",
        "# run through values\n",
        "for i in languages.values():\n",
        "  print(i)\n",
        "\n",
        "\n",
        "# printing dictionary in a formated way\n",
        "dd = {\"name\": \"bread\", \"price\": .80}\n",
        "print(\"%(name)s costs R$ %(price).2f\" %dd)"
      ],
      "execution_count": 130,
      "outputs": [
        {
          "output_type": "stream",
          "text": [
            "c++\n",
            "len:  2\n",
            "c\n",
            "{'best1': 'c', 'best2': 'python', 'best3': 'java'}\n",
            "[('best1', 'c'), ('best2', 'python'), ('best3', 'java')]\n",
            "['best1', 'best2', 'best3']\n",
            "['c', 'python', 'java']\n",
            "{'best1': 'c', 'best3': 'java'}\n",
            "java\n",
            "False\n",
            "best1\n",
            "best3\n",
            "best4\n",
            "best5\n",
            "best6\n",
            "best7\n",
            "c\n",
            "c++\n",
            "php\n",
            "javascript\n",
            "ruby\n",
            "matlab\n",
            "bread costs R$ 0.80\n"
          ],
          "name": "stdout"
        }
      ]
    },
    {
      "cell_type": "markdown",
      "metadata": {
        "id": "FLNL9cR3cTzr"
      },
      "source": [
        "Set is a list that is unorder that has unique values\n",
        "\n",
        "tuple = ()\n",
        "list = []\n",
        "set = {}"
      ]
    },
    {
      "cell_type": "code",
      "metadata": {
        "id": "WXn8EXL6cZ61",
        "outputId": "ac6cc51e-682a-48b4-fbdf-2113356cda58",
        "colab": {
          "base_uri": "https://localhost:8080/"
        }
      },
      "source": [
        "s1 = set([\"haha\", 1])\n",
        "s2 = {\"haha\", 1}\n",
        "print(\"Length: \", len(s1))\n",
        "\n",
        "# joing sets\n",
        "s3 = s1 | s2\n",
        "print(s3)\n",
        "s3.add(\"jaja\")\n",
        "print(s3)\n",
        "s3.discard(\"haha\")\n",
        "print(s3)\n",
        "print(\"random\", s3.pop()) # random is removed\n",
        "# adding values\n",
        "s4 = {\"kokoko\", \"kikii\"}\n",
        "s3 |= s4\n",
        "print(s3)\n",
        "# get the intersection of values\n",
        "print(s3.intersection(s2))\n",
        "# get values in s3 but not in s2\n",
        "print(s3.difference(s2)) \n",
        "# get all unique values\n",
        "print(s3.symmetric_difference(s2)) \n",
        "# clear the set\n",
        "s3.clear()\n",
        "print(s3) \n",
        "\n",
        "# fronzenset is a set that cannot be change in any way\n",
        "\n",
        "s4 = frozenset([\"haha\", \"hihi\"])\n",
        "print(s4)\n",
        "\n",
        "\n",
        "s5 = {1, 2, 3, 4}\n",
        "s6 = {2, 3}\n",
        "\n",
        "print(\"is s6 a subset of s5?\", s6.issubset(s5))\n",
        "print(\"is s6 a superset of s5?\", s6.issuperset(s5))\n",
        "print(\"is s5 a superset of s6?\", s5.issuperset(s6))\n",
        "print(s5.union(s6))\n",
        "\n",
        "l1 = list(s5)\n",
        "s6.add(100)\n",
        "l2 = list(s6)\n",
        "\n",
        "s4 = set(l1)\n",
        "s4 |= set(l2)\n",
        "print(s4)"
      ],
      "execution_count": 149,
      "outputs": [
        {
          "output_type": "stream",
          "text": [
            "Length:  2\n",
            "{1, 'haha'}\n",
            "{'jaja', 1, 'haha'}\n",
            "{'jaja', 1}\n",
            "random jaja\n",
            "{1, 'kokoko', 'kikii'}\n",
            "{1}\n",
            "{'kokoko', 'kikii'}\n",
            "{'kokoko', 'kikii', 'haha'}\n",
            "set()\n",
            "frozenset({'hihi', 'haha'})\n",
            "is s6 a subset of s5? True\n",
            "is s6 a superset of s5? False\n",
            "is s5 a superset of s6? True\n",
            "{1, 2, 3, 4}\n",
            "{1, 2, 3, 4, 100}\n"
          ],
          "name": "stdout"
        }
      ]
    },
    {
      "cell_type": "markdown",
      "metadata": {
        "id": "Vv82VHdBfp0H"
      },
      "source": [
        "function in python"
      ]
    },
    {
      "cell_type": "code",
      "metadata": {
        "id": "9aF9aS0VecWM",
        "outputId": "25fb71f5-5899-46c5-c179-6a0e8af940cb",
        "colab": {
          "base_uri": "https://localhost:8080/"
        }
      },
      "source": [
        "# can define data type if i want\n",
        "# define default number too\n",
        "def add(n1: int = 1, n2: int = 2):\n",
        "  return n1 + n2\n",
        "\n",
        "print(add(8,9))\n",
        "print(add())\n",
        "print(add(\"ss \", \"ss \"))\n",
        "\n",
        "# can get a list of values\n",
        "def sumlist(*args):\n",
        "  sum = 0\n",
        "  for arg in args:\n",
        "    sum+=arg\n",
        "  return sum\n",
        "\n",
        "print(sumlist(1,2,3,4,4,5,5,6))\n",
        "\n",
        "# returning more than one value\n",
        "def next_2(num):\n",
        "  return num + 1, num + 2\n",
        "\n",
        "i1, i2 = next_2(4)\n",
        "\n",
        "print(i1, i2)\n",
        "\n",
        "# anonimous fuction lambda\n",
        "def mult_by(n1):\n",
        "  return lambda x: x * n1\n",
        "\n",
        "print(\"3 * 5 = \", (mult_by(3)(5)))\n",
        "\n",
        "# pass a function to a function\n",
        "def mult_l(list, func):\n",
        "  for x in list:\n",
        "    print(func(x))\n",
        "  \n",
        "mult_by4 = mult_by(4)\n",
        "print(\"\\n\\n\\n\")\n",
        "print(mult_l(list(range(1,5)), mult_by4))\n",
        "\n",
        "# list of functions\n",
        "\n",
        "functions = [lambda x: x ** 2,\n",
        "             lambda x: x + 2,\n",
        "             lambda x: x - 2]\n",
        "\n",
        "print(functions[1](2))"
      ],
      "execution_count": 168,
      "outputs": [
        {
          "output_type": "stream",
          "text": [
            "17\n",
            "3\n",
            "ss ss \n",
            "30\n",
            "5 6\n",
            "3 * 5 =  15\n",
            "\n",
            "\n",
            "\n",
            "\n",
            "4\n",
            "8\n",
            "12\n",
            "16\n",
            "None\n",
            "4\n"
          ],
          "name": "stdout"
        }
      ]
    },
    {
      "cell_type": "markdown",
      "metadata": {
        "id": "-tTaUxJNimKj"
      },
      "source": [
        "Python's map() is a built-in function that allows you to process and transform all the items in an iterable without using an explicit for loop"
      ]
    },
    {
      "cell_type": "code",
      "metadata": {
        "id": "jX9f7Vi7inuE",
        "outputId": "9c03fed3-449e-47ff-bba3-4cb336b9ce98",
        "colab": {
          "base_uri": "https://localhost:8080/"
        }
      },
      "source": [
        "lists = range(1, 5)\n",
        "liststimes2 = lambda x: x * 2\n",
        "print(list(map(liststimes2, lists)))"
      ],
      "execution_count": 169,
      "outputs": [
        {
          "output_type": "stream",
          "text": [
            "[2, 4, 6, 8]\n"
          ],
          "name": "stdout"
        }
      ]
    },
    {
      "cell_type": "markdown",
      "metadata": {
        "id": "zWv8pZf7jSi2"
      },
      "source": [
        "The filter() method filters the given sequence with the help of a function that tests each element in the sequence to be true or not."
      ]
    },
    {
      "cell_type": "code",
      "metadata": {
        "id": "Lh357H08jSvm",
        "outputId": "dfb5eac2-4388-48dd-e4fd-27d670876460",
        "colab": {
          "base_uri": "https://localhost:8080/"
        }
      },
      "source": [
        "# print even values of a list\n",
        "print(list(filter(lambda x: x % 2 == 0, range(1, 11))))"
      ],
      "execution_count": 172,
      "outputs": [
        {
          "output_type": "stream",
          "text": [
            "[2, 4, 6, 8, 10]\n"
          ],
          "name": "stdout"
        }
      ]
    },
    {
      "cell_type": "markdown",
      "metadata": {
        "id": "B4gIGiO7jwfX"
      },
      "source": [
        "reduce(func, seq) =: receives a list and return a single result"
      ]
    },
    {
      "cell_type": "code",
      "metadata": {
        "id": "OVOwBvPFjwtX",
        "outputId": "8189112e-e8c7-49d9-e6e5-1e8109425ef1",
        "colab": {
          "base_uri": "https://localhost:8080/"
        }
      },
      "source": [
        "print(reduce((lambda x, y: x + y), range(1,6))) # calculates ((((1+2)+3)+4)+5)"
      ],
      "execution_count": 173,
      "outputs": [
        {
          "output_type": "stream",
          "text": [
            "15\n"
          ],
          "name": "stdout"
        }
      ]
    },
    {
      "cell_type": "markdown",
      "metadata": {
        "id": "6A0MZ0PQkfI2"
      },
      "source": [
        "Exception Handling, random erros"
      ]
    },
    {
      "cell_type": "code",
      "metadata": {
        "id": "1MYypiH2khpF",
        "outputId": "9adb9b0c-303e-4a4e-da31-80684c8945da",
        "colab": {
          "base_uri": "https://localhost:8080/"
        }
      },
      "source": [
        "while True:\n",
        "  try:\n",
        "    number = int(input(\"Enter a number: \"))\n",
        "    break\n",
        "  except ValueError:\n",
        "    print(\"You didn't enter a number\") # get especific error\n",
        "  except:\n",
        "    print(\"unknown error\") # get any error\n",
        "\n",
        "print(\"Ok\")"
      ],
      "execution_count": 175,
      "outputs": [
        {
          "output_type": "stream",
          "text": [
            "Enter a number: i\n",
            "You didn't enter a number\n",
            "Enter a number: g\n",
            "You didn't enter a number\n",
            "Enter a number: 4\n",
            "Ok\n"
          ],
          "name": "stdout"
        }
      ]
    },
    {
      "cell_type": "markdown",
      "metadata": {
        "id": "iQBv0kDVlC-A"
      },
      "source": [
        "File Input and output\n",
        "w = write\n",
        "r = read\n",
        "a = append"
      ]
    },
    {
      "cell_type": "code",
      "metadata": {
        "id": "BjT6a3XQlDgh",
        "outputId": "dcc6fe84-f80b-4f47-9c90-30807b7d0528",
        "colab": {
          "base_uri": "https://localhost:8080/"
        }
      },
      "source": [
        "# file is going to be closed automatically by using with\n",
        "# need \\ to continue next line\n",
        "with open(\"mydata.txt\", mode=\"w\", encoding=\"utf-8\") as myfile:\n",
        "  myfile.write(\"random text\\nrandom\")\n",
        "\n",
        "with open(\"mydata.txt\", mode=\"r\", encoding=\"utf-8\") as myfile:\n",
        "  print(myfile.read())\n",
        "\n",
        "print(myfile.closed) # to ensure the file is closed\n",
        "\n",
        "f = open(\"mydata.txt\", \"r\")\n",
        "\n",
        "# can do this f = open('workfile', 'w')\n",
        "print(f.read())\n",
        "# reads a single line from the file; a newline character (\\n) \n",
        "print(f.readline())\n",
        "\n",
        "f.seek(0); # return to a given positon, default is 0\n",
        "print(\"\\n\\n\\n\")\n",
        "for line in f:\n",
        "  print(line, end='')\n",
        "f.close()\n",
        "\n",
        "f = open(\"mydata.txt\", \"a\")\n",
        "f.write(\"\\nThis is a test\")\n",
        "\n",
        "f.close()\n",
        "print(\"\\n\\n\\n\")\n",
        "with open(\"mydata.txt\", mode=\"r\") as f:\n",
        "  print(f.read())\n",
        "\n"
      ],
      "execution_count": 210,
      "outputs": [
        {
          "output_type": "stream",
          "text": [
            "random text\n",
            "random\n",
            "True\n",
            "random text\n",
            "random\n",
            "\n",
            "\n",
            "\n",
            "\n",
            "\n",
            "random text\n",
            "random\n",
            "\n",
            "\n",
            "\n",
            "random text\n",
            "random\n",
            "This is a test\n"
          ],
          "name": "stdout"
        }
      ]
    },
    {
      "cell_type": "markdown",
      "metadata": {
        "id": "P47xRY4wouZX"
      },
      "source": [
        "Classes and Objects\n",
        "along with getters and setters\n",
        "along with inheritance and Polymorphism and magic functions"
      ]
    },
    {
      "cell_type": "code",
      "metadata": {
        "id": "jKAEIjK_o3Qv",
        "outputId": "007e8e65-aebf-48c0-9c9a-2400c57c3310",
        "colab": {
          "base_uri": "https://localhost:8080/"
        }
      },
      "source": [
        "class Neuron:\n",
        "  def __init__(self, weight, bias = \"1\"): # is going to be created everytime we instantiate this class (constructor), self is the this in c++\n",
        "    self.weight = weight\n",
        "    self.bias = bias\n",
        "  # getter\n",
        "  @property\n",
        "  def weight(self):\n",
        "    print(\"Return weight\")\n",
        "    return self.__weight # in getter and setter, attributes starts with _\n",
        "\n",
        "  @weight.setter\n",
        "  def weight(self, weight):\n",
        "      self.__weight = weight\n",
        "\n",
        "  @property\n",
        "  def bias(self):\n",
        "    print(\"Return bias\")\n",
        "    return self._bias # in getter and setter, attributes starts with _\n",
        "\n",
        "  @bias.setter\n",
        "  def bias(self, bias):\n",
        "    if bias.isdigit():\n",
        "      self.__bias = bias\n",
        "    else:\n",
        "      print(\"Not a digit\")\n",
        "\n",
        "  def getIdentity(self):\n",
        "    return self.weight\n",
        "\n",
        "n = Neuron(20)\n",
        "\n",
        "n.weight = 10\n",
        "n.bias = \"2\"\n",
        "\n",
        "print(n.getIdentity())\n",
        "\n",
        "\n",
        "class Node:\n",
        "  def __init__(self, value1, value2):\n",
        "    self.value1 = value1\n",
        "    self.value2 = value2\n",
        "  \n",
        "  def getValue1(self):\n",
        "    return self._value1\n",
        "\n",
        "  def setValue1(self, value):\n",
        "    self._value1 = value\n",
        "\n",
        "  def getValue2(self):\n",
        "    return self._value2\n",
        "\n",
        "  def setValue2(self, value):\n",
        "    self._value2 = value\n",
        "  \n",
        "  value1 = property(getValue1, setValue1)\n",
        "\n",
        "  value2 = property(getValue2, setValue2)\n",
        "\n",
        "n = Node(10, 11)\n",
        "n.setValue2(2)\n",
        "print(n.getValue2())\n",
        "\n",
        "\n",
        "class Animal:\n",
        "  def __init__(self, nome=\"unknown\", weight = 0):\n",
        "    self.name = nome\n",
        "    self.weight = weight\n",
        "  @property\n",
        "  def name(self):\n",
        "    return self.__name\n",
        "  @name.setter\n",
        "  def name(self, name):\n",
        "     self.__name = name\n",
        "  def make_noise(self):\n",
        "    return \"asdhihwd\"\n",
        "  def __str__(self):\n",
        "    # used to format an answer when using print\n",
        "    return \"{} is a {} and says {}\".format(self.__name, type(self.__name), self.make_noise())\n",
        "  # magic methods used for operator overloading similar in c++\n",
        "  def __gt__(self, anima2):\n",
        "    if self.weight > anima2.weight:\n",
        "      return True\n",
        "    else:\n",
        "      return False\n",
        "  # other magic functions\n",
        "  '''\n",
        "     __eq__ : Equal\n",
        "     __ne__ : Not Equal\n",
        "     __lt__ : Less Than\n",
        "     __gt__ : Greater Than\n",
        "     __le__ : Less Than or Equal\n",
        "     __ge__ : Greater Than or Equal\n",
        "     __add__ : Addition\n",
        "     __sub__ : Subtraction\n",
        "     __mul__ : Multiplication\n",
        "     __div__ : Division\n",
        "     __mod__ : Modulus\n",
        "\n",
        "  '''\n",
        "# inherits all from animal\n",
        "class Dog(Animal):\n",
        "  def __init__(self, name = \"unknown\", owner=\"unknown\", weight = 0):\n",
        "    Animal.__init__(self, name, weight)\n",
        "    self.__owner = owner\n",
        "  \n",
        "  # overwriting str function from super\n",
        "  def __str__(self):\n",
        "    return super().__str__() + \"and has owner whose name is: \" + self.__owner\n",
        "\n",
        "a = Animal(\"Call\", 100)\n",
        "print(a)\n",
        "dog = Dog(\"sa\", \"kk\", 150)\n",
        "print(dog)\n",
        "print(a < dog)"
      ],
      "execution_count": 254,
      "outputs": [
        {
          "output_type": "stream",
          "text": [
            "Return weight\n",
            "10\n",
            "2\n",
            "Call is a <class 'str'> and says asdhihwd\n",
            "sa is a <class 'str'> and says asdhihwdand has owner whose name is: kk\n",
            "True\n"
          ],
          "name": "stdout"
        }
      ]
    },
    {
      "cell_type": "markdown",
      "metadata": {
        "id": "Z_qua3cw0Bru"
      },
      "source": [
        "Threads = block of code (execute and sleep, etc.)\n",
        "Python threading allows you to have different parts of your program run concurrently and can simplify your design."
      ]
    },
    {
      "cell_type": "code",
      "metadata": {
        "id": "fsaZmL9y0OQf",
        "outputId": "d55979f3-7854-4f28-a22f-448b50e75b1a",
        "colab": {
          "base_uri": "https://localhost:8080/"
        }
      },
      "source": [
        "def execute_thread(i):\n",
        "  print(\"Thread {} sleeps at {}\".format(i, \n",
        "                                        time.strftime(\"%Y-%m-%d %H:%<:%S\", time.gmtime())))\n",
        "  rand_sleep_time = random.randint(1,5)\n",
        "  time.sleep(rand_sleep_time)\n",
        "  print(\"Thread {} stops sleep at {}\".format(i, \n",
        "                                         time.strftime(\"%Y-%m-%d %H:%<:%S\", time.gmtime())))\n",
        "\n",
        "# 10 threads\n",
        "for i in range(10):\n",
        "  thread = threading.Thread(target=execute_thread, args=(i, ))\n",
        "  thread.start()\n",
        "  print(\"Active threads: \", threading.activeCount())\n",
        "  print(\"Thread objects: \", threading.enumerate())"
      ],
      "execution_count": 259,
      "outputs": [
        {
          "output_type": "stream",
          "text": [
            "Thread 0 sleeps at 2020-11-08 03:%<:02\n",
            "Active threads:  5\n",
            "Thread objects:  [<_MainThread(MainThread, started 140306407298944)>, <Thread(Thread-2, started daemon 140306011416320)>, <Heartbeat(Thread-3, started daemon 140306003023616)>, <ParentPollerUnix(Thread-1, started daemon 140305938941696)>, <Thread(Thread-24, started 140305743202048)>]\n",
            "Thread 1 sleeps at 2020-11-08 03:%<:02\n",
            "Active threads:  6\n",
            "Thread objects:  [<_MainThread(MainThread, started 140306407298944)>, <Thread(Thread-2, started daemon 140306011416320)>, <Heartbeat(Thread-3, started daemon 140306003023616)>, <ParentPollerUnix(Thread-1, started daemon 140305938941696)>, <Thread(Thread-24, started 140305743202048)>, <Thread(Thread-25, started 140305793558272)>]\n",
            "Thread 2 sleeps at 2020-11-08 03:%<:02Active threads:  7\n",
            "Thread objects:  [<_MainThread(MainThread, started 140306407298944)>, <Thread(Thread-2, started daemon 140306011416320)>, <Heartbeat(Thread-3, started daemon 140306003023616)>, <ParentPollerUnix(Thread-1, started daemon 140305938941696)>, <Thread(Thread-24, started 140305743202048)>, <Thread(Thread-25, started 140305793558272)>, <Thread(Thread-26, started 140305759987456)>]\n",
            "\n",
            "Thread 3 sleeps at 2020-11-08 03:%<:02\n",
            "Active threads:  8\n",
            "Thread objects:  [<_MainThread(MainThread, started 140306407298944)>, <Thread(Thread-2, started daemon 140306011416320)>, <Heartbeat(Thread-3, started daemon 140306003023616)>, <ParentPollerUnix(Thread-1, started daemon 140305938941696)>, <Thread(Thread-24, started 140305743202048)>, <Thread(Thread-25, started 140305793558272)>, <Thread(Thread-26, started 140305759987456)>, <Thread(Thread-27, started 140305785165568)>]\n",
            "Thread 4 sleeps at 2020-11-08 03:%<:02\n",
            "Active threads:  9\n",
            "Thread objects:  [<_MainThread(MainThread, started 140306407298944)>, <Thread(Thread-2, started daemon 140306011416320)>, <Heartbeat(Thread-3, started daemon 140306003023616)>, <ParentPollerUnix(Thread-1, started daemon 140305938941696)>, <Thread(Thread-24, started 140305743202048)>, <Thread(Thread-25, started 140305793558272)>, <Thread(Thread-26, started 140305759987456)>, <Thread(Thread-27, started 140305785165568)>, <Thread(Thread-28, started 140305776772864)>]\n",
            "Thread 5 sleeps at 2020-11-08 03:%<:02\n",
            "Active threads:  10\n",
            "Thread objects:  [<_MainThread(MainThread, started 140306407298944)>, <Thread(Thread-2, started daemon 140306011416320)>, <Heartbeat(Thread-3, started daemon 140306003023616)>, <ParentPollerUnix(Thread-1, started daemon 140305938941696)>, <Thread(Thread-24, started 140305743202048)>, <Thread(Thread-25, started 140305793558272)>, <Thread(Thread-26, started 140305759987456)>, <Thread(Thread-27, started 140305785165568)>, <Thread(Thread-28, started 140305776772864)>, <Thread(Thread-29, started 140305768380160)>]\n",
            "Thread 6 sleeps at 2020-11-08 03:%<:02\n",
            "Active threads:  11\n",
            "Thread objects:  [<_MainThread(MainThread, started 140306407298944)>, <Thread(Thread-2, started daemon 140306011416320)>, <Heartbeat(Thread-3, started daemon 140306003023616)>, <ParentPollerUnix(Thread-1, started daemon 140305938941696)>, <Thread(Thread-24, started 140305743202048)>, <Thread(Thread-25, started 140305793558272)>, <Thread(Thread-26, started 140305759987456)>, <Thread(Thread-27, started 140305785165568)>, <Thread(Thread-28, started 140305776772864)>, <Thread(Thread-29, started 140305768380160)>, <Thread(Thread-30, started 140305751594752)>]\n",
            "Thread 7 sleeps at 2020-11-08 03:%<:02\n",
            "Active threads:  12\n",
            "Thread objects:  [<_MainThread(MainThread, started 140306407298944)>, <Thread(Thread-2, started daemon 140306011416320)>, <Heartbeat(Thread-3, started daemon 140306003023616)>, <ParentPollerUnix(Thread-1, started daemon 140305938941696)>, <Thread(Thread-24, started 140305743202048)>, <Thread(Thread-25, started 140305793558272)>, <Thread(Thread-26, started 140305759987456)>, <Thread(Thread-27, started 140305785165568)>, <Thread(Thread-28, started 140305776772864)>, <Thread(Thread-29, started 140305768380160)>, <Thread(Thread-30, started 140305751594752)>, <Thread(Thread-31, started 140305734809344)>]\n",
            "Thread 8 sleeps at 2020-11-08 03:%<:02\n",
            "Active threads:  13\n",
            "Thread objects:  [<_MainThread(MainThread, started 140306407298944)>, <Thread(Thread-2, started daemon 140306011416320)>, <Heartbeat(Thread-3, started daemon 140306003023616)>, <ParentPollerUnix(Thread-1, started daemon 140305938941696)>, <Thread(Thread-24, started 140305743202048)>, <Thread(Thread-25, started 140305793558272)>, <Thread(Thread-26, started 140305759987456)>, <Thread(Thread-27, started 140305785165568)>, <Thread(Thread-28, started 140305776772864)>, <Thread(Thread-29, started 140305768380160)>, <Thread(Thread-30, started 140305751594752)>, <Thread(Thread-31, started 140305734809344)>, <Thread(Thread-32, started 140305726416640)>]\n",
            "Thread 9 sleeps at 2020-11-08 03:%<:02\n",
            "Active threads:  14\n",
            "Thread objects:  [<_MainThread(MainThread, started 140306407298944)>, <Thread(Thread-2, started daemon 140306011416320)>, <Heartbeat(Thread-3, started daemon 140306003023616)>, <ParentPollerUnix(Thread-1, started daemon 140305938941696)>, <Thread(Thread-24, started 140305743202048)>, <Thread(Thread-25, started 140305793558272)>, <Thread(Thread-26, started 140305759987456)>, <Thread(Thread-27, started 140305785165568)>, <Thread(Thread-28, started 140305776772864)>, <Thread(Thread-29, started 140305768380160)>, <Thread(Thread-30, started 140305751594752)>, <Thread(Thread-31, started 140305734809344)>, <Thread(Thread-32, started 140305726416640)>, <Thread(Thread-33, started 140305718023936)>]\n"
          ],
          "name": "stdout"
        }
      ]
    },
    {
      "cell_type": "markdown",
      "metadata": {
        "id": "yjcbhw-S2gFO"
      },
      "source": [
        "Regular Expressions"
      ]
    },
    {
      "cell_type": "code",
      "metadata": {
        "id": "gxpyGI542g8X",
        "outputId": "47016333-0ffa-42e7-cd84-bd711581d17a",
        "colab": {
          "base_uri": "https://localhost:8080/"
        }
      },
      "source": [
        "import re\n",
        "\n",
        "if re.search(\"ape\", \"the ape at the apex\"):\n",
        "  print(\"there's an ape\")\n",
        "\n",
        "allapes = re.findall(\"ape\", \"the ape at the apex\")\n",
        "for i in allapes:\n",
        "  print(i)\n"
      ],
      "execution_count": 266,
      "outputs": [
        {
          "output_type": "stream",
          "text": [
            "there's an ape\n",
            "ape\n",
            "ape\n"
          ],
          "name": "stdout"
        }
      ]
    },
    {
      "cell_type": "markdown",
      "metadata": {
        "id": "xLIKWBS73SBZ"
      },
      "source": [
        "sql in python"
      ]
    },
    {
      "cell_type": "code",
      "metadata": {
        "id": "tsnjHJBj3T9Y"
      },
      "source": [
        "import sqlite3\n",
        "import csv\n",
        "import sys\n",
        "\n",
        "def printDB():\n",
        "  try:\n",
        "    result = theCursor.execute(\"\") # i've stopped here"
      ],
      "execution_count": null,
      "outputs": []
    }
  ]
}